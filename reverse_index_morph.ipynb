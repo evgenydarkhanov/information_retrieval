{
  "cells": [
    {
      "cell_type": "code",
      "execution_count": 1,
      "metadata": {
        "id": "NKj5R11mnDH0"
      },
      "outputs": [],
      "source": [
        "import pandas as pd\n",
        "import tqdm\n",
        "from typing import Optional\n",
        "\n",
        "import re\n",
        "import nltk\n",
        "\n",
        "from collections import defaultdict\n",
        "import json"
      ]
    },
    {
      "cell_type": "code",
      "execution_count": 2,
      "metadata": {
        "colab": {
          "base_uri": "https://localhost:8080/"
        },
        "id": "cDLm1eIxO8oz",
        "outputId": "bb656cc6-2c28-435e-9aa8-5c371880deae"
      },
      "outputs": [
        {
          "output_type": "stream",
          "name": "stdout",
          "text": [
            "Downloading...\n",
            "From: https://drive.google.com/uc?id=1BAIEjxgx-Q0hGV9ByLajBd-5Id2NZQE5\n",
            "To: /content/articles.csv\n",
            "100% 25.2M/25.2M [00:00<00:00, 33.9MB/s]\n"
          ]
        }
      ],
      "source": [
        "# articles\n",
        "!gdown 1BAIEjxgx-Q0hGV9ByLajBd-5Id2NZQE5"
      ]
    },
    {
      "cell_type": "code",
      "source": [
        "nltk.download('stopwords')\n",
        "stopword_set = set(nltk.corpus.stopwords.words('russian'))"
      ],
      "metadata": {
        "colab": {
          "base_uri": "https://localhost:8080/"
        },
        "id": "XYJ7wSQUjoWq",
        "outputId": "96aa8d92-7088-4301-f758-5e1cd4244211"
      },
      "execution_count": 3,
      "outputs": [
        {
          "output_type": "stream",
          "name": "stderr",
          "text": [
            "[nltk_data] Downloading package stopwords to /root/nltk_data...\n",
            "[nltk_data]   Unzipping corpora/stopwords.zip.\n"
          ]
        }
      ]
    },
    {
      "cell_type": "code",
      "execution_count": 4,
      "metadata": {
        "colab": {
          "base_uri": "https://localhost:8080/",
          "height": 206
        },
        "id": "0fdMwXH6kXjJ",
        "outputId": "e31accc1-4700-4527-8a38-44e574567291"
      },
      "outputs": [
        {
          "output_type": "execute_result",
          "data": {
            "text/plain": [
              "         date                                              title  \\\n",
              "0  2024-02-23  Зеленский без плана Б и с угрозой паралича эко...   \n",
              "1  2024-02-23  Как советские летчики впервые долетели напряму...   \n",
              "2  2024-02-23  Провал \"украинизации\" G20 и капризы Запада. За...   \n",
              "3  2024-02-23  Военная операция на Украине. Хроника событий 2...   \n",
              "4  2024-02-23  Военная операция на Украине. Хроника событий 2...   \n",
              "\n",
              "                                                body  count  \\\n",
              "0  Президент Украины Владимир Зеленский не смог о...    673   \n",
              "1  24 февраля 1899 года, 125 лет назад, родился в...    179   \n",
              "2  Запад стремится наказать всех тех, кто не след...    472   \n",
              "3  Госдепартамент США внес в свои санкционные спи...     59   \n",
              "4  Минобороны РФ объявило об освобождении населен...     51   \n",
              "\n",
              "                                  url  \n",
              "0  /mezhdunarodnaya-panorama/20061391  \n",
              "1                  /infographics/9497  \n",
              "2                  /politika/20062849  \n",
              "3              /armiya-i-opk/20054555  \n",
              "4              /armiya-i-opk/20043925  "
            ],
            "text/html": [
              "\n",
              "  <div id=\"df-c5a7e164-0a06-4582-913d-119897b85561\" class=\"colab-df-container\">\n",
              "    <div>\n",
              "<style scoped>\n",
              "    .dataframe tbody tr th:only-of-type {\n",
              "        vertical-align: middle;\n",
              "    }\n",
              "\n",
              "    .dataframe tbody tr th {\n",
              "        vertical-align: top;\n",
              "    }\n",
              "\n",
              "    .dataframe thead th {\n",
              "        text-align: right;\n",
              "    }\n",
              "</style>\n",
              "<table border=\"1\" class=\"dataframe\">\n",
              "  <thead>\n",
              "    <tr style=\"text-align: right;\">\n",
              "      <th></th>\n",
              "      <th>date</th>\n",
              "      <th>title</th>\n",
              "      <th>body</th>\n",
              "      <th>count</th>\n",
              "      <th>url</th>\n",
              "    </tr>\n",
              "  </thead>\n",
              "  <tbody>\n",
              "    <tr>\n",
              "      <th>0</th>\n",
              "      <td>2024-02-23</td>\n",
              "      <td>Зеленский без плана Б и с угрозой паралича эко...</td>\n",
              "      <td>Президент Украины Владимир Зеленский не смог о...</td>\n",
              "      <td>673</td>\n",
              "      <td>/mezhdunarodnaya-panorama/20061391</td>\n",
              "    </tr>\n",
              "    <tr>\n",
              "      <th>1</th>\n",
              "      <td>2024-02-23</td>\n",
              "      <td>Как советские летчики впервые долетели напряму...</td>\n",
              "      <td>24 февраля 1899 года, 125 лет назад, родился в...</td>\n",
              "      <td>179</td>\n",
              "      <td>/infographics/9497</td>\n",
              "    </tr>\n",
              "    <tr>\n",
              "      <th>2</th>\n",
              "      <td>2024-02-23</td>\n",
              "      <td>Провал \"украинизации\" G20 и капризы Запада. За...</td>\n",
              "      <td>Запад стремится наказать всех тех, кто не след...</td>\n",
              "      <td>472</td>\n",
              "      <td>/politika/20062849</td>\n",
              "    </tr>\n",
              "    <tr>\n",
              "      <th>3</th>\n",
              "      <td>2024-02-23</td>\n",
              "      <td>Военная операция на Украине. Хроника событий 2...</td>\n",
              "      <td>Госдепартамент США внес в свои санкционные спи...</td>\n",
              "      <td>59</td>\n",
              "      <td>/armiya-i-opk/20054555</td>\n",
              "    </tr>\n",
              "    <tr>\n",
              "      <th>4</th>\n",
              "      <td>2024-02-23</td>\n",
              "      <td>Военная операция на Украине. Хроника событий 2...</td>\n",
              "      <td>Минобороны РФ объявило об освобождении населен...</td>\n",
              "      <td>51</td>\n",
              "      <td>/armiya-i-opk/20043925</td>\n",
              "    </tr>\n",
              "  </tbody>\n",
              "</table>\n",
              "</div>\n",
              "    <div class=\"colab-df-buttons\">\n",
              "\n",
              "  <div class=\"colab-df-container\">\n",
              "    <button class=\"colab-df-convert\" onclick=\"convertToInteractive('df-c5a7e164-0a06-4582-913d-119897b85561')\"\n",
              "            title=\"Convert this dataframe to an interactive table.\"\n",
              "            style=\"display:none;\">\n",
              "\n",
              "  <svg xmlns=\"http://www.w3.org/2000/svg\" height=\"24px\" viewBox=\"0 -960 960 960\">\n",
              "    <path d=\"M120-120v-720h720v720H120Zm60-500h600v-160H180v160Zm220 220h160v-160H400v160Zm0 220h160v-160H400v160ZM180-400h160v-160H180v160Zm440 0h160v-160H620v160ZM180-180h160v-160H180v160Zm440 0h160v-160H620v160Z\"/>\n",
              "  </svg>\n",
              "    </button>\n",
              "\n",
              "  <style>\n",
              "    .colab-df-container {\n",
              "      display:flex;\n",
              "      gap: 12px;\n",
              "    }\n",
              "\n",
              "    .colab-df-convert {\n",
              "      background-color: #E8F0FE;\n",
              "      border: none;\n",
              "      border-radius: 50%;\n",
              "      cursor: pointer;\n",
              "      display: none;\n",
              "      fill: #1967D2;\n",
              "      height: 32px;\n",
              "      padding: 0 0 0 0;\n",
              "      width: 32px;\n",
              "    }\n",
              "\n",
              "    .colab-df-convert:hover {\n",
              "      background-color: #E2EBFA;\n",
              "      box-shadow: 0px 1px 2px rgba(60, 64, 67, 0.3), 0px 1px 3px 1px rgba(60, 64, 67, 0.15);\n",
              "      fill: #174EA6;\n",
              "    }\n",
              "\n",
              "    .colab-df-buttons div {\n",
              "      margin-bottom: 4px;\n",
              "    }\n",
              "\n",
              "    [theme=dark] .colab-df-convert {\n",
              "      background-color: #3B4455;\n",
              "      fill: #D2E3FC;\n",
              "    }\n",
              "\n",
              "    [theme=dark] .colab-df-convert:hover {\n",
              "      background-color: #434B5C;\n",
              "      box-shadow: 0px 1px 3px 1px rgba(0, 0, 0, 0.15);\n",
              "      filter: drop-shadow(0px 1px 2px rgba(0, 0, 0, 0.3));\n",
              "      fill: #FFFFFF;\n",
              "    }\n",
              "  </style>\n",
              "\n",
              "    <script>\n",
              "      const buttonEl =\n",
              "        document.querySelector('#df-c5a7e164-0a06-4582-913d-119897b85561 button.colab-df-convert');\n",
              "      buttonEl.style.display =\n",
              "        google.colab.kernel.accessAllowed ? 'block' : 'none';\n",
              "\n",
              "      async function convertToInteractive(key) {\n",
              "        const element = document.querySelector('#df-c5a7e164-0a06-4582-913d-119897b85561');\n",
              "        const dataTable =\n",
              "          await google.colab.kernel.invokeFunction('convertToInteractive',\n",
              "                                                    [key], {});\n",
              "        if (!dataTable) return;\n",
              "\n",
              "        const docLinkHtml = 'Like what you see? Visit the ' +\n",
              "          '<a target=\"_blank\" href=https://colab.research.google.com/notebooks/data_table.ipynb>data table notebook</a>'\n",
              "          + ' to learn more about interactive tables.';\n",
              "        element.innerHTML = '';\n",
              "        dataTable['output_type'] = 'display_data';\n",
              "        await google.colab.output.renderOutput(dataTable, element);\n",
              "        const docLink = document.createElement('div');\n",
              "        docLink.innerHTML = docLinkHtml;\n",
              "        element.appendChild(docLink);\n",
              "      }\n",
              "    </script>\n",
              "  </div>\n",
              "\n",
              "\n",
              "<div id=\"df-da1eedd4-2f21-4fc8-bbe3-5e2d40af7d4d\">\n",
              "  <button class=\"colab-df-quickchart\" onclick=\"quickchart('df-da1eedd4-2f21-4fc8-bbe3-5e2d40af7d4d')\"\n",
              "            title=\"Suggest charts\"\n",
              "            style=\"display:none;\">\n",
              "\n",
              "<svg xmlns=\"http://www.w3.org/2000/svg\" height=\"24px\"viewBox=\"0 0 24 24\"\n",
              "     width=\"24px\">\n",
              "    <g>\n",
              "        <path d=\"M19 3H5c-1.1 0-2 .9-2 2v14c0 1.1.9 2 2 2h14c1.1 0 2-.9 2-2V5c0-1.1-.9-2-2-2zM9 17H7v-7h2v7zm4 0h-2V7h2v10zm4 0h-2v-4h2v4z\"/>\n",
              "    </g>\n",
              "</svg>\n",
              "  </button>\n",
              "\n",
              "<style>\n",
              "  .colab-df-quickchart {\n",
              "      --bg-color: #E8F0FE;\n",
              "      --fill-color: #1967D2;\n",
              "      --hover-bg-color: #E2EBFA;\n",
              "      --hover-fill-color: #174EA6;\n",
              "      --disabled-fill-color: #AAA;\n",
              "      --disabled-bg-color: #DDD;\n",
              "  }\n",
              "\n",
              "  [theme=dark] .colab-df-quickchart {\n",
              "      --bg-color: #3B4455;\n",
              "      --fill-color: #D2E3FC;\n",
              "      --hover-bg-color: #434B5C;\n",
              "      --hover-fill-color: #FFFFFF;\n",
              "      --disabled-bg-color: #3B4455;\n",
              "      --disabled-fill-color: #666;\n",
              "  }\n",
              "\n",
              "  .colab-df-quickchart {\n",
              "    background-color: var(--bg-color);\n",
              "    border: none;\n",
              "    border-radius: 50%;\n",
              "    cursor: pointer;\n",
              "    display: none;\n",
              "    fill: var(--fill-color);\n",
              "    height: 32px;\n",
              "    padding: 0;\n",
              "    width: 32px;\n",
              "  }\n",
              "\n",
              "  .colab-df-quickchart:hover {\n",
              "    background-color: var(--hover-bg-color);\n",
              "    box-shadow: 0 1px 2px rgba(60, 64, 67, 0.3), 0 1px 3px 1px rgba(60, 64, 67, 0.15);\n",
              "    fill: var(--button-hover-fill-color);\n",
              "  }\n",
              "\n",
              "  .colab-df-quickchart-complete:disabled,\n",
              "  .colab-df-quickchart-complete:disabled:hover {\n",
              "    background-color: var(--disabled-bg-color);\n",
              "    fill: var(--disabled-fill-color);\n",
              "    box-shadow: none;\n",
              "  }\n",
              "\n",
              "  .colab-df-spinner {\n",
              "    border: 2px solid var(--fill-color);\n",
              "    border-color: transparent;\n",
              "    border-bottom-color: var(--fill-color);\n",
              "    animation:\n",
              "      spin 1s steps(1) infinite;\n",
              "  }\n",
              "\n",
              "  @keyframes spin {\n",
              "    0% {\n",
              "      border-color: transparent;\n",
              "      border-bottom-color: var(--fill-color);\n",
              "      border-left-color: var(--fill-color);\n",
              "    }\n",
              "    20% {\n",
              "      border-color: transparent;\n",
              "      border-left-color: var(--fill-color);\n",
              "      border-top-color: var(--fill-color);\n",
              "    }\n",
              "    30% {\n",
              "      border-color: transparent;\n",
              "      border-left-color: var(--fill-color);\n",
              "      border-top-color: var(--fill-color);\n",
              "      border-right-color: var(--fill-color);\n",
              "    }\n",
              "    40% {\n",
              "      border-color: transparent;\n",
              "      border-right-color: var(--fill-color);\n",
              "      border-top-color: var(--fill-color);\n",
              "    }\n",
              "    60% {\n",
              "      border-color: transparent;\n",
              "      border-right-color: var(--fill-color);\n",
              "    }\n",
              "    80% {\n",
              "      border-color: transparent;\n",
              "      border-right-color: var(--fill-color);\n",
              "      border-bottom-color: var(--fill-color);\n",
              "    }\n",
              "    90% {\n",
              "      border-color: transparent;\n",
              "      border-bottom-color: var(--fill-color);\n",
              "    }\n",
              "  }\n",
              "</style>\n",
              "\n",
              "  <script>\n",
              "    async function quickchart(key) {\n",
              "      const quickchartButtonEl =\n",
              "        document.querySelector('#' + key + ' button');\n",
              "      quickchartButtonEl.disabled = true;  // To prevent multiple clicks.\n",
              "      quickchartButtonEl.classList.add('colab-df-spinner');\n",
              "      try {\n",
              "        const charts = await google.colab.kernel.invokeFunction(\n",
              "            'suggestCharts', [key], {});\n",
              "      } catch (error) {\n",
              "        console.error('Error during call to suggestCharts:', error);\n",
              "      }\n",
              "      quickchartButtonEl.classList.remove('colab-df-spinner');\n",
              "      quickchartButtonEl.classList.add('colab-df-quickchart-complete');\n",
              "    }\n",
              "    (() => {\n",
              "      let quickchartButtonEl =\n",
              "        document.querySelector('#df-da1eedd4-2f21-4fc8-bbe3-5e2d40af7d4d button');\n",
              "      quickchartButtonEl.style.display =\n",
              "        google.colab.kernel.accessAllowed ? 'block' : 'none';\n",
              "    })();\n",
              "  </script>\n",
              "</div>\n",
              "    </div>\n",
              "  </div>\n"
            ],
            "application/vnd.google.colaboratory.intrinsic+json": {
              "type": "dataframe",
              "variable_name": "articles",
              "summary": "{\n  \"name\": \"articles\",\n  \"rows\": 2396,\n  \"fields\": [\n    {\n      \"column\": \"date\",\n      \"properties\": {\n        \"dtype\": \"object\",\n        \"num_unique_values\": 315,\n        \"samples\": [\n          \"2023-07-28\",\n          \"2024-01-21\",\n          \"2023-09-09\"\n        ],\n        \"semantic_type\": \"\",\n        \"description\": \"\"\n      }\n    },\n    {\n      \"column\": \"title\",\n      \"properties\": {\n        \"dtype\": \"string\",\n        \"num_unique_values\": 2388,\n        \"samples\": [\n          \"\\\"\\u041c\\u043e\\u0441\\u043a\\u0432\\u0430. \\u041a\\u0440\\u0435\\u043c\\u043b\\u044c. \\u041f\\u0443\\u0442\\u0438\\u043d\\\", \\\"\\u0412\\u0435\\u0441\\u0442\\u0438\\\" \\u0438 \\u0432\\u043e\\u0435\\u043d\\u043a\\u043e\\u0440\\u044b. \\u041b\\u0430\\u0443\\u0440\\u0435\\u0430\\u0442\\u044b \\u043f\\u0440\\u0435\\u043c\\u0438\\u0438 \\u0422\\u042d\\u0424\\u0418-2023\",\n          \"\\u0412\\u0435\\u0440\\u043d\\u0443\\u0442\\u044c \\u0441 \\u043d\\u0435\\u0431\\u0435\\u0441 \\u043d\\u0430 \\u0437\\u0435\\u043c\\u043b\\u044e. \\u041a\\u0430\\u043a \\u0440\\u0430\\u0431\\u043e\\u0442\\u0430\\u044e\\u0442 \\u0441\\u043e\\u0432\\u0440\\u0435\\u043c\\u0435\\u043d\\u043d\\u044b\\u0435 \\u043c\\u043e\\u0431\\u0438\\u043b\\u044c\\u043d\\u044b\\u0435 \\u043a\\u043e\\u043c\\u043f\\u043b\\u0435\\u043a\\u0441\\u044b \\u0431\\u043e\\u0440\\u044c\\u0431\\u044b \\u0441 \\u0411\\u041f\\u041b\\u0410\",\n          \"\\u0412 \\u043a\\u0430\\u043a\\u0438\\u0445 \\u0441\\u0442\\u0440\\u0430\\u043d\\u0430\\u0445 \\u0440\\u0430\\u0431\\u043e\\u0442\\u0430\\u0435\\u0442 \\u043a\\u0430\\u0440\\u0442\\u0430 \\\"\\u041c\\u0438\\u0440\\\"\"\n        ],\n        \"semantic_type\": \"\",\n        \"description\": \"\"\n      }\n    },\n    {\n      \"column\": \"body\",\n      \"properties\": {\n        \"dtype\": \"string\",\n        \"num_unique_values\": 2387,\n        \"samples\": [\n          \"\\u0410\\u041d\\u041a\\u0410\\u0420\\u0410, 29 \\u043c\\u0430\\u044f. /\\u0422\\u0410\\u0421\\u0421/. \\u0422\\u0443\\u0440\\u0435\\u0446\\u043a\\u0438\\u0439 \\u043f\\u0440\\u0435\\u0437\\u0438\\u0434\\u0435\\u043d\\u0442 \\u0420\\u0435\\u0434\\u0436\\u0435\\u043f \\u0422\\u0430\\u0439\\u0438\\u043f \\u042d\\u0440\\u0434\\u043e\\u0433\\u0430\\u043d \\u043e\\u0434\\u0435\\u0440\\u0436\\u0430\\u043b \\u0432\\u043e \\u0432\\u0442\\u043e\\u0440\\u043e\\u043c \\u0442\\u0443\\u0440\\u0435 \\u043f\\u043e\\u0431\\u0435\\u0434\\u0443 \\u043d\\u0430 \\u0432\\u044b\\u0431\\u043e\\u0440\\u0430\\u0445 \\u0433\\u043b\\u0430\\u0432\\u044b \\u0440\\u0435\\u0441\\u043f\\u0443\\u0431\\u043b\\u0438\\u043a\\u0438. \\u0412 \\u0433\\u043e\\u0434 \\u043f\\u0440\\u0430\\u0437\\u0434\\u043d\\u043e\\u0432\\u0430\\u043d\\u0438\\u044f \\u0422\\u0443\\u0440\\u0435\\u0446\\u043a\\u043e\\u0439 \\u0420\\u0435\\u0441\\u043f\\u0443\\u0431\\u043b\\u0438\\u043a\\u043e\\u0439 \\u0441\\u0442\\u043e\\u043b\\u0435\\u0442\\u0438\\u044f \\u0441\\u043e \\u0434\\u043d\\u044f \\u043e\\u0441\\u043d\\u043e\\u0432\\u0430\\u043d\\u0438\\u044f \\u043d\\u0430\\u0440\\u043e\\u0434 \\u0432\\u044b\\u0431\\u0440\\u0430\\u043b \\u0435\\u0433\\u043e \\u0432 \\u043a\\u0430\\u0447\\u0435\\u0441\\u0442\\u0432\\u0435 \\u043f\\u0440\\u0435\\u0437\\u0438\\u0434\\u0435\\u043d\\u0442\\u0430 \\u043d\\u0430 \\u0431\\u043b\\u0438\\u0436\\u0430\\u0439\\u0448\\u0438\\u0435 \\u043f\\u044f\\u0442\\u044c \\u043b\\u0435\\u0442. \\u0421\\u043e\\u0433\\u043b\\u0430\\u0441\\u043d\\u043e \\u043f\\u0440\\u0435\\u0434\\u0432\\u0430\\u0440\\u0438\\u0442\\u0435\\u043b\\u044c\\u043d\\u044b\\u043c \\u0434\\u0430\\u043d\\u043d\\u044b\\u043c \\u0426\\u0418\\u041a, \\u043a\\u043e\\u0442\\u043e\\u0440\\u044b\\u0435 \\u043e\\u0433\\u043b\\u0430\\u0441\\u0438\\u043b \\u0433\\u043b\\u0430\\u0432\\u0430 \\u0438\\u0437\\u0431\\u0438\\u0440\\u043a\\u043e\\u043c\\u0430 \\u0410\\u0445\\u043c\\u0435\\u0442 \\u0415\\u043d\\u0435\\u0440, \\u042d\\u0440\\u0434\\u043e\\u0433\\u0430\\u043d \\u043d\\u0430\\u0431\\u0438\\u0440\\u0430\\u0435\\u0442 52,14% \\u0433\\u043e\\u043b\\u043e\\u0441\\u043e\\u0432 \\u043f\\u043e \\u0438\\u0442\\u043e\\u0433\\u0430\\u043c \\u043e\\u0431\\u0440\\u0430\\u0431\\u043e\\u0442\\u043a\\u0438 99,43% \\u0431\\u044e\\u043b\\u043b\\u0435\\u0442\\u0435\\u043d\\u0435\\u0439. \\u0415\\u0433\\u043e \\u0441\\u043e\\u043f\\u0435\\u0440\\u043d\\u0438\\u043a - \\u043b\\u0438\\u0434\\u0435\\u0440 \\u043e\\u043f\\u043f\\u043e\\u0437\\u0438\\u0446\\u0438\\u0438 \\u041a\\u0435\\u043c\\u0430\\u043b\\u044c \\u041a\\u044b\\u043b\\u044b\\u0447\\u0434\\u0430\\u0440\\u043e\\u0433\\u043b\\u0443 - \\u043f\\u043e\\u043b\\u0443\\u0447\\u0430\\u0435\\u0442 47,86% \\u0433\\u043e\\u043b\\u043e\\u0441\\u043e\\u0432. \\u041f\\u043e \\u0438\\u043d\\u0444\\u043e\\u0440\\u043c\\u0430\\u0446\\u0438\\u0438 \\u0430\\u0433\\u0435\\u043d\\u0442\\u0441\\u0442\\u0432\\u0430 Anadolu, \\u043e\\u0441\\u0442\\u0430\\u044e\\u0442\\u0441\\u044f \\u043d\\u0435\\u043e\\u0431\\u0440\\u0430\\u0431\\u043e\\u0442\\u0430\\u043d\\u043d\\u044b\\u043c\\u0438 \\u043f\\u043e\\u0440\\u044f\\u0434\\u043a\\u0430 400 \\u0442\\u044b\\u0441. \\u0431\\u044e\\u043b\\u043b\\u0435\\u0442\\u0435\\u043d\\u0435\\u0439, \\u043a\\u043e\\u0442\\u043e\\u0440\\u044b\\u0435 \\u0443\\u0436\\u0435 \\u043d\\u0435 \\u0441\\u043c\\u043e\\u0433\\u0443\\u0442 \\u043a\\u0430\\u0440\\u0434\\u0438\\u043d\\u0430\\u043b\\u044c\\u043d\\u043e \\u043f\\u043e\\u0432\\u043b\\u0438\\u044f\\u0442\\u044c \\u043d\\u0430 \\u0441\\u0438\\u0442\\u0443\\u0430\\u0446\\u0438\\u044e. \\u041e\\u0444\\u0438\\u0446\\u0438\\u0430\\u043b\\u044c\\u043d\\u044b\\u0435 \\u0440\\u0435\\u0437\\u0443\\u043b\\u044c\\u0442\\u0430\\u0442\\u044b \\u043a\\u0430\\u043a \\u043f\\u0440\\u0435\\u0437\\u0438\\u0434\\u0435\\u043d\\u0442\\u0441\\u043a\\u0438\\u0445, \\u0442\\u0430\\u043a \\u0438 \\u0441\\u043e\\u0441\\u0442\\u043e\\u044f\\u0432\\u0448\\u0438\\u0445\\u0441\\u044f 14 \\u043c\\u0430\\u044f \\u043f\\u0430\\u0440\\u043b\\u0430\\u043c\\u0435\\u043d\\u0442\\u0441\\u043a\\u0438\\u0445 \\u0432\\u044b\\u0431\\u043e\\u0440\\u043e\\u0432, \\u0426\\u0418\\u041a \\u043f\\u043b\\u0430\\u043d\\u0438\\u0440\\u0443\\u0435\\u0442 \\u043e\\u0431\\u044a\\u044f\\u0432\\u0438\\u0442\\u044c \\u043a 1 \\u0438\\u044e\\u043d\\u044f. \\u0414\\u043b\\u044f 69-\\u043b\\u0435\\u0442\\u043d\\u0435\\u0433\\u043e \\u042d\\u0440\\u0434\\u043e\\u0433\\u0430\\u043d\\u0430, \\u0432\\u043f\\u0435\\u0440\\u0432\\u044b\\u0435 \\u0438\\u0437\\u0431\\u0440\\u0430\\u043d\\u043d\\u043e\\u0433\\u043e \\u043f\\u0440\\u0435\\u0437\\u0438\\u0434\\u0435\\u043d\\u0442\\u043e\\u043c \\u0432 2014 \\u0433\\u043e\\u0434\\u0443 \\u0438 \\u043f\\u0435\\u0440\\u0435\\u0438\\u0437\\u0431\\u0440\\u0430\\u043d\\u043d\\u043e\\u0433\\u043e \\u043d\\u0430 \\u044d\\u0442\\u043e\\u0442 \\u043f\\u043e\\u0441\\u0442 \\u0432 2018 \\u0433\\u043e\\u0434\\u0443, \\u044d\\u0442\\u043e \\u0431\\u0443\\u0434\\u0435\\u0442 \\u0442\\u0440\\u0435\\u0442\\u0438\\u0439 \\u0441\\u0440\\u043e\\u043a \\u043d\\u0430 \\u0432\\u044b\\u0441\\u0448\\u0435\\u043c \\u0433\\u043e\\u0441\\u0443\\u0434\\u0430\\u0440\\u0441\\u0442\\u0432\\u0435\\u043d\\u043d\\u043e\\u043c \\u043f\\u043e\\u0441\\u0442\\u0443. \\u0414\\u043e \\u043d\\u0435\\u0433\\u043e \\u0442\\u0440\\u0438 \\u0441\\u0440\\u043e\\u043a\\u0430 \\u043f\\u043e\\u0434\\u0440\\u044f\\u0434 \\u0443 \\u0432\\u043b\\u0430\\u0441\\u0442\\u0438 \\u0431\\u044b\\u043b\\u0438 \\u043b\\u0438\\u0448\\u044c \\u0442\\u0440\\u0438 \\u043f\\u0435\\u0440\\u0432\\u044b\\u0445 \\u043f\\u0440\\u0435\\u0437\\u0438\\u0434\\u0435\\u043d\\u0442\\u0430 \\u0422\\u0443\\u0440\\u0446\\u0438\\u0438: \\u043e\\u0441\\u043d\\u043e\\u0432\\u0430\\u0442\\u0435\\u043b\\u044c \\u0440\\u0435\\u0441\\u043f\\u0443\\u0431\\u043b\\u0438\\u043a\\u0438 \\u041c\\u0443\\u0441\\u0442\\u0430\\u0444\\u0430 \\u041a\\u0435\\u043c\\u0430\\u043b\\u044c \\u0410\\u0442\\u0430\\u0442\\u044e\\u0440\\u043a (1923-1938, \\u0447\\u0435\\u0442\\u044b\\u0440\\u0435 \\u0441\\u0440\\u043e\\u043a\\u0430), \\u0435\\u0433\\u043e \\u043f\\u0440\\u0435\\u0435\\u043c\\u043d\\u0438\\u043a \\u0418\\u0441\\u043c\\u0435\\u0442 \\u0418\\u043d\\u0451\\u043d\\u044e (1938-1950, \\u0447\\u0435\\u0442\\u044b\\u0440\\u0435 \\u0441\\u0440\\u043e\\u043a\\u0430) \\u0438 \\u041c\\u0430\\u0445\\u043c\\u0443\\u0434 \\u0414\\u0436\\u0435\\u043b\\u044f\\u043b\\u044c \\u0411\\u0430\\u044f\\u0440 (1950-1960, \\u0442\\u0440\\u0438 \\u0441\\u0440\\u043e\\u043a\\u0430). \\u042d\\u0440\\u0434\\u043e\\u0433\\u0430\\u043d \\u0440\\u043e\\u0434\\u0438\\u043b\\u0441\\u044f 26 \\u0444\\u0435\\u0432\\u0440\\u0430\\u043b\\u044f 1954 \\u0433\\u043e\\u0434\\u0430 \\u0432 \\u0421\\u0442\\u0430\\u043c\\u0431\\u0443\\u043b\\u0435 \\u0432 \\u0441\\u0435\\u043c\\u044c\\u0435 \\u0441\\u043b\\u0443\\u0436\\u0430\\u0449\\u0435\\u0433\\u043e \\u0411\\u0435\\u0440\\u0435\\u0433\\u043e\\u0432\\u043e\\u0439 \\u043e\\u0445\\u0440\\u0430\\u043d\\u044b \\u0422\\u0443\\u0440\\u0446\\u0438\\u0438. \\u0414\\u043e 13 \\u043b\\u0435\\u0442 \\u0436\\u0438\\u043b \\u043d\\u0430 \\u0441\\u0435\\u0432\\u0435\\u0440\\u043e-\\u0432\\u043e\\u0441\\u0442\\u043e\\u043a\\u0435 \\u0441\\u0442\\u0440\\u0430\\u043d\\u044b \\u0432 \\u0433\\u043e\\u0440\\u043e\\u0434\\u0435 \\u0420\\u0438\\u0437\\u0430, \\u043e\\u0442\\u043a\\u0443\\u0434\\u0430 \\u0431\\u044b\\u043b\\u0438 \\u0440\\u043e\\u0434\\u043e\\u043c \\u0435\\u0433\\u043e \\u0440\\u043e\\u0434\\u0438\\u0442\\u0435\\u043b\\u0438 (\\u0432 \\u0420\\u0438\\u0437\\u0435 \\u0438\\u0445 \\u043f\\u0440\\u0435\\u0434\\u043a\\u0438 \\u043e\\u0431\\u043e\\u0441\\u043d\\u043e\\u0432\\u0430\\u043b\\u0438\\u0441\\u044c \\u043f\\u043e\\u0441\\u043b\\u0435 \\u043f\\u0435\\u0440\\u0435\\u0435\\u0437\\u0434\\u0430 \\u0438\\u0437 \\u0413\\u0440\\u0443\\u0437\\u0438\\u0438). \\u0423\\u0436\\u0435 \\u0432 \\u0448\\u043a\\u043e\\u043b\\u044c\\u043d\\u044b\\u0435 \\u0433\\u043e\\u0434\\u044b \\u043e\\u0442\\u043b\\u0438\\u0447\\u0430\\u043b\\u0441\\u044f \\u0440\\u0435\\u043b\\u0438\\u0433\\u0438\\u043e\\u0437\\u043d\\u043e\\u0441\\u0442\\u044c\\u044e, \\u0438\\u0437-\\u0437\\u0430 \\u0447\\u0435\\u0433\\u043e \\u0435\\u0433\\u043e \\u043d\\u0430\\u0437\\u044b\\u0432\\u0430\\u043b\\u0438 \\u0425\\u043e\\u0434\\u0436\\u0430 (\\u043f\\u043e\\u0447\\u0435\\u0442\\u043d\\u044b\\u0439 \\u0442\\u0438\\u0442\\u0443\\u043b \\u0434\\u0443\\u0445\\u043e\\u0432\\u043d\\u043e\\u0433\\u043e \\u043b\\u0438\\u0446\\u0430 \\u0432 \\u0441\\u0442\\u0440\\u0430\\u043d\\u0430\\u0445 \\u0411\\u043b\\u0438\\u0436\\u043d\\u0435\\u0433\\u043e \\u0438 \\u0421\\u0440\\u0435\\u0434\\u043d\\u0435\\u0433\\u043e \\u0412\\u043e\\u0441\\u0442\\u043e\\u043a\\u0430). \\u041f\\u043e\\u0441\\u043b\\u0435 \\u043e\\u043a\\u043e\\u043d\\u0447\\u0430\\u043d\\u0438\\u044f \\u0440\\u0435\\u043b\\u0438\\u0433\\u0438\\u043e\\u0437\\u043d\\u043e\\u0433\\u043e \\u043b\\u0438\\u0446\\u0435\\u044f \\u042d\\u0440\\u0434\\u043e\\u0433\\u0430\\u043d \\u043f\\u0440\\u043e\\u0434\\u043e\\u043b\\u0436\\u0438\\u043b \\u043e\\u0431\\u0440\\u0430\\u0437\\u043e\\u0432\\u0430\\u043d\\u0438\\u0435 \\u0432 \\u0421\\u0442\\u0430\\u043c\\u0431\\u0443\\u043b\\u0435, \\u0442\\u0430\\u043c \\u0432 1981 \\u0433\\u043e\\u0434\\u0443 \\u043e\\u043d \\u043e\\u043a\\u043e\\u043d\\u0447\\u0438\\u043b \\u0423\\u043d\\u0438\\u0432\\u0435\\u0440\\u0441\\u0438\\u0442\\u0435\\u0442 \\u041c\\u0430\\u0440\\u043c\\u0430\\u0440\\u0430, \\u0433\\u0434\\u0435 \\u0432 1981 \\u0433\\u043e\\u0434\\u0443 \\u043f\\u043e\\u043b\\u0443\\u0447\\u0438\\u043b \\u0434\\u0438\\u043f\\u043b\\u043e\\u043c \\u043f\\u043e \\u0441\\u043f\\u0435\\u0446\\u0438\\u0430\\u043b\\u044c\\u043d\\u043e\\u0441\\u0442\\u0438 \\\"\\u0423\\u043f\\u0440\\u0430\\u0432\\u043b\\u0435\\u043d\\u0438\\u0435 \\u0431\\u0438\\u0437\\u043d\\u0435\\u0441\\u043e\\u043c\\\". \\u0412 1980-1982 \\u0433\\u043e\\u0434\\u0430\\u0445 \\u0440\\u0430\\u0431\\u043e\\u0442\\u0430\\u043b \\u043c\\u0435\\u043d\\u0435\\u0434\\u0436\\u0435\\u0440\\u043e\\u043c \\u0432 \\u0447\\u0430\\u0441\\u0442\\u043d\\u044b\\u0445 \\u043a\\u043e\\u043c\\u043f\\u0430\\u043d\\u0438\\u044f\\u0445. \\u0412 1982 \\u0433\\u043e\\u0434\\u0443 \\u043f\\u0440\\u043e\\u0448\\u0435\\u043b \\u0441\\u0440\\u043e\\u0447\\u043d\\u0443\\u044e \\u0441\\u043b\\u0443\\u0436\\u0431\\u0443 \\u0432 \\u0430\\u0440\\u043c\\u0438\\u0438. \\u0415\\u0449\\u0435 \\u0432 \\u0441\\u0442\\u0443\\u0434\\u0435\\u043d\\u0447\\u0435\\u0441\\u043a\\u0438\\u0435 \\u0433\\u043e\\u0434\\u044b \\u042d\\u0440\\u0434\\u043e\\u0433\\u0430\\u043d \\u043f\\u0440\\u0438\\u043c\\u043a\\u043d\\u0443\\u043b \\u043a \\u0438\\u0441\\u043b\\u0430\\u043c\\u0438\\u0441\\u0442\\u0441\\u043a\\u043e\\u0439 \\u041f\\u0430\\u0440\\u0442\\u0438\\u0438 \\u043d\\u0430\\u0446\\u0438\\u043e\\u043d\\u0430\\u043b\\u044c\\u043d\\u043e\\u0433\\u043e \\u0441\\u043f\\u0430\\u0441\\u0435\\u043d\\u0438\\u044f. \\u0412 1976 \\u0433\\u043e\\u0434\\u0443 \\u0432\\u043e\\u0437\\u0433\\u043b\\u0430\\u0432\\u0438\\u043b \\u0435\\u0435 \\u043c\\u043e\\u043b\\u043e\\u0434\\u0435\\u0436\\u043d\\u0443\\u044e \\u044f\\u0447\\u0435\\u0439\\u043a\\u0443 \\u0432 \\u0441\\u0442\\u0430\\u043c\\u0431\\u0443\\u043b\\u044c\\u0441\\u043a\\u043e\\u043c \\u0440\\u0430\\u0439\\u043e\\u043d\\u0435 \\u0411\\u0435\\u0439\\u043e\\u0433\\u043b\\u0443, \\u0437\\u0430\\u0442\\u0435\\u043c - \\u043c\\u043e\\u043b\\u043e\\u0434\\u0435\\u0436\\u043d\\u043e\\u0435 \\u043e\\u0442\\u0434\\u0435\\u043b\\u0435\\u043d\\u0438\\u0435 \\u044d\\u0442\\u043e\\u0439 \\u043f\\u0430\\u0440\\u0442\\u0438\\u0438 \\u0432 \\u0421\\u0442\\u0430\\u043c\\u0431\\u0443\\u043b\\u0435. \\u041f\\u043e\\u0441\\u043b\\u0435 \\u0432\\u043e\\u0435\\u043d\\u043d\\u043e\\u0433\\u043e \\u043f\\u0435\\u0440\\u0435\\u0432\\u043e\\u0440\\u043e\\u0442\\u0430 1980 \\u0433\\u043e\\u0434\\u0443 \\u043f\\u043e\\u043b\\u0438\\u0442\\u0438\\u0447\\u0435\\u0441\\u043a\\u0438\\u0435 \\u043f\\u0430\\u0440\\u0442\\u0438\\u0438 \\u0431\\u044b\\u043b\\u0438 \\u0440\\u0430\\u0441\\u043f\\u0443\\u0449\\u0435\\u043d\\u044b. \\u0412 1983 \\u0433\\u043e\\u0434\\u0443 \\u043e\\u043d \\u0432\\u0441\\u0442\\u0443\\u043f\\u0438\\u043b \\u0432\\u043e \\u0432\\u043d\\u043e\\u0432\\u044c \\u043e\\u0431\\u0440\\u0430\\u0437\\u043e\\u0432\\u0430\\u043d\\u043d\\u0443\\u044e \\u0438\\u0441\\u043b\\u0430\\u043c\\u0438\\u0441\\u0442\\u0441\\u043a\\u0443\\u044e \\u041f\\u0430\\u0440\\u0442\\u0438\\u044e \\u0431\\u043b\\u0430\\u0433\\u043e\\u0434\\u0435\\u043d\\u0441\\u0442\\u0432\\u0438\\u044f. \\u0412 1984 \\u0433\\u043e\\u0434\\u0443 \\u0432\\u043e\\u0437\\u0433\\u043b\\u0430\\u0432\\u0438\\u043b \\u0435\\u0435 \\u0441\\u0442\\u0430\\u043c\\u0431\\u0443\\u043b\\u044c\\u0441\\u043a\\u0438\\u0439 \\u0444\\u0438\\u043b\\u0438\\u0430\\u043b, \\u0430 \\u0432 1985-1986 \\u0433\\u043e\\u0434\\u0430\\u0445 \\u0431\\u044b\\u043b \\u0447\\u043b\\u0435\\u043d\\u043e\\u043c \\u0441\\u043e\\u0432\\u0435\\u0442\\u0430 \\u0446\\u0435\\u043d\\u0442\\u0440\\u0430\\u043b\\u044c\\u043d\\u043e\\u0433\\u043e \\u0443\\u043f\\u0440\\u0430\\u0432\\u043b\\u0435\\u043d\\u0438\\u044f \\u043f\\u0430\\u0440\\u0442\\u0438\\u0438. \\u0412 1989 \\u0433\\u043e\\u0434\\u0443 \\u0431\\u044b\\u043b \\u043d\\u0430\\u0437\\u043d\\u0430\\u0447\\u0435\\u043d \\u0433\\u043b\\u0430\\u0432\\u043e\\u0439 \\u0430\\u0434\\u043c\\u0438\\u043d\\u0438\\u0441\\u0442\\u0440\\u0430\\u0446\\u0438\\u0438 \\u0441\\u0442\\u0430\\u043c\\u0431\\u0443\\u043b\\u044c\\u0441\\u043a\\u043e\\u0433\\u043e \\u0440\\u0430\\u0439\\u043e\\u043d\\u0430 \\u0411\\u0435\\u0439\\u043e\\u0433\\u043b\\u0443. \\u0412 \\u043c\\u0430\\u0440\\u0442\\u0435 1994 \\u0433\\u043e\\u0434\\u0430 \\u042d\\u0440\\u0434\\u043e\\u0433\\u0430\\u043d \\u043f\\u043e\\u0431\\u0435\\u0434\\u0438\\u043b \\u043d\\u0430 \\u0432\\u044b\\u0431\\u043e\\u0440\\u0430\\u0445 \\u043c\\u044d\\u0440\\u0430 \\u0421\\u0442\\u0430\\u043c\\u0431\\u0443\\u043b\\u0430. \\u041d\\u0430 \\u044d\\u0442\\u043e\\u043c \\u043f\\u043e\\u0441\\u0442\\u0443 \\u043e\\u043d \\u043f\\u0440\\u0438\\u043e\\u0431\\u0440\\u0435\\u043b \\u0437\\u043d\\u0430\\u0447\\u0438\\u0442\\u0435\\u043b\\u044c\\u043d\\u0443\\u044e \\u043f\\u043e\\u043f\\u0443\\u043b\\u044f\\u0440\\u043d\\u043e\\u0441\\u0442\\u044c, \\u0434\\u043e\\u0431\\u0438\\u0432\\u0448\\u0438\\u0441\\u044c \\u0440\\u0435\\u0448\\u0435\\u043d\\u0438\\u044f \\u043d\\u0435\\u043a\\u043e\\u0442\\u043e\\u0440\\u044b\\u0445 \\u044d\\u043a\\u043e\\u043d\\u043e\\u043c\\u0438\\u0447\\u0435\\u0441\\u043a\\u0438\\u0445 \\u0438 \\u0441\\u043e\\u0446\\u0438\\u0430\\u043b\\u044c\\u043d\\u044b\\u0445 \\u0432\\u043e\\u043f\\u0440\\u043e\\u0441\\u043e\\u0432, \\u0432 \\u0447\\u0430\\u0441\\u0442\\u043d\\u043e\\u0441\\u0442\\u0438, \\u0440\\u0435\\u0447\\u044c \\u0448\\u043b\\u0430 \\u043e \\u043f\\u0440\\u043e\\u0431\\u043b\\u0435\\u043c\\u0430\\u0445 \\u0441 \\u0432\\u043e\\u0434\\u043e\\u0441\\u043d\\u0430\\u0431\\u0436\\u0435\\u043d\\u0438\\u0435\\u043c, \\u0432\\u044b\\u0432\\u043e\\u0437\\u043e\\u043c \\u0438 \\u043f\\u0435\\u0440\\u0435\\u0440\\u0430\\u0431\\u043e\\u0442\\u043a\\u043e\\u0439 \\u043c\\u0443\\u0441\\u043e\\u0440\\u0430. \\u0410\\u043a\\u0442\\u0438\\u0432\\u043d\\u043e \\u0437\\u0430\\u043d\\u0438\\u043c\\u0430\\u043b\\u0441\\u044f \\u043e\\u0437\\u0435\\u043b\\u0435\\u043d\\u0435\\u043d\\u0438\\u0435\\u043c \\u0433\\u043e\\u0440\\u043e\\u0434\\u0430. \\u041f\\u0440\\u043e\\u043f\\u0430\\u0433\\u0430\\u043d\\u0434\\u0438\\u0440\\u0443\\u044f \\u0446\\u0435\\u043d\\u043d\\u043e\\u0441\\u0442\\u0438 \\u0438\\u0441\\u043b\\u0430\\u043c\\u0430, \\u0432\\u0432\\u0435\\u043b \\u043d\\u0435\\u043a\\u043e\\u0442\\u043e\\u0440\\u044b\\u0435 \\u043e\\u0433\\u0440\\u0430\\u043d\\u0438\\u0447\\u0435\\u043d\\u0438\\u044f \\u043d\\u0430 \\u043f\\u043e\\u0442\\u0440\\u0435\\u0431\\u043b\\u0435\\u043d\\u0438\\u0435 \\u0430\\u043b\\u043a\\u043e\\u0433\\u043e\\u043b\\u044c\\u043d\\u044b\\u0445 \\u043d\\u0430\\u043f\\u0438\\u0442\\u043a\\u043e\\u0432. \\u0412 \\u044f\\u043d\\u0432\\u0430\\u0440\\u0435 1998 \\u0433\\u043e\\u0434\\u0430 \\u041f\\u0430\\u0440\\u0442\\u0438\\u044f \\u0431\\u043b\\u0430\\u0433\\u043e\\u0434\\u0435\\u043d\\u0441\\u0442\\u0432\\u0438\\u044f \\u0431\\u044b\\u043b\\u0430 \\u0437\\u0430\\u043f\\u0440\\u0435\\u0449\\u0435\\u043d\\u0430 (\\u041a\\u043e\\u043d\\u0441\\u0442\\u0438\\u0442\\u0443\\u0446\\u0438\\u043e\\u043d\\u043d\\u044b\\u0439 \\u0441\\u0443\\u0434 \\u0422\\u0443\\u0440\\u0446\\u0438\\u0438 \\u043f\\u0440\\u0438\\u0437\\u043d\\u0430\\u043b \\u0435\\u0435 \\u0432\\u0438\\u043d\\u043e\\u0432\\u043d\\u043e\\u0439 \\u0432 \\u043d\\u0430\\u0440\\u0443\\u0448\\u0435\\u043d\\u0438\\u0438 \\u043f\\u0440\\u0438\\u043d\\u0446\\u0438\\u043f\\u0430 \\u0441\\u0435\\u043a\\u0443\\u043b\\u044f\\u0440\\u0438\\u0437\\u043c\\u0430), \\u042d\\u0440\\u0434\\u043e\\u0433\\u0430\\u043d\\u0443 \\u043f\\u0440\\u0438\\u0448\\u043b\\u043e\\u0441\\u044c \\u043f\\u043e\\u043a\\u0438\\u043d\\u0443\\u0442\\u044c \\u043f\\u043e\\u0441\\u0442 \\u043c\\u044d\\u0440\\u0430. \\u0412 \\u0442\\u043e\\u043c \\u0436\\u0435 1998 \\u0433\\u043e\\u0434\\u0443 \\u043f\\u0440\\u043e\\u0442\\u0438\\u0432 \\u042d\\u0440\\u0434\\u043e\\u0433\\u0430\\u043d\\u0430 \\u0431\\u044b\\u043b\\u043e \\u0432\\u044b\\u0434\\u0432\\u0438\\u043d\\u0443\\u0442\\u043e \\u043e\\u0431\\u0432\\u0438\\u043d\\u0435\\u043d\\u0438\\u0435 \\u0432 \\\"\\u0440\\u0430\\u0437\\u0436\\u0438\\u0433\\u0430\\u043d\\u0438\\u0438 \\u043d\\u0430\\u0446\\u0438\\u043e\\u043d\\u0430\\u043b\\u044c\\u043d\\u043e\\u0439 \\u0440\\u043e\\u0437\\u043d\\u0438 \\u0438 \\u0432\\u0440\\u0430\\u0436\\u0434\\u044b\\\". \\u041f\\u043e\\u0432\\u043e\\u0434\\u043e\\u043c \\u0441\\u0442\\u0430\\u043b\\u043e \\u043f\\u0443\\u0431\\u043b\\u0438\\u0447\\u043d\\u043e\\u0435 \\u0434\\u0435\\u043a\\u043b\\u0430\\u043c\\u0438\\u0440\\u043e\\u0432\\u0430\\u043d\\u0438\\u0435 \\u043d\\u0430 \\u043e\\u0434\\u043d\\u043e\\u043c \\u0438\\u0437 \\u043c\\u0438\\u0442\\u0438\\u043d\\u0433\\u043e\\u0432 \\u0441\\u0442\\u0438\\u0445\\u043e\\u0442\\u0432\\u043e\\u0440\\u0435\\u043d\\u0438\\u044f \\u0417\\u0438\\u0438 \\u0413\\u044e\\u043a\\u0430\\u043b\\u044c\\u043f\\u0430, \\u043f\\u0430\\u043d\\u0442\\u044e\\u0440\\u043a\\u0438\\u0441\\u0442\\u0441\\u043a\\u043e\\u0433\\u043e \\u0430\\u043a\\u0442\\u0438\\u0432\\u0438\\u0441\\u0442\\u0430 \\u043d\\u0430\\u0447\\u0430\\u043b\\u0430 XX \\u0432. \\u0425\\u043e\\u0442\\u044f \\u043e\\u043d\\u043e \\u043d\\u0435 \\u0431\\u044b\\u043b\\u043e \\u0437\\u0430\\u043f\\u0440\\u0435\\u0449\\u0435\\u043d\\u043d\\u044b\\u043c, \\u0441\\u0443\\u0434 \\u0441\\u0447\\u0435\\u043b, \\u0447\\u0442\\u043e \\u044d\\u0442\\u043e\\u0442 \\u0442\\u0435\\u043a\\u0441\\u0442 \\u0438\\u043c\\u0435\\u043b \\u043d\\u0435\\u0434\\u043e\\u043f\\u0443\\u0441\\u0442\\u0438\\u043c\\u043e\\u0435 \\u0438\\u0441\\u043b\\u0430\\u043c\\u0438\\u0441\\u0442\\u0441\\u043a\\u043e\\u0435 \\u0441\\u043e\\u0434\\u0435\\u0440\\u0436\\u0430\\u043d\\u0438\\u0435, \\u0438 \\u043f\\u0440\\u0438\\u0433\\u043e\\u0432\\u043e\\u0440\\u0438\\u043b \\u043c\\u043e\\u043b\\u043e\\u0434\\u043e\\u0433\\u043e \\u043f\\u043e\\u043b\\u0438\\u0442\\u0438\\u043a\\u0430 \\u043a \\u0434\\u0435\\u0441\\u044f\\u0442\\u0438\\u043c\\u0435\\u0441\\u044f\\u0447\\u043d\\u043e\\u043c\\u0443 \\u0437\\u0430\\u043a\\u043b\\u044e\\u0447\\u0435\\u043d\\u0438\\u044e. \\u041e\\u0434\\u043d\\u0430\\u043a\\u043e \\u0432 \\u0442\\u044e\\u0440\\u044c\\u043c\\u0435 \\u043e\\u043d \\u043f\\u0440\\u043e\\u0432\\u0435\\u043b \\u043b\\u0438\\u0448\\u044c \\u0447\\u0435\\u0442\\u044b\\u0440\\u0435 \\u043c\\u0435\\u0441\\u044f\\u0446\\u0430, \\u0437\\u0430\\u0442\\u0435\\u043c \\u0431\\u044b\\u043b \\u0434\\u043e\\u0441\\u0440\\u043e\\u0447\\u043d\\u043e \\u043e\\u0441\\u0432\\u043e\\u0431\\u043e\\u0436\\u0434\\u0435\\u043d. \\u0412 1998 \\u0433\\u043e\\u0434\\u0443 \\u042d\\u0440\\u0434\\u043e\\u0433\\u0430\\u043d \\u0432\\u0441\\u0442\\u0443\\u043f\\u0438\\u043b \\u0432 \\u041f\\u0430\\u0440\\u0442\\u0438\\u044e \\u0434\\u043e\\u0431\\u0440\\u043e\\u0434\\u0435\\u0442\\u0435\\u043b\\u0438. \\u041f\\u043e\\u0441\\u043b\\u0435 \\u0442\\u043e\\u0433\\u043e \\u043a\\u0430\\u043a \\u0432 2001 \\u0433\\u043e\\u0434\\u0443 \\u043e\\u043d\\u0430 \\u0431\\u044b\\u043b\\u0430 \\u0437\\u0430\\u043f\\u0440\\u0435\\u0449\\u0435\\u043d\\u0430 \\u0438\\u0437-\\u0437\\u0430 \\u043e\\u0431\\u0432\\u0438\\u043d\\u0435\\u043d\\u0438\\u0439 \\u0432 \\u0438\\u0441\\u043f\\u043e\\u043b\\u044c\\u0437\\u043e\\u0432\\u0430\\u043d\\u0438\\u0438 \\u0440\\u0435\\u043b\\u0438\\u0433\\u0438\\u0438 \\u0432 \\u043f\\u043e\\u043b\\u0438\\u0442\\u0438\\u0447\\u0435\\u0441\\u043a\\u0438\\u0445 \\u0446\\u0435\\u043b\\u044f\\u0445 \\u0438 \\u043f\\u043e\\u043f\\u044b\\u0442\\u043a\\u0430\\u0445 \\u0438\\u0441\\u043b\\u0430\\u043c\\u0438\\u0437\\u0430\\u0446\\u0438\\u0438 \\u0422\\u0443\\u0440\\u0446\\u0438\\u0438, \\u042d\\u0440\\u0434\\u043e\\u0433\\u0430\\u043d \\u043e\\u0441\\u043d\\u043e\\u0432\\u0430\\u043b \\u0438 \\u0432\\u043e\\u0437\\u0433\\u043b\\u0430\\u0432\\u0438\\u043b \\u041f\\u0430\\u0440\\u0442\\u0438\\u044e \\u0441\\u043f\\u0440\\u0430\\u0432\\u0435\\u0434\\u043b\\u0438\\u0432\\u043e\\u0441\\u0442\\u0438 \\u0438 \\u0440\\u0430\\u0437\\u0432\\u0438\\u0442\\u0438\\u044f (\\u041f\\u0421\\u0420). \\u041e\\u043d\\u0430 \\u043e\\u0431\\u044a\\u0435\\u0434\\u0438\\u043d\\u0438\\u043b\\u0430 \\u0438\\u0441\\u043b\\u0430\\u043c\\u0441\\u043a\\u0438\\u0445 \\u043a\\u043e\\u043d\\u0441\\u0435\\u0440\\u0432\\u0430\\u0442\\u043e\\u0440\\u043e\\u0432, \\u043f\\u0440\\u0430\\u0432\\u043e\\u0446\\u0435\\u043d\\u0442\\u0440\\u0438\\u0441\\u0442\\u043e\\u0432 \\u0438 \\u043f\\u0440\\u0435\\u0434\\u0441\\u0442\\u0430\\u0432\\u0438\\u0442\\u0435\\u043b\\u0435\\u0439 \\u0431\\u0438\\u0437\\u043d\\u0435\\u0441\\u0430. \\u0412 \\u043d\\u043e\\u044f\\u0431\\u0440\\u0435 2002 \\u0433\\u043e\\u0434\\u0430 \\u041f\\u0421\\u0420 \\u043f\\u043e \\u0438\\u0442\\u043e\\u0433\\u0430\\u043c \\u043f\\u0430\\u0440\\u043b\\u0430\\u043c\\u0435\\u043d\\u0442\\u0441\\u043a\\u0438\\u0445 \\u0432\\u044b\\u0431\\u043e\\u0440\\u043e\\u0432 \\u043d\\u0430\\u0431\\u0440\\u0430\\u043b\\u0430 34,3% \\u0433\\u043e\\u043b\\u043e\\u0441\\u043e\\u0432 \\u0438\\u0437\\u0431\\u0438\\u0440\\u0430\\u0442\\u0435\\u043b\\u0435\\u0439 \\u0438 \\u043f\\u043e\\u043b\\u0443\\u0447\\u0438\\u043b\\u0430 \\u0432\\u043e\\u0437\\u043c\\u043e\\u0436\\u043d\\u043e\\u0441\\u0442\\u044c \\u0441\\u0444\\u043e\\u0440\\u043c\\u0438\\u0440\\u043e\\u0432\\u0430\\u0442\\u044c \\u043f\\u0440\\u0430\\u0432\\u0438\\u0442\\u0435\\u043b\\u044c\\u0441\\u0442\\u0432\\u043e. \\u0412 \\u0441\\u0432\\u044f\\u0437\\u0438 \\u0441 \\u0441\\u0443\\u0434\\u0438\\u043c\\u043e\\u0441\\u0442\\u044c\\u044e \\u042d\\u0440\\u0434\\u043e\\u0433\\u0430\\u043d \\u043d\\u0435 \\u043c\\u043e\\u0433 \\u0431\\u044b\\u0442\\u044c \\u0438\\u0437\\u0431\\u0440\\u0430\\u043d \\u0432 \\u043f\\u0430\\u0440\\u043b\\u0430\\u043c\\u0435\\u043d\\u0442 \\u0438 \\u0432\\u043e\\u0437\\u0433\\u043b\\u0430\\u0432\\u0438\\u0442\\u044c \\u043a\\u0430\\u0431\\u0438\\u043d\\u0435\\u0442 \\u043c\\u0438\\u043d\\u0438\\u0441\\u0442\\u0440\\u043e\\u0432 (\\u043f\\u0440\\u0435\\u043c\\u044c\\u0435\\u0440-\\u043c\\u0438\\u043d\\u0438\\u0441\\u0442\\u0440 \\u0438\\u0437\\u0431\\u0438\\u0440\\u0430\\u043b\\u0441\\u044f \\u0438\\u0437 \\u0447\\u0438\\u0441\\u043b\\u0430 \\u0434\\u0435\\u043f\\u0443\\u0442\\u0430\\u0442\\u043e\\u0432 \\u043f\\u0430\\u0440\\u043b\\u0430\\u043c\\u0435\\u043d\\u0442\\u0430). \\u0412 \\u0438\\u0442\\u043e\\u0433\\u0435 \\u043f\\u0440\\u0430\\u0432\\u0438\\u0442\\u0435\\u043b\\u044c\\u0441\\u0442\\u0432\\u043e \\u0431\\u044b\\u043b\\u043e \\u043f\\u043e\\u0440\\u0443\\u0447\\u0435\\u043d\\u043e \\u0441\\u0444\\u043e\\u0440\\u043c\\u0438\\u0440\\u043e\\u0432\\u0430\\u0442\\u044c \\u0437\\u0430\\u043c\\u0435\\u0441\\u0442\\u0438\\u0442\\u0435\\u043b\\u044e \\u043f\\u0440\\u0435\\u0434\\u0441\\u0435\\u0434\\u0430\\u0442\\u0435\\u043b\\u044f \\u041f\\u0421\\u0420 \\u0410\\u0431\\u0434\\u0443\\u043b\\u043b\\u0430\\u0445\\u0443 \\u0413\\u044e\\u043b\\u044e. \\u042d\\u0440\\u0434\\u043e\\u0433\\u0430\\u043d \\u0441\\u0442\\u0430\\u043b \\u0434\\u0435\\u043f\\u0443\\u0442\\u0430\\u0442\\u043e\\u043c \\u0432 \\u043c\\u0430\\u0440\\u0442\\u0435 2003 \\u0433\\u043e\\u0434\\u0443 \\u043f\\u043e\\u0441\\u043b\\u0435 \\u043e\\u0442\\u043c\\u0435\\u043d\\u044b \\u0437\\u0430\\u043f\\u0440\\u0435\\u0442\\u0430 \\u043d\\u0430 \\u0438\\u0437\\u0431\\u0440\\u0430\\u043d\\u0438\\u0435 \\u0432 \\u0437\\u0430\\u043a\\u043e\\u043d\\u043e\\u0434\\u0430\\u0442\\u0435\\u043b\\u044c\\u043d\\u044b\\u0439 \\u043e\\u0440\\u0433\\u0430\\u043d \\u0440\\u0430\\u043d\\u0435\\u0435 \\u0441\\u0443\\u0434\\u0438\\u043c\\u044b\\u0445 \\u0433\\u0440\\u0430\\u0436\\u0434\\u0430\\u043d. 14 \\u043c\\u0430\\u0440\\u0442\\u0430 2003 \\u0433\\u043e\\u0434\\u0443 \\u042d\\u0440\\u0434\\u043e\\u0433\\u0430\\u043d \\u0431\\u044b\\u043b \\u0443\\u0442\\u0432\\u0435\\u0440\\u0436\\u0434\\u0435\\u043d \\u043f\\u0430\\u0440\\u043b\\u0430\\u043c\\u0435\\u043d\\u0442\\u043e\\u043c \\u043d\\u0430 \\u043f\\u043e\\u0441\\u0442\\u0443 \\u043f\\u0440\\u0435\\u043c\\u044c\\u0435\\u0440-\\u043c\\u0438\\u043d\\u0438\\u0441\\u0442\\u0440\\u0430 (\\u0444\\u0430\\u043a\\u0442\\u0438\\u0447\\u0435\\u0441\\u043a\\u0438 \\u0440\\u0443\\u043a\\u043e\\u0432\\u043e\\u0434\\u0438\\u0442\\u0435\\u043b\\u044c \\u0441\\u0442\\u0440\\u0430\\u043d\\u044b \\u0432 \\u043f\\u0430\\u0440\\u043b\\u0430\\u043c\\u0435\\u043d\\u0442\\u0441\\u043a\\u043e\\u0439 \\u0440\\u0435\\u0441\\u043f\\u0443\\u0431\\u043b\\u0438\\u043a\\u0435). \\u041d\\u0430\\u0445\\u043e\\u0434\\u0438\\u043b\\u0441\\u044f \\u0432 \\u0434\\u043e\\u043b\\u0436\\u043d\\u043e\\u0441\\u0442\\u0438 \\u0434\\u043e 28 \\u0430\\u0432\\u0433\\u0443\\u0441\\u0442\\u0430 2014 \\u0433\\u043e\\u0434\\u0430. \\u0412 \\u044d\\u0442\\u043e\\u0442 \\u043f\\u0435\\u0440\\u0438\\u043e\\u0434 \\u0412\\u0412\\u041f \\u0441\\u0442\\u0440\\u0430\\u043d\\u044b \\u0443\\u0432\\u0435\\u043b\\u0438\\u0447\\u0438\\u043b\\u0441\\u044f \\u0432 2,7 \\u0440\\u0430\\u0437\\u0430 - \\u0441 $303 \\u043c\\u043b\\u0440\\u0434 \\u0434\\u043e $820 \\u043c\\u043b\\u0440\\u0434. \\u0412 2005 \\u0433\\u043e\\u0434\\u0443 \\u0431\\u044b\\u043b\\u0430 \\u043f\\u0440\\u043e\\u0432\\u0435\\u0434\\u0435\\u043d\\u0430 \\u0434\\u0435\\u043d\\u043e\\u043c\\u0438\\u043d\\u0430\\u0446\\u0438\\u044f \\u043d\\u0430\\u0446\\u0438\\u043e\\u043d\\u0430\\u043b\\u044c\\u043d\\u043e\\u0439 \\u0432\\u0430\\u043b\\u044e\\u0442\\u044b - \\u043b\\u0438\\u0440\\u044b, \\u0438\\u043d\\u0444\\u043b\\u044f\\u0446\\u0438\\u044f \\u0441\\u043e\\u043a\\u0440\\u0430\\u0442\\u0438\\u043b\\u0430\\u0441\\u044c \\u0441 45% \\u0432 2003 \\u0433\\u043e\\u0434\\u0443 \\u0434\\u043e 7,5% \\u0432 2013 \\u0433\\u043e\\u0434\\u0443. \\u041d\\u0430 \\u043f\\u043e\\u0441\\u0442\\u0443 \\u043f\\u0440\\u0435\\u043c\\u044c\\u0435\\u0440\\u0430 \\u042d\\u0440\\u0434\\u043e\\u0433\\u0430\\u043d \\u043f\\u0440\\u0435\\u0434\\u043f\\u0440\\u0438\\u043d\\u0438\\u043c\\u0430\\u043b \\u043f\\u043e\\u043f\\u044b\\u0442\\u043a\\u0438 \\u0434\\u043e\\u0431\\u0438\\u0442\\u044c\\u0441\\u044f \\u0443\\u0440\\u0435\\u0433\\u0443\\u043b\\u0438\\u0440\\u043e\\u0432\\u0430\\u043d\\u0438\\u044f \\u043c\\u043d\\u043e\\u0433\\u043e\\u043b\\u0435\\u0442\\u043d\\u0435\\u0433\\u043e \\u0432\\u043e\\u043e\\u0440\\u0443\\u0436\\u0435\\u043d\\u043d\\u043e\\u0433\\u043e \\u043a\\u043e\\u043d\\u0444\\u043b\\u0438\\u043a\\u0442\\u0430 \\u0441 \\u043a\\u0443\\u0440\\u0434\\u0441\\u043a\\u0438\\u043c\\u0438 \\u0441\\u0435\\u043f\\u0430\\u0440\\u0430\\u0442\\u0438\\u0441\\u0442\\u0430\\u043c\\u0438. \\u0412\\u0435\\u0441\\u043d\\u043e\\u0439 2013 \\u0433\\u043e\\u0434\\u0430 \\u0431\\u044b\\u043b \\u0437\\u0430\\u043f\\u0443\\u0449\\u0435\\u043d \\u043c\\u0438\\u0440\\u043d\\u044b\\u0439 \\u043f\\u0440\\u043e\\u0446\\u0435\\u0441\\u0441, \\u043a\\u043e\\u0442\\u043e\\u0440\\u044b\\u0439 \\u043b\\u0435\\u0442\\u043e\\u043c 2015 \\u0433\\u043e\\u0434\\u0430 \\u0431\\u044b\\u043b \\u043f\\u0440\\u0435\\u0440\\u0432\\u0430\\u043d \\u043f\\u043e\\u0441\\u043b\\u0435 \\u0430\\u0442\\u0430\\u043a \\u0412\\u0412\\u0421 \\u0422\\u0443\\u0440\\u0446\\u0438\\u0438 \\u043d\\u0430 \\u0431\\u0430\\u0437\\u044b \\u043a\\u0443\\u0440\\u0434\\u0441\\u043a\\u0438\\u0445 \\u043e\\u0442\\u0440\\u044f\\u0434\\u043e\\u0432. \\u0412 \\u0433\\u043e\\u0434\\u044b \\u043f\\u0440\\u0435\\u043c\\u044c\\u0435\\u0440\\u0441\\u0442\\u0432\\u0430 \\u042d\\u0440\\u0434\\u043e\\u0433\\u0430\\u043d\\u0430 \\u0431\\u044b\\u043b \\u0443\\u0441\\u0438\\u043b\\u0435\\u043d \\u043a\\u043e\\u043d\\u0442\\u0440\\u043e\\u043b\\u044c \\u043d\\u0430\\u0434 \\u0430\\u0440\\u043c\\u0438\\u0435\\u0439 - \\u043d\\u0435\\u0441\\u043a\\u043e\\u043b\\u044c\\u043a\\u043e \\u0441\\u043e\\u0442\\u0435\\u043d \\u0432\\u043e\\u0435\\u043d\\u043d\\u044b\\u0445 \\u0431\\u044b\\u043b\\u0438 \\u0430\\u0440\\u0435\\u0441\\u0442\\u043e\\u0432\\u0430\\u043d\\u044b \\u0438 \\u043e\\u0441\\u0443\\u0436\\u0434\\u0435\\u043d\\u044b \\u043f\\u043e \\u043e\\u0431\\u0432\\u0438\\u043d\\u0435\\u043d\\u0438\\u044e \\u0432 \\u043f\\u043e\\u0434\\u0433\\u043e\\u0442\\u043e\\u0432\\u043a\\u0435 \\u0432\\u043e\\u0435\\u043d\\u043d\\u044b\\u0445 \\u043f\\u0435\\u0440\\u0435\\u0432\\u043e\\u0440\\u043e\\u0442\\u043e\\u0432. \\u041b\\u0435\\u0442\\u043e\\u043c 2013 \\u0433\\u043e\\u0434\\u0430 \\u043f\\u043e\\u043b\\u0438\\u0446\\u0438\\u044f \\u043f\\u043e\\u0434\\u0430\\u0432\\u0438\\u043b\\u0430 \\u0430\\u043d\\u0442\\u0438\\u043f\\u0440\\u0430\\u0432\\u0438\\u0442\\u0435\\u043b\\u044c\\u0441\\u0442\\u0432\\u0435\\u043d\\u043d\\u044b\\u0435 \\u0434\\u0435\\u043c\\u043e\\u043d\\u0441\\u0442\\u0440\\u0430\\u0446\\u0438\\u0438 \\u0432 \\u0421\\u0442\\u0430\\u043c\\u0431\\u0443\\u043b\\u0435 \\u0438 \\u0434\\u0440\\u0443\\u0433\\u0438\\u0445 \\u0440\\u0435\\u0433\\u0438\\u043e\\u043d\\u0430\\u0445 \\u0422\\u0443\\u0440\\u0446\\u0438\\u0438. \\u0422\\u0443\\u0440\\u0435\\u0446\\u043a\\u0438\\u0435 \\u0432\\u043b\\u0430\\u0441\\u0442\\u0438 \\u043d\\u0435\\u043e\\u0434\\u043d\\u043e\\u043a\\u0440\\u0430\\u0442\\u043d\\u043e \\u043f\\u044b\\u0442\\u0430\\u043b\\u0438\\u0441\\u044c \\u0437\\u0430\\u0431\\u043b\\u043e\\u043a\\u0438\\u0440\\u043e\\u0432\\u0430\\u0442\\u044c Twitter, Facebook (\\u0437\\u0430\\u043f\\u0440\\u0435\\u0449\\u0435\\u043d \\u0432 \\u0420\\u0424; \\u043f\\u0440\\u0438\\u043d\\u0430\\u0434\\u043b\\u0435\\u0436\\u0438\\u0442 \\u043a\\u043e\\u0440\\u043f\\u043e\\u0440\\u0430\\u0446\\u0438\\u0438 Meta, \\u043a\\u043e\\u0442\\u043e\\u0440\\u0430\\u044f \\u043f\\u0440\\u0438\\u0437\\u043d\\u0430\\u043d\\u0430 \\u0432 \\u0420\\u0424 \\u044d\\u043a\\u0441\\u0442\\u0440\\u0435\\u043c\\u0438\\u0441\\u0442\\u0441\\u043a\\u043e\\u0439) \\u0438 YouTube. \\u0412 \\u0441\\u0432\\u044f\\u0437\\u0438 \\u0441 \\u044d\\u0442\\u0438\\u043c \\u0432 \\u0430\\u0434\\u0440\\u0435\\u0441 \\u042d\\u0440\\u0434\\u043e\\u0433\\u0430\\u043d\\u0430 \\u0447\\u0430\\u0441\\u0442\\u043e \\u0437\\u0432\\u0443\\u0447\\u0430\\u043b\\u0438 \\u043e\\u0431\\u0432\\u0438\\u043d\\u0435\\u043d\\u0438\\u044f \\u0432 \\u043f\\u043e\\u043f\\u044b\\u0442\\u043a\\u0430\\u0445 \\u043e\\u0433\\u0440\\u0430\\u043d\\u0438\\u0447\\u0438\\u0442\\u044c \\u0441\\u0432\\u043e\\u0431\\u043e\\u0434\\u0443 \\u0441\\u043b\\u043e\\u0432\\u0430 \\u0438 \\u0432 \\u0430\\u0432\\u0442\\u043e\\u0440\\u0438\\u0442\\u0430\\u0440\\u0438\\u0437\\u043c\\u0435. \\u0411\\u0443\\u0434\\u0443\\u0447\\u0438 \\u043f\\u0440\\u0435\\u043c\\u044c\\u0435\\u0440\\u043e\\u043c, \\u042d\\u0440\\u0434\\u043e\\u0433\\u0430\\u043d \\u0432\\u044b\\u0441\\u0442\\u0443\\u043f\\u0430\\u043b \\u0437\\u0430 \\u043f\\u0440\\u0435\\u043e\\u0431\\u0440\\u0430\\u0437\\u043e\\u0432\\u0430\\u043d\\u0438\\u0435 \\u043f\\u0430\\u0440\\u043b\\u0430\\u043c\\u0435\\u043d\\u0442\\u0441\\u043a\\u043e\\u0439 \\u0444\\u043e\\u0440\\u043c\\u044b \\u043f\\u0440\\u0430\\u0432\\u043b\\u0435\\u043d\\u0438\\u044f \\u0432 \\u043f\\u0440\\u0435\\u0437\\u0438\\u0434\\u0435\\u043d\\u0442\\u0441\\u043a\\u0443\\u044e. \\u041f\\u0440\\u0438 \\u043d\\u0435\\u043c \\u0432 2007 \\u0433\\u043e\\u0434\\u0443 \\u0431\\u044b\\u043b\\u0438 \\u0432\\u043d\\u0435\\u0441\\u0435\\u043d\\u044b \\u043f\\u043e\\u043f\\u0440\\u0430\\u0432\\u043a\\u0438 \\u0432 \\u043a\\u043e\\u043d\\u0441\\u0442\\u0438\\u0442\\u0443\\u0446\\u0438\\u044e, \\u043a\\u043e\\u0442\\u043e\\u0440\\u044b\\u0435 \\u043f\\u0440\\u0435\\u0434\\u0443\\u0441\\u043c\\u0430\\u0442\\u0440\\u0438\\u0432\\u0430\\u043b\\u0438 \\u0432\\u044b\\u0431\\u043e\\u0440\\u044b \\u043f\\u0440\\u0435\\u0437\\u0438\\u0434\\u0435\\u043d\\u0442\\u0430 \\u0432\\u0441\\u0435\\u043d\\u0430\\u0440\\u043e\\u0434\\u043d\\u044b\\u043c \\u0433\\u043e\\u043b\\u043e\\u0441\\u043e\\u0432\\u0430\\u043d\\u0438\\u0435\\u043c (\\u0440\\u0430\\u043d\\u0435\\u0435 \\u0438\\u0437\\u0431\\u0438\\u0440\\u0430\\u043b\\u0441\\u044f \\u043f\\u0430\\u0440\\u043b\\u0430\\u043c\\u0435\\u043d\\u0442\\u043e\\u043c). 10 \\u0430\\u0432\\u0433\\u0443\\u0441\\u0442\\u0430 2014 \\u0433\\u043e\\u0434\\u0430 \\u042d\\u0440\\u0434\\u043e\\u0433\\u0430\\u043d \\u043f\\u043e\\u0431\\u0435\\u0434\\u0438\\u043b \\u043d\\u0430 \\u043f\\u0440\\u0435\\u0437\\u0438\\u0434\\u0435\\u043d\\u0442\\u0441\\u043a\\u0438\\u0445 \\u0432\\u044b\\u0431\\u043e\\u0440\\u0430\\u0445 \\u0432 \\u043f\\u0435\\u0440\\u0432\\u043e\\u043c \\u0442\\u0443\\u0440\\u0435, \\u043d\\u0430\\u0431\\u0440\\u0430\\u0432 51,8% \\u0433\\u043e\\u043b\\u043e\\u0441\\u043e\\u0432 (\\u043f\\u0435\\u0440\\u0432\\u044b\\u0435 \\u043f\\u0440\\u044f\\u043c\\u044b\\u0435 \\u0432\\u044b\\u0431\\u043e\\u0440\\u044b \\u043f\\u0440\\u0435\\u0437\\u0438\\u0434\\u0435\\u043d\\u0442\\u0430 \\u0432 \\u0441\\u0442\\u0440\\u0430\\u043d\\u0435). \\u0415\\u0433\\u043e \\u0431\\u043b\\u0438\\u0436\\u0430\\u0439\\u0448\\u0438\\u0439 \\u0441\\u043e\\u043f\\u0435\\u0440\\u043d\\u0438\\u043a \\u042d\\u043a\\u043c\\u0435\\u043b\\u0435\\u0434\\u0434\\u0438\\u043d \\u0418\\u0445\\u0441\\u0430\\u043d\\u043e\\u0433\\u043b\\u0443, \\u0431\\u0430\\u043b\\u043b\\u043e\\u0442\\u0438\\u0440\\u043e\\u0432\\u0430\\u0432\\u0448\\u0438\\u0439\\u0441\\u044f \\u043e\\u0442 \\u0431\\u043b\\u043e\\u043a\\u0430 \\u043e\\u043f\\u043f\\u043e\\u0437\\u0438\\u0446\\u0438\\u043e\\u043d\\u043d\\u044b\\u0445 \\u043f\\u0430\\u0440\\u0442\\u0438\\u0439, \\u043f\\u043e\\u043b\\u0443\\u0447\\u0438\\u043b 38,5%. \\u041d\\u0430 \\u043f\\u043e\\u0441\\u0442\\u0443 \\u0433\\u043b\\u0430\\u0432\\u044b \\u0433\\u043e\\u0441\\u0443\\u0434\\u0430\\u0440\\u0441\\u0442\\u0432\\u0430 \\u042d\\u0440\\u0434\\u043e\\u0433\\u0430\\u043d \\u043f\\u0440\\u043e\\u0434\\u043e\\u043b\\u0436\\u0438\\u043b \\u043f\\u0440\\u043e\\u0432\\u043e\\u0434\\u0438\\u0442\\u044c \\u043f\\u043e\\u043b\\u0438\\u0442\\u0438\\u043a\\u0443, \\u043d\\u0430\\u043f\\u0440\\u0430\\u0432\\u043b\\u0435\\u043d\\u043d\\u0443\\u044e \\u043d\\u0430 \\u0438\\u0441\\u043b\\u0430\\u043c\\u0438\\u0437\\u0430\\u0446\\u0438\\u044e \\u0441\\u0442\\u0440\\u0430\\u043d\\u044b \\u0438 \\u043e\\u0441\\u043b\\u0430\\u0431\\u043b\\u0435\\u043d\\u0438\\u0435 \\u0432\\u043b\\u0438\\u044f\\u043d\\u0438\\u044f \\u0432\\u043e\\u0435\\u043d\\u043d\\u044b\\u0445. \\u042d\\u0442\\u043e \\u043f\\u0440\\u0438\\u0432\\u0435\\u043b\\u043e \\u043a \\u043f\\u043e\\u043f\\u044b\\u0442\\u043a\\u0435 \\u0432\\u043e\\u0435\\u043d\\u043d\\u043e\\u0433\\u043e \\u043f\\u0435\\u0440\\u0435\\u0432\\u043e\\u0440\\u043e\\u0442\\u0430 15 \\u0438\\u044e\\u043b\\u044f 2016 \\u0433\\u043e\\u0434\\u0430. \\u041f\\u0440\\u0438 \\u043f\\u043e\\u0434\\u0434\\u0435\\u0440\\u0436\\u043a\\u0435 \\u043d\\u0430\\u0441\\u0435\\u043b\\u0435\\u043d\\u0438\\u044f \\u0438 \\u043b\\u043e\\u044f\\u043b\\u044c\\u043d\\u044b\\u0445 \\u042d\\u0440\\u0434\\u043e\\u0433\\u0430\\u043d\\u0443 \\u0432\\u043e\\u0435\\u043d\\u043d\\u044b\\u0445 \\u0447\\u0430\\u0441\\u0442\\u0435\\u0439 \\u0438 \\u043f\\u043e\\u043b\\u0438\\u0446\\u0438\\u0438 \\u0432\\u043e\\u0441\\u0441\\u0442\\u0430\\u043d\\u0438\\u0435 \\u0431\\u044b\\u043b\\u043e \\u043f\\u043e\\u0434\\u0430\\u0432\\u043b\\u0435\\u043d\\u043e. \\u041e\\u0442\\u0432\\u0435\\u0442\\u0441\\u0442\\u0432\\u0435\\u043d\\u043d\\u043e\\u0441\\u0442\\u044c \\u0437\\u0430 \\u0435\\u0433\\u043e \\u043e\\u0440\\u0433\\u0430\\u043d\\u0438\\u0437\\u0430\\u0446\\u0438\\u044e \\u043f\\u0440\\u0435\\u0437\\u0438\\u0434\\u0435\\u043d\\u0442 \\u0432\\u043e\\u0437\\u043b\\u043e\\u0436\\u0438\\u043b \\u043d\\u0430 \\u0442\\u0443\\u0440\\u0435\\u0446\\u043a\\u043e\\u0433\\u043e \\u043f\\u0440\\u043e\\u043f\\u043e\\u0432\\u0435\\u0434\\u043d\\u0438\\u043a\\u0430 \\u0424\\u0435\\u0442\\u0445\\u0443\\u043b\\u043b\\u0430\\u0445\\u0430 \\u0413\\u044e\\u043b\\u0435\\u043d\\u0430, \\u043f\\u0440\\u043e\\u0436\\u0438\\u0432\\u0430\\u044e\\u0449\\u0435\\u0433\\u043e \\u0432 \\u0421\\u0428\\u0410 (\\u0413\\u044e\\u043b\\u0435\\u043d \\u0438\\u043c\\u0435\\u0435\\u0442 \\u043c\\u043d\\u043e\\u0433\\u043e \\u043f\\u043e\\u0441\\u043b\\u0435\\u0434\\u043e\\u0432\\u0430\\u0442\\u0435\\u043b\\u0435\\u0439 \\u0441\\u0440\\u0435\\u0434\\u0438 \\u0430\\u0440\\u043c\\u0435\\u0439\\u0441\\u043a\\u0438\\u0445 \\u0438 \\u043f\\u043e\\u043b\\u0438\\u0446\\u0435\\u0439\\u0441\\u043a\\u0438\\u0445 \\u0447\\u0438\\u043d\\u043e\\u0432 \\u0422\\u0443\\u0440\\u0446\\u0438\\u0438). \\u0412 \\u0441\\u0442\\u0440\\u0430\\u043d\\u0435 \\u0431\\u044b\\u043b \\u0432\\u0432\\u0435\\u0434\\u0435\\u043d \\u0440\\u0435\\u0436\\u0438\\u043c \\u0447\\u0440\\u0435\\u0437\\u0432\\u044b\\u0447\\u0430\\u0439\\u043d\\u043e\\u0433\\u043e \\u043f\\u043e\\u043b\\u043e\\u0436\\u0435\\u043d\\u0438\\u044f (\\u0434\\u0435\\u0439\\u0441\\u0442\\u0432\\u043e\\u0432\\u0430\\u043b \\u0434\\u043e 19 \\u0438\\u044e\\u043b\\u044f 2018 \\u0433\\u043e\\u0434\\u0430). \\u041f\\u043e \\u043e\\u0431\\u0432\\u0438\\u043d\\u0435\\u043d\\u0438\\u044e \\u0432 \\u043f\\u0440\\u0438\\u0447\\u0430\\u0441\\u0442\\u043d\\u043e\\u0441\\u0442\\u0438 \\u043a \\u043f\\u0435\\u0440\\u0435\\u0432\\u043e\\u0440\\u043e\\u0442\\u0443 \\u0431\\u044b\\u043b\\u0438 \\u0437\\u0430\\u0434\\u0435\\u0440\\u0436\\u0430\\u043d\\u044b \\u0441\\u0432\\u044b\\u0448\\u0435 13 \\u0442\\u044b\\u0441. \\u0447\\u0435\\u043b\\u043e\\u0432\\u0435\\u043a. \\u041f\\u043e\\u0441\\u043b\\u0435 \\u044d\\u0442\\u043e\\u0433\\u043e \\u043f\\u0440\\u0435\\u0437\\u0438\\u0434\\u0435\\u043d\\u0442 \\u0438\\u0437\\u043c\\u0435\\u043d\\u0438\\u043b \\u0441\\u0438\\u0441\\u0442\\u0435\\u043c\\u0443 \\u0443\\u043f\\u0440\\u0430\\u0432\\u043b\\u0435\\u043d\\u0438\\u044f \\u0432\\u043e\\u043e\\u0440\\u0443\\u0436\\u0435\\u043d\\u043d\\u044b\\u043c\\u0438 \\u0441\\u0438\\u043b\\u0430\\u043c\\u0438, \\u0430 \\u043f\\u043e\\u0437\\u0434\\u043d\\u0435\\u0435 \\u043d\\u0430 \\u0440\\u0435\\u0444\\u0435\\u0440\\u0435\\u043d\\u0434\\u0443\\u043c\\u0435 16 \\u0430\\u043f\\u0440\\u0435\\u043b\\u044f 2017 \\u0433\\u043e\\u0434\\u0430 \\u0431\\u044b\\u043b\\u0438 \\u043e\\u0434\\u043e\\u0431\\u0440\\u0435\\u043d\\u044b \\u043f\\u043e\\u043f\\u0440\\u0430\\u0432\\u043a\\u0438 \\u043a \\u043a\\u043e\\u043d\\u0441\\u0442\\u0438\\u0442\\u0443\\u0446\\u0438\\u0438, \\u043f\\u0440\\u0435\\u0434\\u0443\\u0441\\u043c\\u0430\\u0442\\u0440\\u0438\\u0432\\u0430\\u0432\\u0448\\u0438\\u0435 \\u0443\\u0441\\u0442\\u0430\\u043d\\u043e\\u0432\\u043b\\u0435\\u043d\\u0438\\u0435 \\u043f\\u0440\\u0435\\u0437\\u0438\\u0434\\u0435\\u043d\\u0442\\u0441\\u043a\\u043e\\u0439 \\u0444\\u043e\\u0440\\u043c\\u044b \\u043f\\u0440\\u0430\\u0432\\u043b\\u0435\\u043d\\u0438\\u044f (\\\"\\u0437\\u0430\\\" \\u0432\\u044b\\u0441\\u043a\\u0430\\u0437\\u0430\\u043b\\u0438\\u0441\\u044c 51,41% \\u0438\\u0437\\u0431\\u0438\\u0440\\u0430\\u0442\\u0435\\u043b\\u0435\\u0439 \\u043f\\u0440\\u0438 \\u044f\\u0432\\u043a\\u0435 87,2%). \\u041a\\u0440\\u043e\\u043c\\u0435 \\u0442\\u043e\\u0433\\u043e, \\u0431\\u043b\\u0430\\u0433\\u043e\\u0434\\u0430\\u0440\\u044f \\u044d\\u0442\\u0438\\u043c \\u043f\\u043e\\u043f\\u0440\\u0430\\u0432\\u043a\\u0430\\u043c \\u0432 \\u043c\\u0430\\u0435 2017 \\u0433\\u043e\\u0434\\u0430 \\u042d\\u0440\\u0434\\u043e\\u0433\\u0430\\u043d \\u0432\\u043e\\u0437\\u043e\\u0431\\u043d\\u043e\\u0432\\u0438\\u043b \\u0447\\u043b\\u0435\\u043d\\u0441\\u0442\\u0432\\u043e \\u0432 \\u041f\\u0430\\u0440\\u0442\\u0438\\u0438 \\u0441\\u043f\\u0440\\u0430\\u0432\\u0435\\u0434\\u043b\\u0438\\u0432\\u043e\\u0441\\u0442\\u0438 \\u0438 \\u0440\\u0430\\u0437\\u0432\\u0438\\u0442\\u0438\\u044f \\u0438 \\u0431\\u044b\\u043b \\u0438\\u0437\\u0431\\u0440\\u0430\\u043d \\u0435\\u0435 \\u043f\\u0440\\u0435\\u0434\\u0441\\u0435\\u0434\\u0430\\u0442\\u0435\\u043b\\u0435\\u043c (\\u0440\\u0430\\u043d\\u0435\\u0435 \\u043a\\u043e\\u043d\\u0441\\u0442\\u0438\\u0442\\u0443\\u0446\\u0438\\u044f \\u043d\\u0435 \\u043f\\u043e\\u0437\\u0432\\u043e\\u043b\\u044f\\u043b\\u0430 \\u043b\\u0438\\u0434\\u0435\\u0440\\u0443 \\u0433\\u043e\\u0441\\u0443\\u0434\\u0430\\u0440\\u0441\\u0442\\u0432\\u0430 \\u0431\\u044b\\u0442\\u044c \\u0447\\u043b\\u0435\\u043d\\u043e\\u043c \\u043a\\u0430\\u043a\\u043e\\u0439-\\u043b\\u0438\\u0431\\u043e \\u043f\\u0430\\u0440\\u0442\\u0438\\u0438; \\u0447\\u043b\\u0435\\u043d\\u0441\\u0442\\u0432\\u043e \\u042d\\u0440\\u0434\\u043e\\u0433\\u0430\\u043d\\u0430 \\u0432 \\u041f\\u0421\\u0420 \\u0431\\u044b\\u043b\\u043e \\u043f\\u0440\\u0438\\u043e\\u0441\\u0442\\u0430\\u043d\\u043e\\u0432\\u043b\\u0435\\u043d\\u043e \\u0432 \\u0430\\u0432\\u0433\\u0443\\u0441\\u0442\\u0435 2014 \\u0433\\u043e\\u0434\\u0430). 24 \\u0438\\u044e\\u043d\\u044f 2018 \\u0433\\u043e\\u0434\\u0430 \\u042d\\u0440\\u0434\\u043e\\u0433\\u0430\\u043d \\u0431\\u044b\\u043b \\u043f\\u0435\\u0440\\u0435\\u0438\\u0437\\u0431\\u0440\\u0430\\u043d \\u043d\\u0430 \\u0432\\u0442\\u043e\\u0440\\u043e\\u0439 \\u0441\\u0440\\u043e\\u043a, \\u043d\\u0430\\u0431\\u0440\\u0430\\u0432 52,59% \\u0433\\u043e\\u043b\\u043e\\u0441\\u043e\\u0432 \\u0432 \\u043f\\u0435\\u0440\\u0432\\u043e\\u043c \\u0442\\u0443\\u0440\\u0435 (\\u0435\\u0433\\u043e \\u0431\\u043b\\u0438\\u0436\\u0430\\u0439\\u0448\\u0438\\u0439 \\u043a\\u043e\\u043d\\u043a\\u0443\\u0440\\u0435\\u043d\\u0442 \\u041c\\u0443\\u0445\\u0430\\u0440\\u0440\\u0435\\u043c \\u0418\\u043d\\u0434\\u0436\\u0435 \\u043e\\u0442 \\u043e\\u0441\\u043d\\u043e\\u0432\\u043d\\u043e\\u0439 \\u043e\\u043f\\u043f\\u043e\\u0437\\u0438\\u0446\\u0438\\u043e\\u043d\\u043d\\u043e\\u0439 \\u041d\\u0430\\u0440\\u043e\\u0434\\u043d\\u043e-\\u0440\\u0435\\u0441\\u043f\\u0443\\u0431\\u043b\\u0438\\u043a\\u0430\\u043d\\u0441\\u043a\\u043e\\u0439 \\u043f\\u0430\\u0440\\u0442\\u0438\\u0438 \\u043f\\u043e\\u043b\\u0443\\u0447\\u0438\\u043b 30,64% \\u0433\\u043e\\u043b\\u043e\\u0441\\u043e\\u0432). \\u0412\\u0441\\u0442\\u0443\\u043f\\u0438\\u043b \\u0432 \\u0434\\u043e\\u043b\\u0436\\u043d\\u043e\\u0441\\u0442\\u044c 9 \\u0438\\u044e\\u043b\\u044f 2018 \\u0433\\u043e\\u0434\\u0430. \\u0412 \\u043f\\u0435\\u0440\\u0438\\u043e\\u0434 \\u043f\\u0440\\u0435\\u0437\\u0438\\u0434\\u0435\\u043d\\u0442\\u0441\\u0442\\u0432\\u0430 \\u042d\\u0440\\u0434\\u043e\\u0433\\u0430\\u043d\\u0430 \\u0410\\u043d\\u043a\\u0430\\u0440\\u0430 \\u0437\\u0430\\u043d\\u044f\\u043b\\u0430 \\u0436\\u0435\\u0441\\u0442\\u043a\\u0443\\u044e \\u043f\\u043e\\u0437\\u0438\\u0446\\u0438\\u044e \\u0432 \\u043a\\u0443\\u0440\\u0434\\u0441\\u043a\\u043e\\u043c \\u0432\\u043e\\u043f\\u0440\\u043e\\u0441\\u0435. \\u0412 \\u0434\\u0435\\u043a\\u0430\\u0431\\u0440\\u0435 2015 \\u0433\\u043e\\u0434\\u0430 - \\u0444\\u0435\\u0432\\u0440\\u0430\\u043b\\u0435 2016 \\u0433\\u043e\\u0434\\u0430 \\u0442\\u0443\\u0440\\u0435\\u0446\\u043a\\u043e\\u0439 \\u0430\\u0440\\u043c\\u0438\\u0435\\u0439 \\u0431\\u044b\\u043b\\u0430 \\u043e\\u0441\\u0443\\u0449\\u0435\\u0441\\u0442\\u0432\\u043b\\u0435\\u043d\\u0430 \\u0448\\u0438\\u0440\\u043e\\u043a\\u043e\\u043c\\u0430\\u0441\\u0448\\u0442\\u0430\\u0431\\u043d\\u0430\\u044f \\u043e\\u043f\\u0435\\u0440\\u0430\\u0446\\u0438\\u044f \\u043f\\u0440\\u043e\\u0442\\u0438\\u0432 \\u0420\\u0430\\u0431\\u043e\\u0447\\u0435\\u0439 \\u043f\\u0430\\u0440\\u0442\\u0438\\u0438 \\u041a\\u0443\\u0440\\u0434\\u0438\\u0441\\u0442\\u0430\\u043d\\u0430 \\u043d\\u0430 \\u0433\\u0440\\u0430\\u043d\\u0438\\u0446\\u0435 \\u0441 \\u0421\\u0438\\u0440\\u0438\\u0435\\u0439 \\u0438 \\u0418\\u0440\\u0430\\u043a\\u043e\\u043c \\u0432 \\u0433\\u043e\\u0440\\u043e\\u0434\\u0430\\u0445 \\u0414\\u0436\\u0438\\u0437\\u0440\\u0435 \\u0438 \\u0421\\u0438\\u043b\\u043e\\u043f\\u0438. \\u0410\\u043d\\u043a\\u0430\\u0440\\u0430 \\u043f\\u0440\\u043e\\u0432\\u0435\\u043b\\u0430 \\u043d\\u0430 \\u0442\\u0435\\u0440\\u0440\\u0438\\u0442\\u043e\\u0440\\u0438\\u0438 \\u0421\\u0438\\u0440\\u0438\\u0438 \\u043f\\u0440\\u043e\\u0442\\u0438\\u0432 \\\"\\u0442\\u0435\\u0440\\u0440\\u043e\\u0440\\u0438\\u0441\\u0442\\u0438\\u0447\\u0435\\u0441\\u043a\\u0438\\u0445 \\u0433\\u0440\\u0443\\u043f\\u043f \\u0441\\u0438\\u0440\\u0438\\u0439\\u0441\\u043a\\u0438\\u0445 \\u043a\\u0443\\u0440\\u0434\\u043e\\u0432, \\u0443\\u0433\\u0440\\u043e\\u0436\\u0430\\u044e\\u0449\\u0438\\u0445 \\u0422\\u0443\\u0440\\u0446\\u0438\\u0438\\\", \\u0442\\u0440\\u0438 \\u0432\\u043e\\u0435\\u043d\\u043d\\u044b\\u0435 \\u043e\\u043f\\u0435\\u0440\\u0430\\u0446\\u0438\\u0438 - \\\"\\u0429\\u0438\\u0442 \\u0415\\u0432\\u0444\\u0440\\u0430\\u0442\\u0430\\\" (2016-2017), \\\"\\u041e\\u043b\\u0438\\u0432\\u043a\\u043e\\u0432\\u0430\\u044f \\u0432\\u0435\\u0442\\u0432\\u044c\\\" (2018) \\u0438 \\\"\\u0418\\u0441\\u0442\\u043e\\u0447\\u043d\\u0438\\u043a \\u043c\\u0438\\u0440\\u0430\\\" (2019). \\u0412 \\u0440\\u0435\\u0437\\u0443\\u043b\\u044c\\u0442\\u0430\\u0442\\u0435 \\u0443\\u0447\\u0430\\u0441\\u0442\\u043e\\u043a \\u0442\\u0443\\u0440\\u0435\\u0446\\u043a\\u043e-\\u0441\\u0438\\u0440\\u0438\\u0439\\u0441\\u043a\\u043e\\u0439 \\u0433\\u0440\\u0430\\u043d\\u0438\\u0446\\u044b \\u043c\\u0435\\u0436\\u0434\\u0443 \\u0433\\u043e\\u0440\\u043e\\u0434\\u0430\\u043c\\u0438 \\u0410\\u0430\\u0437\\u0430\\u0437 \\u0438 \\u0414\\u0436\\u0435\\u0440\\u0430\\u0431\\u043b\\u0443\\u0441, \\u0430 \\u0442\\u0430\\u043a\\u0436\\u0435 \\u0440\\u0430\\u0439\\u043e\\u043d, \\u043f\\u0440\\u0438\\u043b\\u0435\\u0433\\u0430\\u044e\\u0449\\u0438\\u0439 \\u043a \\u0433\\u043e\\u0440\\u043e\\u0434\\u0443 \\u0410\\u0444\\u0440\\u0438\\u043d, \\u043f\\u0435\\u0440\\u0435\\u0448\\u043b\\u0438 \\u043f\\u043e\\u0434 \\u043a\\u043e\\u043d\\u0442\\u0440\\u043e\\u043b\\u044c \\u0442\\u0443\\u0440\\u0435\\u0446\\u043a\\u0438\\u0445 \\u0432\\u043e\\u0435\\u043d\\u043d\\u044b\\u0445. \\u041e\\u0441\\u043d\\u043e\\u0432\\u043d\\u043e\\u0439 \\u0446\\u0435\\u043b\\u044c\\u044e \\u0432\\u043d\\u0435\\u0448\\u043d\\u0435\\u0439 \\u043f\\u043e\\u043b\\u0438\\u0442\\u0438\\u043a\\u0438 \\u042d\\u0440\\u0434\\u043e\\u0433\\u0430\\u043d\\u0430 \\u0431\\u044b\\u043b\\u0430 \\u0437\\u0430\\u044f\\u0432\\u043b\\u0435\\u043d\\u0430 \\u0438\\u043d\\u0442\\u0435\\u0433\\u0440\\u0430\\u0446\\u0438\\u044f \\u0422\\u0443\\u0440\\u0446\\u0438\\u0438 \\u0432 \\u0415\\u0432\\u0440\\u043e\\u0441\\u043e\\u044e\\u0437 (\\u0437\\u0430\\u044f\\u0432\\u043a\\u0430 \\u043d\\u0430 \\u0432\\u0441\\u0442\\u0443\\u043f\\u043b\\u0435\\u043d\\u0438\\u0435 \\u0431\\u044b\\u043b\\u0430 \\u043f\\u043e\\u0434\\u0430\\u043d\\u0430 \\u0432 1987 \\u0433\\u043e\\u0434\\u0443, \\u0430 \\u0441\\u0442\\u0430\\u0442\\u0443\\u0441 \\u043a\\u0430\\u043d\\u0434\\u0438\\u0434\\u0430\\u0442\\u0430 \\u0441\\u0442\\u0440\\u0430\\u043d\\u0430 \\u043f\\u043e\\u043b\\u0443\\u0447\\u0438\\u043b\\u0430 \\u0435\\u0449\\u0435 \\u0432 1999 \\u0433\\u043e\\u0434\\u0443). \\u041e\\u0434\\u043d\\u0430\\u043a\\u043e \\u0415\\u0432\\u0440\\u043e\\u043f\\u0430 \\u0432\\u044b\\u0434\\u0432\\u0438\\u0433\\u0430\\u043b\\u0430 \\u043f\\u0440\\u0435\\u0442\\u0435\\u043d\\u0437\\u0438\\u0438 \\u043a \\u0410\\u043d\\u043a\\u0430\\u0440\\u0435 \\u0432 \\u0441\\u0444\\u0435\\u0440\\u0435 \\u043f\\u0440\\u0430\\u0432 \\u0447\\u0435\\u043b\\u043e\\u0432\\u0435\\u043a\\u0430 \\u0438 \\u0441\\u0432\\u043e\\u0431\\u043e\\u0434\\u044b \\u0432\\u044b\\u0440\\u0430\\u0436\\u0435\\u043d\\u0438\\u044f \\u043c\\u043d\\u0435\\u043d\\u0438\\u0439, \\u043f\\u0440\\u0435\\u0441\\u043b\\u0435\\u0434\\u043e\\u0432\\u0430\\u043d\\u0438\\u044f \\u0436\\u0443\\u0440\\u043d\\u0430\\u043b\\u0438\\u0441\\u0442\\u043e\\u0432, \\u043f\\u0440\\u0430\\u0432\\u043e\\u0437\\u0430\\u0449\\u0438\\u0442\\u043d\\u0438\\u043a\\u043e\\u0432 \\u0438 \\u0443\\u0447\\u0435\\u043d\\u044b\\u0445. \\u0412 2017 \\u0433\\u043e\\u0434\\u0443 \\u042d\\u0440\\u0434\\u043e\\u0433\\u0430\\u043d \\u0437\\u0430\\u044f\\u0432\\u0438\\u043b, \\u0447\\u0442\\u043e \\u0422\\u0443\\u0440\\u0446\\u0438\\u044f \\u0431\\u043e\\u043b\\u044c\\u0448\\u0435 \\u043d\\u0435 \\u043d\\u0443\\u0436\\u0434\\u0430\\u0435\\u0442\\u0441\\u044f \\u0432 \\u0447\\u043b\\u0435\\u043d\\u0441\\u0442\\u0432\\u0435 \\u0432 \\u0415\\u0421, \\u043d\\u043e \\u043f\\u0435\\u0440\\u0435\\u0433\\u043e\\u0432\\u043e\\u0440\\u044b \\u0432\\u0441\\u0435 \\u0440\\u0430\\u0432\\u043d\\u043e \\u043f\\u0440\\u043e\\u0434\\u043e\\u043b\\u0436\\u0430\\u0442\\u0441\\u044f (\\u043f\\u0440\\u043e\\u0446\\u0435\\u0441\\u0441 \\u0431\\u044b\\u043b \\u0437\\u0430\\u043f\\u0443\\u0449\\u0435\\u043d \\u0432 2005 \\u0433\\u043e\\u0434\\u0443). \\u0412\\u0442\\u043e\\u0440\\u043e\\u0439 \\u0441\\u0440\\u043e\\u043a \\u043f\\u0440\\u0435\\u0437\\u0438\\u0434\\u0435\\u043d\\u0442\\u0441\\u0442\\u0432\\u0430 \\u042d\\u0440\\u0434\\u043e\\u0433\\u0430\\u043d\\u0430 \\u0445\\u0430\\u0440\\u0430\\u043a\\u0442\\u0435\\u0440\\u0438\\u0437\\u043e\\u0432\\u0430\\u043b\\u0441\\u044f \\u043d\\u0430\\u043f\\u0440\\u044f\\u0436\\u0435\\u043d\\u043d\\u043e\\u0441\\u0442\\u044c\\u044e \\u0432 \\u043e\\u0442\\u043d\\u043e\\u0448\\u0435\\u043d\\u0438\\u044f\\u0445 \\u0410\\u043d\\u043a\\u0430\\u0440\\u044b \\u0441 \\u0437\\u0430\\u043f\\u0430\\u0434\\u043d\\u044b\\u043c\\u0438 \\u0441\\u0442\\u0440\\u0430\\u043d\\u0430\\u043c\\u0438. \\u0422\\u0430\\u043a, \\u0432 2019 \\u0433\\u043e\\u0434\\u0443 \\u0421\\u0428\\u0410 \\u043f\\u0440\\u0438\\u043e\\u0441\\u0442\\u0430\\u043d\\u043e\\u0432\\u0438\\u043b\\u0438 \\u0443\\u0447\\u0430\\u0441\\u0442\\u0438\\u0435 \\u0422\\u0443\\u0440\\u0446\\u0438\\u0438 \\u0432 \\u043f\\u0440\\u043e\\u0433\\u0440\\u0430\\u043c\\u043c\\u0435 \\u0441\\u043e\\u0437\\u0434\\u0430\\u043d\\u0438\\u044f \\u0438\\u0441\\u0442\\u0440\\u0435\\u0431\\u0438\\u0442\\u0435\\u043b\\u044f Joint Strike Fighter \\u0438\\u0437-\\u0437\\u0430 \\u043f\\u043e\\u043a\\u0443\\u043f\\u043a\\u0438 \\u0442\\u0443\\u0440\\u0435\\u0446\\u043a\\u043e\\u0439 \\u0441\\u0442\\u043e\\u0440\\u043e\\u043d\\u043e\\u0439 \\u0440\\u043e\\u0441\\u0441\\u0438\\u0439\\u0441\\u043a\\u0438\\u0445 \\u0437\\u0435\\u043d\\u0438\\u0442\\u043d\\u044b\\u0445 \\u0440\\u0430\\u043a\\u0435\\u0442\\u043d\\u044b\\u0445 \\u0441\\u0438\\u0441\\u0442\\u0435\\u043c (\\u0417\\u0420\\u0421) \\u0421-400 \\\"\\u0422\\u0440\\u0438\\u0443\\u043c\\u0444\\\" (\\u043a\\u043e\\u043d\\u0442\\u0440\\u0430\\u043a\\u0442 \\u0431\\u044b\\u043b \\u043f\\u043e\\u0434\\u043f\\u0438\\u0441\\u0430\\u043d \\u0432 2017 \\u0433\\u043e\\u0434\\u0443, \\u0432\\u0442\\u043e\\u0440\\u043e\\u0439 - \\u0432 2020 \\u0433\\u043e\\u0434\\u0443). \\u0412 2019-2020 \\u0433\\u043e\\u0434\\u0430\\u0445 \\u0421\\u0428\\u0410 \\u0432\\u0432\\u0435\\u043b\\u0438 \\u0441\\u0430\\u043d\\u043a\\u0446\\u0438\\u0438 \\u0432 \\u043e\\u0442\\u043d\\u043e\\u0448\\u0435\\u043d\\u0438\\u0438 \\u0442\\u0443\\u0440\\u0435\\u0446\\u043a\\u0438\\u0445 \\u0433\\u043e\\u0441\\u0443\\u0447\\u0440\\u0435\\u0436\\u0434\\u0435\\u043d\\u0438\\u0439 \\u0438 \\u0433\\u043e\\u0441\\u0441\\u043b\\u0443\\u0436\\u0430\\u0449\\u0438\\u0445 (\\u0432 \\u0447\\u0430\\u0441\\u0442\\u043d\\u043e\\u0441\\u0442\\u0438, \\u0432 \\u043e\\u0442\\u043d\\u043e\\u0448\\u0435\\u043d\\u0438\\u0438 \\u041c\\u0438\\u043d\\u0438\\u0441\\u0442\\u0435\\u0440\\u0441\\u0442\\u0432\\u0430 \\u043d\\u0430\\u0446\\u0438\\u043e\\u043d\\u0430\\u043b\\u044c\\u043d\\u043e\\u0439 \\u043e\\u0431\\u043e\\u0440\\u043e\\u043d\\u044b \\u0422\\u0443\\u0440\\u0446\\u0438\\u0438 \\u0438 \\u0435\\u0433\\u043e \\u0433\\u043b\\u0430\\u0432\\u044b \\u0425\\u0443\\u043b\\u0443\\u0441\\u0438 \\u0410\\u043a\\u0430\\u0440\\u0430, \\u0423\\u043f\\u0440\\u0430\\u0432\\u043b\\u0435\\u043d\\u0438\\u044f \\u043e\\u0431\\u043e\\u0440\\u043e\\u043d\\u043d\\u043e\\u0439 \\u043f\\u0440\\u043e\\u043c\\u044b\\u0448\\u043b\\u0435\\u043d\\u043d\\u043e\\u0441\\u0442\\u0438 \\u0422\\u0443\\u0440\\u0446\\u0438\\u0438 \\u0438 \\u0435\\u0433\\u043e \\u0440\\u0443\\u043a\\u043e\\u0432\\u043e\\u0434\\u0438\\u0442\\u0435\\u043b\\u044f \\u0418\\u0441\\u043c\\u0430\\u0438\\u043b\\u0430 \\u0414\\u0435\\u043c\\u0438\\u0440\\u0430) \\u0438\\u0437-\\u0437\\u0430 \\u043f\\u0440\\u043e\\u0432\\u0435\\u0434\\u0435\\u043d\\u0438\\u044f \\u0410\\u043d\\u043a\\u0430\\u0440\\u043e\\u0439 \\u0432\\u043e\\u0435\\u043d\\u043d\\u043e\\u0439 \\u043e\\u043f\\u0435\\u0440\\u0430\\u0446\\u0438\\u0438 \\u0432 \\u0421\\u0438\\u0440\\u0438\\u0438 \\\"\\u0418\\u0441\\u0442\\u043e\\u0447\\u043d\\u0438\\u043a \\u043c\\u0438\\u0440\\u0430\\\" \\u0438 \\u043f\\u043e\\u043a\\u0443\\u043f\\u043a\\u0438 \\u0440\\u043e\\u0441\\u0441\\u0438\\u0439\\u0441\\u043a\\u043e\\u0439 \\u0417\\u0420\\u0421 \\u0421-400. \\u042d\\u0440\\u0434\\u043e\\u0433\\u0430\\u043d \\u0441 1978 \\u0433\\u043e\\u0434\\u0430 \\u0436\\u0435\\u043d\\u0430\\u0442 \\u043d\\u0430 \\u042d\\u043c\\u0438\\u043d\\u0435 (\\u0443\\u0440\\u043e\\u0436\\u0434\\u0435\\u043d\\u043d\\u043e\\u0439 \\u0413\\u044e\\u043b\\u0431\\u0430\\u0440\\u0430\\u043d), \\u043e\\u043d\\u0430 \\u0437\\u0430\\u043d\\u0438\\u043c\\u0430\\u0435\\u0442\\u0441\\u044f \\u0437\\u0430\\u0449\\u0438\\u0442\\u043e\\u0439 \\u043f\\u0440\\u0430\\u0432 \\u0436\\u0435\\u043d\\u0449\\u0438\\u043d \\u0438 \\u0431\\u043b\\u0430\\u0433\\u043e\\u0442\\u0432\\u043e\\u0440\\u0438\\u0442\\u0435\\u043b\\u044c\\u043d\\u043e\\u0441\\u0442\\u044c\\u044e. \\u0415\\u0435 \\u0434\\u0435\\u044f\\u0442\\u0435\\u043b\\u044c\\u043d\\u043e\\u0441\\u0442\\u044c \\u043f\\u043e \\u043e\\u043a\\u0430\\u0437\\u0430\\u043d\\u0438\\u044e \\u043f\\u043e\\u043c\\u043e\\u0449\\u0438 \\u043f\\u043e\\u0441\\u0442\\u0440\\u0430\\u0434\\u0430\\u0432\\u0448\\u0438\\u043c \\u0432\\u043e \\u0432\\u0440\\u0435\\u043c\\u044f \\u043d\\u0430\\u0432\\u043e\\u0434\\u043d\\u0435\\u043d\\u0438\\u044f \\u0432 \\u041f\\u0430\\u043a\\u0438\\u0441\\u0442\\u0430\\u043d\\u0435 \\u0432 2010 \\u0433\\u043e\\u0434\\u0443 \\u043e\\u0442\\u043c\\u0435\\u0447\\u0435\\u043d\\u0430 \\u043e\\u0440\\u0434\\u0435\\u043d\\u043e\\u043c Hilal-e-Pakistan. \\u0423 \\u0441\\u0443\\u043f\\u0440\\u0443\\u0433\\u043e\\u0432 \\u0447\\u0435\\u0442\\u0432\\u0435\\u0440\\u043e \\u0434\\u0435\\u0442\\u0435\\u0439. \\u042d\\u0440\\u0434\\u043e\\u0433\\u0430\\u043d \\u0432\\u043b\\u0430\\u0434\\u0435\\u0435\\u0442 \\u0430\\u043d\\u0433\\u043b\\u0438\\u0439\\u0441\\u043a\\u0438\\u043c \\u0438 \\u0430\\u0440\\u0430\\u0431\\u0441\\u043a\\u0438\\u043c \\u044f\\u0437\\u044b\\u043a\\u0430\\u043c\\u0438. \\u041e\\u043d \\u0438\\u043c\\u0435\\u0435\\u0442 \\u043d\\u0430\\u0433\\u0440\\u0430\\u0434\\u044b \\u043d\\u0435\\u0441\\u043a\\u043e\\u043b\\u044c\\u043a\\u0438\\u0445 \\u0438\\u043d\\u043e\\u0441\\u0442\\u0440\\u0430\\u043d\\u043d\\u044b\\u0445 \\u0433\\u043e\\u0441\\u0443\\u0434\\u0430\\u0440\\u0441\\u0442\\u0432, \\u0441\\u0440\\u0435\\u0434\\u0438 \\u043d\\u0438\\u0445 \\u043e\\u0440\\u0434\\u0435\\u043d \\\"\\u041d\\u0438\\u0448\\u0430\\u043d-\\u0438-\\u041f\\u0430\\u043a\\u0438\\u0441\\u0442\\u0430\\u043d\\\" (\\u041f\\u0430\\u043a\\u0438\\u0441\\u0442\\u0430\\u043d, 2009), \\u043e\\u0440\\u0434\\u0435\\u043d \\\"\\u0417\\u043e\\u043b\\u043e\\u0442\\u043e\\u0435 \\u0440\\u0443\\u043d\\u043e\\\" (\\u0413\\u0440\\u0443\\u0437\\u0438\\u044f, 2010) \\u0438 \\u043e\\u0440\\u0434\\u0435\\u043d \\\"\\u0414\\u0430\\u043d\\u0430\\u043a\\u0435\\u0440\\\" (\\u041a\\u0438\\u0440\\u0433\\u0438\\u0437\\u0438\\u044f, 2011). \\u041d\\u0430\\u0433\\u0440\\u0430\\u0436\\u0434\\u0435\\u043d \\u043f\\u0440\\u0435\\u043c\\u0438\\u0435\\u0439 \\u0437\\u0430 \\u0443\\u0447\\u0430\\u0441\\u0442\\u0438\\u0435 \\u0432 \\u0440\\u0430\\u0431\\u043e\\u0442\\u0435 \\u041f\\u0440\\u043e\\u0433\\u0440\\u0430\\u043c\\u043c\\u044b \\u041e\\u041e\\u041d \\u043f\\u043e \\u043d\\u0430\\u0441\\u0435\\u043b\\u0435\\u043d\\u043d\\u044b\\u043c \\u043f\\u0443\\u043d\\u043a\\u0442\\u0430\\u043c (\\u041e\\u041e\\u041d-\\u0425\\u0430\\u0431\\u0438\\u0442\\u0430\\u0442, 2010). \\u0412 2005, 2010, 2016, 2017 \\u0433\\u043e\\u0434\\u0430\\u0445 \\u0436\\u0443\\u0440\\u043d\\u0430\\u043b Time \\u0432\\u043a\\u043b\\u044e\\u0447\\u0430\\u043b \\u0435\\u0433\\u043e \\u0432 \\u0441\\u043f\\u0438\\u0441\\u043e\\u043a \\u0441\\u0430\\u043c\\u044b\\u0445 \\u0432\\u043b\\u0438\\u044f\\u0442\\u0435\\u043b\\u044c\\u043d\\u044b\\u0445 \\u043b\\u044e\\u0434\\u0435\\u0439 \\u0432 \\u043c\\u0438\\u0440\\u0435. \\u0412 2022 \\u0433\\u043e\\u0434\\u0443 \\u043f\\u043e\\u043b\\u0443\\u0447\\u0438\\u043b \\u0412\\u044b\\u0441\\u0448\\u0438\\u0439 \\u043e\\u0440\\u0434\\u0435\\u043d \\u0442\\u044e\\u0440\\u043a\\u0441\\u043a\\u043e\\u0433\\u043e \\u043c\\u0438\\u0440\\u0430 (\\u0432\\u044b\\u0441\\u0448\\u0430\\u044f \\u043d\\u0430\\u0433\\u0440\\u0430\\u0434\\u0430 \\u041e\\u0440\\u0433\\u0430\\u043d\\u0438\\u0437\\u0430\\u0446\\u0438\\u0438 \\u0442\\u044e\\u0440\\u043a\\u0441\\u043a\\u0438\\u0445 \\u0433\\u043e\\u0441\\u0443\\u0434\\u0430\\u0440\\u0441\\u0442\\u0432). \",\n          \"\\u041f\\u0440\\u0435\\u0437\\u0438\\u0434\\u0435\\u043d\\u0442 \\u0420\\u043e\\u0441\\u0441\\u0438\\u0438 \\u0412\\u043b\\u0430\\u0434\\u0438\\u043c\\u0438\\u0440 \\u041f\\u0443\\u0442\\u0438\\u043d \\u043f\\u0440\\u0438\\u043d\\u044f\\u043b \\u0443\\u0447\\u0430\\u0441\\u0442\\u0438\\u0435 \\u0432 \\u0422\\u0440\\u0435\\u0442\\u044c\\u0435\\u043c \\u0444\\u043e\\u0440\\u0443\\u043c\\u0435 \\u043c\\u0435\\u0436\\u0434\\u0443\\u043d\\u0430\\u0440\\u043e\\u0434\\u043d\\u043e\\u0433\\u043e \\u0441\\u043e\\u0442\\u0440\\u0443\\u0434\\u043d\\u0438\\u0447\\u0435\\u0441\\u0442\\u0432\\u0430 \\\"\\u041e\\u0434\\u0438\\u043d \\u043f\\u043e\\u044f\\u0441 \\u2014 \\u043e\\u0434\\u0438\\u043d \\u043f\\u0443\\u0442\\u044c\\\" (\\\"\\u041f\\u043e\\u044f\\u0441 \\u0438 \\u043f\\u0443\\u0442\\u044c\\\"), \\u0441\\u043e\\u0441\\u0442\\u043e\\u044f\\u0432\\u0448\\u0435\\u043c\\u0441\\u044f \\u0432 \\u041f\\u0435\\u043a\\u0438\\u043d\\u0435 17 \\u0438 18 \\u043e\\u043a\\u0442\\u044f\\u0431\\u0440\\u044f. \\u0412 \\u0441\\u0430\\u043c\\u043c\\u0438\\u0442\\u0435 \\u043f\\u0440\\u0438\\u043d\\u044f\\u043b\\u0438 \\u0443\\u0447\\u0430\\u0441\\u0442\\u0438\\u0435 \\u043f\\u0440\\u0435\\u0434\\u0441\\u0442\\u0430\\u0432\\u0438\\u0442\\u0435\\u043b\\u0438 \\u0431\\u043e\\u043b\\u0435\\u0435 140 \\u0441\\u0442\\u0440\\u0430\\u043d \\u0438 30 \\u043c\\u0435\\u0436\\u0434\\u0443\\u043d\\u0430\\u0440\\u043e\\u0434\\u043d\\u044b\\u0445 \\u043e\\u0440\\u0433\\u0430\\u043d\\u0438\\u0437\\u0430\\u0446\\u0438\\u0439. \\u0412 \\u0440\\u0430\\u043c\\u043a\\u0430\\u0445 \\u043c\\u0435\\u0436\\u0434\\u0443\\u043d\\u0430\\u0440\\u043e\\u0434\\u043d\\u043e\\u0439 \\u0432\\u0441\\u0442\\u0440\\u0435\\u0447\\u0438 \\u0441\\u043e\\u0441\\u0442\\u043e\\u044f\\u043b\\u0438\\u0441\\u044c \\u043f\\u0435\\u0440\\u0435\\u0433\\u043e\\u0432\\u043e\\u0440\\u044b \\u0440\\u043e\\u0441\\u0441\\u0438\\u0439\\u0441\\u043a\\u043e\\u0433\\u043e \\u043b\\u0438\\u0434\\u0435\\u0440\\u0430 \\u0438 \\u043f\\u0440\\u0435\\u0434\\u0441\\u0435\\u0434\\u0430\\u0442\\u0435\\u043b\\u044f \\u041a\\u041d\\u0420 \\u0421\\u0438 \\u0426\\u0437\\u0438\\u043d\\u044c\\u043f\\u0438\\u043d\\u0430. \\u0420\\u0435\\u0430\\u043a\\u0446\\u0438\\u044f \\u043c\\u0438\\u0440\\u043e\\u0432\\u044b\\u0445 \\u0421\\u041c\\u0418 \\u043d\\u0430 \\u043f\\u0440\\u043e\\u0434\\u043e\\u043b\\u0436\\u0430\\u044e\\u0449\\u0435\\u0435\\u0441\\u044f \\u0441\\u0431\\u043b\\u0438\\u0436\\u0435\\u043d\\u0438\\u0435 \\u043d\\u0430\\u0448\\u0435\\u0439 \\u0441\\u0442\\u0440\\u0430\\u043d\\u044b \\u0438 \\u041a\\u0438\\u0442\\u0430\\u044f \\u2014 \\u0432 \\u043f\\u043e\\u0434\\u0431\\u043e\\u0440\\u043a\\u0435 \\u0422\\u0410\\u0421\\u0421. Global Times: \\\"\\u0412\\u0430\\u0436\\u043d\\u0435\\u0439\\u0448\\u0435\\u0435 \\u0437\\u043d\\u0430\\u0447\\u0435\\u043d\\u0438\\u0435 \\u0432\\u0438\\u0437\\u0438\\u0442\\u0430 \\u041f\\u0443\\u0442\\u0438\\u043d\\u0430 \\u0432 \\u041a\\u0438\\u0442\\u0430\\u0439 \\u0437\\u0430\\u043a\\u043b\\u044e\\u0447\\u0430\\u0435\\u0442\\u0441\\u044f \\u0432 \\u0434\\u0435\\u043c\\u043e\\u043d\\u0441\\u0442\\u0440\\u0430\\u0446\\u0438\\u0438 \\u0432\\u044b\\u0441\\u043e\\u043a\\u043e\\u0433\\u043e \\u0443\\u0440\\u043e\\u0432\\u043d\\u044f \\u0441\\u0442\\u0440\\u0430\\u0442\\u0435\\u0433\\u0438\\u0447\\u0435\\u0441\\u043a\\u043e\\u0439 \\u043a\\u043e\\u043e\\u0440\\u0434\\u0438\\u043d\\u0430\\u0446\\u0438\\u0438 \\u043c\\u0435\\u0436\\u0434\\u0443 \\u0434\\u0432\\u0443\\u043c\\u044f \\u0441\\u0442\\u0440\\u0430\\u043d\\u0430\\u043c\\u0438. \\u0423\\u0447\\u0438\\u0442\\u044b\\u0432\\u0430\\u044f \\u043d\\u044b\\u043d\\u0435\\u0448\\u043d\\u044e\\u044e \\u043c\\u0435\\u0436\\u0434\\u0443\\u043d\\u0430\\u0440\\u043e\\u0434\\u043d\\u0443\\u044e \\u0441\\u0438\\u0442\\u0443\\u0430\\u0446\\u0438\\u044e, \\u043e\\u0431\\u0435\\u0438\\u043c \\u0441\\u0442\\u043e\\u0440\\u043e\\u043d\\u0430\\u043c \\u043d\\u0435\\u043e\\u0431\\u0445\\u043e\\u0434\\u0438\\u043c\\u043e \\u0443\\u0441\\u0438\\u043b\\u0438\\u0442\\u044c \\u043a\\u043e\\u043e\\u0440\\u0434\\u0438\\u043d\\u0430\\u0446\\u0438\\u044e \\u043a\\u0430\\u043a \\u043d\\u0430 \\u0434\\u0432\\u0443\\u0441\\u0442\\u043e\\u0440\\u043e\\u043d\\u043d\\u0435\\u043c, \\u0442\\u0430\\u043a \\u0438 \\u043d\\u0430 \\u043c\\u0435\\u0436\\u0434\\u0443\\u043d\\u0430\\u0440\\u043e\\u0434\\u043d\\u043e\\u043c \\u0443\\u0440\\u043e\\u0432\\u043d\\u0435, \\u0447\\u0442\\u043e\\u0431\\u044b \\u043f\\u0440\\u043e\\u0442\\u0438\\u0432\\u043e\\u0441\\u0442\\u043e\\u044f\\u0442\\u044c \\u043d\\u0435\\u043e\\u0431\\u043e\\u0441\\u043d\\u043e\\u0432\\u0430\\u043d\\u043d\\u043e\\u043c\\u0443 \\u0441\\u0434\\u0435\\u0440\\u0436\\u0438\\u0432\\u0430\\u043d\\u0438\\u044e \\u0438 \\u0434\\u0430\\u0432\\u043b\\u0435\\u043d\\u0438\\u044e \\u0441\\u043e \\u0441\\u0442\\u043e\\u0440\\u043e\\u043d\\u044b \\u0417\\u0430\\u043f\\u0430\\u0434\\u0430. \\u0412 \\u043e\\u0442\\u043b\\u0438\\u0447\\u0438\\u0435 \\u043e\\u0442 \\u0431\\u043b\\u043e\\u043a\\u043e\\u0432\\u043e\\u0439 \\u043a\\u043e\\u043d\\u0444\\u0440\\u043e\\u043d\\u0442\\u0430\\u0446\\u0438\\u0438, \\u043f\\u0440\\u043e\\u0434\\u0432\\u0438\\u0433\\u0430\\u0435\\u043c\\u043e\\u0439 \\u0417\\u0430\\u043f\\u0430\\u0434\\u043e\\u043c, \\u043f\\u0430\\u0440\\u0442\\u043d\\u0435\\u0440\\u0441\\u0442\\u0432\\u043e \\u043c\\u0435\\u0436\\u0434\\u0443 \\u041a\\u0438\\u0442\\u0430\\u0435\\u043c \\u0438 \\u0420\\u043e\\u0441\\u0441\\u0438\\u0435\\u0439 \\u043f\\u0440\\u0435\\u0434\\u0441\\u0442\\u0430\\u0432\\u043b\\u044f\\u0435\\u0442 \\u0441\\u043e\\u0431\\u043e\\u0439 \\u043e\\u0442\\u043a\\u0440\\u044b\\u0442\\u043e\\u0435 \\u0441\\u043e\\u0442\\u0440\\u0443\\u0434\\u043d\\u0438\\u0447\\u0435\\u0441\\u0442\\u0432\\u043e \\u043d\\u0430 \\u043e\\u0441\\u043d\\u043e\\u0432\\u0435 \\u0432\\u0437\\u0430\\u0438\\u043c\\u043d\\u043e\\u0439 \\u0432\\u044b\\u0433\\u043e\\u0434\\u044b, \\u043e\\u0440\\u0438\\u0435\\u043d\\u0442\\u0438\\u0440\\u043e\\u0432\\u0430\\u043d\\u043d\\u043e\\u0435 \\u043d\\u0430 \\u043c\\u0438\\u0440\\u043d\\u043e\\u0435 \\u0438 \\u043e\\u0431\\u0449\\u0435\\u0435 \\u0440\\u0430\\u0437\\u0432\\u0438\\u0442\\u0438\\u0435\\\". \\u0422\\u0435\\u043b\\u0435\\u043a\\u043e\\u043c\\u043f\\u0430\\u043d\\u0438\\u044f CNN: \\\"\\u041e\\u0442\\u043a\\u0440\\u044b\\u0442\\u0438\\u0435 \\u0444\\u043e\\u0440\\u0443\\u043c\\u0430 \\\"\\u041e\\u0434\\u0438\\u043d \\u043f\\u043e\\u044f\\u0441 \\u2014 \\u043e\\u0434\\u0438\\u043d \\u043f\\u0443\\u0442\\u044c\\\" \\u043f\\u043e\\u0434\\u0447\\u0435\\u0440\\u043a\\u043d\\u0443\\u043b\\u043e \\u0443\\u0433\\u043b\\u0443\\u0431\\u043b\\u044f\\u044e\\u0449\\u0435\\u0435\\u0441\\u044f \\u043f\\u043e\\u043b\\u0438\\u0442\\u0438\\u0447\\u0435\\u0441\\u043a\\u043e\\u0435 \\u0434\\u043e\\u0432\\u0435\\u0440\\u0438\\u0435 \\u043c\\u0435\\u0436\\u0434\\u0443 \\u043f\\u0440\\u0435\\u0434\\u0441\\u0435\\u0434\\u0430\\u0442\\u0435\\u043b\\u0435\\u043c \\u041a\\u041d\\u0420 \\u0421\\u0438 \\u0426\\u0437\\u0438\\u043d\\u044c\\u043f\\u0438\\u043d\\u043e\\u043c \\u0438 \\u043f\\u0440\\u0435\\u0437\\u0438\\u0434\\u0435\\u043d\\u0442\\u043e\\u043c \\u0420\\u043e\\u0441\\u0441\\u0438\\u0438 \\u0412\\u043b\\u0430\\u0434\\u0438\\u043c\\u0438\\u0440\\u043e\\u043c \\u041f\\u0443\\u0442\\u0438\\u043d\\u044b\\u043c, \\u043a\\u043e\\u0442\\u043e\\u0440\\u044b\\u0439 \\u0441\\u0442\\u0430\\u043b \\u043f\\u043e\\u0447\\u0435\\u0442\\u043d\\u044b\\u043c \\u0433\\u043e\\u0441\\u0442\\u0435\\u043c \\u043d\\u0430 \\u0432\\u0441\\u0442\\u0440\\u0435\\u0447\\u0435, \\u0441\\u0438\\u0434\\u0435\\u043b \\u0440\\u044f\\u0434\\u043e\\u043c \\u0441 \\u043a\\u0438\\u0442\\u0430\\u0439\\u0441\\u043a\\u0438\\u043c \\u043b\\u0438\\u0434\\u0435\\u0440\\u043e\\u043c \\u0438 \\u0433\\u043e\\u0432\\u043e\\u0440\\u0438\\u043b \\u0441\\u0440\\u0430\\u0437\\u0443 \\u043f\\u043e\\u0441\\u043b\\u0435 \\u043d\\u0435\\u0433\\u043e \\u043d\\u0430 \\u0446\\u0435\\u0440\\u0435\\u043c\\u043e\\u043d\\u0438\\u0438 \\u043e\\u0442\\u043a\\u0440\\u044b\\u0442\\u0438\\u044f\\\". \\u0412\\u0435\\u0449\\u0430\\u0442\\u0435\\u043b\\u044c\\u043d\\u0430\\u044f \\u043a\\u043e\\u0440\\u043f\\u043e\\u0440\\u0430\\u0446\\u0438\\u044f BBC: \\\"\\u0412\\u0438\\u0437\\u0438\\u0442 \\u0412\\u043b\\u0430\\u0434\\u0438\\u043c\\u0438\\u0440\\u0430 \\u041f\\u0443\\u0442\\u0438\\u043d\\u0430 \\u043f\\u0440\\u043e\\u0445\\u043e\\u0434\\u0438\\u043b \\u043d\\u0430 \\u0444\\u043e\\u043d\\u0435 \\u043e\\u043f\\u0430\\u0441\\u0435\\u043d\\u0438\\u0439 \\u043f\\u043e \\u043f\\u043e\\u0432\\u043e\\u0434\\u0443 \\u0442\\u043e\\u0433\\u043e, \\u0447\\u0442\\u043e \\u041a\\u0438\\u0442\\u0430\\u0439 \\u0438 \\u0420\\u043e\\u0441\\u0441\\u0438\\u044f \\u0441\\u043e\\u0437\\u0434\\u0430\\u0434\\u0443\\u0442 \\u0441\\u043e\\u0431\\u0441\\u0442\\u0432\\u0435\\u043d\\u043d\\u044b\\u0439 \\u0431\\u043b\\u043e\\u043a \\u0432 \\u043f\\u0440\\u043e\\u0442\\u0438\\u0432\\u043e\\u0432\\u0435\\u0441 \\u0417\\u0430\\u043f\\u0430\\u0434\\u0443. \\u041e\\u0431\\u0435 \\u0441\\u0442\\u0440\\u0430\\u043d\\u044b \\u043f\\u0443\\u0431\\u043b\\u0438\\u0447\\u043d\\u043e \\u043e\\u0441\\u0443\\u0436\\u0434\\u0430\\u044e\\u0442 \\\"\\u0433\\u043b\\u043e\\u0431\\u0430\\u043b\\u044c\\u043d\\u0443\\u044e \\u0433\\u0435\\u0433\\u0435\\u043c\\u043e\\u043d\\u0438\\u044e\\\" \\u043f\\u043e\\u0434 \\u043f\\u0440\\u0435\\u0434\\u0432\\u043e\\u0434\\u0438\\u0442\\u0435\\u043b\\u044c\\u0441\\u0442\\u0432\\u043e\\u043c \\u0421\\u0428\\u0410 \\u0438 \\u043f\\u0440\\u0438\\u0437\\u044b\\u0432\\u0430\\u044e\\u0442 \\u0441\\u043e\\u0437\\u0434\\u0430\\u0442\\u044c \\\"\\u043c\\u043d\\u043e\\u0433\\u043e\\u043f\\u043e\\u043b\\u044f\\u0440\\u043d\\u044b\\u0439 \\u043c\\u0438\\u0440\\\". Le Figaro: \\\"\\u0412 \\u041f\\u0435\\u043a\\u0438\\u043d\\u0435 \\u0421\\u0438 \\u0426\\u0437\\u0438\\u043d\\u044c\\u043f\\u0438\\u043d \\u0438 \\u0412\\u043b\\u0430\\u0434\\u0438\\u043c\\u0438\\u0440 \\u041f\\u0443\\u0442\\u0438\\u043d \\u0441\\u043f\\u043b\\u043e\\u0442\\u0438\\u043b\\u0438 \\u0440\\u044f\\u0434\\u044b \\u043f\\u043e \\u043e\\u0442\\u043d\\u043e\\u0448\\u0435\\u043d\\u0438\\u044e \\u043a \\u0417\\u0430\\u043f\\u0430\\u0434\\u0443. \\u041b\\u0438\\u0434\\u0435\\u0440\\u044b \\u041a\\u0438\\u0442\\u0430\\u044f \\u0438 \\u0420\\u043e\\u0441\\u0441\\u0438\\u0438 \\u043f\\u0440\\u043e\\u0434\\u0435\\u043c\\u043e\\u043d\\u0441\\u0442\\u0440\\u0438\\u0440\\u043e\\u0432\\u0430\\u043b\\u0438 \\u043f\\u0440\\u043e\\u0447\\u043d\\u043e\\u0441\\u0442\\u044c \\u0441\\u0432\\u043e\\u0435\\u0433\\u043e \\u043f\\u0430\\u0440\\u0442\\u043d\\u0435\\u0440\\u0441\\u0442\\u0432\\u0430, \\u043a\\u043e\\u0442\\u043e\\u0440\\u043e\\u0435 \\u043e\\u043d\\u0438 \\u043f\\u0440\\u0435\\u0434\\u043b\\u0430\\u0433\\u0430\\u044e\\u0442 \\u0441\\u0442\\u0440\\u0430\\u043d\\u0430\\u043c \\u042e\\u0433\\u0430 \\u0432 \\u043a\\u0430\\u0447\\u0435\\u0441\\u0442\\u0432\\u0435 \\u0430\\u043b\\u044c\\u0442\\u0435\\u0440\\u043d\\u0430\\u0442\\u0438\\u0432\\u044b. \\u041b\\u0438\\u0434\\u0435\\u0440\\u044b \\u0434\\u0432\\u0443\\u0445 \\u0441\\u0442\\u0440\\u0430\\u043d \\u043f\\u0440\\u043e\\u0434\\u0435\\u043c\\u043e\\u043d\\u0441\\u0442\\u0440\\u0438\\u0440\\u043e\\u0432\\u0430\\u043b\\u0438 \\u0441\\u0432\\u043e\\u0435 \\u043e\\u0442\\u043b\\u0438\\u0447\\u0438\\u0435 \\u043e\\u0442 \\u0417\\u0430\\u043f\\u0430\\u0434\\u0430, \\u0447\\u0442\\u043e\\u0431\\u044b \\u0437\\u0430\\u0432\\u043e\\u0435\\u0432\\u0430\\u0442\\u044c \\u0441\\u0438\\u043c\\u043f\\u0430\\u0442\\u0438\\u0438 \\u043e\\u0441\\u0442\\u0430\\u043b\\u044c\\u043d\\u043e\\u0439 \\u0447\\u0430\\u0441\\u0442\\u0438 \\u0440\\u0430\\u0437\\u0432\\u0438\\u0432\\u0430\\u044e\\u0449\\u0435\\u0433\\u043e\\u0441\\u044f \\u043c\\u0438\\u0440\\u0430. \\u0412 \\u043a\\u043e\\u043d\\u0446\\u0435\\u043f\\u0446\\u0438\\u0438 \\u0440\\u0430\\u0437\\u0432\\u0438\\u0442\\u0438\\u044f, \\u043f\\u0440\\u0435\\u0434\\u043b\\u0430\\u0433\\u0430\\u0435\\u043c\\u043e\\u0439 \\u041a\\u0438\\u0442\\u0430\\u0435\\u043c, \\u0438\\u043d\\u0442\\u0435\\u0440\\u0435\\u0441\\u043d\\u043e \\u0442\\u043e, \\u0447\\u0442\\u043e \\u043d\\u0438\\u043a\\u0442\\u043e \\u043d\\u0438\\u043a\\u043e\\u043c\\u0443 \\u043d\\u0438\\u0447\\u0435\\u0433\\u043e \\u043d\\u0435 \\u043d\\u0430\\u0432\\u044f\\u0437\\u044b\\u0432\\u0430\\u0435\\u0442. \\u041d\\u0430 \\u0434\\u0432\\u0443\\u0441\\u0442\\u043e\\u0440\\u043e\\u043d\\u043d\\u0435\\u0439 \\u0432\\u0441\\u0442\\u0440\\u0435\\u0447\\u0435 \\u043d\\u0430 \\u043f\\u043e\\u043b\\u044f\\u0445 \\u0444\\u043e\\u0440\\u0443\\u043c\\u0430 \\u0421\\u0438 \\u0426\\u0437\\u0438\\u043d\\u044c\\u043f\\u0438\\u043d \\u043f\\u0440\\u0435\\u0434\\u043b\\u043e\\u0436\\u0438\\u043b \\u043f\\u0440\\u043e\\u0434\\u043e\\u043b\\u0436\\u0430\\u0442\\u044c \\\"\\u0442\\u0435\\u0441\\u043d\\u0443\\u044e \\u0441\\u0442\\u0440\\u0430\\u0442\\u0435\\u0433\\u0438\\u0447\\u0435\\u0441\\u043a\\u0443\\u044e \\u043a\\u043e\\u043e\\u0440\\u0434\\u0438\\u043d\\u0430\\u0446\\u0438\\u044e\\\" \\u0441 \\u041a\\u0440\\u0435\\u043c\\u043b\\u0435\\u043c, \\u0447\\u0442\\u043e\\u0431\\u044b \\u0441\\u043e\\u0445\\u0440\\u0430\\u043d\\u0438\\u0442\\u044c \\u0440\\u0430\\u0432\\u043d\\u043e\\u0432\\u0435\\u0441\\u0438\\u0435 \\u0438 \\u043c\\u0435\\u0436\\u0434\\u0443\\u043d\\u0430\\u0440\\u043e\\u0434\\u043d\\u043e\\u0435 \\u043f\\u0440\\u0430\\u0432\\u043e. \\u042d\\u0442\\u043e \\u0443\\u0434\\u0430\\u0440 \\u043a\\u043e\\u0433\\u0442\\u0435\\u043c \\u043f\\u043e \\u0437\\u0430\\u043f\\u0430\\u0434\\u043d\\u044b\\u043c \\u0441\\u0442\\u043e\\u043b\\u0438\\u0446\\u0430\\u043c\\\". Handelsblatt: \\\"\\u0421\\u0442\\u0440\\u0430\\u0442\\u0435\\u0433\\u0438\\u044f \\u0417\\u0430\\u043f\\u0430\\u0434\\u0430 \\u043f\\u043e \\u0438\\u0437\\u043e\\u043b\\u044f\\u0446\\u0438\\u0438 \\u0440\\u043e\\u0441\\u0441\\u0438\\u0439\\u0441\\u043a\\u043e\\u0433\\u043e \\u043f\\u0440\\u0435\\u0437\\u0438\\u0434\\u0435\\u043d\\u0442\\u0430 \\u043d\\u0430 \\u043c\\u0435\\u0436\\u0434\\u0443\\u043d\\u0430\\u0440\\u043e\\u0434\\u043d\\u043e\\u043c \\u0443\\u0440\\u043e\\u0432\\u043d\\u0435 \\u0438 \\u043f\\u0440\\u0438\\u043d\\u0443\\u0436\\u0434\\u0435\\u043d\\u0438\\u044e \\u0435\\u0433\\u043e \\u0443\\u0439\\u0442\\u0438 \\u0438\\u043b\\u0438 \\u0445\\u043e\\u0442\\u044f \\u0431\\u044b \\u0441\\u0435\\u0441\\u0442\\u044c \\u0437\\u0430 \\u0441\\u0442\\u043e\\u043b \\u043f\\u0435\\u0440\\u0435\\u0433\\u043e\\u0432\\u043e\\u0440\\u043e\\u0432 \\u043f\\u0440\\u043e\\u0432\\u0430\\u043b\\u0438\\u043b\\u0430\\u0441\\u044c\\\". \\u042f\\u043f\\u043e\\u043d\\u0441\\u043a\\u043e\\u0435 \\u043e\\u0431\\u0449\\u0435\\u0441\\u0442\\u0432\\u0435\\u043d\\u043d\\u043e\\u0435 \\u0442\\u0435\\u043b\\u0435\\u0432\\u0438\\u0434\\u0435\\u043d\\u0438\\u0435 (NHK): \\\"\\u041f\\u0440\\u0435\\u0437\\u0438\\u0434\\u0435\\u043d\\u0442 \\u041f\\u0443\\u0442\\u0438\\u043d, \\u0441\\u0443\\u0434\\u044f \\u043f\\u043e \\u0432\\u0441\\u0435\\u043c\\u0443, \\u043f\\u043e\\u043b\\u0443\\u0447\\u0438\\u043b \\u0432\\u043e\\u0437\\u043c\\u043e\\u0436\\u043d\\u043e\\u0441\\u0442\\u044c \\u0443\\u0441\\u0438\\u043b\\u0438\\u0442\\u044c \\u0441\\u0432\\u043e\\u044e \\u043a\\u043e\\u043d\\u0444\\u0440\\u043e\\u043d\\u0442\\u0430\\u0446\\u0438\\u043e\\u043d\\u043d\\u0443\\u044e \\u043f\\u043e\\u0437\\u0438\\u0446\\u0438\\u044e \\u0432 \\u043e\\u0442\\u043d\\u043e\\u0448\\u0435\\u043d\\u0438\\u0438 \\u0421\\u0428\\u0410, \\u043a\\u043e\\u0442\\u043e\\u0440\\u044b\\u0435 \\u043f\\u0440\\u043e\\u0434\\u043e\\u043b\\u0436\\u0430\\u044e\\u0442 \\u043f\\u043e\\u0434\\u0434\\u0435\\u0440\\u0436\\u043a\\u0443 \\u0423\\u043a\\u0440\\u0430\\u0438\\u043d\\u044b, \\u043f\\u0440\\u043e\\u0434\\u0435\\u043c\\u043e\\u043d\\u0441\\u0442\\u0440\\u0438\\u0440\\u043e\\u0432\\u0430\\u0432 \\u0441\\u0432\\u043e\\u0435 \\u043f\\u0440\\u0438\\u0441\\u0443\\u0442\\u0441\\u0442\\u0432\\u0438\\u0435 \\u043d\\u0430 \\u043c\\u0435\\u0436\\u0434\\u0443\\u043d\\u0430\\u0440\\u043e\\u0434\\u043d\\u043e\\u0439 \\u0430\\u0440\\u0435\\u043d\\u0435 \\u0438 \\u043f\\u043e\\u0434\\u0442\\u0432\\u0435\\u0440\\u0434\\u0438\\u0432 \\u0443\\u043a\\u0440\\u0435\\u043f\\u043b\\u0435\\u043d\\u0438\\u0435 \\u0441\\u043e\\u0442\\u0440\\u0443\\u0434\\u043d\\u0438\\u0447\\u0435\\u0441\\u0442\\u0432\\u0430 \\u0441 \\u041a\\u0438\\u0442\\u0430\\u0435\\u043c\\\". Asharq Al-Awsat: \\\"\\u041b\\u0438\\u0434\\u0435\\u0440\\u044b \\u041a\\u0438\\u0442\\u0430\\u044f \\u0438 \\u0420\\u043e\\u0441\\u0441\\u0438\\u0438 \\u0441\\u043d\\u043e\\u0432\\u0430 \\u0432\\u0441\\u0442\\u0440\\u0435\\u0442\\u0438\\u043b\\u0438\\u0441\\u044c \\u0432 \\u041f\\u0435\\u043a\\u0438\\u043d\\u0435 \\u0441\\u043f\\u0443\\u0441\\u0442\\u044f \\u0434\\u0435\\u0441\\u044f\\u0442\\u044c \\u043b\\u0435\\u0442 \\u043f\\u043e\\u0441\\u043b\\u0435 \\u0442\\u043e\\u0433\\u043e, \\u043a\\u0430\\u043a \\u0437\\u0430\\u044f\\u0432\\u0438\\u043b\\u0438 \\u043e \\u0441\\u0432\\u043e\\u0435\\u0439 \\u0434\\u0440\\u0443\\u0436\\u0431\\u0435, \\u0441\\u0442\\u0440\\u0435\\u043c\\u044f\\u0441\\u044c \\u0443\\u0433\\u043b\\u0443\\u0431\\u0438\\u0442\\u044c \\\"\\u043d\\u0435\\u043e\\u0433\\u0440\\u0430\\u043d\\u0438\\u0447\\u0435\\u043d\\u043d\\u043e\\u0435\\\" \\u043f\\u0430\\u0440\\u0442\\u043d\\u0435\\u0440\\u0441\\u0442\\u0432\\u043e \\u043c\\u0435\\u0436\\u0434\\u0443 \\u0441\\u0432\\u043e\\u0438\\u043c\\u0438 \\u0441\\u0442\\u0440\\u0430\\u043d\\u0430\\u043c\\u0438. \\u042d\\u0442\\u043e\\u0442 \\u0432\\u0438\\u0437\\u0438\\u0442 (\\u043f\\u0440\\u0435\\u0437\\u0438\\u0434\\u0435\\u043d\\u0442\\u0430 \\u0420\\u043e\\u0441\\u0441\\u0438\\u0438) \\u043f\\u043e\\u0434\\u0442\\u0432\\u0435\\u0440\\u0436\\u0434\\u0430\\u0435\\u0442 \\u0438\\u0445 \\u043e\\u0431\\u0449\\u0435\\u0435 \\u0432\\u0438\\u0434\\u0435\\u043d\\u0438\\u0435 \\u043d\\u043e\\u0432\\u043e\\u0433\\u043e \\u043c\\u0438\\u0440\\u043e\\u0432\\u043e\\u0433\\u043e \\u043f\\u043e\\u0440\\u044f\\u0434\\u043a\\u0430, \\u0432 \\u043a\\u043e\\u0442\\u043e\\u0440\\u043e\\u043c \\u0431\\u043e\\u043b\\u044c\\u0448\\u0435 \\u043d\\u0435 \\u0434\\u043e\\u043c\\u0438\\u043d\\u0438\\u0440\\u0443\\u044e\\u0442 \\u0421\\u043e\\u0435\\u0434\\u0438\\u043d\\u0435\\u043d\\u043d\\u044b\\u0435 \\u0428\\u0442\\u0430\\u0442\\u044b \\u0438 \\u0438\\u0445 \\u0441\\u043e\\u044e\\u0437\\u043d\\u0438\\u043a\\u0438\\\". Al Khaleej: \\\"\\u0412\\u0441\\u0442\\u0440\\u0435\\u0447\\u0430 \\u043f\\u0440\\u0435\\u0437\\u0438\\u0434\\u0435\\u043d\\u0442\\u0430 \\u0420\\u043e\\u0441\\u0441\\u0438\\u0438 \\u0412\\u043b\\u0430\\u0434\\u0438\\u043c\\u0438\\u0440\\u0430 \\u041f\\u0443\\u0442\\u0438\\u043d\\u0430 \\u0438 \\u043f\\u0440\\u0435\\u0434\\u0441\\u0435\\u0434\\u0430\\u0442\\u0435\\u043b\\u044f \\u041a\\u041d\\u0420 \\u0421\\u0438 \\u0426\\u0437\\u0438\\u043d\\u044c\\u043f\\u0438\\u043d\\u0430 \\u043d\\u0430 \\u043f\\u043e\\u043b\\u044f\\u0445 \\u0422\\u0440\\u0435\\u0442\\u044c\\u0435\\u0433\\u043e \\u0444\\u043e\\u0440\\u0443\\u043c\\u0430 \\u0438\\u043d\\u0438\\u0446\\u0438\\u0430\\u0442\\u0438\\u0432\\u044b \\\"\\u041f\\u043e\\u044f\\u0441 \\u0438 \\u043f\\u0443\\u0442\\u044c\\\" \\u0432 \\u041f\\u0435\\u043a\\u0438\\u043d\\u0435 \\u0441\\u0442\\u0430\\u043b\\u0430 \\u0434\\u043e\\u043f\\u043e\\u043b\\u043d\\u0438\\u0442\\u0435\\u043b\\u044c\\u043d\\u044b\\u043c \\u0448\\u0430\\u0433\\u043e\\u043c \\u0432 \\u0441\\u0431\\u043b\\u0438\\u0436\\u0435\\u043d\\u0438\\u0438 \\u0434\\u0432\\u0443\\u0445 \\u043b\\u0438\\u0434\\u0435\\u0440\\u043e\\u0432. \\u041e\\u0441\\u0442\\u0440\\u044b\\u0435 \\u0432\\u043e\\u043f\\u0440\\u043e\\u0441\\u044b, \\u043a\\u043e\\u0442\\u043e\\u0440\\u044b\\u0435 \\u0412\\u043b\\u0430\\u0434\\u0438\\u043c\\u0438\\u0440 \\u041f\\u0443\\u0442\\u0438\\u043d \\u0438 \\u0421\\u0438 \\u0426\\u0437\\u0438\\u043d\\u044c\\u043f\\u0438\\u043d \\u043e\\u0431\\u0441\\u0443\\u0436\\u0434\\u0430\\u043b\\u0438 \\u0432 \\u0442\\u0435\\u0447\\u0435\\u043d\\u0438\\u0435 \\u0442\\u0440\\u0435\\u0445 \\u0447\\u0430\\u0441\\u043e\\u0432, \\u0443\\u043a\\u0430\\u0437\\u044b\\u0432\\u0430\\u044e\\u0442 \\u043d\\u0430 \\u043e\\u0431\\u0449\\u0443\\u044e \\u0440\\u0435\\u0448\\u0438\\u043c\\u043e\\u0441\\u0442\\u044c \\u0441\\u043e\\u0437\\u0434\\u0430\\u0442\\u044c \\u0441\\u043e\\u044e\\u0437 \\u043c\\u0435\\u0436\\u0434\\u0443 \\u0434\\u0432\\u0443\\u043c\\u044f \\u0441\\u0442\\u0440\\u0430\\u043d\\u0430\\u043c\\u0438, \\u043a\\u043e\\u0442\\u043e\\u0440\\u044b\\u0439 \\u0441\\u0442\\u0430\\u043b \\u0431\\u044b \\u043f\\u0440\\u043e\\u0442\\u0438\\u0432\\u043e\\u0432\\u0435\\u0441\\u043e\\u043c \\u0437\\u0430\\u043f\\u0430\\u0434\\u043d\\u043e\\u043c\\u0443 \\u043c\\u0438\\u0440\\u0443, \\u043e\\u0441\\u043e\\u0431\\u0435\\u043d\\u043d\\u043e \\u0421\\u0428\\u0410\\u2026 \\u0415\\u0441\\u043b\\u0438 \\u0430\\u043b\\u044c\\u044f\\u043d\\u0441 \\u0432 \\u043b\\u0438\\u0446\\u0435 \\u0420\\u043e\\u0441\\u0441\\u0438\\u0438 \\u0438 \\u041a\\u0438\\u0442\\u0430\\u044f \\u043d\\u0430\\u0445\\u043e\\u0434\\u0438\\u0442\\u0441\\u044f \\u0432 \\u043f\\u0440\\u043e\\u0446\\u0435\\u0441\\u0441\\u0435 \\u0444\\u043e\\u0440\\u043c\\u0438\\u0440\\u043e\\u0432\\u0430\\u043d\\u0438\\u044f \\u0441\\u0432\\u043e\\u0435\\u0433\\u043e \\u0432\\u0438\\u0434\\u0435\\u043d\\u0438\\u044f \\u0438 \\u0441\\u0442\\u0440\\u0435\\u043c\\u0438\\u0442\\u0441\\u044f \\u043a \\u0435\\u0433\\u043e \\u043f\\u043e\\u0441\\u0442\\u0435\\u043f\\u0435\\u043d\\u043d\\u043e\\u043c\\u0443 \\u0440\\u0430\\u0441\\u0448\\u0438\\u0440\\u0435\\u043d\\u0438\\u044e, \\u0442\\u043e \\u043f\\u0440\\u043e\\u0442\\u0438\\u0432\\u043e\\u043f\\u043e\\u043b\\u043e\\u0436\\u043d\\u0430\\u044f \\u0441\\u0442\\u043e\\u0440\\u043e\\u043d\\u0430 \\u0432 \\u043b\\u0438\\u0446\\u0435 \\u0417\\u0430\\u043f\\u0430\\u0434\\u0430 \\u0432\\u043e \\u0433\\u043b\\u0430\\u0432\\u0435 \\u0441 \\u0421\\u0428\\u0410 \\u0441\\u0442\\u0440\\u0430\\u0434\\u0430\\u0435\\u0442 \\u043e\\u0442 \\u0433\\u043b\\u0443\\u0431\\u043e\\u043a\\u043e\\u0433\\u043e \\u0446\\u0438\\u0432\\u0438\\u043b\\u0438\\u0437\\u0430\\u0446\\u0438\\u043e\\u043d\\u043d\\u043e\\u0433\\u043e \\u0438 \\u043c\\u043e\\u0440\\u0430\\u043b\\u044c\\u043d\\u043e\\u0433\\u043e \\u043a\\u0440\\u0438\\u0437\\u0438\\u0441\\u0430\\\". \\u0420\\u0430\\u0434\\u0438\\u043e\\u0441\\u0442\\u0430\\u043d\\u0446\\u0438\\u044f SABC: \\\"\\u041f\\u0440\\u0435\\u0437\\u0438\\u0434\\u0435\\u043d\\u0442 \\u0420\\u0424 \\u0412\\u043b\\u0430\\u0434\\u0438\\u043c\\u0438\\u0440 \\u041f\\u0443\\u0442\\u0438\\u043d \\u0434\\u043e\\u0431\\u0438\\u043b\\u0441\\u044f \\u043e\\u0442 \\u041a\\u0438\\u0442\\u0430\\u044f \\u043f\\u043e\\u0434\\u0434\\u0435\\u0440\\u0436\\u043a\\u0438 \\u0432 \\u0432\\u043e\\u043f\\u0440\\u043e\\u0441\\u0430\\u0445 \\u0431\\u0435\\u0437\\u043e\\u043f\\u0430\\u0441\\u043d\\u043e\\u0441\\u0442\\u0438 \\u0438 \\u0440\\u0430\\u0437\\u0432\\u0438\\u0442\\u0438\\u044f. \\u041b\\u0438\\u0434\\u0435\\u0440\\u044b \\u0420\\u0424 \\u0438 \\u041a\\u041d\\u0420 \\u0432 \\u0445\\u043e\\u0434\\u0435 \\u0432\\u0441\\u0442\\u0440\\u0435\\u0447\\u0438 \\u043e\\u0431\\u0441\\u0443\\u0434\\u0438\\u043b\\u0438 \\u0432\\u043e\\u043f\\u0440\\u043e\\u0441\\u044b \\u0441\\u043e\\u0442\\u0440\\u0443\\u0434\\u043d\\u0438\\u0447\\u0435\\u0441\\u0442\\u0432\\u0430 \\u043f\\u043e \\u0441\\u0442\\u0440\\u0430\\u0442\\u0435\\u0433\\u0438\\u0447\\u0435\\u0441\\u043a\\u0438\\u043c \\u043d\\u0430\\u043f\\u0440\\u0430\\u0432\\u043b\\u0435\\u043d\\u0438\\u044f\\u043c, \\u0432\\u0430\\u0436\\u043d\\u044b\\u043c \\u0434\\u043b\\u044f \\u043e\\u0431\\u0435\\u0438\\u0445 \\u0441\\u0442\\u0440\\u0430\\u043d. \\u0412\\u0441\\u0435 \\u0433\\u043e\\u0432\\u043e\\u0440\\u0438\\u0442 \\u043e \\u0442\\u043e\\u043c, \\u0447\\u0442\\u043e \\u041f\\u0435\\u043a\\u0438\\u043d \\u0431\\u0443\\u0434\\u0435\\u0442 \\u043f\\u0440\\u043e\\u0434\\u043e\\u043b\\u0436\\u0430\\u0442\\u044c \\u0443\\u043a\\u0440\\u0435\\u043f\\u043b\\u044f\\u0442\\u044c \\u0441\\u043e\\u0442\\u0440\\u0443\\u0434\\u043d\\u0438\\u0447\\u0435\\u0441\\u0442\\u0432\\u043e \\u0441 \\u041c\\u043e\\u0441\\u043a\\u0432\\u043e\\u0439, \\u0432 \\u0442\\u043e\\u043c \\u0447\\u0438\\u0441\\u043b\\u0435 \\u0432 \\u0444\\u043e\\u0440\\u043c\\u0430\\u0442\\u0435 \\u0411\\u0420\\u0418\\u041a\\u0421\\\". \",\n          \"\\u0412\\u043b\\u0430\\u0441\\u0442\\u0438 \\u043d\\u0435\\u043f\\u0440\\u0438\\u0437\\u043d\\u0430\\u043d\\u043d\\u043e\\u0439 \\u041d\\u0430\\u0433\\u043e\\u0440\\u043d\\u043e-\\u041a\\u0430\\u0440\\u0430\\u0431\\u0430\\u0445\\u0441\\u043a\\u043e\\u0439 \\u0440\\u0435\\u0441\\u043f\\u0443\\u0431\\u043b\\u0438\\u043a\\u0438 \\u043f\\u0440\\u0438\\u043d\\u044f\\u043b\\u0438 \\u043f\\u0440\\u0435\\u0434\\u043b\\u043e\\u0436\\u0435\\u043d\\u0438\\u044f \\u043a\\u043e\\u043c\\u0430\\u043d\\u0434\\u043e\\u0432\\u0430\\u043d\\u0438\\u044f \\u0440\\u043e\\u0441\\u0441\\u0438\\u0439\\u0441\\u043a\\u0438\\u0445 \\u043c\\u0438\\u0440\\u043e\\u0442\\u0432\\u043e\\u0440\\u0446\\u0435\\u0432 \\u0438 \\u043f\\u0440\\u0435\\u043a\\u0440\\u0430\\u0442\\u0438\\u043b\\u0438 \\u043e\\u0433\\u043e\\u043d\\u044c. \\u041c\\u0438\\u043d\\u043e\\u0431\\u043e\\u0440\\u043e\\u043d\\u044b \\u0410\\u0437\\u0435\\u0440\\u0431\\u0430\\u0439\\u0434\\u0436\\u0430\\u043d\\u0430 \\u0441\\u043e \\u0441\\u0432\\u043e\\u0435\\u0439 \\u0441\\u0442\\u043e\\u0440\\u043e\\u043d\\u044b \\u0441\\u043e\\u043e\\u0431\\u0449\\u0438\\u043b\\u043e \\u043e \\u043f\\u0440\\u0438\\u043e\\u0441\\u0442\\u0430\\u043d\\u043e\\u0432\\u043a\\u0435 \\u0430\\u043d\\u0442\\u0438\\u0442\\u0435\\u0440\\u0440\\u043e\\u0440\\u0438\\u0441\\u0442\\u0438\\u0447\\u0435\\u0441\\u043a\\u043e\\u0439 \\u043e\\u043f\\u0435\\u0440\\u0430\\u0446\\u0438\\u0438. \\u0412\\u0441\\u0442\\u0440\\u0435\\u0447\\u0430 \\u0441\\u0442\\u043e\\u0440\\u043e\\u043d \\u043f\\u0440\\u043e\\u0439\\u0434\\u0435\\u0442 21 \\u0441\\u0435\\u043d\\u0442\\u044f\\u0431\\u0440\\u044f \\u0432 \\u0415\\u0432\\u043b\\u0430\\u0445\\u0435, \\u0433\\u0434\\u0435 \\u0431\\u0443\\u0434\\u0435\\u0442 \\u043e\\u0431\\u0441\\u0443\\u0436\\u0434\\u0430\\u0442\\u044c\\u0441\\u044f \\u0440\\u0435\\u0438\\u043d\\u0442\\u0435\\u0433\\u0440\\u0430\\u0446\\u0438\\u044f \\u0440\\u0435\\u0433\\u0438\\u043e\\u043d\\u0430 \\u0432 \\u0441\\u043e\\u043e\\u0442\\u0432\\u0435\\u0442\\u0441\\u0442\\u0432\\u0438\\u0438 \\u0441 \\u0430\\u0437\\u0435\\u0440\\u0431\\u0430\\u0439\\u0434\\u0436\\u0430\\u043d\\u0441\\u043a\\u043e\\u0439 \\u043a\\u043e\\u043d\\u0441\\u0442\\u0438\\u0442\\u0443\\u0446\\u0438\\u0435\\u0439. \\u041e\\u043c\\u0431\\u0443\\u0434\\u0441\\u043c\\u0435\\u043d \\u0410\\u0440\\u043c\\u0435\\u043d\\u0438\\u0438 \\u0410\\u043d\\u0430\\u0438\\u0442 \\u041c\\u0430\\u043d\\u0430\\u0441\\u044f\\u043d \\u0437\\u0430\\u044f\\u0432\\u0438\\u043b\\u0430, \\u0447\\u0442\\u043e \\u0432 \\u0445\\u043e\\u0434\\u0435 \\u0431\\u043e\\u0435\\u0432\\u044b\\u0445 \\u0434\\u0435\\u0439\\u0441\\u0442\\u0432\\u0438\\u0439 32 \\u0447\\u0435\\u043b\\u043e\\u0432\\u0435\\u043a\\u0430 \\u043f\\u043e\\u0433\\u0438\\u0431\\u043b\\u0438, \\u0431\\u043e\\u043b\\u0435\\u0435 200 \\u043f\\u043e\\u043b\\u0443\\u0447\\u0438\\u043b\\u0438 \\u0440\\u0430\\u043d\\u0435\\u043d\\u0438\\u044f. \\u041f\\u043e \\u0435\\u0435 \\u0434\\u0430\\u043d\\u043d\\u044b\\u043c, \\u0441\\u0440\\u0435\\u0434\\u0438 \\u043f\\u043e\\u0433\\u0438\\u0431\\u0448\\u0438\\u0445 - 7 \\u043c\\u0438\\u0440\\u043d\\u044b\\u0445 \\u0436\\u0438\\u0442\\u0435\\u043b\\u0435\\u0439, \\u0438\\u0437 \\u043a\\u043e\\u0442\\u043e\\u0440\\u044b\\u0445 2 \\u0434\\u0435\\u0442\\u0435\\u0439, \\u0430 \\u0442\\u0430\\u043a\\u0436\\u0435 35 \\u043f\\u043e\\u0441\\u0442\\u0440\\u0430\\u0434\\u0430\\u0432\\u0448\\u0438\\u0445, \\u0432\\u043a\\u043b\\u044e\\u0447\\u0430\\u044f 13 \\u0434\\u0435\\u0442\\u0435\\u0439. \\u0412 \\u0411\\u0430\\u043b\\u0430\\u0448\\u0438\\u0445\\u0435 13 \\u0447\\u0435\\u043b\\u043e\\u0432\\u0435\\u043a \\u043f\\u043e\\u0441\\u0442\\u0440\\u0430\\u0434\\u0430\\u043b\\u0438, \\u0435\\u0449\\u0435 4 \\u043f\\u043e\\u0433\\u0438\\u0431\\u043b\\u0438 \\u0432 \\u0440\\u0435\\u0437\\u0443\\u043b\\u044c\\u0442\\u0430\\u0442\\u0435 \\u0432\\u0437\\u0440\\u044b\\u0432\\u0430 \\u0433\\u0430\\u0437\\u0430 \\u0432 \\u0434\\u0435\\u0432\\u044f\\u0442\\u0438\\u044d\\u0442\\u0430\\u0436\\u043d\\u043e\\u043c \\u0436\\u0438\\u043b\\u043e\\u043c \\u0434\\u043e\\u043c\\u0435. \\u041e\\u0431\\u0440\\u0443\\u0448\\u0438\\u043b\\u0438\\u0441\\u044c \\u0442\\u0440\\u0435\\u0442\\u0438\\u0439, \\u0447\\u0435\\u0442\\u0432\\u0435\\u0440\\u0442\\u044b\\u0439 \\u0438 \\u043f\\u044f\\u0442\\u044b\\u0439 \\u044d\\u0442\\u0430\\u0436 \\u0437\\u0434\\u0430\\u043d\\u0438\\u044f. \\u041f\\u043e\\u0437\\u0434\\u043d\\u0435\\u0435 \\u043f\\u0440\\u043e\\u0438\\u0437\\u043e\\u0448\\u043b\\u043e \\u043f\\u043e\\u0432\\u0442\\u043e\\u0440\\u043d\\u043e\\u0435 \\u043e\\u0431\\u0440\\u0443\\u0448\\u0435\\u043d\\u0438\\u0435, \\u0434\\u0432\\u043e\\u0435 \\u0441\\u043f\\u0430\\u0441\\u0430\\u0442\\u0435\\u043b\\u0435\\u0439 \\u043f\\u043e\\u0433\\u0438\\u0431\\u043b\\u0438, \\u0447\\u0435\\u0442\\u0432\\u0435\\u0440\\u043e \\u043f\\u043e\\u0441\\u0442\\u0440\\u0430\\u0434\\u0430\\u043b\\u0438. \\u0421\\u043b\\u0435\\u0434\\u0441\\u0442\\u0432\\u0435\\u043d\\u043d\\u044b\\u0439 \\u043a\\u043e\\u043c\\u0438\\u0442\\u0435\\u0442 \\u0432\\u043e\\u0437\\u0431\\u0443\\u0434\\u0438\\u043b \\u0443\\u0433\\u043e\\u043b\\u043e\\u0432\\u043d\\u043e\\u0435 \\u0434\\u0435\\u043b\\u043e \\u043f\\u043e \\u0444\\u0430\\u043a\\u0442\\u0443 \\u043e\\u043a\\u0430\\u0437\\u0430\\u043d\\u0438\\u044f \\u0443\\u0441\\u043b\\u0443\\u0433, \\u043d\\u0435 \\u043e\\u0442\\u0432\\u0435\\u0447\\u0430\\u044e\\u0449\\u0438\\u0445 \\u0442\\u0440\\u0435\\u0431\\u043e\\u0432\\u0430\\u043d\\u0438\\u044f\\u043c \\u0431\\u0435\\u0437\\u043e\\u043f\\u0430\\u0441\\u043d\\u043e\\u0441\\u0442\\u0438. \\u0420\\u0430\\u0437\\u0431\\u043e\\u0440 \\u0437\\u0430\\u0432\\u0430\\u043b\\u043e\\u0432 \\u0438 \\u043f\\u043e\\u0438\\u0441\\u043a \\u043b\\u044e\\u0434\\u0435\\u0439 \\u043d\\u0430 \\u043c\\u0435\\u0441\\u0442\\u0435 \\u0427\\u041f \\u0432 \\u0411\\u0430\\u043b\\u0430\\u0448\\u0438\\u0445\\u0435 \\u0431\\u0443\\u0434\\u0443\\u0442 \\u0432\\u0435\\u0441\\u0442\\u0438\\u0441\\u044c \\u043a\\u0440\\u0443\\u0433\\u043b\\u043e\\u0441\\u0443\\u0442\\u043e\\u0447\\u043d\\u043e, \\u0441\\u043e\\u043e\\u0431\\u0449\\u0438\\u043b\\u0438 \\u0432 \\u043e\\u043f\\u0435\\u0440\\u0448\\u0442\\u0430\\u0431\\u0435. \\u041f\\u0440\\u0435\\u0437\\u0438\\u0434\\u0435\\u043d\\u0442 \\u0420\\u043e\\u0441\\u0441\\u0438\\u0438 \\u0412\\u043b\\u0430\\u0434\\u0438\\u043c\\u0438\\u0440 \\u041f\\u0443\\u0442\\u0438\\u043d \\u043f\\u0440\\u0438\\u043d\\u044f\\u043b \\u043f\\u0440\\u0435\\u0434\\u043b\\u043e\\u0436\\u0435\\u043d\\u0438\\u0435 \\u043f\\u0440\\u0435\\u0434\\u0441\\u0435\\u0434\\u0430\\u0442\\u0435\\u043b\\u044f \\u041a\\u041d\\u0420 \\u0421\\u0438 \\u0426\\u0437\\u0438\\u043d\\u044c\\u043f\\u0438\\u043d\\u0430 \\u043f\\u043e\\u0441\\u0435\\u0442\\u0438\\u0442\\u044c \\u0432 \\u043e\\u043a\\u0442\\u044f\\u0431\\u0440\\u0435 \\u041a\\u0438\\u0442\\u0430\\u0439 \\u0434\\u043b\\u044f \\u0443\\u0447\\u0430\\u0441\\u0442\\u0438\\u044f \\u0432 \\u0444\\u043e\\u0440\\u0443\\u043c\\u0435 \\\"\\u041e\\u0434\\u0438\\u043d \\u043f\\u043e\\u044f\\u0441 - \\u043e\\u0434\\u0438\\u043d \\u043f\\u0443\\u0442\\u044c\\\". \\u0420\\u043e\\u0441\\u0441\\u0438\\u0439\\u0441\\u043a\\u0438\\u0439 \\u043b\\u0438\\u0434\\u0435\\u0440 \\u043f\\u043e\\u0434\\u0447\\u0435\\u0440\\u043a\\u043d\\u0443\\u043b, \\u0447\\u0442\\u043e \\u044d\\u0442\\u043e \\u043f\\u043e\\u043b\\u043d\\u043e\\u0441\\u0442\\u044c\\u044e \\u0441\\u043e\\u043e\\u0442\\u0432\\u0435\\u0442\\u0441\\u0442\\u0432\\u0443\\u0435\\u0442 \\u0438\\u043d\\u0442\\u0435\\u0440\\u0435\\u0441\\u0430\\u043c \\u041c\\u043e\\u0441\\u043a\\u0432\\u044b \\u0438 \\u041f\\u0435\\u043a\\u0438\\u043d\\u0430, \\u0430 \\u0442\\u0430\\u043a\\u0436\\u0435 \\u0438\\u043d\\u0442\\u0435\\u0433\\u0440\\u0438\\u0440\\u0443\\u0435\\u0442 \\u0438\\u0434\\u0435\\u0438 \\u0441\\u043e\\u0437\\u0434\\u0430\\u043d\\u0438\\u044f \\u0431\\u043e\\u043b\\u044c\\u0448\\u043e\\u0433\\u043e \\u0435\\u0432\\u0440\\u0430\\u0437\\u0438\\u0439\\u0441\\u043a\\u043e\\u0433\\u043e \\u043f\\u0440\\u043e\\u0441\\u0442\\u0440\\u0430\\u043d\\u0441\\u0442\\u0432\\u0430. \\u0426\\u0435\\u043b\\u044c \\u043c\\u0435\\u0440\\u043e\\u043f\\u0440\\u0438\\u044f\\u0442\\u0438\\u044f - \\u0432\\u044b\\u0445\\u043e\\u0434 \\u041a\\u0438\\u0442\\u0430\\u044f \\u043d\\u0430 \\u0440\\u044b\\u043d\\u043a\\u0438 \\u0426\\u0435\\u043d\\u0442\\u0440\\u0430\\u043b\\u044c\\u043d\\u043e\\u0439 \\u0410\\u0437\\u0438\\u0438, \\u0411\\u043b\\u0438\\u0436\\u043d\\u0435\\u0433\\u043e \\u0412\\u043e\\u0441\\u0442\\u043e\\u043a\\u0430, \\u0415\\u0432\\u0440\\u043e\\u043f\\u044b, \\u0410\\u0444\\u0440\\u0438\\u043a\\u0438 \\u0438 \\u0434\\u0440\\u0443\\u0433\\u0438\\u0445 \\u0440\\u0435\\u0433\\u0438\\u043e\\u043d\\u043e\\u0432, \\u0430 \\u0442\\u0430\\u043a\\u0436\\u0435 \\u0430\\u043a\\u0442\\u0438\\u0432\\u0438\\u0437\\u0430\\u0446\\u0438\\u044f \\u043c\\u0435\\u0436\\u0434\\u0443\\u043d\\u0430\\u0440\\u043e\\u0434\\u043d\\u044b\\u0445 \\u0442\\u043e\\u0440\\u0433\\u043e\\u0432\\u043e-\\u0438\\u043d\\u0432\\u0435\\u0441\\u0442\\u0438\\u0446\\u0438\\u043e\\u043d\\u043d\\u044b\\u0445 \\u043f\\u0440\\u043e\\u0435\\u043a\\u0442\\u043e\\u0432. \\u0412 \\u0420\\u043e\\u0441\\u0441\\u0438\\u0438 \\u0443\\u043f\\u0440\\u043e\\u0441\\u0442\\u0438\\u043b\\u0438 \\u043f\\u043e\\u0440\\u044f\\u0434\\u043e\\u043a \\u0432\\u044b\\u0434\\u0430\\u0447\\u0438 \\u0443\\u0434\\u043e\\u0441\\u0442\\u043e\\u0432\\u0435\\u0440\\u0435\\u043d\\u0438\\u0439 \\u0432\\u0435\\u0442\\u0435\\u0440\\u0430\\u043d\\u0430 \\u0431\\u043e\\u0435\\u0432\\u044b\\u0445 \\u0434\\u0435\\u0439\\u0441\\u0442\\u0432\\u0438\\u0439. \\u0412\\u043e\\u0435\\u043d\\u043d\\u043e\\u0441\\u043b\\u0443\\u0436\\u0430\\u0449\\u0438\\u043c \\u043d\\u0435 \\u043f\\u0440\\u0438\\u0434\\u0435\\u0442\\u0441\\u044f \\u043f\\u043e\\u0434\\u0430\\u0432\\u0430\\u0442\\u044c \\u0437\\u0430\\u044f\\u0432\\u043b\\u0435\\u043d\\u0438\\u0435 \\u043b\\u0438\\u0447\\u043d\\u043e, \\u0432\\u0435\\u0434\\u043e\\u043c\\u0441\\u0442\\u0432\\u0430 \\u0441\\u0434\\u0435\\u043b\\u0430\\u044e\\u0442 \\u0432\\u0441\\u0435 \\u0441\\u0430\\u043c\\u043e\\u0441\\u0442\\u043e\\u044f\\u0442\\u0435\\u043b\\u044c\\u043d\\u043e \\u043d\\u0430 \\u043e\\u0441\\u043d\\u043e\\u0432\\u0435 \\u0443\\u0436\\u0435 \\u0438\\u043c\\u0435\\u044e\\u0449\\u0438\\u0445\\u0441\\u044f \\u0441\\u0432\\u0435\\u0434\\u0435\\u043d\\u0438\\u0439, \\u0441\\u043e\\u043e\\u0431\\u0449\\u0438\\u043b \\u043f\\u0440\\u0435\\u043c\\u044c\\u0435\\u0440-\\u043c\\u0438\\u043d\\u0438\\u0441\\u0442\\u0440 \\u041c\\u0438\\u0445\\u0430\\u0438\\u043b \\u041c\\u0438\\u0448\\u0443\\u0441\\u0442\\u0438\\u043d. \\u0413\\u043b\\u0430\\u0432\\u0430 \\u043a\\u0430\\u0431\\u043c\\u0438\\u043d\\u0430 \\u043f\\u043e\\u0434\\u0447\\u0435\\u0440\\u043a\\u043d\\u0443\\u043b, \\u0447\\u0442\\u043e \\u0440\\u0435\\u0448\\u0435\\u043d\\u0438\\u0435 \\u043f\\u043e\\u043c\\u043e\\u0436\\u0435\\u0442 \\u0432\\u043e\\u0435\\u043d\\u043d\\u044b\\u043c \\u0438 \\u0438\\u0445 \\u0440\\u043e\\u0434\\u043d\\u044b\\u043c \\u043f\\u043e\\u043b\\u0443\\u0447\\u0430\\u0442\\u044c \\u043b\\u044c\\u0433\\u043e\\u0442\\u044b \\u0438 \\u043f\\u043e\\u043c\\u043e\\u0449\\u044c \\u0431\\u043e\\u043b\\u0435\\u0435 \\u043e\\u043f\\u0435\\u0440\\u0430\\u0442\\u0438\\u0432\\u043d\\u043e.  \\u0421\\u0430\\u043c\\u043e\\u043b\\u0435\\u0442 \\u0421\\u0443-34 \\u043f\\u043e\\u0442\\u0435\\u0440\\u043f\\u0435\\u043b \\u043a\\u0440\\u0443\\u0448\\u0435\\u043d\\u0438\\u0435 \\u0432 \\u0412\\u043e\\u0440\\u043e\\u043d\\u0435\\u0436\\u0441\\u043a\\u043e\\u0439 \\u043e\\u0431\\u043b\\u0430\\u0441\\u0442\\u0438 \\u043f\\u0440\\u0438 \\u0432\\u044b\\u043f\\u043e\\u043b\\u043d\\u0435\\u043d\\u0438\\u0438 \\u043f\\u043b\\u0430\\u043d\\u043e\\u0432\\u043e\\u0433\\u043e \\u0443\\u0447\\u0435\\u0431\\u043d\\u043e-\\u0442\\u0440\\u0435\\u043d\\u0438\\u0440\\u043e\\u0432\\u043e\\u0447\\u043d\\u043e\\u0433\\u043e \\u043f\\u043e\\u043b\\u0435\\u0442\\u0430. \\u042d\\u043a\\u0438\\u043f\\u0430\\u0436 \\u0438\\u0441\\u0442\\u0440\\u0435\\u0431\\u0438\\u0442\\u0435\\u043b\\u044f \\u0432 \\u0441\\u043e\\u0441\\u0442\\u0430\\u0432\\u0435 \\u0434\\u0432\\u0443\\u0445 \\u0447\\u0435\\u043b\\u043e\\u0432\\u0435\\u043a \\u0443\\u0441\\u043f\\u0435\\u043b \\u043a\\u0430\\u0442\\u0430\\u043f\\u0443\\u043b\\u044c\\u0442\\u0438\\u0440\\u043e\\u0432\\u0430\\u0442\\u044c\\u0441\\u044f. \\u0412\\u043e\\u0437\\u043c\\u043e\\u0436\\u043d\\u043e\\u0439 \\u043f\\u0440\\u0438\\u0447\\u0438\\u043d\\u043e\\u0439 \\u0430\\u0432\\u0430\\u0440\\u0438\\u0438 \\u0432 \\u041c\\u0438\\u043d\\u043e\\u0431\\u043e\\u0440\\u043e\\u043d\\u044b \\u043d\\u0430\\u0437\\u0432\\u0430\\u043b\\u0438 \\u0442\\u0435\\u0445\\u043d\\u0438\\u0447\\u0435\\u0441\\u043a\\u0443\\u044e \\u043d\\u0435\\u0438\\u0441\\u043f\\u0440\\u0430\\u0432\\u043d\\u043e\\u0441\\u0442\\u044c \\u0431\\u043e\\u043c\\u0431\\u0430\\u0440\\u0434\\u0438\\u0440\\u043e\\u0432\\u0449\\u0438\\u043a\\u0430. \"\n        ],\n        \"semantic_type\": \"\",\n        \"description\": \"\"\n      }\n    },\n    {\n      \"column\": \"count\",\n      \"properties\": {\n        \"dtype\": \"number\",\n        \"std\": 740,\n        \"min\": 12,\n        \"max\": 10592,\n        \"num_unique_values\": 1293,\n        \"samples\": [\n          564,\n          1196,\n          1379\n        ],\n        \"semantic_type\": \"\",\n        \"description\": \"\"\n      }\n    },\n    {\n      \"column\": \"url\",\n      \"properties\": {\n        \"dtype\": \"string\",\n        \"num_unique_values\": 2389,\n        \"samples\": [\n          \"/opinions/18600913\",\n          \"/armiya-i-opk/18505079\",\n          \"/infographics/8602\"\n        ],\n        \"semantic_type\": \"\",\n        \"description\": \"\"\n      }\n    }\n  ]\n}"
            }
          },
          "metadata": {},
          "execution_count": 4
        }
      ],
      "source": [
        "articles = pd.read_csv('articles.csv')\n",
        "articles.head()"
      ]
    },
    {
      "cell_type": "markdown",
      "metadata": {
        "id": "f8_7Bw3WVhFd"
      },
      "source": [
        "**отделим тела новостей, оставим только буквы, токенизируем, приведём к нижнему регистру**"
      ]
    },
    {
      "cell_type": "code",
      "execution_count": 5,
      "metadata": {
        "colab": {
          "base_uri": "https://localhost:8080/"
        },
        "id": "NJkTZtz8OlIH",
        "outputId": "6e881a67-5387-4ce0-96b4-70e8fd784c92"
      },
      "outputs": [
        {
          "output_type": "stream",
          "name": "stdout",
          "text": [
            "len(corpus) = 2396, type(corpus) = <class 'numpy.ndarray'>\n",
            "\n",
            "Президент Украины Владимир Зеленский не смог объяснить, в чем заключается его план Б на тот случай, если Вашингтон не предоставит Киеву новый пакет помощи. У украинских властей нет выбора, проводить или не проводить мобилизацию, так как часть подразделений Вооруженных сил Украины (ВСУ) укомплектованы лишь наполовину. Однако, по словам экспертов, мобилизация уже создала огромный дефицит рабочей силы, а дополнительный призыв сотен тысяч человек приведет к частичному параличу экономики. ТАСС собрал актуальную информацию о событиях на Украине и вокруг нее. Вооруженные силы РФ за прошедшие сутки заняли более выгодные рубежи и позиции и отразили девять атак и контратак ВСУ на авдеевском направлении, три атаки на купянском направлении и три атаки на запорожском направлении, сообщили в Минобороны РФ. Потери противника за сутки на всех направлениях, включая донецкое, южнодонецкое и херсонское, составили до 840 бойцов. Российские средства ПВО за минувшие сутки сбили переоборудованную под ударную ракету ЗРК С-200, восемь реактивных снарядов РСЗО HIMARS, управляемую авиационную бомбу JDAM и 95 беспилотных летательных аппаратов, отметили в военном ведомстве. Кроме того, ВС РФ поразили пусковую установку и транспортно-заряжающую машину американского ЗРК Patriot, а также живую силу и военную технику ВСУ в 114 районах. Президент Украины в интервью телеканалу Fox News не смог объяснить, в чем заключается его план Б на тот случай, если Вашингтон не предоставит Киеву новый пакет помощи. При этом Зеленский не согласился с утверждением журналиста, что взятие Авдеевки российскими силами открывает новую фазу в ходе конфликта, отметив, что Авдеевка - это только \"один город\". Часть подразделений ВСУ укомплектована менее чем наполовину, заявил глава фракции президентской партии \"Слуга народа\" в Верховной раде Давид Арахамия. Поэтому у украинских властей \"нет выбора, проводить или не проводить мобилизацию\". По данным украинских СМИ, число мужчин, подлежащих на Украине мобилизации в соответствии с новым законопроектом, который сейчас рассматривает Верховная рада, может составить максимум 850 тыс. Отмечается, что обеспечение одного военного требует в среднем 80 тыс. гривен в месяц, или около $2 тыс., для чего нужно четыре-пять человек, которые будут платить налоги на армию. При этом эксперты и бизнес давно отмечают, что мобилизация создала огромный дефицит рабочей силы, а дополнительный призыв сотен тысяч человек приведет к частичному параличу экономики. Великобритания расширила на 50 позиций список антироссийских санкций, включив в него две российские компании алмазо-бриллиантового комплекса, главу \"Алросы\" Павла Маринычева, предприятия и физических лиц в сфере производства боеприпасов, металлургические компании, фирмы, связанные с продажей и перевозкой нефти, руководство \"Новатэка\" и проекта компании \"Арктик СПГ - 2\". Список опубликован на сайте британского МИД. Из физических лиц под санкциями оказались председатель совета директоров и крупнейший акционер горно-металлургического холдинга \"Мечел\" Игорь Зюзин, четыре члена управляющего совета \"Алросы\", председатель совета директоров \"Объединенной металлургической компании\" Анатолий Седых, владельцы УГМК, учредительница ранее подпавшей под санкции компании \"Флай бридж\" Анна Лужанская. Евросоюз больше не рассматривает март как срок начала переговоров о приеме Украины в ЕС, подготовка к этому процессу \"может потребовать еще недели или месяцы\", заявил глава пресс-службы Еврокомиссии Эрик Мамер. По его словам, никакой определенной даты для начала переговоров не существует и \"вопрос об ускорении этого процесса не стоит\". Германский Бундестаг проголосовал против резолюции фракции оппозиционного блока Христианско-демократического и Христианско-социального союзов (ХДС/ХСС), требующей поставить Украине крылатые ракеты Taurus. За выступили 182 депутата из 667 присутствовавших, против - 480, еще 5 парламентариев воздержались. При это парламентарии приняли резолюцию фракций правящих партий (Социал-демократическая партия Германии - СДПГ, \"зеленые\" и Свободная демократическая партия - СвДП, либералы), которая содержит призыв передать Украине дальнобойное оружие. В документе говорится, что долгосрочная военная поддержка Украины \"включает в себя и поставки необходимых дополнительных дальнобойных боевых систем и боеприпасов\", чтобы она \"могла наносить прицельные удары по стратегически важным объектам, находящимся в глубоком тылу\" российских сил. Крылатые ракеты Taurus прямо не упоминаются. Великобритания передаст Украине еще 200 высокоточных ракет Brimstone, заявил глава Минобороны Соединенного Королевства Грант Шэппс, отметив, что этот вид ракет уже якобы \"показал способность влиять на ситуацию на поле боя\". Он напомнил также, что в ближайшее время Киев должен будет получить от Лондона БПЛА, средства РЭБ, противоминную и другую технику, которая была приобретена из средств Международного фонда помощи Украине. Дания предоставит Украине военную помощь на сумму 1,7 млрд крон ($247 млн), сообщила премьер-министр королевства Метте Фредериксен. Ранее глава Минобороны Дании Троэльс Лунд Поульсен заявил, что новый пакет помощи Украине будет включать средства ПВО, БЛА и артиллерийские орудия. \n",
            "\n",
            "['президент', 'украины', 'владимир', 'зеленский', 'не', 'смог', 'объяснить', 'в', 'чем', 'заключается', 'его', 'план', 'б', 'на', 'тот', 'случай', 'если', 'вашингтон', 'не', 'предоставит', 'киеву', 'новый', 'пакет', 'помощи', 'у', 'украинских', 'властей', 'нет', 'выбора', 'проводить', 'или', 'не', 'проводить', 'мобилизацию', 'так', 'как', 'часть', 'подразделений', 'вооруженных', 'сил', 'украины', 'всу', 'укомплектованы', 'лишь', 'наполовину', 'однако', 'по', 'словам', 'экспертов', 'мобилизация', 'уже', 'создала', 'огромный', 'дефицит', 'рабочей', 'силы', 'а', 'дополнительный', 'призыв', 'сотен', 'тысяч', 'человек', 'приведет', 'к', 'частичному', 'параличу', 'экономики', 'тасс', 'собрал', 'актуальную', 'информацию', 'о', 'событиях', 'на', 'украине', 'и', 'вокруг', 'нее', 'вооруженные', 'силы', 'рф', 'за', 'прошедшие', 'сутки', 'заняли', 'более', 'выгодные', 'рубежи', 'и', 'позиции', 'и', 'отразили', 'девять', 'атак', 'и', 'контратак', 'всу', 'на', 'авдеевском', 'направлении', 'три', 'атаки', 'на', 'купянском', 'направлении', 'и', 'три', 'атаки', 'на', 'запорожском', 'направлении', 'сообщили', 'в', 'минобороны', 'рф', 'потери', 'противника', 'за', 'сутки', 'на', 'всех', 'направлениях', 'включая', 'донецкое', 'южнодонецкое', 'и', 'херсонское', 'составили', 'до', 'бойцов', 'российские', 'средства', 'пво', 'за', 'минувшие', 'сутки', 'сбили', 'переоборудованную', 'под', 'ударную', 'ракету', 'зрк', 'с', 'восемь', 'реактивных', 'снарядов', 'рсзо', 'управляемую', 'авиационную', 'бомбу', 'и', 'беспилотных', 'летательных', 'аппаратов', 'отметили', 'в', 'военном', 'ведомстве', 'кроме', 'того', 'вс', 'рф', 'поразили', 'пусковую', 'установку', 'и', 'транспортно', 'заряжающую', 'машину', 'американского', 'зрк', 'а', 'также', 'живую', 'силу', 'и', 'военную', 'технику', 'всу', 'в', 'районах', 'президент', 'украины', 'в', 'интервью', 'телеканалу', 'не', 'смог', 'объяснить', 'в', 'чем', 'заключается', 'его', 'план', 'б', 'на', 'тот', 'случай', 'если', 'вашингтон', 'не', 'предоставит', 'киеву', 'новый', 'пакет', 'помощи', 'при', 'этом', 'зеленский', 'не', 'согласился', 'с', 'утверждением', 'журналиста', 'что', 'взятие', 'авдеевки', 'российскими', 'силами', 'открывает', 'новую', 'фазу', 'в', 'ходе', 'конфликта', 'отметив', 'что', 'авдеевка', 'это', 'только', 'один', 'город', 'часть', 'подразделений', 'всу', 'укомплектована', 'менее', 'чем', 'наполовину', 'заявил', 'глава', 'фракции', 'президентской', 'партии', 'слуга', 'народа', 'в', 'верховной', 'раде', 'давид', 'арахамия', 'поэтому', 'у', 'украинских', 'властей', 'нет', 'выбора', 'проводить', 'или', 'не', 'проводить', 'мобилизацию', 'по', 'данным', 'украинских', 'сми', 'число', 'мужчин', 'подлежащих', 'на', 'украине', 'мобилизации', 'в', 'соответствии', 'с', 'новым', 'законопроектом', 'который', 'сейчас', 'рассматривает', 'верховная', 'рада', 'может', 'составить', 'максимум', 'тыс', 'отмечается', 'что', 'обеспечение', 'одного', 'военного', 'требует', 'в', 'среднем', 'тыс', 'гривен', 'в', 'месяц', 'или', 'около', 'тыс', 'для', 'чего', 'нужно', 'четыре', 'пять', 'человек', 'которые', 'будут', 'платить', 'налоги', 'на', 'армию', 'при', 'этом', 'эксперты', 'и', 'бизнес', 'давно', 'отмечают', 'что', 'мобилизация', 'создала', 'огромный', 'дефицит', 'рабочей', 'силы', 'а', 'дополнительный', 'призыв', 'сотен', 'тысяч', 'человек', 'приведет', 'к', 'частичному', 'параличу', 'экономики', 'великобритания', 'расширила', 'на', 'позиций', 'список', 'антироссийских', 'санкций', 'включив', 'в', 'него', 'две', 'российские', 'компании', 'алмазо', 'бриллиантового', 'комплекса', 'главу', 'алросы', 'павла', 'маринычева', 'предприятия', 'и', 'физических', 'лиц', 'в', 'сфере', 'производства', 'боеприпасов', 'металлургические', 'компании', 'фирмы', 'связанные', 'с', 'продажей', 'и', 'перевозкой', 'нефти', 'руководство', 'новатэка', 'и', 'проекта', 'компании', 'арктик', 'спг', 'список', 'опубликован', 'на', 'сайте', 'британского', 'мид', 'из', 'физических', 'лиц', 'под', 'санкциями', 'оказались', 'председатель', 'совета', 'директоров', 'и', 'крупнейший', 'акционер', 'горно', 'металлургического', 'холдинга', 'мечел', 'игорь', 'зюзин', 'четыре', 'члена', 'управляющего', 'совета', 'алросы', 'председатель', 'совета', 'директоров', 'объединенной', 'металлургической', 'компании', 'анатолий', 'седых', 'владельцы', 'угмк', 'учредительница', 'ранее', 'подпавшей', 'под', 'санкции', 'компании', 'флай', 'бридж', 'анна', 'лужанская', 'евросоюз', 'больше', 'не', 'рассматривает', 'март', 'как', 'срок', 'начала', 'переговоров', 'о', 'приеме', 'украины', 'в', 'ес', 'подготовка', 'к', 'этому', 'процессу', 'может', 'потребовать', 'еще', 'недели', 'или', 'месяцы', 'заявил', 'глава', 'пресс', 'службы', 'еврокомиссии', 'эрик', 'мамер', 'по', 'его', 'словам', 'никакой', 'определенной', 'даты', 'для', 'начала', 'переговоров', 'не', 'существует', 'и', 'вопрос', 'об', 'ускорении', 'этого', 'процесса', 'не', 'стоит', 'германский', 'бундестаг', 'проголосовал', 'против', 'резолюции', 'фракции', 'оппозиционного', 'блока', 'христианско', 'демократического', 'и', 'христианско', 'социального', 'союзов', 'хдс', 'хсс', 'требующей', 'поставить', 'украине', 'крылатые', 'ракеты', 'за', 'выступили', 'депутата', 'из', 'присутствовавших', 'против', 'еще', 'парламентариев', 'воздержались', 'при', 'это', 'парламентарии', 'приняли', 'резолюцию', 'фракций', 'правящих', 'партий', 'социал', 'демократическая', 'партия', 'германии', 'сдпг', 'зеленые', 'и', 'свободная', 'демократическая', 'партия', 'свдп', 'либералы', 'которая', 'содержит', 'призыв', 'передать', 'украине', 'дальнобойное', 'оружие', 'в', 'документе', 'говорится', 'что', 'долгосрочная', 'военная', 'поддержка', 'украины', 'включает', 'в', 'себя', 'и', 'поставки', 'необходимых', 'дополнительных', 'дальнобойных', 'боевых', 'систем', 'и', 'боеприпасов', 'чтобы', 'она', 'могла', 'наносить', 'прицельные', 'удары', 'по', 'стратегически', 'важным', 'объектам', 'находящимся', 'в', 'глубоком', 'тылу', 'российских', 'сил', 'крылатые', 'ракеты', 'прямо', 'не', 'упоминаются', 'великобритания', 'передаст', 'украине', 'еще', 'высокоточных', 'ракет', 'заявил', 'глава', 'минобороны', 'соединенного', 'королевства', 'грант', 'шэппс', 'отметив', 'что', 'этот', 'вид', 'ракет', 'уже', 'якобы', 'показал', 'способность', 'влиять', 'на', 'ситуацию', 'на', 'поле', 'боя', 'он', 'напомнил', 'также', 'что', 'в', 'ближайшее', 'время', 'киев', 'должен', 'будет', 'получить', 'от', 'лондона', 'бпла', 'средства', 'рэб', 'противоминную', 'и', 'другую', 'технику', 'которая', 'была', 'приобретена', 'из', 'средств', 'международного', 'фонда', 'помощи', 'украине', 'дания', 'предоставит', 'украине', 'военную', 'помощь', 'на', 'сумму', 'млрд', 'крон', 'млн', 'сообщила', 'премьер', 'министр', 'королевства', 'метте', 'фредериксен', 'ранее', 'глава', 'минобороны', 'дании', 'троэльс', 'лунд', 'поульсен', 'заявил', 'что', 'новый', 'пакет', 'помощи', 'украине', 'будет', 'включать', 'средства', 'пво', 'бла', 'и', 'артиллерийские', 'орудия']\n"
          ]
        }
      ],
      "source": [
        "corpus = articles.body.values\n",
        "print(f'len(corpus) = {len(corpus)}, type(corpus) = {type(corpus)}\\n')\n",
        "print(corpus[0], end='\\n\\n')\n",
        "\n",
        "TOKEN_PATTERN = re.compile('[а-яА-ЯёЁ]+')\n",
        "\n",
        "\n",
        "def tokenize(text):\n",
        "    return re.findall(TOKEN_PATTERN, text.lower())\n",
        "\n",
        "\n",
        "docs = [tokenize(text) for text in corpus]\n",
        "print(docs[0])"
      ]
    },
    {
      "cell_type": "markdown",
      "source": [
        "**почистим от стоп-слов**"
      ],
      "metadata": {
        "id": "ZqL7MvCLWOPs"
      }
    },
    {
      "cell_type": "code",
      "execution_count": 6,
      "metadata": {
        "colab": {
          "base_uri": "https://localhost:8080/"
        },
        "id": "dMwo__o3jRfq",
        "outputId": "1812c907-a608-48e7-cb58-db102b451993"
      },
      "outputs": [
        {
          "output_type": "stream",
          "name": "stderr",
          "text": [
            "100%|██████████| 2396/2396 [00:00<00:00, 8117.60it/s]\n"
          ]
        }
      ],
      "source": [
        "cleared_docs = [[token for token in text if token not in stopword_set] for text in tqdm.tqdm(docs)]"
      ]
    },
    {
      "cell_type": "markdown",
      "source": [
        "**TRIE**"
      ],
      "metadata": {
        "id": "ELd00KGRG2Gf"
      }
    },
    {
      "cell_type": "code",
      "source": [
        "class TrieNode:\n",
        "    def __init__(self, label: str, key: Optional[str] = None):\n",
        "        self.children = [None] * 35     # не 33, потому что 'я' --> 'ѐ' --> 'ё'\n",
        "        self.is_terminal = False\n",
        "        self.reverse_index = {}\n",
        "\n",
        "\n",
        "class Trie:\n",
        "    def __init__(self):\n",
        "        self.root = TrieNode(label='')\n",
        "\n",
        "    def insert(self, key, doc_index, word_index):\n",
        "        if not key:\n",
        "            return None\n",
        "\n",
        "        search_result = self.search(key)\n",
        "\n",
        "        # если слово есть\n",
        "        if search_result[0]:\n",
        "            current_node = search_result[1]\n",
        "\n",
        "            # если слово есть, но нет его документа --> добавляем к слову новый документ и индекс\n",
        "            if doc_index not in current_node.reverse_index:\n",
        "                current_node.reverse_index[doc_index] = [word_index]\n",
        "\n",
        "            # если слово есть и есть его документ --> добавляем к документу новый индекс\n",
        "            else:\n",
        "                current_node.reverse_index[doc_index].append(word_index)\n",
        "            return None\n",
        "\n",
        "\n",
        "        # если слова нет --> добавляем слово с его индексом документа и индексом в документе\n",
        "        current_node = self.root\n",
        "        for char in key:\n",
        "            index = ord(char) - ord('а')\n",
        "            if not current_node.children[index]:\n",
        "                current_node.children[index] = TrieNode(label=char)\n",
        "            current_node = current_node.children[index]\n",
        "        current_node.is_terminal = True\n",
        "        current_node.key = key\n",
        "        current_node.reverse_index[doc_index] = [word_index]\n",
        "\n",
        "\n",
        "    def search(self, key):\n",
        "        if not key:\n",
        "            return None\n",
        "\n",
        "        current_node = self.root\n",
        "\n",
        "        for char in key:\n",
        "            index = ord(char) - ord('а')\n",
        "            if not current_node.children[index]:\n",
        "                return False, ''\n",
        "            current_node = current_node.children[index]\n",
        "\n",
        "        return current_node.is_terminal, current_node"
      ],
      "metadata": {
        "id": "VNHygWrZiLgo"
      },
      "execution_count": 7,
      "outputs": []
    },
    {
      "cell_type": "markdown",
      "source": [
        "**префиксное дерево на текстах, очищенных от стоп-слов**"
      ],
      "metadata": {
        "id": "T0ZvbdYqtbQl"
      }
    },
    {
      "cell_type": "code",
      "source": [
        "tass_trie = Trie()\n",
        "\n",
        "for i in tqdm.tqdm(range(len(cleared_docs))):\n",
        "    for j in range(len(cleared_docs[i])):\n",
        "        tass_trie.insert(cleared_docs[i][j], i, j)"
      ],
      "metadata": {
        "colab": {
          "base_uri": "https://localhost:8080/"
        },
        "id": "0lgkaNh-iLjW",
        "outputId": "d3f64b79-7632-4b30-a68a-8b1ffc23c3ad"
      },
      "execution_count": 8,
      "outputs": [
        {
          "output_type": "stream",
          "name": "stderr",
          "text": [
            "100%|██████████| 2396/2396 [00:13<00:00, 181.41it/s]\n"
          ]
        }
      ]
    },
    {
      "cell_type": "markdown",
      "source": [
        "**лемматайзер**"
      ],
      "metadata": {
        "id": "HunZ2-vGa-vO"
      }
    },
    {
      "cell_type": "code",
      "execution_count": 9,
      "metadata": {
        "colab": {
          "base_uri": "https://localhost:8080/"
        },
        "id": "vflOB7JJjt-6",
        "outputId": "4b8877b2-d48e-4736-ab22-8db91cc1744a"
      },
      "outputs": [
        {
          "output_type": "stream",
          "name": "stdout",
          "text": [
            "Collecting pymorphy2==0.8\n",
            "  Downloading pymorphy2-0.8-py2.py3-none-any.whl (46 kB)\n",
            "\u001b[2K     \u001b[90m━━━━━━━━━━━━━━━━━━━━━━━━━━━━━━━━━━━━━━━━\u001b[0m \u001b[32m46.1/46.1 kB\u001b[0m \u001b[31m1.5 MB/s\u001b[0m eta \u001b[36m0:00:00\u001b[0m\n",
            "\u001b[?25hCollecting dawg-python>=0.7 (from pymorphy2==0.8)\n",
            "  Downloading DAWG_Python-0.7.2-py2.py3-none-any.whl (11 kB)\n",
            "Collecting pymorphy2-dicts<3.0,>=2.4 (from pymorphy2==0.8)\n",
            "  Downloading pymorphy2_dicts-2.4.393442.3710985-py2.py3-none-any.whl (7.1 MB)\n",
            "\u001b[2K     \u001b[90m━━━━━━━━━━━━━━━━━━━━━━━━━━━━━━━━━━━━━━━━\u001b[0m \u001b[32m7.1/7.1 MB\u001b[0m \u001b[31m47.2 MB/s\u001b[0m eta \u001b[36m0:00:00\u001b[0m\n",
            "\u001b[?25hCollecting docopt>=0.6 (from pymorphy2==0.8)\n",
            "  Downloading docopt-0.6.2.tar.gz (25 kB)\n",
            "  Preparing metadata (setup.py) ... \u001b[?25l\u001b[?25hdone\n",
            "Building wheels for collected packages: docopt\n",
            "  Building wheel for docopt (setup.py) ... \u001b[?25l\u001b[?25hdone\n",
            "  Created wheel for docopt: filename=docopt-0.6.2-py2.py3-none-any.whl size=13706 sha256=b26507214379dcac090d3484ac294cdec20a053cdbebceacc184a09b3275e1ff\n",
            "  Stored in directory: /root/.cache/pip/wheels/fc/ab/d4/5da2067ac95b36618c629a5f93f809425700506f72c9732fac\n",
            "Successfully built docopt\n",
            "Installing collected packages: pymorphy2-dicts, docopt, dawg-python, pymorphy2\n",
            "Successfully installed dawg-python-0.7.2 docopt-0.6.2 pymorphy2-0.8 pymorphy2-dicts-2.4.393442.3710985\n"
          ]
        }
      ],
      "source": [
        "!pip install pymorphy2==0.8\n",
        "import pymorphy2"
      ]
    },
    {
      "cell_type": "code",
      "execution_count": 10,
      "metadata": {
        "id": "6eaKNeZPjt-6"
      },
      "outputs": [],
      "source": [
        "lemmatizer = pymorphy2.MorphAnalyzer()"
      ]
    },
    {
      "cell_type": "code",
      "execution_count": null,
      "metadata": {
        "colab": {
          "base_uri": "https://localhost:8080/"
        },
        "id": "iEn8rHh97YIa",
        "outputId": "54aed0fa-b386-4064-8dae-dab9ce28be75"
      },
      "outputs": [
        {
          "output_type": "execute_result",
          "data": {
            "text/plain": [
              "['аббревиатура',\n",
              " 'аббревиатура',\n",
              " 'аббревиатура',\n",
              " 'аббревиатура',\n",
              " 'аббревиатура',\n",
              " 'аббревиатура',\n",
              " 'человек',\n",
              " 'человек',\n",
              " 'человек']"
            ]
          },
          "metadata": {},
          "execution_count": 25
        }
      ],
      "source": [
        "# пример работы лемматайзера\n",
        "\n",
        "words = [\n",
        "    'аббревиатур',\n",
        "    'аббревиатура',\n",
        "    'аббревиатуре',\n",
        "    'аббревиатурой',\n",
        "    'аббревиатуру',\n",
        "    'аббревиатуры',\n",
        "    'человек',\n",
        "    'люди',\n",
        "    'людьми'\n",
        "]\n",
        "\n",
        "[lemmatizer.parse(word)[0].normal_form for word in words]"
      ]
    },
    {
      "cell_type": "code",
      "source": [
        "# морфологический словарь\n",
        "morph_dict = defaultdict(set)\n",
        "\n",
        "for doc in tqdm.tqdm(cleared_docs):\n",
        "    for token in doc:\n",
        "        key = lemmatizer.parse(token)[0].normal_form\n",
        "        morph_dict[key].add(token)\n",
        "\n",
        "\n",
        "print(len(morph_dict))"
      ],
      "metadata": {
        "colab": {
          "base_uri": "https://localhost:8080/"
        },
        "id": "lE-oHLewMPcn",
        "outputId": "73207b56-20e0-4b9c-d311-31279d38bfab"
      },
      "execution_count": null,
      "outputs": [
        {
          "output_type": "stream",
          "name": "stderr",
          "text": [
            "100%|██████████| 2396/2396 [04:43<00:00,  8.45it/s]"
          ]
        },
        {
          "output_type": "stream",
          "name": "stdout",
          "text": [
            "47689\n"
          ]
        },
        {
          "output_type": "stream",
          "name": "stderr",
          "text": [
            "\n"
          ]
        }
      ]
    },
    {
      "cell_type": "code",
      "source": [
        "print(morph_dict['лукашенко'])\n",
        "print(morph_dict['учёный'])"
      ],
      "metadata": {
        "colab": {
          "base_uri": "https://localhost:8080/"
        },
        "id": "Kl7lr_eRNLyM",
        "outputId": "ca22316b-5774-43a0-a45a-321d319ef5f0"
      },
      "execution_count": null,
      "outputs": [
        {
          "output_type": "stream",
          "name": "stdout",
          "text": [
            "{'лукашенко'}\n",
            "{'ученая', 'ученых', 'ученые', 'ученым', 'ученой', 'ученом', 'ученый', 'ученого', 'ученому', 'учеными'}\n"
          ]
        }
      ]
    },
    {
      "cell_type": "code",
      "source": [
        "# сохраним\n",
        "for key in morph_dict:\n",
        "    morph_dict[key] = [*morph_dict[key]]\n",
        "\n",
        "with open('morph_dict.json', 'w') as file:\n",
        "    json.dump(morph_dict, file)"
      ],
      "metadata": {
        "id": "8z4Mi10QStBS",
        "colab": {
          "base_uri": "https://localhost:8080/"
        },
        "outputId": "d3f23247-7a5d-44f5-9c99-99f0f63a94d2"
      },
      "execution_count": null,
      "outputs": [
        {
          "output_type": "stream",
          "name": "stdout",
          "text": [
            "['лукашенко']\n",
            "['ученая', 'ученых', 'ученые', 'ученым', 'ученой', 'ученом', 'ученый', 'ученого', 'ученому', 'учеными']\n"
          ]
        }
      ]
    },
    {
      "cell_type": "code",
      "source": [
        "!gdown 1x5XFECfvU4JUAVgY0NeX5iL1PksRd4-6"
      ],
      "metadata": {
        "colab": {
          "base_uri": "https://localhost:8080/"
        },
        "id": "RcJ4RW_DTdP9",
        "outputId": "fd0afbe3-9a3e-4bbc-f9df-45e39c1c199c"
      },
      "execution_count": 11,
      "outputs": [
        {
          "output_type": "stream",
          "name": "stdout",
          "text": [
            "Downloading...\n",
            "From: https://drive.google.com/uc?id=1x5XFECfvU4JUAVgY0NeX5iL1PksRd4-6\n",
            "To: /content/morph_dict.json\n",
            "\r  0% 0.00/10.3M [00:00<?, ?B/s]\r 46% 4.72M/10.3M [00:00<00:00, 46.8MB/s]\r100% 10.3M/10.3M [00:00<00:00, 70.0MB/s]\n"
          ]
        }
      ]
    },
    {
      "cell_type": "code",
      "source": [
        "with open('morph_dict.json') as file:\n",
        "    morph_dict = json.load(file)\n",
        "\n",
        "print(morph_dict['лукашенко'])\n",
        "print(morph_dict['учёный'])"
      ],
      "metadata": {
        "colab": {
          "base_uri": "https://localhost:8080/"
        },
        "id": "-TPN3i-DRm6O",
        "outputId": "fa464693-8462-4aa0-a2ee-6e3c60461c23"
      },
      "execution_count": 12,
      "outputs": [
        {
          "output_type": "stream",
          "name": "stdout",
          "text": [
            "['лукашенко']\n",
            "['ученым', 'ученая', 'ученые', 'учеными', 'ученой', 'ученому', 'ученый', 'ученом', 'ученого', 'ученых']\n"
          ]
        }
      ]
    },
    {
      "cell_type": "code",
      "source": [
        "def _search(trie: Trie, morph_dict, *words) -> dict:\n",
        "    \"\"\"\n",
        "    находит лемму слова для поиска; morph_dict = {'лемма': [словоформы]}\n",
        "    ищет словоформы в префиксном дереве\n",
        "    возвращает: {token: TrieNode}\n",
        "    \"\"\"\n",
        "    dict_result = {}\n",
        "    for word in words:\n",
        "        word = word.lower()\n",
        "        lemma = lemmatizer.parse(word)[0].normal_form\n",
        "        tokens = morph_dict[lemma]\n",
        "        for token in tokens:\n",
        "            result = trie.search(token)\n",
        "            if result[0]:\n",
        "                dict_result[token] = result[1]\n",
        "            else:\n",
        "                print('there is no such word in the database')\n",
        "    return dict_result\n",
        "\n",
        "\n",
        "def search(trie: Trie, morph_dict, *words, k=5) -> None:\n",
        "    \"\"\"\n",
        "    вызывает функцию _search()\n",
        "    отрезает k релевантных документов, печатает сниппеты из текстов\n",
        "    \"\"\"\n",
        "\n",
        "    dict_result = _search(trie, morph_dict, *words)\n",
        "\n",
        "    print(\"################################################\")\n",
        "    print(\"\\n=========================================\\n\")\n",
        "    for word in dict_result:\n",
        "        indices = dict_result[word].reverse_index\n",
        "\n",
        "        if len(indices) < k:\n",
        "            k = len(indices)\n",
        "        sorted_indices = sorted(indices.items(), key=lambda item: -len(item[1]))[:k]\n",
        "\n",
        "        print(f'the word \"{word}\" appears in:')\n",
        "        for key in sorted_indices:\n",
        "            print(f'TITLE: {articles.title[key[0]]}')\n",
        "            indices_in_doc = key[1]\n",
        "            for index in indices_in_doc:\n",
        "                if 0 <= index + 2 < len(cleared_docs[key[0]]) and 0 <= index - 2 < len(cleared_docs[key[0]]):\n",
        "                    print(f'SNIPPET: \"...{cleared_docs[key[0]][index-2]} {cleared_docs[key[0]][index-1]} {cleared_docs[key[0]][index]} {cleared_docs[key[0]][index+1]} {cleared_docs[key[0]][index+2]}...\"')\n",
        "                elif 0 <= index - 2 < len(cleared_docs[key[0]]):\n",
        "                    print(f'SNIPPET: \"...{cleared_docs[key[0]][index-2]} {cleared_docs[key[0]][index-1]} {cleared_docs[key[0]][index]}...\"')\n",
        "                else:\n",
        "                    print(f'SNIPPET: \"...{cleared_docs[key[0]][index]} {cleared_docs[key[0]][index+1]} {cleared_docs[key[0]][index+2]}...\"')\n",
        "            print(\"\\n=========================================\\n\")\n",
        "        print(\"################################################\\n\")"
      ],
      "metadata": {
        "id": "Ymh6a0meQPhd"
      },
      "execution_count": 13,
      "outputs": []
    },
    {
      "cell_type": "code",
      "source": [
        "search(tass_trie, morph_dict, 'люди', k=3)"
      ],
      "metadata": {
        "colab": {
          "base_uri": "https://localhost:8080/"
        },
        "id": "pJhgSEIbRbQP",
        "outputId": "8939606f-8c10-44ed-af4b-bf32ea8f9428"
      },
      "execution_count": 14,
      "outputs": [
        {
          "output_type": "stream",
          "name": "stdout",
          "text": [
            "################################################\n",
            "\n",
            "=========================================\n",
            "\n",
            "the word \"человеке\" appears in:\n",
            "TITLE: В поисках человечности. Почему история с Твиксом стала известной и чему она нас научила\n",
            "SNIPPET: \"...жив человек человеке доброе светлое...\"\n",
            "\n",
            "=========================================\n",
            "\n",
            "TITLE: Влюбленный инженер, трактирщик и барон: семь ярких ролей Юрия Соломина\n",
            "SNIPPET: \"...лучший фильм человеке природе кстати...\"\n",
            "\n",
            "=========================================\n",
            "\n",
            "TITLE: Новатор и друг Яшина. Умер Франц Беккенбауэр\n",
            "SNIPPET: \"...нем замечательном человеке сказал кавазашвили...\"\n",
            "\n",
            "=========================================\n",
            "\n",
            "################################################\n",
            "\n",
            "the word \"люди\" appears in:\n",
            "TITLE: Дмитрий Медведев: ненавижу врагов России\n",
            "SNIPPET: \"...какие круги люди видели значит...\"\n",
            "SNIPPET: \"...форме такие люди количество расти...\"\n",
            "SNIPPET: \"...войска сами люди населяющие земли...\"\n",
            "SNIPPET: \"...совершенно другие люди которые осознают...\"\n",
            "SNIPPET: \"...украина такие люди появятся ними...\"\n",
            "SNIPPET: \"...города какие люди живут каком...\"\n",
            "SNIPPET: \"...остальные это люди которых своей...\"\n",
            "SNIPPET: \"...разговаривать такие люди появятся ними...\"\n",
            "SNIPPET: \"...призадуматься почему люди знаете думают...\"\n",
            "SNIPPET: \"...это те люди которые получили...\"\n",
            "SNIPPET: \"...болезненный наверняка люди которые прописаны...\"\n",
            "SNIPPET: \"...это видят люди которые живут...\"\n",
            "SNIPPET: \"...тяжелая история люди наши каждый...\"\n",
            "SNIPPET: \"...помнить всем люди сути находятся...\"\n",
            "SNIPPET: \"...людей знаете люди разные сказали...\"\n",
            "SNIPPET: \"...таких просто люди которые сидят...\"\n",
            "SNIPPET: \"...служить такие люди безусловно менее...\"\n",
            "SNIPPET: \"...навсегда это люди которые вредят...\"\n",
            "SNIPPET: \"...обычными автомобилями люди покупали покупали...\"\n",
            "SNIPPET: \"...удочку это люди взрослые которых...\"\n",
            "SNIPPET: \"...это просто люди которых купили...\"\n",
            "SNIPPET: \"...проблема некоторые люди въезжают чужой...\"\n",
            "SNIPPET: \"...колонии многие люди разных регионах...\"\n",
            "SNIPPET: \"...среди разные люди смотрите те...\"\n",
            "SNIPPET: \"...смотрите те люди которые просто...\"\n",
            "SNIPPET: \"...раздела части люди релоканты мерзавцы...\"\n",
            "SNIPPET: \"...типа стояли люди агрессивно настроенные...\"\n",
            "SNIPPET: \"...это обычные люди миллионы сотни...\"\n",
            "SNIPPET: \"...важная тема люди умудряются массово...\"\n",
            "\n",
            "=========================================\n",
            "\n",
            "TITLE: Михаил Шуфутинский: cейчас нельзя быть вдали от своей Родины\n",
            "SNIPPET: \"...гостиница регистрируешься люди забыли случайно...\"\n",
            "SNIPPET: \"...желающих те люди которых приглашаю...\"\n",
            "SNIPPET: \"...хороших будут люди которые моей...\"\n",
            "SNIPPET: \"...совершенно разные люди большинство знакомы...\"\n",
            "SNIPPET: \"...система которой люди общаются вращаясь...\"\n",
            "SNIPPET: \"...человек разные люди фронтовики побывавшие...\"\n",
            "SNIPPET: \"...школы рабочие люди которые имели...\"\n",
            "SNIPPET: \"...сегодня сегодня люди это знают...\"\n",
            "SNIPPET: \"...московских говорил люди разные пришел...\"\n",
            "SNIPPET: \"...моему доброму люди любят песню...\"\n",
            "SNIPPET: \"...чистые нормальные люди любят песню...\"\n",
            "SNIPPET: \"...появились дискотеки люди пели другие...\"\n",
            "SNIPPET: \"...какую отдушину люди стали петь...\"\n",
            "SNIPPET: \"...впечатления пока люди слушают музыку...\"\n",
            "SNIPPET: \"...произвел такое люди будут думать...\"\n",
            "SNIPPET: \"...многие молодые люди стараются специально...\"\n",
            "SNIPPET: \"...которую специально люди выливают наружу...\"\n",
            "SNIPPET: \"...туда приходят люди играющие некоторые...\"\n",
            "SNIPPET: \"...дубае такие люди смотря ждешь...\"\n",
            "SNIPPET: \"...среди диаспоры люди полюбили начал...\"\n",
            "SNIPPET: \"...пустят приехать люди хотели концерт...\"\n",
            "SNIPPET: \"...согласен те люди которых буду...\"\n",
            "SNIPPET: \"...здорово быстро люди коммерчески очень...\"\n",
            "SNIPPET: \"...искать другого люди добились успеха...\"\n",
            "SNIPPET: \"...эмиграция послереволюционная люди уезжали понимали...\"\n",
            "\n",
            "=========================================\n",
            "\n",
            "TITLE: Евгений Балицкий: Запорожская область — форпост России на Днепре\n",
            "SNIPPET: \"...будут наши люди выхватывают окоп...\"\n",
            "SNIPPET: \"...научились видеть люди которые слушают...\"\n",
            "SNIPPET: \"...безопасность людей люди устают войны...\"\n",
            "SNIPPET: \"...пропустить противника люди должны уверены...\"\n",
            "SNIPPET: \"...свое время люди воды сдохни...\"\n",
            "SNIPPET: \"...понимают живут люди одно дело...\"\n",
            "SNIPPET: \"...посредников нужны люди которые сожалению...\"\n",
            "SNIPPET: \"...тенденции наблюдаете люди возвращаются фиксируем...\"\n",
            "SNIPPET: \"...европы едут люди последний вопрос...\"\n",
            "SNIPPET: \"...экономическая продовольственная люди поедут запорожская...\"\n",
            "SNIPPET: \"...создать условия люди ехали возвращались...\"\n",
            "SNIPPET: \"...рабочие места люди будут работать...\"\n",
            "SNIPPET: \"...живущие украине люди которые живут...\"\n",
            "SNIPPET: \"...ментально вернутся люди хотят зря...\"\n",
            "SNIPPET: \"...хотят зря люди получают паспорта...\"\n",
            "\n",
            "=========================================\n",
            "\n",
            "################################################\n",
            "\n",
            "the word \"людей\" appears in:\n",
            "TITLE: Главный гериатр Москвы: мы все запрограммированы на столетнюю жизнь\n",
            "SNIPPET: \"...помощи посторонних людей специально каждый...\"\n",
            "SNIPPET: \"...здоровье пожилых людей улучшить качество...\"\n",
            "SNIPPET: \"...встречаются пожилых людей насколько распространены...\"\n",
            "SNIPPET: \"...лет среди людей старше лет...\"\n",
            "SNIPPET: \"...понять таких людей посетители московского...\"\n",
            "SNIPPET: \"...родным пожилых людей первые признаки...\"\n",
            "SNIPPET: \"...состоянию пожилых людей возникают какие...\"\n",
            "SNIPPET: \"...инсульты пожилых людей каковы симптомы...\"\n",
            "SNIPPET: \"...возникает пожилых людей особенно тех...\"\n",
            "SNIPPET: \"...часто пожилых людей снижаются функции...\"\n",
            "SNIPPET: \"...общества целом людей гораздо молодого...\"\n",
            "SNIPPET: \"...полезны пожилых людей жителей среднего...\"\n",
            "SNIPPET: \"...ответственность самих людей ответственность свое...\"\n",
            "SNIPPET: \"...своего здоровья людей старшего возраста...\"\n",
            "SNIPPET: \"...исследования столетних людей поводу особенностей...\"\n",
            "SNIPPET: \"...большинство столетних людей отличаются оптимизмом...\"\n",
            "SNIPPET: \"...очень важно людей желательно научились...\"\n",
            "\n",
            "=========================================\n",
            "\n",
            "TITLE: Инклюзия в России: возможности и ограничения людей с ОВЗ\n",
            "SNIPPET: \"...специализированных организациях людей инвалидностью полной...\"\n",
            "SNIPPET: \"...сферах жизнедеятельности людей инвалидностью других...\"\n",
            "SNIPPET: \"...язык адаптация людей ментальными особенностями...\"\n",
            "SNIPPET: \"...процессов реабилитации людей овз инвалидностью...\"\n",
            "SNIPPET: \"...сфере обеспечения людей тср разъяснил...\"\n",
            "SNIPPET: \"...остается недоступной людей овз инвалидностью...\"\n",
            "SNIPPET: \"...прежнему приспособлены людей ограниченными возможностями...\"\n",
            "SNIPPET: \"...разных категорий людей пенсионеров временно...\"\n",
            "SNIPPET: \"...колясками велосипедистов людей разными формами...\"\n",
            "SNIPPET: \"...плотность населения людей инвалидностью снижается...\"\n",
            "SNIPPET: \"...проектов трудоустройством людей инвалидностью информации...\"\n",
            "SNIPPET: \"...млн работающих людей инвалидностью состоящих...\"\n",
            "SNIPPET: \"...значительная часть людей инвалидностью люди...\"\n",
            "SNIPPET: \"...словам помимо людей овз сложности...\"\n",
            "SNIPPET: \"...позволяет привлекать людей удаленную работу...\"\n",
            "SNIPPET: \"...юлия ярошевская людей инвалидностью существует...\"\n",
            "\n",
            "=========================================\n",
            "\n",
            "TITLE: Дмитрий Медведев: ненавижу врагов России\n",
            "SNIPPET: \"...ответственность будущее людей населяющих это...\"\n",
            "SNIPPET: \"...отталкивают часть людей тех лоялен...\"\n",
            "SNIPPET: \"...говорю тех людей тех классиков...\"\n",
            "SNIPPET: \"...народ таких людей попросит прийти...\"\n",
            "SNIPPET: \"...первое касается людей знаете люди...\"\n",
            "SNIPPET: \"...убедить этих людей вернулись навсегда...\"\n",
            "SNIPPET: \"...геноциде истреблении людей национальному признаку...\"\n",
            "SNIPPET: \"...годов часть людей особенно людей...\"\n",
            "SNIPPET: \"...людей особенно людей старшего поколения...\"\n",
            "SNIPPET: \"...санкт петербурге людей пачками хватали...\"\n",
            "SNIPPET: \"...небольшая часть людей известных людей...\"\n",
            "SNIPPET: \"...людей известных людей которые переместившись...\"\n",
            "SNIPPET: \"...преступление таких людей преследовать законы...\"\n",
            "SNIPPET: \"...говоря обычных людей поэтому просто...\"\n",
            "SNIPPET: \"...огромному количеству людей...\"\n",
            "\n",
            "=========================================\n",
            "\n",
            "################################################\n",
            "\n",
            "the word \"человеком\" appears in:\n",
            "TITLE: До чего дошел прогресс: как искусственный интеллект меняет сферу услуг\n",
            "SNIPPET: \"...сегодня играет человеком шахматы составляет...\"\n",
            "SNIPPET: \"...времени сравнению человеком намного отмечает...\"\n",
            "SNIPPET: \"...вместе самим человеком индустрии главным...\"\n",
            "SNIPPET: \"...оценки применения человеком имеет смысла...\"\n",
            "SNIPPET: \"...форматах оставляю человеком мнение креатив...\"\n",
            "\n",
            "=========================================\n",
            "\n",
            "TITLE: Геннадий Красников: не люблю супермаркеты!\n",
            "SNIPPET: \"...лет прожил человеком одной комнате...\"\n",
            "SNIPPET: \"...считаете жестким человеком люблю таких...\"\n",
            "SNIPPET: \"...проводят животными человеком клетками эмбрионами...\"\n",
            "\n",
            "=========================================\n",
            "\n",
            "TITLE: Новатор и друг Яшина. Умер Франц Беккенбауэр\n",
            "SNIPPET: \"...кайзер великолепным человеком другом футбола...\"\n",
            "SNIPPET: \"...оставался скромным человеком отличным соседом...\"\n",
            "SNIPPET: \"...беккенбауэр запомнился человеком который очень...\"\n",
            "\n",
            "=========================================\n",
            "\n",
            "################################################\n",
            "\n",
            "the word \"человеку\" appears in:\n",
            "TITLE: Директор НПО \"Андроидная техника\" Дудоров: для создания базы на Луне нужны сотни роботов\n",
            "SNIPPET: \"...учитывать луне человеку обязательно надевать...\"\n",
            "SNIPPET: \"...таких условиях человеку опасно выполнять...\"\n",
            "SNIPPET: \"...пока присущи человеку управление теледроидом...\"\n",
            "SNIPPET: \"...формы плане человеку должно помогать...\"\n",
            "\n",
            "=========================================\n",
            "\n",
            "TITLE: Глава \"Андроидной техники\": роботы должны создаваться для сохранения жизни людей\n",
            "SNIPPET: \"...облегчить жизнь человеку говорить целом...\"\n",
            "SNIPPET: \"...должны подконтрольны человеку роботы искусственный...\"\n",
            "SNIPPET: \"...подконтрольный хорошему человеку замечательно смеется...\"\n",
            "SNIPPET: \"...которые позволяют человеку становиться здоровее...\"\n",
            "\n",
            "=========================================\n",
            "\n",
            "TITLE: Новая стратегия Сбера: трансляция \"Дня инвестора\", посвященного программе развития 2026\n",
            "SNIPPET: \"...поставить службу человеку занимаются развитием...\"\n",
            "SNIPPET: \"...должны дать человеку инструмент эффективной...\"\n",
            "SNIPPET: \"...помочь конкретному человеку качестве примера...\"\n",
            "\n",
            "=========================================\n",
            "\n",
            "################################################\n",
            "\n",
            "the word \"человека\" appears in:\n",
            "TITLE: Главный гериатр Москвы: мы все запрограммированы на столетнюю жизнь\n",
            "SNIPPET: \"...старения пожилого человека условия консультирования...\"\n",
            "SNIPPET: \"...социального плана человека социальной поддержки...\"\n",
            "SNIPPET: \"...могут направить человека консультацию врачу...\"\n",
            "SNIPPET: \"...тело пожилого человека попробовать выполнить...\"\n",
            "SNIPPET: \"...функции самостоятельность человека абсолютно утрачивается...\"\n",
            "SNIPPET: \"...мир пожилого человека деменцией вовремя...\"\n",
            "SNIPPET: \"...контроль мимикой человека появиться головная...\"\n",
            "SNIPPET: \"...хронологический возраст человека соответствует выраженности...\"\n",
            "SNIPPET: \"...систем организма человека данные лабораторных...\"\n",
            "SNIPPET: \"...полезна каждого человека позволяет составить...\"\n",
            "\n",
            "=========================================\n",
            "\n",
            "TITLE: Как люди \"научились\" усваивать лактозу. Отрывок из книги об эволюции\n",
            "SNIPPET: \"...биологическую эволюцию человека аналитических исследований...\"\n",
            "SNIPPET: \"...представления эволюции человека оставляют сомнений...\"\n",
            "SNIPPET: \"...культурной деятельностью человека бывает очень...\"\n",
            "SNIPPET: \"...генетические вариации человека модифицируется культурной...\"\n",
            "SNIPPET: \"...кумулятивной культуры человека оказывается кроме...\"\n",
            "SNIPPET: \"...форсировала эволюцию человека высокоточная передача...\"\n",
            "SNIPPET: \"...кровеносную систему человека оттуда печень...\"\n",
            "SNIPPET: \"...расстояния взаимодействие человека патогенами ходе...\"\n",
            "SNIPPET: \"...гена связаны человека восприимчивостью туберкулезу...\"\n",
            "\n",
            "=========================================\n",
            "\n",
            "TITLE: До чего дошел прогресс: как искусственный интеллект меняет сферу услуг\n",
            "SNIPPET: \"...сможет заменить человека рассказываем нашем...\"\n",
            "SNIPPET: \"...лет доля человека сократиться некоторые...\"\n",
            "SNIPPET: \"...самозаказа заменили человека кассой показывают...\"\n",
            "SNIPPET: \"...пример сегодня человека аккаунтов социальных...\"\n",
            "SNIPPET: \"...воспроизводил мимику человека озвучивая сформированные...\"\n",
            "SNIPPET: \"...работает благо человека вместе самим...\"\n",
            "SNIPPET: \"...полностью заменит человека версия перестроилась...\"\n",
            "SNIPPET: \"...пока стороне человека говорит александр...\"\n",
            "SNIPPET: \"...останутся стороне человека никакая нейросеть...\"\n",
            "\n",
            "=========================================\n",
            "\n",
            "################################################\n",
            "\n",
            "the word \"людях\" appears in:\n",
            "TITLE: Ответ параличу или ненужное усложнение: что нужно знать о мозговых имплантах Илона Маска?\n",
            "SNIPPET: \"...испытаний чипа людях начала набор...\"\n",
            "SNIPPET: \"...разрешение тестирование людях году января...\"\n",
            "SNIPPET: \"...подобных чипов людях несколько десятилетий...\"\n",
            "SNIPPET: \"...больных парализованных людях которые готовы...\"\n",
            "\n",
            "=========================================\n",
            "\n",
            "TITLE: Россия в 90-е: на строительстве финансовых пирамид\n",
            "SNIPPET: \"...очередь пожилых людях мошенники стараются...\"\n",
            "\n",
            "=========================================\n",
            "\n",
            "TITLE: В поисках человечности. Почему история с Твиксом стала известной и чему она нас научила\n",
            "SNIPPET: \"...доброе светлое людях мир держится...\"\n",
            "\n",
            "=========================================\n",
            "\n",
            "################################################\n",
            "\n",
            "the word \"людьми\" appears in:\n",
            "TITLE: Заместитель гендиректора Росатома: нейросети уже решают часть задач в корпорации\n",
            "SNIPPET: \"...организованной коммуникации людьми казалось перевести...\"\n",
            "SNIPPET: \"...управленческих работы людьми это позволило...\"\n",
            "SNIPPET: \"...философией работы людьми способствовать развитию...\"\n",
            "\n",
            "=========================================\n",
            "\n",
            "TITLE: Через культуру и генетику: как эволюционируют современные люди?\n",
            "SNIPPET: \"...искусственно созданы людьми это означает...\"\n",
            "SNIPPET: \"...области экспериментов людьми таким образом...\"\n",
            "\n",
            "=========================================\n",
            "\n",
            "TITLE: \"Доброта и любовь создадут великую силу\": астрологи дали прогнозы на 2024 год\n",
            "SNIPPET: \"...знакомствами влиятельными людьми новый круг...\"\n",
            "SNIPPET: \"...государствами отдельными людьми дети будут...\"\n",
            "\n",
            "=========================================\n",
            "\n",
            "################################################\n",
            "\n",
            "the word \"человек\" appears in:\n",
            "TITLE: Что известно о последствиях урагана на юге России\n",
            "SNIPPET: \"...достигло четырех человек пострадали света...\"\n",
            "SNIPPET: \"...остались млн человек некоторых регионах...\"\n",
            "SNIPPET: \"...юге россии человек погиб предварительно...\"\n",
            "SNIPPET: \"...севастополе пять человек числе ребенок...\"\n",
            "SNIPPET: \"...около тыс человек остались света...\"\n",
            "SNIPPET: \"...подтоплений эвакуировали человек крыму штормовое...\"\n",
            "SNIPPET: \"...погибли пять человек человек стал...\"\n",
            "SNIPPET: \"...пять человек человек стал жертвой...\"\n",
            "SNIPPET: \"...эвакуированы около человек ростове дону...\"\n",
            "SNIPPET: \"...области эвакуировали человек области вода...\"\n",
            "SNIPPET: \"...остались тыс человек ингушетии жителей...\"\n",
            "\n",
            "=========================================\n",
            "\n",
            "TITLE: Глеб Никитин: мне хорошо знакомо чувство стыда\n",
            "SNIPPET: \"...тысячи обманутых человек недостроенных несданных...\"\n",
            "SNIPPET: \"...ключи около человек иными словами...\"\n",
            "SNIPPET: \"...ушел знаковый человек александр скульский...\"\n",
            "SNIPPET: \"...авторитетный депутат человек большим политическим...\"\n",
            "SNIPPET: \"...провели совещание человек понял никто...\"\n",
            "SNIPPET: \"...трем набирали человек арина очень...\"\n",
            "SNIPPET: \"...обратно пришлый человек москвы пригласил...\"\n",
            "SNIPPET: \"...коливинг тысячи человек это размещения...\"\n",
            "SNIPPET: \"...труд суворова человек который обожает...\"\n",
            "SNIPPET: \"...безусловно русский человек воцерковленный мои...\"\n",
            "SNIPPET: \"...воспринять болтуна человек ненароком обронил...\"\n",
            "\n",
            "=========================================\n",
            "\n",
            "TITLE: Михаил Шуфутинский: cейчас нельзя быть вдали от своей Родины\n",
            "SNIPPET: \"...мужем набирается человек каждый год...\"\n",
            "SNIPPET: \"...свое присутствие человек такие праздники...\"\n",
            "SNIPPET: \"...пристроен детей человек разные люди...\"\n",
            "SNIPPET: \"...фамилию ренский человек известнейший джазмен...\"\n",
            "SNIPPET: \"...семь восемь человек находкой аккордеоне...\"\n",
            "SNIPPET: \"...две тысячи человек попросим спеть...\"\n",
            "SNIPPET: \"...языком спеть человек умеет говорить...\"\n",
            "SNIPPET: \"...недавно появился человек кажется искренне...\"\n",
            "SNIPPET: \"...слова культурный человек рэп поэтому...\"\n",
            "SNIPPET: \"...билеты тыс человек судьба остались...\"\n",
            "SNIPPET: \"...получается разговорили человек который сначала...\"\n",
            "\n",
            "=========================================\n",
            "\n",
            "################################################\n",
            "\n",
            "the word \"людям\" appears in:\n",
            "TITLE: \"Доброта и любовь создадут великую силу\": астрологи дали прогнозы на 2024 год\n",
            "SNIPPET: \"...дракона принесет людям процветание жизненную...\"\n",
            "SNIPPET: \"...помните помощь людям приносит утешение...\"\n",
            "SNIPPET: \"...цинлун принесет людям удачу которая...\"\n",
            "SNIPPET: \"...ко всем людям завершающийся год...\"\n",
            "SNIPPET: \"...дракона потворствует людям знаком крысы...\"\n",
            "SNIPPET: \"...быку однако людям старшего возраста...\"\n",
            "SNIPPET: \"...карьере работе людям этим знаком...\"\n",
            "SNIPPET: \"...количество времени людям знаком кролика...\"\n",
            "SNIPPET: \"...казалось противоречивым людям знаком дракона...\"\n",
            "SNIPPET: \"...коллегами году людям знаком дракона...\"\n",
            "SNIPPET: \"...зрения здоровья людям знаком дракона...\"\n",
            "SNIPPET: \"...необходимо уделить людям родившимся годах...\"\n",
            "SNIPPET: \"...год благоприятным людям знаком козы...\"\n",
            "SNIPPET: \"...ожидает именно людям знаком собаки...\"\n",
            "\n",
            "=========================================\n",
            "\n",
            "TITLE: Антон Пинский: бизнесмен победил во мне художника\n",
            "SNIPPET: \"...обязаны дарить людям положительные эмоции...\"\n",
            "SNIPPET: \"...задачу помогая людям зарабатывать предприниматели...\"\n",
            "SNIPPET: \"...уволить обеспечить людям прожиточный минимум...\"\n",
            "SNIPPET: \"...круто стыдно людям показать будут...\"\n",
            "SNIPPET: \"...созданы доставлять людям радость приятно...\"\n",
            "\n",
            "=========================================\n",
            "\n",
            "TITLE: Ответ параличу или ненужное усложнение: что нужно знать о мозговых имплантах Илона Маска?\n",
            "SNIPPET: \"...вживлять устройство людям патологий движения...\"\n",
            "SNIPPET: \"...процессами мозга людям показаниями установки...\"\n",
            "SNIPPET: \"...полностью здоровым людям подвергает организм...\"\n",
            "SNIPPET: \"...полезны обычным людям мария богрянова...\"\n",
            "\n",
            "=========================================\n",
            "\n",
            "################################################\n",
            "\n"
          ]
        }
      ]
    },
    {
      "cell_type": "code",
      "source": [],
      "metadata": {
        "id": "zsGQHLjpRbWH"
      },
      "execution_count": null,
      "outputs": []
    }
  ],
  "metadata": {
    "kernelspec": {
      "display_name": "Python 3 (ipykernel)",
      "language": "python",
      "name": "python3"
    },
    "language_info": {
      "codemirror_mode": {
        "name": "ipython",
        "version": 3
      },
      "file_extension": ".py",
      "mimetype": "text/x-python",
      "name": "python",
      "nbconvert_exporter": "python",
      "pygments_lexer": "ipython3",
      "version": "3.10.7"
    },
    "colab": {
      "provenance": []
    }
  },
  "nbformat": 4,
  "nbformat_minor": 0
}