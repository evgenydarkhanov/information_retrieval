{
  "cells": [
    {
      "cell_type": "code",
      "execution_count": 1,
      "metadata": {
        "id": "NKj5R11mnDH0"
      },
      "outputs": [],
      "source": [
        "import pandas as pd\n",
        "import tqdm\n",
        "from typing import Optional\n",
        "\n",
        "import re\n",
        "import nltk"
      ]
    },
    {
      "cell_type": "code",
      "execution_count": 2,
      "metadata": {
        "colab": {
          "base_uri": "https://localhost:8080/"
        },
        "id": "cDLm1eIxO8oz",
        "outputId": "65f8e876-1f9f-4598-b486-0d3951b84c77"
      },
      "outputs": [
        {
          "output_type": "stream",
          "name": "stdout",
          "text": [
            "Downloading...\n",
            "From: https://drive.google.com/uc?id=1BAIEjxgx-Q0hGV9ByLajBd-5Id2NZQE5\n",
            "To: /content/articles.csv\n",
            "100% 25.2M/25.2M [00:00<00:00, 50.8MB/s]\n"
          ]
        }
      ],
      "source": [
        "#articles\n",
        "!gdown 1BAIEjxgx-Q0hGV9ByLajBd-5Id2NZQE5"
      ]
    },
    {
      "cell_type": "code",
      "source": [
        "nltk.download('stopwords')\n",
        "stopword_set = set(nltk.corpus.stopwords.words('russian'))"
      ],
      "metadata": {
        "colab": {
          "base_uri": "https://localhost:8080/"
        },
        "id": "XYJ7wSQUjoWq",
        "outputId": "854a69cd-6515-491a-bcd5-5628aa520f7b"
      },
      "execution_count": 3,
      "outputs": [
        {
          "output_type": "stream",
          "name": "stderr",
          "text": [
            "[nltk_data] Downloading package stopwords to /root/nltk_data...\n",
            "[nltk_data]   Unzipping corpora/stopwords.zip.\n"
          ]
        }
      ]
    },
    {
      "cell_type": "code",
      "execution_count": 4,
      "metadata": {
        "colab": {
          "base_uri": "https://localhost:8080/",
          "height": 206
        },
        "id": "0fdMwXH6kXjJ",
        "outputId": "5de1fa32-6c8b-42ab-8400-7f770f6295fc"
      },
      "outputs": [
        {
          "output_type": "execute_result",
          "data": {
            "text/plain": [
              "         date                                              title  \\\n",
              "0  2024-02-23  Зеленский без плана Б и с угрозой паралича эко...   \n",
              "1  2024-02-23  Как советские летчики впервые долетели напряму...   \n",
              "2  2024-02-23  Провал \"украинизации\" G20 и капризы Запада. За...   \n",
              "3  2024-02-23  Военная операция на Украине. Хроника событий 2...   \n",
              "4  2024-02-23  Военная операция на Украине. Хроника событий 2...   \n",
              "\n",
              "                                                body  count  \\\n",
              "0  Президент Украины Владимир Зеленский не смог о...    673   \n",
              "1  24 февраля 1899 года, 125 лет назад, родился в...    179   \n",
              "2  Запад стремится наказать всех тех, кто не след...    472   \n",
              "3  Госдепартамент США внес в свои санкционные спи...     59   \n",
              "4  Минобороны РФ объявило об освобождении населен...     51   \n",
              "\n",
              "                                  url  \n",
              "0  /mezhdunarodnaya-panorama/20061391  \n",
              "1                  /infographics/9497  \n",
              "2                  /politika/20062849  \n",
              "3              /armiya-i-opk/20054555  \n",
              "4              /armiya-i-opk/20043925  "
            ],
            "text/html": [
              "\n",
              "  <div id=\"df-abebc1f2-da96-40cb-ba59-39b03061d282\" class=\"colab-df-container\">\n",
              "    <div>\n",
              "<style scoped>\n",
              "    .dataframe tbody tr th:only-of-type {\n",
              "        vertical-align: middle;\n",
              "    }\n",
              "\n",
              "    .dataframe tbody tr th {\n",
              "        vertical-align: top;\n",
              "    }\n",
              "\n",
              "    .dataframe thead th {\n",
              "        text-align: right;\n",
              "    }\n",
              "</style>\n",
              "<table border=\"1\" class=\"dataframe\">\n",
              "  <thead>\n",
              "    <tr style=\"text-align: right;\">\n",
              "      <th></th>\n",
              "      <th>date</th>\n",
              "      <th>title</th>\n",
              "      <th>body</th>\n",
              "      <th>count</th>\n",
              "      <th>url</th>\n",
              "    </tr>\n",
              "  </thead>\n",
              "  <tbody>\n",
              "    <tr>\n",
              "      <th>0</th>\n",
              "      <td>2024-02-23</td>\n",
              "      <td>Зеленский без плана Б и с угрозой паралича эко...</td>\n",
              "      <td>Президент Украины Владимир Зеленский не смог о...</td>\n",
              "      <td>673</td>\n",
              "      <td>/mezhdunarodnaya-panorama/20061391</td>\n",
              "    </tr>\n",
              "    <tr>\n",
              "      <th>1</th>\n",
              "      <td>2024-02-23</td>\n",
              "      <td>Как советские летчики впервые долетели напряму...</td>\n",
              "      <td>24 февраля 1899 года, 125 лет назад, родился в...</td>\n",
              "      <td>179</td>\n",
              "      <td>/infographics/9497</td>\n",
              "    </tr>\n",
              "    <tr>\n",
              "      <th>2</th>\n",
              "      <td>2024-02-23</td>\n",
              "      <td>Провал \"украинизации\" G20 и капризы Запада. За...</td>\n",
              "      <td>Запад стремится наказать всех тех, кто не след...</td>\n",
              "      <td>472</td>\n",
              "      <td>/politika/20062849</td>\n",
              "    </tr>\n",
              "    <tr>\n",
              "      <th>3</th>\n",
              "      <td>2024-02-23</td>\n",
              "      <td>Военная операция на Украине. Хроника событий 2...</td>\n",
              "      <td>Госдепартамент США внес в свои санкционные спи...</td>\n",
              "      <td>59</td>\n",
              "      <td>/armiya-i-opk/20054555</td>\n",
              "    </tr>\n",
              "    <tr>\n",
              "      <th>4</th>\n",
              "      <td>2024-02-23</td>\n",
              "      <td>Военная операция на Украине. Хроника событий 2...</td>\n",
              "      <td>Минобороны РФ объявило об освобождении населен...</td>\n",
              "      <td>51</td>\n",
              "      <td>/armiya-i-opk/20043925</td>\n",
              "    </tr>\n",
              "  </tbody>\n",
              "</table>\n",
              "</div>\n",
              "    <div class=\"colab-df-buttons\">\n",
              "\n",
              "  <div class=\"colab-df-container\">\n",
              "    <button class=\"colab-df-convert\" onclick=\"convertToInteractive('df-abebc1f2-da96-40cb-ba59-39b03061d282')\"\n",
              "            title=\"Convert this dataframe to an interactive table.\"\n",
              "            style=\"display:none;\">\n",
              "\n",
              "  <svg xmlns=\"http://www.w3.org/2000/svg\" height=\"24px\" viewBox=\"0 -960 960 960\">\n",
              "    <path d=\"M120-120v-720h720v720H120Zm60-500h600v-160H180v160Zm220 220h160v-160H400v160Zm0 220h160v-160H400v160ZM180-400h160v-160H180v160Zm440 0h160v-160H620v160ZM180-180h160v-160H180v160Zm440 0h160v-160H620v160Z\"/>\n",
              "  </svg>\n",
              "    </button>\n",
              "\n",
              "  <style>\n",
              "    .colab-df-container {\n",
              "      display:flex;\n",
              "      gap: 12px;\n",
              "    }\n",
              "\n",
              "    .colab-df-convert {\n",
              "      background-color: #E8F0FE;\n",
              "      border: none;\n",
              "      border-radius: 50%;\n",
              "      cursor: pointer;\n",
              "      display: none;\n",
              "      fill: #1967D2;\n",
              "      height: 32px;\n",
              "      padding: 0 0 0 0;\n",
              "      width: 32px;\n",
              "    }\n",
              "\n",
              "    .colab-df-convert:hover {\n",
              "      background-color: #E2EBFA;\n",
              "      box-shadow: 0px 1px 2px rgba(60, 64, 67, 0.3), 0px 1px 3px 1px rgba(60, 64, 67, 0.15);\n",
              "      fill: #174EA6;\n",
              "    }\n",
              "\n",
              "    .colab-df-buttons div {\n",
              "      margin-bottom: 4px;\n",
              "    }\n",
              "\n",
              "    [theme=dark] .colab-df-convert {\n",
              "      background-color: #3B4455;\n",
              "      fill: #D2E3FC;\n",
              "    }\n",
              "\n",
              "    [theme=dark] .colab-df-convert:hover {\n",
              "      background-color: #434B5C;\n",
              "      box-shadow: 0px 1px 3px 1px rgba(0, 0, 0, 0.15);\n",
              "      filter: drop-shadow(0px 1px 2px rgba(0, 0, 0, 0.3));\n",
              "      fill: #FFFFFF;\n",
              "    }\n",
              "  </style>\n",
              "\n",
              "    <script>\n",
              "      const buttonEl =\n",
              "        document.querySelector('#df-abebc1f2-da96-40cb-ba59-39b03061d282 button.colab-df-convert');\n",
              "      buttonEl.style.display =\n",
              "        google.colab.kernel.accessAllowed ? 'block' : 'none';\n",
              "\n",
              "      async function convertToInteractive(key) {\n",
              "        const element = document.querySelector('#df-abebc1f2-da96-40cb-ba59-39b03061d282');\n",
              "        const dataTable =\n",
              "          await google.colab.kernel.invokeFunction('convertToInteractive',\n",
              "                                                    [key], {});\n",
              "        if (!dataTable) return;\n",
              "\n",
              "        const docLinkHtml = 'Like what you see? Visit the ' +\n",
              "          '<a target=\"_blank\" href=https://colab.research.google.com/notebooks/data_table.ipynb>data table notebook</a>'\n",
              "          + ' to learn more about interactive tables.';\n",
              "        element.innerHTML = '';\n",
              "        dataTable['output_type'] = 'display_data';\n",
              "        await google.colab.output.renderOutput(dataTable, element);\n",
              "        const docLink = document.createElement('div');\n",
              "        docLink.innerHTML = docLinkHtml;\n",
              "        element.appendChild(docLink);\n",
              "      }\n",
              "    </script>\n",
              "  </div>\n",
              "\n",
              "\n",
              "<div id=\"df-a3c1d9f5-35f0-46e1-a003-6cac92726463\">\n",
              "  <button class=\"colab-df-quickchart\" onclick=\"quickchart('df-a3c1d9f5-35f0-46e1-a003-6cac92726463')\"\n",
              "            title=\"Suggest charts\"\n",
              "            style=\"display:none;\">\n",
              "\n",
              "<svg xmlns=\"http://www.w3.org/2000/svg\" height=\"24px\"viewBox=\"0 0 24 24\"\n",
              "     width=\"24px\">\n",
              "    <g>\n",
              "        <path d=\"M19 3H5c-1.1 0-2 .9-2 2v14c0 1.1.9 2 2 2h14c1.1 0 2-.9 2-2V5c0-1.1-.9-2-2-2zM9 17H7v-7h2v7zm4 0h-2V7h2v10zm4 0h-2v-4h2v4z\"/>\n",
              "    </g>\n",
              "</svg>\n",
              "  </button>\n",
              "\n",
              "<style>\n",
              "  .colab-df-quickchart {\n",
              "      --bg-color: #E8F0FE;\n",
              "      --fill-color: #1967D2;\n",
              "      --hover-bg-color: #E2EBFA;\n",
              "      --hover-fill-color: #174EA6;\n",
              "      --disabled-fill-color: #AAA;\n",
              "      --disabled-bg-color: #DDD;\n",
              "  }\n",
              "\n",
              "  [theme=dark] .colab-df-quickchart {\n",
              "      --bg-color: #3B4455;\n",
              "      --fill-color: #D2E3FC;\n",
              "      --hover-bg-color: #434B5C;\n",
              "      --hover-fill-color: #FFFFFF;\n",
              "      --disabled-bg-color: #3B4455;\n",
              "      --disabled-fill-color: #666;\n",
              "  }\n",
              "\n",
              "  .colab-df-quickchart {\n",
              "    background-color: var(--bg-color);\n",
              "    border: none;\n",
              "    border-radius: 50%;\n",
              "    cursor: pointer;\n",
              "    display: none;\n",
              "    fill: var(--fill-color);\n",
              "    height: 32px;\n",
              "    padding: 0;\n",
              "    width: 32px;\n",
              "  }\n",
              "\n",
              "  .colab-df-quickchart:hover {\n",
              "    background-color: var(--hover-bg-color);\n",
              "    box-shadow: 0 1px 2px rgba(60, 64, 67, 0.3), 0 1px 3px 1px rgba(60, 64, 67, 0.15);\n",
              "    fill: var(--button-hover-fill-color);\n",
              "  }\n",
              "\n",
              "  .colab-df-quickchart-complete:disabled,\n",
              "  .colab-df-quickchart-complete:disabled:hover {\n",
              "    background-color: var(--disabled-bg-color);\n",
              "    fill: var(--disabled-fill-color);\n",
              "    box-shadow: none;\n",
              "  }\n",
              "\n",
              "  .colab-df-spinner {\n",
              "    border: 2px solid var(--fill-color);\n",
              "    border-color: transparent;\n",
              "    border-bottom-color: var(--fill-color);\n",
              "    animation:\n",
              "      spin 1s steps(1) infinite;\n",
              "  }\n",
              "\n",
              "  @keyframes spin {\n",
              "    0% {\n",
              "      border-color: transparent;\n",
              "      border-bottom-color: var(--fill-color);\n",
              "      border-left-color: var(--fill-color);\n",
              "    }\n",
              "    20% {\n",
              "      border-color: transparent;\n",
              "      border-left-color: var(--fill-color);\n",
              "      border-top-color: var(--fill-color);\n",
              "    }\n",
              "    30% {\n",
              "      border-color: transparent;\n",
              "      border-left-color: var(--fill-color);\n",
              "      border-top-color: var(--fill-color);\n",
              "      border-right-color: var(--fill-color);\n",
              "    }\n",
              "    40% {\n",
              "      border-color: transparent;\n",
              "      border-right-color: var(--fill-color);\n",
              "      border-top-color: var(--fill-color);\n",
              "    }\n",
              "    60% {\n",
              "      border-color: transparent;\n",
              "      border-right-color: var(--fill-color);\n",
              "    }\n",
              "    80% {\n",
              "      border-color: transparent;\n",
              "      border-right-color: var(--fill-color);\n",
              "      border-bottom-color: var(--fill-color);\n",
              "    }\n",
              "    90% {\n",
              "      border-color: transparent;\n",
              "      border-bottom-color: var(--fill-color);\n",
              "    }\n",
              "  }\n",
              "</style>\n",
              "\n",
              "  <script>\n",
              "    async function quickchart(key) {\n",
              "      const quickchartButtonEl =\n",
              "        document.querySelector('#' + key + ' button');\n",
              "      quickchartButtonEl.disabled = true;  // To prevent multiple clicks.\n",
              "      quickchartButtonEl.classList.add('colab-df-spinner');\n",
              "      try {\n",
              "        const charts = await google.colab.kernel.invokeFunction(\n",
              "            'suggestCharts', [key], {});\n",
              "      } catch (error) {\n",
              "        console.error('Error during call to suggestCharts:', error);\n",
              "      }\n",
              "      quickchartButtonEl.classList.remove('colab-df-spinner');\n",
              "      quickchartButtonEl.classList.add('colab-df-quickchart-complete');\n",
              "    }\n",
              "    (() => {\n",
              "      let quickchartButtonEl =\n",
              "        document.querySelector('#df-a3c1d9f5-35f0-46e1-a003-6cac92726463 button');\n",
              "      quickchartButtonEl.style.display =\n",
              "        google.colab.kernel.accessAllowed ? 'block' : 'none';\n",
              "    })();\n",
              "  </script>\n",
              "</div>\n",
              "    </div>\n",
              "  </div>\n"
            ],
            "application/vnd.google.colaboratory.intrinsic+json": {
              "type": "dataframe",
              "variable_name": "articles",
              "summary": "{\n  \"name\": \"articles\",\n  \"rows\": 2396,\n  \"fields\": [\n    {\n      \"column\": \"date\",\n      \"properties\": {\n        \"dtype\": \"object\",\n        \"num_unique_values\": 315,\n        \"samples\": [\n          \"2023-07-28\",\n          \"2024-01-21\",\n          \"2023-09-09\"\n        ],\n        \"semantic_type\": \"\",\n        \"description\": \"\"\n      }\n    },\n    {\n      \"column\": \"title\",\n      \"properties\": {\n        \"dtype\": \"string\",\n        \"num_unique_values\": 2388,\n        \"samples\": [\n          \"\\\"\\u041c\\u043e\\u0441\\u043a\\u0432\\u0430. \\u041a\\u0440\\u0435\\u043c\\u043b\\u044c. \\u041f\\u0443\\u0442\\u0438\\u043d\\\", \\\"\\u0412\\u0435\\u0441\\u0442\\u0438\\\" \\u0438 \\u0432\\u043e\\u0435\\u043d\\u043a\\u043e\\u0440\\u044b. \\u041b\\u0430\\u0443\\u0440\\u0435\\u0430\\u0442\\u044b \\u043f\\u0440\\u0435\\u043c\\u0438\\u0438 \\u0422\\u042d\\u0424\\u0418-2023\",\n          \"\\u0412\\u0435\\u0440\\u043d\\u0443\\u0442\\u044c \\u0441 \\u043d\\u0435\\u0431\\u0435\\u0441 \\u043d\\u0430 \\u0437\\u0435\\u043c\\u043b\\u044e. \\u041a\\u0430\\u043a \\u0440\\u0430\\u0431\\u043e\\u0442\\u0430\\u044e\\u0442 \\u0441\\u043e\\u0432\\u0440\\u0435\\u043c\\u0435\\u043d\\u043d\\u044b\\u0435 \\u043c\\u043e\\u0431\\u0438\\u043b\\u044c\\u043d\\u044b\\u0435 \\u043a\\u043e\\u043c\\u043f\\u043b\\u0435\\u043a\\u0441\\u044b \\u0431\\u043e\\u0440\\u044c\\u0431\\u044b \\u0441 \\u0411\\u041f\\u041b\\u0410\",\n          \"\\u0412 \\u043a\\u0430\\u043a\\u0438\\u0445 \\u0441\\u0442\\u0440\\u0430\\u043d\\u0430\\u0445 \\u0440\\u0430\\u0431\\u043e\\u0442\\u0430\\u0435\\u0442 \\u043a\\u0430\\u0440\\u0442\\u0430 \\\"\\u041c\\u0438\\u0440\\\"\"\n        ],\n        \"semantic_type\": \"\",\n        \"description\": \"\"\n      }\n    },\n    {\n      \"column\": \"body\",\n      \"properties\": {\n        \"dtype\": \"string\",\n        \"num_unique_values\": 2387,\n        \"samples\": [\n          \"\\u0410\\u041d\\u041a\\u0410\\u0420\\u0410, 29 \\u043c\\u0430\\u044f. /\\u0422\\u0410\\u0421\\u0421/. \\u0422\\u0443\\u0440\\u0435\\u0446\\u043a\\u0438\\u0439 \\u043f\\u0440\\u0435\\u0437\\u0438\\u0434\\u0435\\u043d\\u0442 \\u0420\\u0435\\u0434\\u0436\\u0435\\u043f \\u0422\\u0430\\u0439\\u0438\\u043f \\u042d\\u0440\\u0434\\u043e\\u0433\\u0430\\u043d \\u043e\\u0434\\u0435\\u0440\\u0436\\u0430\\u043b \\u0432\\u043e \\u0432\\u0442\\u043e\\u0440\\u043e\\u043c \\u0442\\u0443\\u0440\\u0435 \\u043f\\u043e\\u0431\\u0435\\u0434\\u0443 \\u043d\\u0430 \\u0432\\u044b\\u0431\\u043e\\u0440\\u0430\\u0445 \\u0433\\u043b\\u0430\\u0432\\u044b \\u0440\\u0435\\u0441\\u043f\\u0443\\u0431\\u043b\\u0438\\u043a\\u0438. \\u0412 \\u0433\\u043e\\u0434 \\u043f\\u0440\\u0430\\u0437\\u0434\\u043d\\u043e\\u0432\\u0430\\u043d\\u0438\\u044f \\u0422\\u0443\\u0440\\u0435\\u0446\\u043a\\u043e\\u0439 \\u0420\\u0435\\u0441\\u043f\\u0443\\u0431\\u043b\\u0438\\u043a\\u043e\\u0439 \\u0441\\u0442\\u043e\\u043b\\u0435\\u0442\\u0438\\u044f \\u0441\\u043e \\u0434\\u043d\\u044f \\u043e\\u0441\\u043d\\u043e\\u0432\\u0430\\u043d\\u0438\\u044f \\u043d\\u0430\\u0440\\u043e\\u0434 \\u0432\\u044b\\u0431\\u0440\\u0430\\u043b \\u0435\\u0433\\u043e \\u0432 \\u043a\\u0430\\u0447\\u0435\\u0441\\u0442\\u0432\\u0435 \\u043f\\u0440\\u0435\\u0437\\u0438\\u0434\\u0435\\u043d\\u0442\\u0430 \\u043d\\u0430 \\u0431\\u043b\\u0438\\u0436\\u0430\\u0439\\u0448\\u0438\\u0435 \\u043f\\u044f\\u0442\\u044c \\u043b\\u0435\\u0442. \\u0421\\u043e\\u0433\\u043b\\u0430\\u0441\\u043d\\u043e \\u043f\\u0440\\u0435\\u0434\\u0432\\u0430\\u0440\\u0438\\u0442\\u0435\\u043b\\u044c\\u043d\\u044b\\u043c \\u0434\\u0430\\u043d\\u043d\\u044b\\u043c \\u0426\\u0418\\u041a, \\u043a\\u043e\\u0442\\u043e\\u0440\\u044b\\u0435 \\u043e\\u0433\\u043b\\u0430\\u0441\\u0438\\u043b \\u0433\\u043b\\u0430\\u0432\\u0430 \\u0438\\u0437\\u0431\\u0438\\u0440\\u043a\\u043e\\u043c\\u0430 \\u0410\\u0445\\u043c\\u0435\\u0442 \\u0415\\u043d\\u0435\\u0440, \\u042d\\u0440\\u0434\\u043e\\u0433\\u0430\\u043d \\u043d\\u0430\\u0431\\u0438\\u0440\\u0430\\u0435\\u0442 52,14% \\u0433\\u043e\\u043b\\u043e\\u0441\\u043e\\u0432 \\u043f\\u043e \\u0438\\u0442\\u043e\\u0433\\u0430\\u043c \\u043e\\u0431\\u0440\\u0430\\u0431\\u043e\\u0442\\u043a\\u0438 99,43% \\u0431\\u044e\\u043b\\u043b\\u0435\\u0442\\u0435\\u043d\\u0435\\u0439. \\u0415\\u0433\\u043e \\u0441\\u043e\\u043f\\u0435\\u0440\\u043d\\u0438\\u043a - \\u043b\\u0438\\u0434\\u0435\\u0440 \\u043e\\u043f\\u043f\\u043e\\u0437\\u0438\\u0446\\u0438\\u0438 \\u041a\\u0435\\u043c\\u0430\\u043b\\u044c \\u041a\\u044b\\u043b\\u044b\\u0447\\u0434\\u0430\\u0440\\u043e\\u0433\\u043b\\u0443 - \\u043f\\u043e\\u043b\\u0443\\u0447\\u0430\\u0435\\u0442 47,86% \\u0433\\u043e\\u043b\\u043e\\u0441\\u043e\\u0432. \\u041f\\u043e \\u0438\\u043d\\u0444\\u043e\\u0440\\u043c\\u0430\\u0446\\u0438\\u0438 \\u0430\\u0433\\u0435\\u043d\\u0442\\u0441\\u0442\\u0432\\u0430 Anadolu, \\u043e\\u0441\\u0442\\u0430\\u044e\\u0442\\u0441\\u044f \\u043d\\u0435\\u043e\\u0431\\u0440\\u0430\\u0431\\u043e\\u0442\\u0430\\u043d\\u043d\\u044b\\u043c\\u0438 \\u043f\\u043e\\u0440\\u044f\\u0434\\u043a\\u0430 400 \\u0442\\u044b\\u0441. \\u0431\\u044e\\u043b\\u043b\\u0435\\u0442\\u0435\\u043d\\u0435\\u0439, \\u043a\\u043e\\u0442\\u043e\\u0440\\u044b\\u0435 \\u0443\\u0436\\u0435 \\u043d\\u0435 \\u0441\\u043c\\u043e\\u0433\\u0443\\u0442 \\u043a\\u0430\\u0440\\u0434\\u0438\\u043d\\u0430\\u043b\\u044c\\u043d\\u043e \\u043f\\u043e\\u0432\\u043b\\u0438\\u044f\\u0442\\u044c \\u043d\\u0430 \\u0441\\u0438\\u0442\\u0443\\u0430\\u0446\\u0438\\u044e. \\u041e\\u0444\\u0438\\u0446\\u0438\\u0430\\u043b\\u044c\\u043d\\u044b\\u0435 \\u0440\\u0435\\u0437\\u0443\\u043b\\u044c\\u0442\\u0430\\u0442\\u044b \\u043a\\u0430\\u043a \\u043f\\u0440\\u0435\\u0437\\u0438\\u0434\\u0435\\u043d\\u0442\\u0441\\u043a\\u0438\\u0445, \\u0442\\u0430\\u043a \\u0438 \\u0441\\u043e\\u0441\\u0442\\u043e\\u044f\\u0432\\u0448\\u0438\\u0445\\u0441\\u044f 14 \\u043c\\u0430\\u044f \\u043f\\u0430\\u0440\\u043b\\u0430\\u043c\\u0435\\u043d\\u0442\\u0441\\u043a\\u0438\\u0445 \\u0432\\u044b\\u0431\\u043e\\u0440\\u043e\\u0432, \\u0426\\u0418\\u041a \\u043f\\u043b\\u0430\\u043d\\u0438\\u0440\\u0443\\u0435\\u0442 \\u043e\\u0431\\u044a\\u044f\\u0432\\u0438\\u0442\\u044c \\u043a 1 \\u0438\\u044e\\u043d\\u044f. \\u0414\\u043b\\u044f 69-\\u043b\\u0435\\u0442\\u043d\\u0435\\u0433\\u043e \\u042d\\u0440\\u0434\\u043e\\u0433\\u0430\\u043d\\u0430, \\u0432\\u043f\\u0435\\u0440\\u0432\\u044b\\u0435 \\u0438\\u0437\\u0431\\u0440\\u0430\\u043d\\u043d\\u043e\\u0433\\u043e \\u043f\\u0440\\u0435\\u0437\\u0438\\u0434\\u0435\\u043d\\u0442\\u043e\\u043c \\u0432 2014 \\u0433\\u043e\\u0434\\u0443 \\u0438 \\u043f\\u0435\\u0440\\u0435\\u0438\\u0437\\u0431\\u0440\\u0430\\u043d\\u043d\\u043e\\u0433\\u043e \\u043d\\u0430 \\u044d\\u0442\\u043e\\u0442 \\u043f\\u043e\\u0441\\u0442 \\u0432 2018 \\u0433\\u043e\\u0434\\u0443, \\u044d\\u0442\\u043e \\u0431\\u0443\\u0434\\u0435\\u0442 \\u0442\\u0440\\u0435\\u0442\\u0438\\u0439 \\u0441\\u0440\\u043e\\u043a \\u043d\\u0430 \\u0432\\u044b\\u0441\\u0448\\u0435\\u043c \\u0433\\u043e\\u0441\\u0443\\u0434\\u0430\\u0440\\u0441\\u0442\\u0432\\u0435\\u043d\\u043d\\u043e\\u043c \\u043f\\u043e\\u0441\\u0442\\u0443. \\u0414\\u043e \\u043d\\u0435\\u0433\\u043e \\u0442\\u0440\\u0438 \\u0441\\u0440\\u043e\\u043a\\u0430 \\u043f\\u043e\\u0434\\u0440\\u044f\\u0434 \\u0443 \\u0432\\u043b\\u0430\\u0441\\u0442\\u0438 \\u0431\\u044b\\u043b\\u0438 \\u043b\\u0438\\u0448\\u044c \\u0442\\u0440\\u0438 \\u043f\\u0435\\u0440\\u0432\\u044b\\u0445 \\u043f\\u0440\\u0435\\u0437\\u0438\\u0434\\u0435\\u043d\\u0442\\u0430 \\u0422\\u0443\\u0440\\u0446\\u0438\\u0438: \\u043e\\u0441\\u043d\\u043e\\u0432\\u0430\\u0442\\u0435\\u043b\\u044c \\u0440\\u0435\\u0441\\u043f\\u0443\\u0431\\u043b\\u0438\\u043a\\u0438 \\u041c\\u0443\\u0441\\u0442\\u0430\\u0444\\u0430 \\u041a\\u0435\\u043c\\u0430\\u043b\\u044c \\u0410\\u0442\\u0430\\u0442\\u044e\\u0440\\u043a (1923-1938, \\u0447\\u0435\\u0442\\u044b\\u0440\\u0435 \\u0441\\u0440\\u043e\\u043a\\u0430), \\u0435\\u0433\\u043e \\u043f\\u0440\\u0435\\u0435\\u043c\\u043d\\u0438\\u043a \\u0418\\u0441\\u043c\\u0435\\u0442 \\u0418\\u043d\\u0451\\u043d\\u044e (1938-1950, \\u0447\\u0435\\u0442\\u044b\\u0440\\u0435 \\u0441\\u0440\\u043e\\u043a\\u0430) \\u0438 \\u041c\\u0430\\u0445\\u043c\\u0443\\u0434 \\u0414\\u0436\\u0435\\u043b\\u044f\\u043b\\u044c \\u0411\\u0430\\u044f\\u0440 (1950-1960, \\u0442\\u0440\\u0438 \\u0441\\u0440\\u043e\\u043a\\u0430). \\u042d\\u0440\\u0434\\u043e\\u0433\\u0430\\u043d \\u0440\\u043e\\u0434\\u0438\\u043b\\u0441\\u044f 26 \\u0444\\u0435\\u0432\\u0440\\u0430\\u043b\\u044f 1954 \\u0433\\u043e\\u0434\\u0430 \\u0432 \\u0421\\u0442\\u0430\\u043c\\u0431\\u0443\\u043b\\u0435 \\u0432 \\u0441\\u0435\\u043c\\u044c\\u0435 \\u0441\\u043b\\u0443\\u0436\\u0430\\u0449\\u0435\\u0433\\u043e \\u0411\\u0435\\u0440\\u0435\\u0433\\u043e\\u0432\\u043e\\u0439 \\u043e\\u0445\\u0440\\u0430\\u043d\\u044b \\u0422\\u0443\\u0440\\u0446\\u0438\\u0438. \\u0414\\u043e 13 \\u043b\\u0435\\u0442 \\u0436\\u0438\\u043b \\u043d\\u0430 \\u0441\\u0435\\u0432\\u0435\\u0440\\u043e-\\u0432\\u043e\\u0441\\u0442\\u043e\\u043a\\u0435 \\u0441\\u0442\\u0440\\u0430\\u043d\\u044b \\u0432 \\u0433\\u043e\\u0440\\u043e\\u0434\\u0435 \\u0420\\u0438\\u0437\\u0430, \\u043e\\u0442\\u043a\\u0443\\u0434\\u0430 \\u0431\\u044b\\u043b\\u0438 \\u0440\\u043e\\u0434\\u043e\\u043c \\u0435\\u0433\\u043e \\u0440\\u043e\\u0434\\u0438\\u0442\\u0435\\u043b\\u0438 (\\u0432 \\u0420\\u0438\\u0437\\u0435 \\u0438\\u0445 \\u043f\\u0440\\u0435\\u0434\\u043a\\u0438 \\u043e\\u0431\\u043e\\u0441\\u043d\\u043e\\u0432\\u0430\\u043b\\u0438\\u0441\\u044c \\u043f\\u043e\\u0441\\u043b\\u0435 \\u043f\\u0435\\u0440\\u0435\\u0435\\u0437\\u0434\\u0430 \\u0438\\u0437 \\u0413\\u0440\\u0443\\u0437\\u0438\\u0438). \\u0423\\u0436\\u0435 \\u0432 \\u0448\\u043a\\u043e\\u043b\\u044c\\u043d\\u044b\\u0435 \\u0433\\u043e\\u0434\\u044b \\u043e\\u0442\\u043b\\u0438\\u0447\\u0430\\u043b\\u0441\\u044f \\u0440\\u0435\\u043b\\u0438\\u0433\\u0438\\u043e\\u0437\\u043d\\u043e\\u0441\\u0442\\u044c\\u044e, \\u0438\\u0437-\\u0437\\u0430 \\u0447\\u0435\\u0433\\u043e \\u0435\\u0433\\u043e \\u043d\\u0430\\u0437\\u044b\\u0432\\u0430\\u043b\\u0438 \\u0425\\u043e\\u0434\\u0436\\u0430 (\\u043f\\u043e\\u0447\\u0435\\u0442\\u043d\\u044b\\u0439 \\u0442\\u0438\\u0442\\u0443\\u043b \\u0434\\u0443\\u0445\\u043e\\u0432\\u043d\\u043e\\u0433\\u043e \\u043b\\u0438\\u0446\\u0430 \\u0432 \\u0441\\u0442\\u0440\\u0430\\u043d\\u0430\\u0445 \\u0411\\u043b\\u0438\\u0436\\u043d\\u0435\\u0433\\u043e \\u0438 \\u0421\\u0440\\u0435\\u0434\\u043d\\u0435\\u0433\\u043e \\u0412\\u043e\\u0441\\u0442\\u043e\\u043a\\u0430). \\u041f\\u043e\\u0441\\u043b\\u0435 \\u043e\\u043a\\u043e\\u043d\\u0447\\u0430\\u043d\\u0438\\u044f \\u0440\\u0435\\u043b\\u0438\\u0433\\u0438\\u043e\\u0437\\u043d\\u043e\\u0433\\u043e \\u043b\\u0438\\u0446\\u0435\\u044f \\u042d\\u0440\\u0434\\u043e\\u0433\\u0430\\u043d \\u043f\\u0440\\u043e\\u0434\\u043e\\u043b\\u0436\\u0438\\u043b \\u043e\\u0431\\u0440\\u0430\\u0437\\u043e\\u0432\\u0430\\u043d\\u0438\\u0435 \\u0432 \\u0421\\u0442\\u0430\\u043c\\u0431\\u0443\\u043b\\u0435, \\u0442\\u0430\\u043c \\u0432 1981 \\u0433\\u043e\\u0434\\u0443 \\u043e\\u043d \\u043e\\u043a\\u043e\\u043d\\u0447\\u0438\\u043b \\u0423\\u043d\\u0438\\u0432\\u0435\\u0440\\u0441\\u0438\\u0442\\u0435\\u0442 \\u041c\\u0430\\u0440\\u043c\\u0430\\u0440\\u0430, \\u0433\\u0434\\u0435 \\u0432 1981 \\u0433\\u043e\\u0434\\u0443 \\u043f\\u043e\\u043b\\u0443\\u0447\\u0438\\u043b \\u0434\\u0438\\u043f\\u043b\\u043e\\u043c \\u043f\\u043e \\u0441\\u043f\\u0435\\u0446\\u0438\\u0430\\u043b\\u044c\\u043d\\u043e\\u0441\\u0442\\u0438 \\\"\\u0423\\u043f\\u0440\\u0430\\u0432\\u043b\\u0435\\u043d\\u0438\\u0435 \\u0431\\u0438\\u0437\\u043d\\u0435\\u0441\\u043e\\u043c\\\". \\u0412 1980-1982 \\u0433\\u043e\\u0434\\u0430\\u0445 \\u0440\\u0430\\u0431\\u043e\\u0442\\u0430\\u043b \\u043c\\u0435\\u043d\\u0435\\u0434\\u0436\\u0435\\u0440\\u043e\\u043c \\u0432 \\u0447\\u0430\\u0441\\u0442\\u043d\\u044b\\u0445 \\u043a\\u043e\\u043c\\u043f\\u0430\\u043d\\u0438\\u044f\\u0445. \\u0412 1982 \\u0433\\u043e\\u0434\\u0443 \\u043f\\u0440\\u043e\\u0448\\u0435\\u043b \\u0441\\u0440\\u043e\\u0447\\u043d\\u0443\\u044e \\u0441\\u043b\\u0443\\u0436\\u0431\\u0443 \\u0432 \\u0430\\u0440\\u043c\\u0438\\u0438. \\u0415\\u0449\\u0435 \\u0432 \\u0441\\u0442\\u0443\\u0434\\u0435\\u043d\\u0447\\u0435\\u0441\\u043a\\u0438\\u0435 \\u0433\\u043e\\u0434\\u044b \\u042d\\u0440\\u0434\\u043e\\u0433\\u0430\\u043d \\u043f\\u0440\\u0438\\u043c\\u043a\\u043d\\u0443\\u043b \\u043a \\u0438\\u0441\\u043b\\u0430\\u043c\\u0438\\u0441\\u0442\\u0441\\u043a\\u043e\\u0439 \\u041f\\u0430\\u0440\\u0442\\u0438\\u0438 \\u043d\\u0430\\u0446\\u0438\\u043e\\u043d\\u0430\\u043b\\u044c\\u043d\\u043e\\u0433\\u043e \\u0441\\u043f\\u0430\\u0441\\u0435\\u043d\\u0438\\u044f. \\u0412 1976 \\u0433\\u043e\\u0434\\u0443 \\u0432\\u043e\\u0437\\u0433\\u043b\\u0430\\u0432\\u0438\\u043b \\u0435\\u0435 \\u043c\\u043e\\u043b\\u043e\\u0434\\u0435\\u0436\\u043d\\u0443\\u044e \\u044f\\u0447\\u0435\\u0439\\u043a\\u0443 \\u0432 \\u0441\\u0442\\u0430\\u043c\\u0431\\u0443\\u043b\\u044c\\u0441\\u043a\\u043e\\u043c \\u0440\\u0430\\u0439\\u043e\\u043d\\u0435 \\u0411\\u0435\\u0439\\u043e\\u0433\\u043b\\u0443, \\u0437\\u0430\\u0442\\u0435\\u043c - \\u043c\\u043e\\u043b\\u043e\\u0434\\u0435\\u0436\\u043d\\u043e\\u0435 \\u043e\\u0442\\u0434\\u0435\\u043b\\u0435\\u043d\\u0438\\u0435 \\u044d\\u0442\\u043e\\u0439 \\u043f\\u0430\\u0440\\u0442\\u0438\\u0438 \\u0432 \\u0421\\u0442\\u0430\\u043c\\u0431\\u0443\\u043b\\u0435. \\u041f\\u043e\\u0441\\u043b\\u0435 \\u0432\\u043e\\u0435\\u043d\\u043d\\u043e\\u0433\\u043e \\u043f\\u0435\\u0440\\u0435\\u0432\\u043e\\u0440\\u043e\\u0442\\u0430 1980 \\u0433\\u043e\\u0434\\u0443 \\u043f\\u043e\\u043b\\u0438\\u0442\\u0438\\u0447\\u0435\\u0441\\u043a\\u0438\\u0435 \\u043f\\u0430\\u0440\\u0442\\u0438\\u0438 \\u0431\\u044b\\u043b\\u0438 \\u0440\\u0430\\u0441\\u043f\\u0443\\u0449\\u0435\\u043d\\u044b. \\u0412 1983 \\u0433\\u043e\\u0434\\u0443 \\u043e\\u043d \\u0432\\u0441\\u0442\\u0443\\u043f\\u0438\\u043b \\u0432\\u043e \\u0432\\u043d\\u043e\\u0432\\u044c \\u043e\\u0431\\u0440\\u0430\\u0437\\u043e\\u0432\\u0430\\u043d\\u043d\\u0443\\u044e \\u0438\\u0441\\u043b\\u0430\\u043c\\u0438\\u0441\\u0442\\u0441\\u043a\\u0443\\u044e \\u041f\\u0430\\u0440\\u0442\\u0438\\u044e \\u0431\\u043b\\u0430\\u0433\\u043e\\u0434\\u0435\\u043d\\u0441\\u0442\\u0432\\u0438\\u044f. \\u0412 1984 \\u0433\\u043e\\u0434\\u0443 \\u0432\\u043e\\u0437\\u0433\\u043b\\u0430\\u0432\\u0438\\u043b \\u0435\\u0435 \\u0441\\u0442\\u0430\\u043c\\u0431\\u0443\\u043b\\u044c\\u0441\\u043a\\u0438\\u0439 \\u0444\\u0438\\u043b\\u0438\\u0430\\u043b, \\u0430 \\u0432 1985-1986 \\u0433\\u043e\\u0434\\u0430\\u0445 \\u0431\\u044b\\u043b \\u0447\\u043b\\u0435\\u043d\\u043e\\u043c \\u0441\\u043e\\u0432\\u0435\\u0442\\u0430 \\u0446\\u0435\\u043d\\u0442\\u0440\\u0430\\u043b\\u044c\\u043d\\u043e\\u0433\\u043e \\u0443\\u043f\\u0440\\u0430\\u0432\\u043b\\u0435\\u043d\\u0438\\u044f \\u043f\\u0430\\u0440\\u0442\\u0438\\u0438. \\u0412 1989 \\u0433\\u043e\\u0434\\u0443 \\u0431\\u044b\\u043b \\u043d\\u0430\\u0437\\u043d\\u0430\\u0447\\u0435\\u043d \\u0433\\u043b\\u0430\\u0432\\u043e\\u0439 \\u0430\\u0434\\u043c\\u0438\\u043d\\u0438\\u0441\\u0442\\u0440\\u0430\\u0446\\u0438\\u0438 \\u0441\\u0442\\u0430\\u043c\\u0431\\u0443\\u043b\\u044c\\u0441\\u043a\\u043e\\u0433\\u043e \\u0440\\u0430\\u0439\\u043e\\u043d\\u0430 \\u0411\\u0435\\u0439\\u043e\\u0433\\u043b\\u0443. \\u0412 \\u043c\\u0430\\u0440\\u0442\\u0435 1994 \\u0433\\u043e\\u0434\\u0430 \\u042d\\u0440\\u0434\\u043e\\u0433\\u0430\\u043d \\u043f\\u043e\\u0431\\u0435\\u0434\\u0438\\u043b \\u043d\\u0430 \\u0432\\u044b\\u0431\\u043e\\u0440\\u0430\\u0445 \\u043c\\u044d\\u0440\\u0430 \\u0421\\u0442\\u0430\\u043c\\u0431\\u0443\\u043b\\u0430. \\u041d\\u0430 \\u044d\\u0442\\u043e\\u043c \\u043f\\u043e\\u0441\\u0442\\u0443 \\u043e\\u043d \\u043f\\u0440\\u0438\\u043e\\u0431\\u0440\\u0435\\u043b \\u0437\\u043d\\u0430\\u0447\\u0438\\u0442\\u0435\\u043b\\u044c\\u043d\\u0443\\u044e \\u043f\\u043e\\u043f\\u0443\\u043b\\u044f\\u0440\\u043d\\u043e\\u0441\\u0442\\u044c, \\u0434\\u043e\\u0431\\u0438\\u0432\\u0448\\u0438\\u0441\\u044c \\u0440\\u0435\\u0448\\u0435\\u043d\\u0438\\u044f \\u043d\\u0435\\u043a\\u043e\\u0442\\u043e\\u0440\\u044b\\u0445 \\u044d\\u043a\\u043e\\u043d\\u043e\\u043c\\u0438\\u0447\\u0435\\u0441\\u043a\\u0438\\u0445 \\u0438 \\u0441\\u043e\\u0446\\u0438\\u0430\\u043b\\u044c\\u043d\\u044b\\u0445 \\u0432\\u043e\\u043f\\u0440\\u043e\\u0441\\u043e\\u0432, \\u0432 \\u0447\\u0430\\u0441\\u0442\\u043d\\u043e\\u0441\\u0442\\u0438, \\u0440\\u0435\\u0447\\u044c \\u0448\\u043b\\u0430 \\u043e \\u043f\\u0440\\u043e\\u0431\\u043b\\u0435\\u043c\\u0430\\u0445 \\u0441 \\u0432\\u043e\\u0434\\u043e\\u0441\\u043d\\u0430\\u0431\\u0436\\u0435\\u043d\\u0438\\u0435\\u043c, \\u0432\\u044b\\u0432\\u043e\\u0437\\u043e\\u043c \\u0438 \\u043f\\u0435\\u0440\\u0435\\u0440\\u0430\\u0431\\u043e\\u0442\\u043a\\u043e\\u0439 \\u043c\\u0443\\u0441\\u043e\\u0440\\u0430. \\u0410\\u043a\\u0442\\u0438\\u0432\\u043d\\u043e \\u0437\\u0430\\u043d\\u0438\\u043c\\u0430\\u043b\\u0441\\u044f \\u043e\\u0437\\u0435\\u043b\\u0435\\u043d\\u0435\\u043d\\u0438\\u0435\\u043c \\u0433\\u043e\\u0440\\u043e\\u0434\\u0430. \\u041f\\u0440\\u043e\\u043f\\u0430\\u0433\\u0430\\u043d\\u0434\\u0438\\u0440\\u0443\\u044f \\u0446\\u0435\\u043d\\u043d\\u043e\\u0441\\u0442\\u0438 \\u0438\\u0441\\u043b\\u0430\\u043c\\u0430, \\u0432\\u0432\\u0435\\u043b \\u043d\\u0435\\u043a\\u043e\\u0442\\u043e\\u0440\\u044b\\u0435 \\u043e\\u0433\\u0440\\u0430\\u043d\\u0438\\u0447\\u0435\\u043d\\u0438\\u044f \\u043d\\u0430 \\u043f\\u043e\\u0442\\u0440\\u0435\\u0431\\u043b\\u0435\\u043d\\u0438\\u0435 \\u0430\\u043b\\u043a\\u043e\\u0433\\u043e\\u043b\\u044c\\u043d\\u044b\\u0445 \\u043d\\u0430\\u043f\\u0438\\u0442\\u043a\\u043e\\u0432. \\u0412 \\u044f\\u043d\\u0432\\u0430\\u0440\\u0435 1998 \\u0433\\u043e\\u0434\\u0430 \\u041f\\u0430\\u0440\\u0442\\u0438\\u044f \\u0431\\u043b\\u0430\\u0433\\u043e\\u0434\\u0435\\u043d\\u0441\\u0442\\u0432\\u0438\\u044f \\u0431\\u044b\\u043b\\u0430 \\u0437\\u0430\\u043f\\u0440\\u0435\\u0449\\u0435\\u043d\\u0430 (\\u041a\\u043e\\u043d\\u0441\\u0442\\u0438\\u0442\\u0443\\u0446\\u0438\\u043e\\u043d\\u043d\\u044b\\u0439 \\u0441\\u0443\\u0434 \\u0422\\u0443\\u0440\\u0446\\u0438\\u0438 \\u043f\\u0440\\u0438\\u0437\\u043d\\u0430\\u043b \\u0435\\u0435 \\u0432\\u0438\\u043d\\u043e\\u0432\\u043d\\u043e\\u0439 \\u0432 \\u043d\\u0430\\u0440\\u0443\\u0448\\u0435\\u043d\\u0438\\u0438 \\u043f\\u0440\\u0438\\u043d\\u0446\\u0438\\u043f\\u0430 \\u0441\\u0435\\u043a\\u0443\\u043b\\u044f\\u0440\\u0438\\u0437\\u043c\\u0430), \\u042d\\u0440\\u0434\\u043e\\u0433\\u0430\\u043d\\u0443 \\u043f\\u0440\\u0438\\u0448\\u043b\\u043e\\u0441\\u044c \\u043f\\u043e\\u043a\\u0438\\u043d\\u0443\\u0442\\u044c \\u043f\\u043e\\u0441\\u0442 \\u043c\\u044d\\u0440\\u0430. \\u0412 \\u0442\\u043e\\u043c \\u0436\\u0435 1998 \\u0433\\u043e\\u0434\\u0443 \\u043f\\u0440\\u043e\\u0442\\u0438\\u0432 \\u042d\\u0440\\u0434\\u043e\\u0433\\u0430\\u043d\\u0430 \\u0431\\u044b\\u043b\\u043e \\u0432\\u044b\\u0434\\u0432\\u0438\\u043d\\u0443\\u0442\\u043e \\u043e\\u0431\\u0432\\u0438\\u043d\\u0435\\u043d\\u0438\\u0435 \\u0432 \\\"\\u0440\\u0430\\u0437\\u0436\\u0438\\u0433\\u0430\\u043d\\u0438\\u0438 \\u043d\\u0430\\u0446\\u0438\\u043e\\u043d\\u0430\\u043b\\u044c\\u043d\\u043e\\u0439 \\u0440\\u043e\\u0437\\u043d\\u0438 \\u0438 \\u0432\\u0440\\u0430\\u0436\\u0434\\u044b\\\". \\u041f\\u043e\\u0432\\u043e\\u0434\\u043e\\u043c \\u0441\\u0442\\u0430\\u043b\\u043e \\u043f\\u0443\\u0431\\u043b\\u0438\\u0447\\u043d\\u043e\\u0435 \\u0434\\u0435\\u043a\\u043b\\u0430\\u043c\\u0438\\u0440\\u043e\\u0432\\u0430\\u043d\\u0438\\u0435 \\u043d\\u0430 \\u043e\\u0434\\u043d\\u043e\\u043c \\u0438\\u0437 \\u043c\\u0438\\u0442\\u0438\\u043d\\u0433\\u043e\\u0432 \\u0441\\u0442\\u0438\\u0445\\u043e\\u0442\\u0432\\u043e\\u0440\\u0435\\u043d\\u0438\\u044f \\u0417\\u0438\\u0438 \\u0413\\u044e\\u043a\\u0430\\u043b\\u044c\\u043f\\u0430, \\u043f\\u0430\\u043d\\u0442\\u044e\\u0440\\u043a\\u0438\\u0441\\u0442\\u0441\\u043a\\u043e\\u0433\\u043e \\u0430\\u043a\\u0442\\u0438\\u0432\\u0438\\u0441\\u0442\\u0430 \\u043d\\u0430\\u0447\\u0430\\u043b\\u0430 XX \\u0432. \\u0425\\u043e\\u0442\\u044f \\u043e\\u043d\\u043e \\u043d\\u0435 \\u0431\\u044b\\u043b\\u043e \\u0437\\u0430\\u043f\\u0440\\u0435\\u0449\\u0435\\u043d\\u043d\\u044b\\u043c, \\u0441\\u0443\\u0434 \\u0441\\u0447\\u0435\\u043b, \\u0447\\u0442\\u043e \\u044d\\u0442\\u043e\\u0442 \\u0442\\u0435\\u043a\\u0441\\u0442 \\u0438\\u043c\\u0435\\u043b \\u043d\\u0435\\u0434\\u043e\\u043f\\u0443\\u0441\\u0442\\u0438\\u043c\\u043e\\u0435 \\u0438\\u0441\\u043b\\u0430\\u043c\\u0438\\u0441\\u0442\\u0441\\u043a\\u043e\\u0435 \\u0441\\u043e\\u0434\\u0435\\u0440\\u0436\\u0430\\u043d\\u0438\\u0435, \\u0438 \\u043f\\u0440\\u0438\\u0433\\u043e\\u0432\\u043e\\u0440\\u0438\\u043b \\u043c\\u043e\\u043b\\u043e\\u0434\\u043e\\u0433\\u043e \\u043f\\u043e\\u043b\\u0438\\u0442\\u0438\\u043a\\u0430 \\u043a \\u0434\\u0435\\u0441\\u044f\\u0442\\u0438\\u043c\\u0435\\u0441\\u044f\\u0447\\u043d\\u043e\\u043c\\u0443 \\u0437\\u0430\\u043a\\u043b\\u044e\\u0447\\u0435\\u043d\\u0438\\u044e. \\u041e\\u0434\\u043d\\u0430\\u043a\\u043e \\u0432 \\u0442\\u044e\\u0440\\u044c\\u043c\\u0435 \\u043e\\u043d \\u043f\\u0440\\u043e\\u0432\\u0435\\u043b \\u043b\\u0438\\u0448\\u044c \\u0447\\u0435\\u0442\\u044b\\u0440\\u0435 \\u043c\\u0435\\u0441\\u044f\\u0446\\u0430, \\u0437\\u0430\\u0442\\u0435\\u043c \\u0431\\u044b\\u043b \\u0434\\u043e\\u0441\\u0440\\u043e\\u0447\\u043d\\u043e \\u043e\\u0441\\u0432\\u043e\\u0431\\u043e\\u0436\\u0434\\u0435\\u043d. \\u0412 1998 \\u0433\\u043e\\u0434\\u0443 \\u042d\\u0440\\u0434\\u043e\\u0433\\u0430\\u043d \\u0432\\u0441\\u0442\\u0443\\u043f\\u0438\\u043b \\u0432 \\u041f\\u0430\\u0440\\u0442\\u0438\\u044e \\u0434\\u043e\\u0431\\u0440\\u043e\\u0434\\u0435\\u0442\\u0435\\u043b\\u0438. \\u041f\\u043e\\u0441\\u043b\\u0435 \\u0442\\u043e\\u0433\\u043e \\u043a\\u0430\\u043a \\u0432 2001 \\u0433\\u043e\\u0434\\u0443 \\u043e\\u043d\\u0430 \\u0431\\u044b\\u043b\\u0430 \\u0437\\u0430\\u043f\\u0440\\u0435\\u0449\\u0435\\u043d\\u0430 \\u0438\\u0437-\\u0437\\u0430 \\u043e\\u0431\\u0432\\u0438\\u043d\\u0435\\u043d\\u0438\\u0439 \\u0432 \\u0438\\u0441\\u043f\\u043e\\u043b\\u044c\\u0437\\u043e\\u0432\\u0430\\u043d\\u0438\\u0438 \\u0440\\u0435\\u043b\\u0438\\u0433\\u0438\\u0438 \\u0432 \\u043f\\u043e\\u043b\\u0438\\u0442\\u0438\\u0447\\u0435\\u0441\\u043a\\u0438\\u0445 \\u0446\\u0435\\u043b\\u044f\\u0445 \\u0438 \\u043f\\u043e\\u043f\\u044b\\u0442\\u043a\\u0430\\u0445 \\u0438\\u0441\\u043b\\u0430\\u043c\\u0438\\u0437\\u0430\\u0446\\u0438\\u0438 \\u0422\\u0443\\u0440\\u0446\\u0438\\u0438, \\u042d\\u0440\\u0434\\u043e\\u0433\\u0430\\u043d \\u043e\\u0441\\u043d\\u043e\\u0432\\u0430\\u043b \\u0438 \\u0432\\u043e\\u0437\\u0433\\u043b\\u0430\\u0432\\u0438\\u043b \\u041f\\u0430\\u0440\\u0442\\u0438\\u044e \\u0441\\u043f\\u0440\\u0430\\u0432\\u0435\\u0434\\u043b\\u0438\\u0432\\u043e\\u0441\\u0442\\u0438 \\u0438 \\u0440\\u0430\\u0437\\u0432\\u0438\\u0442\\u0438\\u044f (\\u041f\\u0421\\u0420). \\u041e\\u043d\\u0430 \\u043e\\u0431\\u044a\\u0435\\u0434\\u0438\\u043d\\u0438\\u043b\\u0430 \\u0438\\u0441\\u043b\\u0430\\u043c\\u0441\\u043a\\u0438\\u0445 \\u043a\\u043e\\u043d\\u0441\\u0435\\u0440\\u0432\\u0430\\u0442\\u043e\\u0440\\u043e\\u0432, \\u043f\\u0440\\u0430\\u0432\\u043e\\u0446\\u0435\\u043d\\u0442\\u0440\\u0438\\u0441\\u0442\\u043e\\u0432 \\u0438 \\u043f\\u0440\\u0435\\u0434\\u0441\\u0442\\u0430\\u0432\\u0438\\u0442\\u0435\\u043b\\u0435\\u0439 \\u0431\\u0438\\u0437\\u043d\\u0435\\u0441\\u0430. \\u0412 \\u043d\\u043e\\u044f\\u0431\\u0440\\u0435 2002 \\u0433\\u043e\\u0434\\u0430 \\u041f\\u0421\\u0420 \\u043f\\u043e \\u0438\\u0442\\u043e\\u0433\\u0430\\u043c \\u043f\\u0430\\u0440\\u043b\\u0430\\u043c\\u0435\\u043d\\u0442\\u0441\\u043a\\u0438\\u0445 \\u0432\\u044b\\u0431\\u043e\\u0440\\u043e\\u0432 \\u043d\\u0430\\u0431\\u0440\\u0430\\u043b\\u0430 34,3% \\u0433\\u043e\\u043b\\u043e\\u0441\\u043e\\u0432 \\u0438\\u0437\\u0431\\u0438\\u0440\\u0430\\u0442\\u0435\\u043b\\u0435\\u0439 \\u0438 \\u043f\\u043e\\u043b\\u0443\\u0447\\u0438\\u043b\\u0430 \\u0432\\u043e\\u0437\\u043c\\u043e\\u0436\\u043d\\u043e\\u0441\\u0442\\u044c \\u0441\\u0444\\u043e\\u0440\\u043c\\u0438\\u0440\\u043e\\u0432\\u0430\\u0442\\u044c \\u043f\\u0440\\u0430\\u0432\\u0438\\u0442\\u0435\\u043b\\u044c\\u0441\\u0442\\u0432\\u043e. \\u0412 \\u0441\\u0432\\u044f\\u0437\\u0438 \\u0441 \\u0441\\u0443\\u0434\\u0438\\u043c\\u043e\\u0441\\u0442\\u044c\\u044e \\u042d\\u0440\\u0434\\u043e\\u0433\\u0430\\u043d \\u043d\\u0435 \\u043c\\u043e\\u0433 \\u0431\\u044b\\u0442\\u044c \\u0438\\u0437\\u0431\\u0440\\u0430\\u043d \\u0432 \\u043f\\u0430\\u0440\\u043b\\u0430\\u043c\\u0435\\u043d\\u0442 \\u0438 \\u0432\\u043e\\u0437\\u0433\\u043b\\u0430\\u0432\\u0438\\u0442\\u044c \\u043a\\u0430\\u0431\\u0438\\u043d\\u0435\\u0442 \\u043c\\u0438\\u043d\\u0438\\u0441\\u0442\\u0440\\u043e\\u0432 (\\u043f\\u0440\\u0435\\u043c\\u044c\\u0435\\u0440-\\u043c\\u0438\\u043d\\u0438\\u0441\\u0442\\u0440 \\u0438\\u0437\\u0431\\u0438\\u0440\\u0430\\u043b\\u0441\\u044f \\u0438\\u0437 \\u0447\\u0438\\u0441\\u043b\\u0430 \\u0434\\u0435\\u043f\\u0443\\u0442\\u0430\\u0442\\u043e\\u0432 \\u043f\\u0430\\u0440\\u043b\\u0430\\u043c\\u0435\\u043d\\u0442\\u0430). \\u0412 \\u0438\\u0442\\u043e\\u0433\\u0435 \\u043f\\u0440\\u0430\\u0432\\u0438\\u0442\\u0435\\u043b\\u044c\\u0441\\u0442\\u0432\\u043e \\u0431\\u044b\\u043b\\u043e \\u043f\\u043e\\u0440\\u0443\\u0447\\u0435\\u043d\\u043e \\u0441\\u0444\\u043e\\u0440\\u043c\\u0438\\u0440\\u043e\\u0432\\u0430\\u0442\\u044c \\u0437\\u0430\\u043c\\u0435\\u0441\\u0442\\u0438\\u0442\\u0435\\u043b\\u044e \\u043f\\u0440\\u0435\\u0434\\u0441\\u0435\\u0434\\u0430\\u0442\\u0435\\u043b\\u044f \\u041f\\u0421\\u0420 \\u0410\\u0431\\u0434\\u0443\\u043b\\u043b\\u0430\\u0445\\u0443 \\u0413\\u044e\\u043b\\u044e. \\u042d\\u0440\\u0434\\u043e\\u0433\\u0430\\u043d \\u0441\\u0442\\u0430\\u043b \\u0434\\u0435\\u043f\\u0443\\u0442\\u0430\\u0442\\u043e\\u043c \\u0432 \\u043c\\u0430\\u0440\\u0442\\u0435 2003 \\u0433\\u043e\\u0434\\u0443 \\u043f\\u043e\\u0441\\u043b\\u0435 \\u043e\\u0442\\u043c\\u0435\\u043d\\u044b \\u0437\\u0430\\u043f\\u0440\\u0435\\u0442\\u0430 \\u043d\\u0430 \\u0438\\u0437\\u0431\\u0440\\u0430\\u043d\\u0438\\u0435 \\u0432 \\u0437\\u0430\\u043a\\u043e\\u043d\\u043e\\u0434\\u0430\\u0442\\u0435\\u043b\\u044c\\u043d\\u044b\\u0439 \\u043e\\u0440\\u0433\\u0430\\u043d \\u0440\\u0430\\u043d\\u0435\\u0435 \\u0441\\u0443\\u0434\\u0438\\u043c\\u044b\\u0445 \\u0433\\u0440\\u0430\\u0436\\u0434\\u0430\\u043d. 14 \\u043c\\u0430\\u0440\\u0442\\u0430 2003 \\u0433\\u043e\\u0434\\u0443 \\u042d\\u0440\\u0434\\u043e\\u0433\\u0430\\u043d \\u0431\\u044b\\u043b \\u0443\\u0442\\u0432\\u0435\\u0440\\u0436\\u0434\\u0435\\u043d \\u043f\\u0430\\u0440\\u043b\\u0430\\u043c\\u0435\\u043d\\u0442\\u043e\\u043c \\u043d\\u0430 \\u043f\\u043e\\u0441\\u0442\\u0443 \\u043f\\u0440\\u0435\\u043c\\u044c\\u0435\\u0440-\\u043c\\u0438\\u043d\\u0438\\u0441\\u0442\\u0440\\u0430 (\\u0444\\u0430\\u043a\\u0442\\u0438\\u0447\\u0435\\u0441\\u043a\\u0438 \\u0440\\u0443\\u043a\\u043e\\u0432\\u043e\\u0434\\u0438\\u0442\\u0435\\u043b\\u044c \\u0441\\u0442\\u0440\\u0430\\u043d\\u044b \\u0432 \\u043f\\u0430\\u0440\\u043b\\u0430\\u043c\\u0435\\u043d\\u0442\\u0441\\u043a\\u043e\\u0439 \\u0440\\u0435\\u0441\\u043f\\u0443\\u0431\\u043b\\u0438\\u043a\\u0435). \\u041d\\u0430\\u0445\\u043e\\u0434\\u0438\\u043b\\u0441\\u044f \\u0432 \\u0434\\u043e\\u043b\\u0436\\u043d\\u043e\\u0441\\u0442\\u0438 \\u0434\\u043e 28 \\u0430\\u0432\\u0433\\u0443\\u0441\\u0442\\u0430 2014 \\u0433\\u043e\\u0434\\u0430. \\u0412 \\u044d\\u0442\\u043e\\u0442 \\u043f\\u0435\\u0440\\u0438\\u043e\\u0434 \\u0412\\u0412\\u041f \\u0441\\u0442\\u0440\\u0430\\u043d\\u044b \\u0443\\u0432\\u0435\\u043b\\u0438\\u0447\\u0438\\u043b\\u0441\\u044f \\u0432 2,7 \\u0440\\u0430\\u0437\\u0430 - \\u0441 $303 \\u043c\\u043b\\u0440\\u0434 \\u0434\\u043e $820 \\u043c\\u043b\\u0440\\u0434. \\u0412 2005 \\u0433\\u043e\\u0434\\u0443 \\u0431\\u044b\\u043b\\u0430 \\u043f\\u0440\\u043e\\u0432\\u0435\\u0434\\u0435\\u043d\\u0430 \\u0434\\u0435\\u043d\\u043e\\u043c\\u0438\\u043d\\u0430\\u0446\\u0438\\u044f \\u043d\\u0430\\u0446\\u0438\\u043e\\u043d\\u0430\\u043b\\u044c\\u043d\\u043e\\u0439 \\u0432\\u0430\\u043b\\u044e\\u0442\\u044b - \\u043b\\u0438\\u0440\\u044b, \\u0438\\u043d\\u0444\\u043b\\u044f\\u0446\\u0438\\u044f \\u0441\\u043e\\u043a\\u0440\\u0430\\u0442\\u0438\\u043b\\u0430\\u0441\\u044c \\u0441 45% \\u0432 2003 \\u0433\\u043e\\u0434\\u0443 \\u0434\\u043e 7,5% \\u0432 2013 \\u0433\\u043e\\u0434\\u0443. \\u041d\\u0430 \\u043f\\u043e\\u0441\\u0442\\u0443 \\u043f\\u0440\\u0435\\u043c\\u044c\\u0435\\u0440\\u0430 \\u042d\\u0440\\u0434\\u043e\\u0433\\u0430\\u043d \\u043f\\u0440\\u0435\\u0434\\u043f\\u0440\\u0438\\u043d\\u0438\\u043c\\u0430\\u043b \\u043f\\u043e\\u043f\\u044b\\u0442\\u043a\\u0438 \\u0434\\u043e\\u0431\\u0438\\u0442\\u044c\\u0441\\u044f \\u0443\\u0440\\u0435\\u0433\\u0443\\u043b\\u0438\\u0440\\u043e\\u0432\\u0430\\u043d\\u0438\\u044f \\u043c\\u043d\\u043e\\u0433\\u043e\\u043b\\u0435\\u0442\\u043d\\u0435\\u0433\\u043e \\u0432\\u043e\\u043e\\u0440\\u0443\\u0436\\u0435\\u043d\\u043d\\u043e\\u0433\\u043e \\u043a\\u043e\\u043d\\u0444\\u043b\\u0438\\u043a\\u0442\\u0430 \\u0441 \\u043a\\u0443\\u0440\\u0434\\u0441\\u043a\\u0438\\u043c\\u0438 \\u0441\\u0435\\u043f\\u0430\\u0440\\u0430\\u0442\\u0438\\u0441\\u0442\\u0430\\u043c\\u0438. \\u0412\\u0435\\u0441\\u043d\\u043e\\u0439 2013 \\u0433\\u043e\\u0434\\u0430 \\u0431\\u044b\\u043b \\u0437\\u0430\\u043f\\u0443\\u0449\\u0435\\u043d \\u043c\\u0438\\u0440\\u043d\\u044b\\u0439 \\u043f\\u0440\\u043e\\u0446\\u0435\\u0441\\u0441, \\u043a\\u043e\\u0442\\u043e\\u0440\\u044b\\u0439 \\u043b\\u0435\\u0442\\u043e\\u043c 2015 \\u0433\\u043e\\u0434\\u0430 \\u0431\\u044b\\u043b \\u043f\\u0440\\u0435\\u0440\\u0432\\u0430\\u043d \\u043f\\u043e\\u0441\\u043b\\u0435 \\u0430\\u0442\\u0430\\u043a \\u0412\\u0412\\u0421 \\u0422\\u0443\\u0440\\u0446\\u0438\\u0438 \\u043d\\u0430 \\u0431\\u0430\\u0437\\u044b \\u043a\\u0443\\u0440\\u0434\\u0441\\u043a\\u0438\\u0445 \\u043e\\u0442\\u0440\\u044f\\u0434\\u043e\\u0432. \\u0412 \\u0433\\u043e\\u0434\\u044b \\u043f\\u0440\\u0435\\u043c\\u044c\\u0435\\u0440\\u0441\\u0442\\u0432\\u0430 \\u042d\\u0440\\u0434\\u043e\\u0433\\u0430\\u043d\\u0430 \\u0431\\u044b\\u043b \\u0443\\u0441\\u0438\\u043b\\u0435\\u043d \\u043a\\u043e\\u043d\\u0442\\u0440\\u043e\\u043b\\u044c \\u043d\\u0430\\u0434 \\u0430\\u0440\\u043c\\u0438\\u0435\\u0439 - \\u043d\\u0435\\u0441\\u043a\\u043e\\u043b\\u044c\\u043a\\u043e \\u0441\\u043e\\u0442\\u0435\\u043d \\u0432\\u043e\\u0435\\u043d\\u043d\\u044b\\u0445 \\u0431\\u044b\\u043b\\u0438 \\u0430\\u0440\\u0435\\u0441\\u0442\\u043e\\u0432\\u0430\\u043d\\u044b \\u0438 \\u043e\\u0441\\u0443\\u0436\\u0434\\u0435\\u043d\\u044b \\u043f\\u043e \\u043e\\u0431\\u0432\\u0438\\u043d\\u0435\\u043d\\u0438\\u044e \\u0432 \\u043f\\u043e\\u0434\\u0433\\u043e\\u0442\\u043e\\u0432\\u043a\\u0435 \\u0432\\u043e\\u0435\\u043d\\u043d\\u044b\\u0445 \\u043f\\u0435\\u0440\\u0435\\u0432\\u043e\\u0440\\u043e\\u0442\\u043e\\u0432. \\u041b\\u0435\\u0442\\u043e\\u043c 2013 \\u0433\\u043e\\u0434\\u0430 \\u043f\\u043e\\u043b\\u0438\\u0446\\u0438\\u044f \\u043f\\u043e\\u0434\\u0430\\u0432\\u0438\\u043b\\u0430 \\u0430\\u043d\\u0442\\u0438\\u043f\\u0440\\u0430\\u0432\\u0438\\u0442\\u0435\\u043b\\u044c\\u0441\\u0442\\u0432\\u0435\\u043d\\u043d\\u044b\\u0435 \\u0434\\u0435\\u043c\\u043e\\u043d\\u0441\\u0442\\u0440\\u0430\\u0446\\u0438\\u0438 \\u0432 \\u0421\\u0442\\u0430\\u043c\\u0431\\u0443\\u043b\\u0435 \\u0438 \\u0434\\u0440\\u0443\\u0433\\u0438\\u0445 \\u0440\\u0435\\u0433\\u0438\\u043e\\u043d\\u0430\\u0445 \\u0422\\u0443\\u0440\\u0446\\u0438\\u0438. \\u0422\\u0443\\u0440\\u0435\\u0446\\u043a\\u0438\\u0435 \\u0432\\u043b\\u0430\\u0441\\u0442\\u0438 \\u043d\\u0435\\u043e\\u0434\\u043d\\u043e\\u043a\\u0440\\u0430\\u0442\\u043d\\u043e \\u043f\\u044b\\u0442\\u0430\\u043b\\u0438\\u0441\\u044c \\u0437\\u0430\\u0431\\u043b\\u043e\\u043a\\u0438\\u0440\\u043e\\u0432\\u0430\\u0442\\u044c Twitter, Facebook (\\u0437\\u0430\\u043f\\u0440\\u0435\\u0449\\u0435\\u043d \\u0432 \\u0420\\u0424; \\u043f\\u0440\\u0438\\u043d\\u0430\\u0434\\u043b\\u0435\\u0436\\u0438\\u0442 \\u043a\\u043e\\u0440\\u043f\\u043e\\u0440\\u0430\\u0446\\u0438\\u0438 Meta, \\u043a\\u043e\\u0442\\u043e\\u0440\\u0430\\u044f \\u043f\\u0440\\u0438\\u0437\\u043d\\u0430\\u043d\\u0430 \\u0432 \\u0420\\u0424 \\u044d\\u043a\\u0441\\u0442\\u0440\\u0435\\u043c\\u0438\\u0441\\u0442\\u0441\\u043a\\u043e\\u0439) \\u0438 YouTube. \\u0412 \\u0441\\u0432\\u044f\\u0437\\u0438 \\u0441 \\u044d\\u0442\\u0438\\u043c \\u0432 \\u0430\\u0434\\u0440\\u0435\\u0441 \\u042d\\u0440\\u0434\\u043e\\u0433\\u0430\\u043d\\u0430 \\u0447\\u0430\\u0441\\u0442\\u043e \\u0437\\u0432\\u0443\\u0447\\u0430\\u043b\\u0438 \\u043e\\u0431\\u0432\\u0438\\u043d\\u0435\\u043d\\u0438\\u044f \\u0432 \\u043f\\u043e\\u043f\\u044b\\u0442\\u043a\\u0430\\u0445 \\u043e\\u0433\\u0440\\u0430\\u043d\\u0438\\u0447\\u0438\\u0442\\u044c \\u0441\\u0432\\u043e\\u0431\\u043e\\u0434\\u0443 \\u0441\\u043b\\u043e\\u0432\\u0430 \\u0438 \\u0432 \\u0430\\u0432\\u0442\\u043e\\u0440\\u0438\\u0442\\u0430\\u0440\\u0438\\u0437\\u043c\\u0435. \\u0411\\u0443\\u0434\\u0443\\u0447\\u0438 \\u043f\\u0440\\u0435\\u043c\\u044c\\u0435\\u0440\\u043e\\u043c, \\u042d\\u0440\\u0434\\u043e\\u0433\\u0430\\u043d \\u0432\\u044b\\u0441\\u0442\\u0443\\u043f\\u0430\\u043b \\u0437\\u0430 \\u043f\\u0440\\u0435\\u043e\\u0431\\u0440\\u0430\\u0437\\u043e\\u0432\\u0430\\u043d\\u0438\\u0435 \\u043f\\u0430\\u0440\\u043b\\u0430\\u043c\\u0435\\u043d\\u0442\\u0441\\u043a\\u043e\\u0439 \\u0444\\u043e\\u0440\\u043c\\u044b \\u043f\\u0440\\u0430\\u0432\\u043b\\u0435\\u043d\\u0438\\u044f \\u0432 \\u043f\\u0440\\u0435\\u0437\\u0438\\u0434\\u0435\\u043d\\u0442\\u0441\\u043a\\u0443\\u044e. \\u041f\\u0440\\u0438 \\u043d\\u0435\\u043c \\u0432 2007 \\u0433\\u043e\\u0434\\u0443 \\u0431\\u044b\\u043b\\u0438 \\u0432\\u043d\\u0435\\u0441\\u0435\\u043d\\u044b \\u043f\\u043e\\u043f\\u0440\\u0430\\u0432\\u043a\\u0438 \\u0432 \\u043a\\u043e\\u043d\\u0441\\u0442\\u0438\\u0442\\u0443\\u0446\\u0438\\u044e, \\u043a\\u043e\\u0442\\u043e\\u0440\\u044b\\u0435 \\u043f\\u0440\\u0435\\u0434\\u0443\\u0441\\u043c\\u0430\\u0442\\u0440\\u0438\\u0432\\u0430\\u043b\\u0438 \\u0432\\u044b\\u0431\\u043e\\u0440\\u044b \\u043f\\u0440\\u0435\\u0437\\u0438\\u0434\\u0435\\u043d\\u0442\\u0430 \\u0432\\u0441\\u0435\\u043d\\u0430\\u0440\\u043e\\u0434\\u043d\\u044b\\u043c \\u0433\\u043e\\u043b\\u043e\\u0441\\u043e\\u0432\\u0430\\u043d\\u0438\\u0435\\u043c (\\u0440\\u0430\\u043d\\u0435\\u0435 \\u0438\\u0437\\u0431\\u0438\\u0440\\u0430\\u043b\\u0441\\u044f \\u043f\\u0430\\u0440\\u043b\\u0430\\u043c\\u0435\\u043d\\u0442\\u043e\\u043c). 10 \\u0430\\u0432\\u0433\\u0443\\u0441\\u0442\\u0430 2014 \\u0433\\u043e\\u0434\\u0430 \\u042d\\u0440\\u0434\\u043e\\u0433\\u0430\\u043d \\u043f\\u043e\\u0431\\u0435\\u0434\\u0438\\u043b \\u043d\\u0430 \\u043f\\u0440\\u0435\\u0437\\u0438\\u0434\\u0435\\u043d\\u0442\\u0441\\u043a\\u0438\\u0445 \\u0432\\u044b\\u0431\\u043e\\u0440\\u0430\\u0445 \\u0432 \\u043f\\u0435\\u0440\\u0432\\u043e\\u043c \\u0442\\u0443\\u0440\\u0435, \\u043d\\u0430\\u0431\\u0440\\u0430\\u0432 51,8% \\u0433\\u043e\\u043b\\u043e\\u0441\\u043e\\u0432 (\\u043f\\u0435\\u0440\\u0432\\u044b\\u0435 \\u043f\\u0440\\u044f\\u043c\\u044b\\u0435 \\u0432\\u044b\\u0431\\u043e\\u0440\\u044b \\u043f\\u0440\\u0435\\u0437\\u0438\\u0434\\u0435\\u043d\\u0442\\u0430 \\u0432 \\u0441\\u0442\\u0440\\u0430\\u043d\\u0435). \\u0415\\u0433\\u043e \\u0431\\u043b\\u0438\\u0436\\u0430\\u0439\\u0448\\u0438\\u0439 \\u0441\\u043e\\u043f\\u0435\\u0440\\u043d\\u0438\\u043a \\u042d\\u043a\\u043c\\u0435\\u043b\\u0435\\u0434\\u0434\\u0438\\u043d \\u0418\\u0445\\u0441\\u0430\\u043d\\u043e\\u0433\\u043b\\u0443, \\u0431\\u0430\\u043b\\u043b\\u043e\\u0442\\u0438\\u0440\\u043e\\u0432\\u0430\\u0432\\u0448\\u0438\\u0439\\u0441\\u044f \\u043e\\u0442 \\u0431\\u043b\\u043e\\u043a\\u0430 \\u043e\\u043f\\u043f\\u043e\\u0437\\u0438\\u0446\\u0438\\u043e\\u043d\\u043d\\u044b\\u0445 \\u043f\\u0430\\u0440\\u0442\\u0438\\u0439, \\u043f\\u043e\\u043b\\u0443\\u0447\\u0438\\u043b 38,5%. \\u041d\\u0430 \\u043f\\u043e\\u0441\\u0442\\u0443 \\u0433\\u043b\\u0430\\u0432\\u044b \\u0433\\u043e\\u0441\\u0443\\u0434\\u0430\\u0440\\u0441\\u0442\\u0432\\u0430 \\u042d\\u0440\\u0434\\u043e\\u0433\\u0430\\u043d \\u043f\\u0440\\u043e\\u0434\\u043e\\u043b\\u0436\\u0438\\u043b \\u043f\\u0440\\u043e\\u0432\\u043e\\u0434\\u0438\\u0442\\u044c \\u043f\\u043e\\u043b\\u0438\\u0442\\u0438\\u043a\\u0443, \\u043d\\u0430\\u043f\\u0440\\u0430\\u0432\\u043b\\u0435\\u043d\\u043d\\u0443\\u044e \\u043d\\u0430 \\u0438\\u0441\\u043b\\u0430\\u043c\\u0438\\u0437\\u0430\\u0446\\u0438\\u044e \\u0441\\u0442\\u0440\\u0430\\u043d\\u044b \\u0438 \\u043e\\u0441\\u043b\\u0430\\u0431\\u043b\\u0435\\u043d\\u0438\\u0435 \\u0432\\u043b\\u0438\\u044f\\u043d\\u0438\\u044f \\u0432\\u043e\\u0435\\u043d\\u043d\\u044b\\u0445. \\u042d\\u0442\\u043e \\u043f\\u0440\\u0438\\u0432\\u0435\\u043b\\u043e \\u043a \\u043f\\u043e\\u043f\\u044b\\u0442\\u043a\\u0435 \\u0432\\u043e\\u0435\\u043d\\u043d\\u043e\\u0433\\u043e \\u043f\\u0435\\u0440\\u0435\\u0432\\u043e\\u0440\\u043e\\u0442\\u0430 15 \\u0438\\u044e\\u043b\\u044f 2016 \\u0433\\u043e\\u0434\\u0430. \\u041f\\u0440\\u0438 \\u043f\\u043e\\u0434\\u0434\\u0435\\u0440\\u0436\\u043a\\u0435 \\u043d\\u0430\\u0441\\u0435\\u043b\\u0435\\u043d\\u0438\\u044f \\u0438 \\u043b\\u043e\\u044f\\u043b\\u044c\\u043d\\u044b\\u0445 \\u042d\\u0440\\u0434\\u043e\\u0433\\u0430\\u043d\\u0443 \\u0432\\u043e\\u0435\\u043d\\u043d\\u044b\\u0445 \\u0447\\u0430\\u0441\\u0442\\u0435\\u0439 \\u0438 \\u043f\\u043e\\u043b\\u0438\\u0446\\u0438\\u0438 \\u0432\\u043e\\u0441\\u0441\\u0442\\u0430\\u043d\\u0438\\u0435 \\u0431\\u044b\\u043b\\u043e \\u043f\\u043e\\u0434\\u0430\\u0432\\u043b\\u0435\\u043d\\u043e. \\u041e\\u0442\\u0432\\u0435\\u0442\\u0441\\u0442\\u0432\\u0435\\u043d\\u043d\\u043e\\u0441\\u0442\\u044c \\u0437\\u0430 \\u0435\\u0433\\u043e \\u043e\\u0440\\u0433\\u0430\\u043d\\u0438\\u0437\\u0430\\u0446\\u0438\\u044e \\u043f\\u0440\\u0435\\u0437\\u0438\\u0434\\u0435\\u043d\\u0442 \\u0432\\u043e\\u0437\\u043b\\u043e\\u0436\\u0438\\u043b \\u043d\\u0430 \\u0442\\u0443\\u0440\\u0435\\u0446\\u043a\\u043e\\u0433\\u043e \\u043f\\u0440\\u043e\\u043f\\u043e\\u0432\\u0435\\u0434\\u043d\\u0438\\u043a\\u0430 \\u0424\\u0435\\u0442\\u0445\\u0443\\u043b\\u043b\\u0430\\u0445\\u0430 \\u0413\\u044e\\u043b\\u0435\\u043d\\u0430, \\u043f\\u0440\\u043e\\u0436\\u0438\\u0432\\u0430\\u044e\\u0449\\u0435\\u0433\\u043e \\u0432 \\u0421\\u0428\\u0410 (\\u0413\\u044e\\u043b\\u0435\\u043d \\u0438\\u043c\\u0435\\u0435\\u0442 \\u043c\\u043d\\u043e\\u0433\\u043e \\u043f\\u043e\\u0441\\u043b\\u0435\\u0434\\u043e\\u0432\\u0430\\u0442\\u0435\\u043b\\u0435\\u0439 \\u0441\\u0440\\u0435\\u0434\\u0438 \\u0430\\u0440\\u043c\\u0435\\u0439\\u0441\\u043a\\u0438\\u0445 \\u0438 \\u043f\\u043e\\u043b\\u0438\\u0446\\u0435\\u0439\\u0441\\u043a\\u0438\\u0445 \\u0447\\u0438\\u043d\\u043e\\u0432 \\u0422\\u0443\\u0440\\u0446\\u0438\\u0438). \\u0412 \\u0441\\u0442\\u0440\\u0430\\u043d\\u0435 \\u0431\\u044b\\u043b \\u0432\\u0432\\u0435\\u0434\\u0435\\u043d \\u0440\\u0435\\u0436\\u0438\\u043c \\u0447\\u0440\\u0435\\u0437\\u0432\\u044b\\u0447\\u0430\\u0439\\u043d\\u043e\\u0433\\u043e \\u043f\\u043e\\u043b\\u043e\\u0436\\u0435\\u043d\\u0438\\u044f (\\u0434\\u0435\\u0439\\u0441\\u0442\\u0432\\u043e\\u0432\\u0430\\u043b \\u0434\\u043e 19 \\u0438\\u044e\\u043b\\u044f 2018 \\u0433\\u043e\\u0434\\u0430). \\u041f\\u043e \\u043e\\u0431\\u0432\\u0438\\u043d\\u0435\\u043d\\u0438\\u044e \\u0432 \\u043f\\u0440\\u0438\\u0447\\u0430\\u0441\\u0442\\u043d\\u043e\\u0441\\u0442\\u0438 \\u043a \\u043f\\u0435\\u0440\\u0435\\u0432\\u043e\\u0440\\u043e\\u0442\\u0443 \\u0431\\u044b\\u043b\\u0438 \\u0437\\u0430\\u0434\\u0435\\u0440\\u0436\\u0430\\u043d\\u044b \\u0441\\u0432\\u044b\\u0448\\u0435 13 \\u0442\\u044b\\u0441. \\u0447\\u0435\\u043b\\u043e\\u0432\\u0435\\u043a. \\u041f\\u043e\\u0441\\u043b\\u0435 \\u044d\\u0442\\u043e\\u0433\\u043e \\u043f\\u0440\\u0435\\u0437\\u0438\\u0434\\u0435\\u043d\\u0442 \\u0438\\u0437\\u043c\\u0435\\u043d\\u0438\\u043b \\u0441\\u0438\\u0441\\u0442\\u0435\\u043c\\u0443 \\u0443\\u043f\\u0440\\u0430\\u0432\\u043b\\u0435\\u043d\\u0438\\u044f \\u0432\\u043e\\u043e\\u0440\\u0443\\u0436\\u0435\\u043d\\u043d\\u044b\\u043c\\u0438 \\u0441\\u0438\\u043b\\u0430\\u043c\\u0438, \\u0430 \\u043f\\u043e\\u0437\\u0434\\u043d\\u0435\\u0435 \\u043d\\u0430 \\u0440\\u0435\\u0444\\u0435\\u0440\\u0435\\u043d\\u0434\\u0443\\u043c\\u0435 16 \\u0430\\u043f\\u0440\\u0435\\u043b\\u044f 2017 \\u0433\\u043e\\u0434\\u0430 \\u0431\\u044b\\u043b\\u0438 \\u043e\\u0434\\u043e\\u0431\\u0440\\u0435\\u043d\\u044b \\u043f\\u043e\\u043f\\u0440\\u0430\\u0432\\u043a\\u0438 \\u043a \\u043a\\u043e\\u043d\\u0441\\u0442\\u0438\\u0442\\u0443\\u0446\\u0438\\u0438, \\u043f\\u0440\\u0435\\u0434\\u0443\\u0441\\u043c\\u0430\\u0442\\u0440\\u0438\\u0432\\u0430\\u0432\\u0448\\u0438\\u0435 \\u0443\\u0441\\u0442\\u0430\\u043d\\u043e\\u0432\\u043b\\u0435\\u043d\\u0438\\u0435 \\u043f\\u0440\\u0435\\u0437\\u0438\\u0434\\u0435\\u043d\\u0442\\u0441\\u043a\\u043e\\u0439 \\u0444\\u043e\\u0440\\u043c\\u044b \\u043f\\u0440\\u0430\\u0432\\u043b\\u0435\\u043d\\u0438\\u044f (\\\"\\u0437\\u0430\\\" \\u0432\\u044b\\u0441\\u043a\\u0430\\u0437\\u0430\\u043b\\u0438\\u0441\\u044c 51,41% \\u0438\\u0437\\u0431\\u0438\\u0440\\u0430\\u0442\\u0435\\u043b\\u0435\\u0439 \\u043f\\u0440\\u0438 \\u044f\\u0432\\u043a\\u0435 87,2%). \\u041a\\u0440\\u043e\\u043c\\u0435 \\u0442\\u043e\\u0433\\u043e, \\u0431\\u043b\\u0430\\u0433\\u043e\\u0434\\u0430\\u0440\\u044f \\u044d\\u0442\\u0438\\u043c \\u043f\\u043e\\u043f\\u0440\\u0430\\u0432\\u043a\\u0430\\u043c \\u0432 \\u043c\\u0430\\u0435 2017 \\u0433\\u043e\\u0434\\u0430 \\u042d\\u0440\\u0434\\u043e\\u0433\\u0430\\u043d \\u0432\\u043e\\u0437\\u043e\\u0431\\u043d\\u043e\\u0432\\u0438\\u043b \\u0447\\u043b\\u0435\\u043d\\u0441\\u0442\\u0432\\u043e \\u0432 \\u041f\\u0430\\u0440\\u0442\\u0438\\u0438 \\u0441\\u043f\\u0440\\u0430\\u0432\\u0435\\u0434\\u043b\\u0438\\u0432\\u043e\\u0441\\u0442\\u0438 \\u0438 \\u0440\\u0430\\u0437\\u0432\\u0438\\u0442\\u0438\\u044f \\u0438 \\u0431\\u044b\\u043b \\u0438\\u0437\\u0431\\u0440\\u0430\\u043d \\u0435\\u0435 \\u043f\\u0440\\u0435\\u0434\\u0441\\u0435\\u0434\\u0430\\u0442\\u0435\\u043b\\u0435\\u043c (\\u0440\\u0430\\u043d\\u0435\\u0435 \\u043a\\u043e\\u043d\\u0441\\u0442\\u0438\\u0442\\u0443\\u0446\\u0438\\u044f \\u043d\\u0435 \\u043f\\u043e\\u0437\\u0432\\u043e\\u043b\\u044f\\u043b\\u0430 \\u043b\\u0438\\u0434\\u0435\\u0440\\u0443 \\u0433\\u043e\\u0441\\u0443\\u0434\\u0430\\u0440\\u0441\\u0442\\u0432\\u0430 \\u0431\\u044b\\u0442\\u044c \\u0447\\u043b\\u0435\\u043d\\u043e\\u043c \\u043a\\u0430\\u043a\\u043e\\u0439-\\u043b\\u0438\\u0431\\u043e \\u043f\\u0430\\u0440\\u0442\\u0438\\u0438; \\u0447\\u043b\\u0435\\u043d\\u0441\\u0442\\u0432\\u043e \\u042d\\u0440\\u0434\\u043e\\u0433\\u0430\\u043d\\u0430 \\u0432 \\u041f\\u0421\\u0420 \\u0431\\u044b\\u043b\\u043e \\u043f\\u0440\\u0438\\u043e\\u0441\\u0442\\u0430\\u043d\\u043e\\u0432\\u043b\\u0435\\u043d\\u043e \\u0432 \\u0430\\u0432\\u0433\\u0443\\u0441\\u0442\\u0435 2014 \\u0433\\u043e\\u0434\\u0430). 24 \\u0438\\u044e\\u043d\\u044f 2018 \\u0433\\u043e\\u0434\\u0430 \\u042d\\u0440\\u0434\\u043e\\u0433\\u0430\\u043d \\u0431\\u044b\\u043b \\u043f\\u0435\\u0440\\u0435\\u0438\\u0437\\u0431\\u0440\\u0430\\u043d \\u043d\\u0430 \\u0432\\u0442\\u043e\\u0440\\u043e\\u0439 \\u0441\\u0440\\u043e\\u043a, \\u043d\\u0430\\u0431\\u0440\\u0430\\u0432 52,59% \\u0433\\u043e\\u043b\\u043e\\u0441\\u043e\\u0432 \\u0432 \\u043f\\u0435\\u0440\\u0432\\u043e\\u043c \\u0442\\u0443\\u0440\\u0435 (\\u0435\\u0433\\u043e \\u0431\\u043b\\u0438\\u0436\\u0430\\u0439\\u0448\\u0438\\u0439 \\u043a\\u043e\\u043d\\u043a\\u0443\\u0440\\u0435\\u043d\\u0442 \\u041c\\u0443\\u0445\\u0430\\u0440\\u0440\\u0435\\u043c \\u0418\\u043d\\u0434\\u0436\\u0435 \\u043e\\u0442 \\u043e\\u0441\\u043d\\u043e\\u0432\\u043d\\u043e\\u0439 \\u043e\\u043f\\u043f\\u043e\\u0437\\u0438\\u0446\\u0438\\u043e\\u043d\\u043d\\u043e\\u0439 \\u041d\\u0430\\u0440\\u043e\\u0434\\u043d\\u043e-\\u0440\\u0435\\u0441\\u043f\\u0443\\u0431\\u043b\\u0438\\u043a\\u0430\\u043d\\u0441\\u043a\\u043e\\u0439 \\u043f\\u0430\\u0440\\u0442\\u0438\\u0438 \\u043f\\u043e\\u043b\\u0443\\u0447\\u0438\\u043b 30,64% \\u0433\\u043e\\u043b\\u043e\\u0441\\u043e\\u0432). \\u0412\\u0441\\u0442\\u0443\\u043f\\u0438\\u043b \\u0432 \\u0434\\u043e\\u043b\\u0436\\u043d\\u043e\\u0441\\u0442\\u044c 9 \\u0438\\u044e\\u043b\\u044f 2018 \\u0433\\u043e\\u0434\\u0430. \\u0412 \\u043f\\u0435\\u0440\\u0438\\u043e\\u0434 \\u043f\\u0440\\u0435\\u0437\\u0438\\u0434\\u0435\\u043d\\u0442\\u0441\\u0442\\u0432\\u0430 \\u042d\\u0440\\u0434\\u043e\\u0433\\u0430\\u043d\\u0430 \\u0410\\u043d\\u043a\\u0430\\u0440\\u0430 \\u0437\\u0430\\u043d\\u044f\\u043b\\u0430 \\u0436\\u0435\\u0441\\u0442\\u043a\\u0443\\u044e \\u043f\\u043e\\u0437\\u0438\\u0446\\u0438\\u044e \\u0432 \\u043a\\u0443\\u0440\\u0434\\u0441\\u043a\\u043e\\u043c \\u0432\\u043e\\u043f\\u0440\\u043e\\u0441\\u0435. \\u0412 \\u0434\\u0435\\u043a\\u0430\\u0431\\u0440\\u0435 2015 \\u0433\\u043e\\u0434\\u0430 - \\u0444\\u0435\\u0432\\u0440\\u0430\\u043b\\u0435 2016 \\u0433\\u043e\\u0434\\u0430 \\u0442\\u0443\\u0440\\u0435\\u0446\\u043a\\u043e\\u0439 \\u0430\\u0440\\u043c\\u0438\\u0435\\u0439 \\u0431\\u044b\\u043b\\u0430 \\u043e\\u0441\\u0443\\u0449\\u0435\\u0441\\u0442\\u0432\\u043b\\u0435\\u043d\\u0430 \\u0448\\u0438\\u0440\\u043e\\u043a\\u043e\\u043c\\u0430\\u0441\\u0448\\u0442\\u0430\\u0431\\u043d\\u0430\\u044f \\u043e\\u043f\\u0435\\u0440\\u0430\\u0446\\u0438\\u044f \\u043f\\u0440\\u043e\\u0442\\u0438\\u0432 \\u0420\\u0430\\u0431\\u043e\\u0447\\u0435\\u0439 \\u043f\\u0430\\u0440\\u0442\\u0438\\u0438 \\u041a\\u0443\\u0440\\u0434\\u0438\\u0441\\u0442\\u0430\\u043d\\u0430 \\u043d\\u0430 \\u0433\\u0440\\u0430\\u043d\\u0438\\u0446\\u0435 \\u0441 \\u0421\\u0438\\u0440\\u0438\\u0435\\u0439 \\u0438 \\u0418\\u0440\\u0430\\u043a\\u043e\\u043c \\u0432 \\u0433\\u043e\\u0440\\u043e\\u0434\\u0430\\u0445 \\u0414\\u0436\\u0438\\u0437\\u0440\\u0435 \\u0438 \\u0421\\u0438\\u043b\\u043e\\u043f\\u0438. \\u0410\\u043d\\u043a\\u0430\\u0440\\u0430 \\u043f\\u0440\\u043e\\u0432\\u0435\\u043b\\u0430 \\u043d\\u0430 \\u0442\\u0435\\u0440\\u0440\\u0438\\u0442\\u043e\\u0440\\u0438\\u0438 \\u0421\\u0438\\u0440\\u0438\\u0438 \\u043f\\u0440\\u043e\\u0442\\u0438\\u0432 \\\"\\u0442\\u0435\\u0440\\u0440\\u043e\\u0440\\u0438\\u0441\\u0442\\u0438\\u0447\\u0435\\u0441\\u043a\\u0438\\u0445 \\u0433\\u0440\\u0443\\u043f\\u043f \\u0441\\u0438\\u0440\\u0438\\u0439\\u0441\\u043a\\u0438\\u0445 \\u043a\\u0443\\u0440\\u0434\\u043e\\u0432, \\u0443\\u0433\\u0440\\u043e\\u0436\\u0430\\u044e\\u0449\\u0438\\u0445 \\u0422\\u0443\\u0440\\u0446\\u0438\\u0438\\\", \\u0442\\u0440\\u0438 \\u0432\\u043e\\u0435\\u043d\\u043d\\u044b\\u0435 \\u043e\\u043f\\u0435\\u0440\\u0430\\u0446\\u0438\\u0438 - \\\"\\u0429\\u0438\\u0442 \\u0415\\u0432\\u0444\\u0440\\u0430\\u0442\\u0430\\\" (2016-2017), \\\"\\u041e\\u043b\\u0438\\u0432\\u043a\\u043e\\u0432\\u0430\\u044f \\u0432\\u0435\\u0442\\u0432\\u044c\\\" (2018) \\u0438 \\\"\\u0418\\u0441\\u0442\\u043e\\u0447\\u043d\\u0438\\u043a \\u043c\\u0438\\u0440\\u0430\\\" (2019). \\u0412 \\u0440\\u0435\\u0437\\u0443\\u043b\\u044c\\u0442\\u0430\\u0442\\u0435 \\u0443\\u0447\\u0430\\u0441\\u0442\\u043e\\u043a \\u0442\\u0443\\u0440\\u0435\\u0446\\u043a\\u043e-\\u0441\\u0438\\u0440\\u0438\\u0439\\u0441\\u043a\\u043e\\u0439 \\u0433\\u0440\\u0430\\u043d\\u0438\\u0446\\u044b \\u043c\\u0435\\u0436\\u0434\\u0443 \\u0433\\u043e\\u0440\\u043e\\u0434\\u0430\\u043c\\u0438 \\u0410\\u0430\\u0437\\u0430\\u0437 \\u0438 \\u0414\\u0436\\u0435\\u0440\\u0430\\u0431\\u043b\\u0443\\u0441, \\u0430 \\u0442\\u0430\\u043a\\u0436\\u0435 \\u0440\\u0430\\u0439\\u043e\\u043d, \\u043f\\u0440\\u0438\\u043b\\u0435\\u0433\\u0430\\u044e\\u0449\\u0438\\u0439 \\u043a \\u0433\\u043e\\u0440\\u043e\\u0434\\u0443 \\u0410\\u0444\\u0440\\u0438\\u043d, \\u043f\\u0435\\u0440\\u0435\\u0448\\u043b\\u0438 \\u043f\\u043e\\u0434 \\u043a\\u043e\\u043d\\u0442\\u0440\\u043e\\u043b\\u044c \\u0442\\u0443\\u0440\\u0435\\u0446\\u043a\\u0438\\u0445 \\u0432\\u043e\\u0435\\u043d\\u043d\\u044b\\u0445. \\u041e\\u0441\\u043d\\u043e\\u0432\\u043d\\u043e\\u0439 \\u0446\\u0435\\u043b\\u044c\\u044e \\u0432\\u043d\\u0435\\u0448\\u043d\\u0435\\u0439 \\u043f\\u043e\\u043b\\u0438\\u0442\\u0438\\u043a\\u0438 \\u042d\\u0440\\u0434\\u043e\\u0433\\u0430\\u043d\\u0430 \\u0431\\u044b\\u043b\\u0430 \\u0437\\u0430\\u044f\\u0432\\u043b\\u0435\\u043d\\u0430 \\u0438\\u043d\\u0442\\u0435\\u0433\\u0440\\u0430\\u0446\\u0438\\u044f \\u0422\\u0443\\u0440\\u0446\\u0438\\u0438 \\u0432 \\u0415\\u0432\\u0440\\u043e\\u0441\\u043e\\u044e\\u0437 (\\u0437\\u0430\\u044f\\u0432\\u043a\\u0430 \\u043d\\u0430 \\u0432\\u0441\\u0442\\u0443\\u043f\\u043b\\u0435\\u043d\\u0438\\u0435 \\u0431\\u044b\\u043b\\u0430 \\u043f\\u043e\\u0434\\u0430\\u043d\\u0430 \\u0432 1987 \\u0433\\u043e\\u0434\\u0443, \\u0430 \\u0441\\u0442\\u0430\\u0442\\u0443\\u0441 \\u043a\\u0430\\u043d\\u0434\\u0438\\u0434\\u0430\\u0442\\u0430 \\u0441\\u0442\\u0440\\u0430\\u043d\\u0430 \\u043f\\u043e\\u043b\\u0443\\u0447\\u0438\\u043b\\u0430 \\u0435\\u0449\\u0435 \\u0432 1999 \\u0433\\u043e\\u0434\\u0443). \\u041e\\u0434\\u043d\\u0430\\u043a\\u043e \\u0415\\u0432\\u0440\\u043e\\u043f\\u0430 \\u0432\\u044b\\u0434\\u0432\\u0438\\u0433\\u0430\\u043b\\u0430 \\u043f\\u0440\\u0435\\u0442\\u0435\\u043d\\u0437\\u0438\\u0438 \\u043a \\u0410\\u043d\\u043a\\u0430\\u0440\\u0435 \\u0432 \\u0441\\u0444\\u0435\\u0440\\u0435 \\u043f\\u0440\\u0430\\u0432 \\u0447\\u0435\\u043b\\u043e\\u0432\\u0435\\u043a\\u0430 \\u0438 \\u0441\\u0432\\u043e\\u0431\\u043e\\u0434\\u044b \\u0432\\u044b\\u0440\\u0430\\u0436\\u0435\\u043d\\u0438\\u044f \\u043c\\u043d\\u0435\\u043d\\u0438\\u0439, \\u043f\\u0440\\u0435\\u0441\\u043b\\u0435\\u0434\\u043e\\u0432\\u0430\\u043d\\u0438\\u044f \\u0436\\u0443\\u0440\\u043d\\u0430\\u043b\\u0438\\u0441\\u0442\\u043e\\u0432, \\u043f\\u0440\\u0430\\u0432\\u043e\\u0437\\u0430\\u0449\\u0438\\u0442\\u043d\\u0438\\u043a\\u043e\\u0432 \\u0438 \\u0443\\u0447\\u0435\\u043d\\u044b\\u0445. \\u0412 2017 \\u0433\\u043e\\u0434\\u0443 \\u042d\\u0440\\u0434\\u043e\\u0433\\u0430\\u043d \\u0437\\u0430\\u044f\\u0432\\u0438\\u043b, \\u0447\\u0442\\u043e \\u0422\\u0443\\u0440\\u0446\\u0438\\u044f \\u0431\\u043e\\u043b\\u044c\\u0448\\u0435 \\u043d\\u0435 \\u043d\\u0443\\u0436\\u0434\\u0430\\u0435\\u0442\\u0441\\u044f \\u0432 \\u0447\\u043b\\u0435\\u043d\\u0441\\u0442\\u0432\\u0435 \\u0432 \\u0415\\u0421, \\u043d\\u043e \\u043f\\u0435\\u0440\\u0435\\u0433\\u043e\\u0432\\u043e\\u0440\\u044b \\u0432\\u0441\\u0435 \\u0440\\u0430\\u0432\\u043d\\u043e \\u043f\\u0440\\u043e\\u0434\\u043e\\u043b\\u0436\\u0430\\u0442\\u0441\\u044f (\\u043f\\u0440\\u043e\\u0446\\u0435\\u0441\\u0441 \\u0431\\u044b\\u043b \\u0437\\u0430\\u043f\\u0443\\u0449\\u0435\\u043d \\u0432 2005 \\u0433\\u043e\\u0434\\u0443). \\u0412\\u0442\\u043e\\u0440\\u043e\\u0439 \\u0441\\u0440\\u043e\\u043a \\u043f\\u0440\\u0435\\u0437\\u0438\\u0434\\u0435\\u043d\\u0442\\u0441\\u0442\\u0432\\u0430 \\u042d\\u0440\\u0434\\u043e\\u0433\\u0430\\u043d\\u0430 \\u0445\\u0430\\u0440\\u0430\\u043a\\u0442\\u0435\\u0440\\u0438\\u0437\\u043e\\u0432\\u0430\\u043b\\u0441\\u044f \\u043d\\u0430\\u043f\\u0440\\u044f\\u0436\\u0435\\u043d\\u043d\\u043e\\u0441\\u0442\\u044c\\u044e \\u0432 \\u043e\\u0442\\u043d\\u043e\\u0448\\u0435\\u043d\\u0438\\u044f\\u0445 \\u0410\\u043d\\u043a\\u0430\\u0440\\u044b \\u0441 \\u0437\\u0430\\u043f\\u0430\\u0434\\u043d\\u044b\\u043c\\u0438 \\u0441\\u0442\\u0440\\u0430\\u043d\\u0430\\u043c\\u0438. \\u0422\\u0430\\u043a, \\u0432 2019 \\u0433\\u043e\\u0434\\u0443 \\u0421\\u0428\\u0410 \\u043f\\u0440\\u0438\\u043e\\u0441\\u0442\\u0430\\u043d\\u043e\\u0432\\u0438\\u043b\\u0438 \\u0443\\u0447\\u0430\\u0441\\u0442\\u0438\\u0435 \\u0422\\u0443\\u0440\\u0446\\u0438\\u0438 \\u0432 \\u043f\\u0440\\u043e\\u0433\\u0440\\u0430\\u043c\\u043c\\u0435 \\u0441\\u043e\\u0437\\u0434\\u0430\\u043d\\u0438\\u044f \\u0438\\u0441\\u0442\\u0440\\u0435\\u0431\\u0438\\u0442\\u0435\\u043b\\u044f Joint Strike Fighter \\u0438\\u0437-\\u0437\\u0430 \\u043f\\u043e\\u043a\\u0443\\u043f\\u043a\\u0438 \\u0442\\u0443\\u0440\\u0435\\u0446\\u043a\\u043e\\u0439 \\u0441\\u0442\\u043e\\u0440\\u043e\\u043d\\u043e\\u0439 \\u0440\\u043e\\u0441\\u0441\\u0438\\u0439\\u0441\\u043a\\u0438\\u0445 \\u0437\\u0435\\u043d\\u0438\\u0442\\u043d\\u044b\\u0445 \\u0440\\u0430\\u043a\\u0435\\u0442\\u043d\\u044b\\u0445 \\u0441\\u0438\\u0441\\u0442\\u0435\\u043c (\\u0417\\u0420\\u0421) \\u0421-400 \\\"\\u0422\\u0440\\u0438\\u0443\\u043c\\u0444\\\" (\\u043a\\u043e\\u043d\\u0442\\u0440\\u0430\\u043a\\u0442 \\u0431\\u044b\\u043b \\u043f\\u043e\\u0434\\u043f\\u0438\\u0441\\u0430\\u043d \\u0432 2017 \\u0433\\u043e\\u0434\\u0443, \\u0432\\u0442\\u043e\\u0440\\u043e\\u0439 - \\u0432 2020 \\u0433\\u043e\\u0434\\u0443). \\u0412 2019-2020 \\u0433\\u043e\\u0434\\u0430\\u0445 \\u0421\\u0428\\u0410 \\u0432\\u0432\\u0435\\u043b\\u0438 \\u0441\\u0430\\u043d\\u043a\\u0446\\u0438\\u0438 \\u0432 \\u043e\\u0442\\u043d\\u043e\\u0448\\u0435\\u043d\\u0438\\u0438 \\u0442\\u0443\\u0440\\u0435\\u0446\\u043a\\u0438\\u0445 \\u0433\\u043e\\u0441\\u0443\\u0447\\u0440\\u0435\\u0436\\u0434\\u0435\\u043d\\u0438\\u0439 \\u0438 \\u0433\\u043e\\u0441\\u0441\\u043b\\u0443\\u0436\\u0430\\u0449\\u0438\\u0445 (\\u0432 \\u0447\\u0430\\u0441\\u0442\\u043d\\u043e\\u0441\\u0442\\u0438, \\u0432 \\u043e\\u0442\\u043d\\u043e\\u0448\\u0435\\u043d\\u0438\\u0438 \\u041c\\u0438\\u043d\\u0438\\u0441\\u0442\\u0435\\u0440\\u0441\\u0442\\u0432\\u0430 \\u043d\\u0430\\u0446\\u0438\\u043e\\u043d\\u0430\\u043b\\u044c\\u043d\\u043e\\u0439 \\u043e\\u0431\\u043e\\u0440\\u043e\\u043d\\u044b \\u0422\\u0443\\u0440\\u0446\\u0438\\u0438 \\u0438 \\u0435\\u0433\\u043e \\u0433\\u043b\\u0430\\u0432\\u044b \\u0425\\u0443\\u043b\\u0443\\u0441\\u0438 \\u0410\\u043a\\u0430\\u0440\\u0430, \\u0423\\u043f\\u0440\\u0430\\u0432\\u043b\\u0435\\u043d\\u0438\\u044f \\u043e\\u0431\\u043e\\u0440\\u043e\\u043d\\u043d\\u043e\\u0439 \\u043f\\u0440\\u043e\\u043c\\u044b\\u0448\\u043b\\u0435\\u043d\\u043d\\u043e\\u0441\\u0442\\u0438 \\u0422\\u0443\\u0440\\u0446\\u0438\\u0438 \\u0438 \\u0435\\u0433\\u043e \\u0440\\u0443\\u043a\\u043e\\u0432\\u043e\\u0434\\u0438\\u0442\\u0435\\u043b\\u044f \\u0418\\u0441\\u043c\\u0430\\u0438\\u043b\\u0430 \\u0414\\u0435\\u043c\\u0438\\u0440\\u0430) \\u0438\\u0437-\\u0437\\u0430 \\u043f\\u0440\\u043e\\u0432\\u0435\\u0434\\u0435\\u043d\\u0438\\u044f \\u0410\\u043d\\u043a\\u0430\\u0440\\u043e\\u0439 \\u0432\\u043e\\u0435\\u043d\\u043d\\u043e\\u0439 \\u043e\\u043f\\u0435\\u0440\\u0430\\u0446\\u0438\\u0438 \\u0432 \\u0421\\u0438\\u0440\\u0438\\u0438 \\\"\\u0418\\u0441\\u0442\\u043e\\u0447\\u043d\\u0438\\u043a \\u043c\\u0438\\u0440\\u0430\\\" \\u0438 \\u043f\\u043e\\u043a\\u0443\\u043f\\u043a\\u0438 \\u0440\\u043e\\u0441\\u0441\\u0438\\u0439\\u0441\\u043a\\u043e\\u0439 \\u0417\\u0420\\u0421 \\u0421-400. \\u042d\\u0440\\u0434\\u043e\\u0433\\u0430\\u043d \\u0441 1978 \\u0433\\u043e\\u0434\\u0430 \\u0436\\u0435\\u043d\\u0430\\u0442 \\u043d\\u0430 \\u042d\\u043c\\u0438\\u043d\\u0435 (\\u0443\\u0440\\u043e\\u0436\\u0434\\u0435\\u043d\\u043d\\u043e\\u0439 \\u0413\\u044e\\u043b\\u0431\\u0430\\u0440\\u0430\\u043d), \\u043e\\u043d\\u0430 \\u0437\\u0430\\u043d\\u0438\\u043c\\u0430\\u0435\\u0442\\u0441\\u044f \\u0437\\u0430\\u0449\\u0438\\u0442\\u043e\\u0439 \\u043f\\u0440\\u0430\\u0432 \\u0436\\u0435\\u043d\\u0449\\u0438\\u043d \\u0438 \\u0431\\u043b\\u0430\\u0433\\u043e\\u0442\\u0432\\u043e\\u0440\\u0438\\u0442\\u0435\\u043b\\u044c\\u043d\\u043e\\u0441\\u0442\\u044c\\u044e. \\u0415\\u0435 \\u0434\\u0435\\u044f\\u0442\\u0435\\u043b\\u044c\\u043d\\u043e\\u0441\\u0442\\u044c \\u043f\\u043e \\u043e\\u043a\\u0430\\u0437\\u0430\\u043d\\u0438\\u044e \\u043f\\u043e\\u043c\\u043e\\u0449\\u0438 \\u043f\\u043e\\u0441\\u0442\\u0440\\u0430\\u0434\\u0430\\u0432\\u0448\\u0438\\u043c \\u0432\\u043e \\u0432\\u0440\\u0435\\u043c\\u044f \\u043d\\u0430\\u0432\\u043e\\u0434\\u043d\\u0435\\u043d\\u0438\\u044f \\u0432 \\u041f\\u0430\\u043a\\u0438\\u0441\\u0442\\u0430\\u043d\\u0435 \\u0432 2010 \\u0433\\u043e\\u0434\\u0443 \\u043e\\u0442\\u043c\\u0435\\u0447\\u0435\\u043d\\u0430 \\u043e\\u0440\\u0434\\u0435\\u043d\\u043e\\u043c Hilal-e-Pakistan. \\u0423 \\u0441\\u0443\\u043f\\u0440\\u0443\\u0433\\u043e\\u0432 \\u0447\\u0435\\u0442\\u0432\\u0435\\u0440\\u043e \\u0434\\u0435\\u0442\\u0435\\u0439. \\u042d\\u0440\\u0434\\u043e\\u0433\\u0430\\u043d \\u0432\\u043b\\u0430\\u0434\\u0435\\u0435\\u0442 \\u0430\\u043d\\u0433\\u043b\\u0438\\u0439\\u0441\\u043a\\u0438\\u043c \\u0438 \\u0430\\u0440\\u0430\\u0431\\u0441\\u043a\\u0438\\u043c \\u044f\\u0437\\u044b\\u043a\\u0430\\u043c\\u0438. \\u041e\\u043d \\u0438\\u043c\\u0435\\u0435\\u0442 \\u043d\\u0430\\u0433\\u0440\\u0430\\u0434\\u044b \\u043d\\u0435\\u0441\\u043a\\u043e\\u043b\\u044c\\u043a\\u0438\\u0445 \\u0438\\u043d\\u043e\\u0441\\u0442\\u0440\\u0430\\u043d\\u043d\\u044b\\u0445 \\u0433\\u043e\\u0441\\u0443\\u0434\\u0430\\u0440\\u0441\\u0442\\u0432, \\u0441\\u0440\\u0435\\u0434\\u0438 \\u043d\\u0438\\u0445 \\u043e\\u0440\\u0434\\u0435\\u043d \\\"\\u041d\\u0438\\u0448\\u0430\\u043d-\\u0438-\\u041f\\u0430\\u043a\\u0438\\u0441\\u0442\\u0430\\u043d\\\" (\\u041f\\u0430\\u043a\\u0438\\u0441\\u0442\\u0430\\u043d, 2009), \\u043e\\u0440\\u0434\\u0435\\u043d \\\"\\u0417\\u043e\\u043b\\u043e\\u0442\\u043e\\u0435 \\u0440\\u0443\\u043d\\u043e\\\" (\\u0413\\u0440\\u0443\\u0437\\u0438\\u044f, 2010) \\u0438 \\u043e\\u0440\\u0434\\u0435\\u043d \\\"\\u0414\\u0430\\u043d\\u0430\\u043a\\u0435\\u0440\\\" (\\u041a\\u0438\\u0440\\u0433\\u0438\\u0437\\u0438\\u044f, 2011). \\u041d\\u0430\\u0433\\u0440\\u0430\\u0436\\u0434\\u0435\\u043d \\u043f\\u0440\\u0435\\u043c\\u0438\\u0435\\u0439 \\u0437\\u0430 \\u0443\\u0447\\u0430\\u0441\\u0442\\u0438\\u0435 \\u0432 \\u0440\\u0430\\u0431\\u043e\\u0442\\u0435 \\u041f\\u0440\\u043e\\u0433\\u0440\\u0430\\u043c\\u043c\\u044b \\u041e\\u041e\\u041d \\u043f\\u043e \\u043d\\u0430\\u0441\\u0435\\u043b\\u0435\\u043d\\u043d\\u044b\\u043c \\u043f\\u0443\\u043d\\u043a\\u0442\\u0430\\u043c (\\u041e\\u041e\\u041d-\\u0425\\u0430\\u0431\\u0438\\u0442\\u0430\\u0442, 2010). \\u0412 2005, 2010, 2016, 2017 \\u0433\\u043e\\u0434\\u0430\\u0445 \\u0436\\u0443\\u0440\\u043d\\u0430\\u043b Time \\u0432\\u043a\\u043b\\u044e\\u0447\\u0430\\u043b \\u0435\\u0433\\u043e \\u0432 \\u0441\\u043f\\u0438\\u0441\\u043e\\u043a \\u0441\\u0430\\u043c\\u044b\\u0445 \\u0432\\u043b\\u0438\\u044f\\u0442\\u0435\\u043b\\u044c\\u043d\\u044b\\u0445 \\u043b\\u044e\\u0434\\u0435\\u0439 \\u0432 \\u043c\\u0438\\u0440\\u0435. \\u0412 2022 \\u0433\\u043e\\u0434\\u0443 \\u043f\\u043e\\u043b\\u0443\\u0447\\u0438\\u043b \\u0412\\u044b\\u0441\\u0448\\u0438\\u0439 \\u043e\\u0440\\u0434\\u0435\\u043d \\u0442\\u044e\\u0440\\u043a\\u0441\\u043a\\u043e\\u0433\\u043e \\u043c\\u0438\\u0440\\u0430 (\\u0432\\u044b\\u0441\\u0448\\u0430\\u044f \\u043d\\u0430\\u0433\\u0440\\u0430\\u0434\\u0430 \\u041e\\u0440\\u0433\\u0430\\u043d\\u0438\\u0437\\u0430\\u0446\\u0438\\u0438 \\u0442\\u044e\\u0440\\u043a\\u0441\\u043a\\u0438\\u0445 \\u0433\\u043e\\u0441\\u0443\\u0434\\u0430\\u0440\\u0441\\u0442\\u0432). \",\n          \"\\u041f\\u0440\\u0435\\u0437\\u0438\\u0434\\u0435\\u043d\\u0442 \\u0420\\u043e\\u0441\\u0441\\u0438\\u0438 \\u0412\\u043b\\u0430\\u0434\\u0438\\u043c\\u0438\\u0440 \\u041f\\u0443\\u0442\\u0438\\u043d \\u043f\\u0440\\u0438\\u043d\\u044f\\u043b \\u0443\\u0447\\u0430\\u0441\\u0442\\u0438\\u0435 \\u0432 \\u0422\\u0440\\u0435\\u0442\\u044c\\u0435\\u043c \\u0444\\u043e\\u0440\\u0443\\u043c\\u0435 \\u043c\\u0435\\u0436\\u0434\\u0443\\u043d\\u0430\\u0440\\u043e\\u0434\\u043d\\u043e\\u0433\\u043e \\u0441\\u043e\\u0442\\u0440\\u0443\\u0434\\u043d\\u0438\\u0447\\u0435\\u0441\\u0442\\u0432\\u0430 \\\"\\u041e\\u0434\\u0438\\u043d \\u043f\\u043e\\u044f\\u0441 \\u2014 \\u043e\\u0434\\u0438\\u043d \\u043f\\u0443\\u0442\\u044c\\\" (\\\"\\u041f\\u043e\\u044f\\u0441 \\u0438 \\u043f\\u0443\\u0442\\u044c\\\"), \\u0441\\u043e\\u0441\\u0442\\u043e\\u044f\\u0432\\u0448\\u0435\\u043c\\u0441\\u044f \\u0432 \\u041f\\u0435\\u043a\\u0438\\u043d\\u0435 17 \\u0438 18 \\u043e\\u043a\\u0442\\u044f\\u0431\\u0440\\u044f. \\u0412 \\u0441\\u0430\\u043c\\u043c\\u0438\\u0442\\u0435 \\u043f\\u0440\\u0438\\u043d\\u044f\\u043b\\u0438 \\u0443\\u0447\\u0430\\u0441\\u0442\\u0438\\u0435 \\u043f\\u0440\\u0435\\u0434\\u0441\\u0442\\u0430\\u0432\\u0438\\u0442\\u0435\\u043b\\u0438 \\u0431\\u043e\\u043b\\u0435\\u0435 140 \\u0441\\u0442\\u0440\\u0430\\u043d \\u0438 30 \\u043c\\u0435\\u0436\\u0434\\u0443\\u043d\\u0430\\u0440\\u043e\\u0434\\u043d\\u044b\\u0445 \\u043e\\u0440\\u0433\\u0430\\u043d\\u0438\\u0437\\u0430\\u0446\\u0438\\u0439. \\u0412 \\u0440\\u0430\\u043c\\u043a\\u0430\\u0445 \\u043c\\u0435\\u0436\\u0434\\u0443\\u043d\\u0430\\u0440\\u043e\\u0434\\u043d\\u043e\\u0439 \\u0432\\u0441\\u0442\\u0440\\u0435\\u0447\\u0438 \\u0441\\u043e\\u0441\\u0442\\u043e\\u044f\\u043b\\u0438\\u0441\\u044c \\u043f\\u0435\\u0440\\u0435\\u0433\\u043e\\u0432\\u043e\\u0440\\u044b \\u0440\\u043e\\u0441\\u0441\\u0438\\u0439\\u0441\\u043a\\u043e\\u0433\\u043e \\u043b\\u0438\\u0434\\u0435\\u0440\\u0430 \\u0438 \\u043f\\u0440\\u0435\\u0434\\u0441\\u0435\\u0434\\u0430\\u0442\\u0435\\u043b\\u044f \\u041a\\u041d\\u0420 \\u0421\\u0438 \\u0426\\u0437\\u0438\\u043d\\u044c\\u043f\\u0438\\u043d\\u0430. \\u0420\\u0435\\u0430\\u043a\\u0446\\u0438\\u044f \\u043c\\u0438\\u0440\\u043e\\u0432\\u044b\\u0445 \\u0421\\u041c\\u0418 \\u043d\\u0430 \\u043f\\u0440\\u043e\\u0434\\u043e\\u043b\\u0436\\u0430\\u044e\\u0449\\u0435\\u0435\\u0441\\u044f \\u0441\\u0431\\u043b\\u0438\\u0436\\u0435\\u043d\\u0438\\u0435 \\u043d\\u0430\\u0448\\u0435\\u0439 \\u0441\\u0442\\u0440\\u0430\\u043d\\u044b \\u0438 \\u041a\\u0438\\u0442\\u0430\\u044f \\u2014 \\u0432 \\u043f\\u043e\\u0434\\u0431\\u043e\\u0440\\u043a\\u0435 \\u0422\\u0410\\u0421\\u0421. Global Times: \\\"\\u0412\\u0430\\u0436\\u043d\\u0435\\u0439\\u0448\\u0435\\u0435 \\u0437\\u043d\\u0430\\u0447\\u0435\\u043d\\u0438\\u0435 \\u0432\\u0438\\u0437\\u0438\\u0442\\u0430 \\u041f\\u0443\\u0442\\u0438\\u043d\\u0430 \\u0432 \\u041a\\u0438\\u0442\\u0430\\u0439 \\u0437\\u0430\\u043a\\u043b\\u044e\\u0447\\u0430\\u0435\\u0442\\u0441\\u044f \\u0432 \\u0434\\u0435\\u043c\\u043e\\u043d\\u0441\\u0442\\u0440\\u0430\\u0446\\u0438\\u0438 \\u0432\\u044b\\u0441\\u043e\\u043a\\u043e\\u0433\\u043e \\u0443\\u0440\\u043e\\u0432\\u043d\\u044f \\u0441\\u0442\\u0440\\u0430\\u0442\\u0435\\u0433\\u0438\\u0447\\u0435\\u0441\\u043a\\u043e\\u0439 \\u043a\\u043e\\u043e\\u0440\\u0434\\u0438\\u043d\\u0430\\u0446\\u0438\\u0438 \\u043c\\u0435\\u0436\\u0434\\u0443 \\u0434\\u0432\\u0443\\u043c\\u044f \\u0441\\u0442\\u0440\\u0430\\u043d\\u0430\\u043c\\u0438. \\u0423\\u0447\\u0438\\u0442\\u044b\\u0432\\u0430\\u044f \\u043d\\u044b\\u043d\\u0435\\u0448\\u043d\\u044e\\u044e \\u043c\\u0435\\u0436\\u0434\\u0443\\u043d\\u0430\\u0440\\u043e\\u0434\\u043d\\u0443\\u044e \\u0441\\u0438\\u0442\\u0443\\u0430\\u0446\\u0438\\u044e, \\u043e\\u0431\\u0435\\u0438\\u043c \\u0441\\u0442\\u043e\\u0440\\u043e\\u043d\\u0430\\u043c \\u043d\\u0435\\u043e\\u0431\\u0445\\u043e\\u0434\\u0438\\u043c\\u043e \\u0443\\u0441\\u0438\\u043b\\u0438\\u0442\\u044c \\u043a\\u043e\\u043e\\u0440\\u0434\\u0438\\u043d\\u0430\\u0446\\u0438\\u044e \\u043a\\u0430\\u043a \\u043d\\u0430 \\u0434\\u0432\\u0443\\u0441\\u0442\\u043e\\u0440\\u043e\\u043d\\u043d\\u0435\\u043c, \\u0442\\u0430\\u043a \\u0438 \\u043d\\u0430 \\u043c\\u0435\\u0436\\u0434\\u0443\\u043d\\u0430\\u0440\\u043e\\u0434\\u043d\\u043e\\u043c \\u0443\\u0440\\u043e\\u0432\\u043d\\u0435, \\u0447\\u0442\\u043e\\u0431\\u044b \\u043f\\u0440\\u043e\\u0442\\u0438\\u0432\\u043e\\u0441\\u0442\\u043e\\u044f\\u0442\\u044c \\u043d\\u0435\\u043e\\u0431\\u043e\\u0441\\u043d\\u043e\\u0432\\u0430\\u043d\\u043d\\u043e\\u043c\\u0443 \\u0441\\u0434\\u0435\\u0440\\u0436\\u0438\\u0432\\u0430\\u043d\\u0438\\u044e \\u0438 \\u0434\\u0430\\u0432\\u043b\\u0435\\u043d\\u0438\\u044e \\u0441\\u043e \\u0441\\u0442\\u043e\\u0440\\u043e\\u043d\\u044b \\u0417\\u0430\\u043f\\u0430\\u0434\\u0430. \\u0412 \\u043e\\u0442\\u043b\\u0438\\u0447\\u0438\\u0435 \\u043e\\u0442 \\u0431\\u043b\\u043e\\u043a\\u043e\\u0432\\u043e\\u0439 \\u043a\\u043e\\u043d\\u0444\\u0440\\u043e\\u043d\\u0442\\u0430\\u0446\\u0438\\u0438, \\u043f\\u0440\\u043e\\u0434\\u0432\\u0438\\u0433\\u0430\\u0435\\u043c\\u043e\\u0439 \\u0417\\u0430\\u043f\\u0430\\u0434\\u043e\\u043c, \\u043f\\u0430\\u0440\\u0442\\u043d\\u0435\\u0440\\u0441\\u0442\\u0432\\u043e \\u043c\\u0435\\u0436\\u0434\\u0443 \\u041a\\u0438\\u0442\\u0430\\u0435\\u043c \\u0438 \\u0420\\u043e\\u0441\\u0441\\u0438\\u0435\\u0439 \\u043f\\u0440\\u0435\\u0434\\u0441\\u0442\\u0430\\u0432\\u043b\\u044f\\u0435\\u0442 \\u0441\\u043e\\u0431\\u043e\\u0439 \\u043e\\u0442\\u043a\\u0440\\u044b\\u0442\\u043e\\u0435 \\u0441\\u043e\\u0442\\u0440\\u0443\\u0434\\u043d\\u0438\\u0447\\u0435\\u0441\\u0442\\u0432\\u043e \\u043d\\u0430 \\u043e\\u0441\\u043d\\u043e\\u0432\\u0435 \\u0432\\u0437\\u0430\\u0438\\u043c\\u043d\\u043e\\u0439 \\u0432\\u044b\\u0433\\u043e\\u0434\\u044b, \\u043e\\u0440\\u0438\\u0435\\u043d\\u0442\\u0438\\u0440\\u043e\\u0432\\u0430\\u043d\\u043d\\u043e\\u0435 \\u043d\\u0430 \\u043c\\u0438\\u0440\\u043d\\u043e\\u0435 \\u0438 \\u043e\\u0431\\u0449\\u0435\\u0435 \\u0440\\u0430\\u0437\\u0432\\u0438\\u0442\\u0438\\u0435\\\". \\u0422\\u0435\\u043b\\u0435\\u043a\\u043e\\u043c\\u043f\\u0430\\u043d\\u0438\\u044f CNN: \\\"\\u041e\\u0442\\u043a\\u0440\\u044b\\u0442\\u0438\\u0435 \\u0444\\u043e\\u0440\\u0443\\u043c\\u0430 \\\"\\u041e\\u0434\\u0438\\u043d \\u043f\\u043e\\u044f\\u0441 \\u2014 \\u043e\\u0434\\u0438\\u043d \\u043f\\u0443\\u0442\\u044c\\\" \\u043f\\u043e\\u0434\\u0447\\u0435\\u0440\\u043a\\u043d\\u0443\\u043b\\u043e \\u0443\\u0433\\u043b\\u0443\\u0431\\u043b\\u044f\\u044e\\u0449\\u0435\\u0435\\u0441\\u044f \\u043f\\u043e\\u043b\\u0438\\u0442\\u0438\\u0447\\u0435\\u0441\\u043a\\u043e\\u0435 \\u0434\\u043e\\u0432\\u0435\\u0440\\u0438\\u0435 \\u043c\\u0435\\u0436\\u0434\\u0443 \\u043f\\u0440\\u0435\\u0434\\u0441\\u0435\\u0434\\u0430\\u0442\\u0435\\u043b\\u0435\\u043c \\u041a\\u041d\\u0420 \\u0421\\u0438 \\u0426\\u0437\\u0438\\u043d\\u044c\\u043f\\u0438\\u043d\\u043e\\u043c \\u0438 \\u043f\\u0440\\u0435\\u0437\\u0438\\u0434\\u0435\\u043d\\u0442\\u043e\\u043c \\u0420\\u043e\\u0441\\u0441\\u0438\\u0438 \\u0412\\u043b\\u0430\\u0434\\u0438\\u043c\\u0438\\u0440\\u043e\\u043c \\u041f\\u0443\\u0442\\u0438\\u043d\\u044b\\u043c, \\u043a\\u043e\\u0442\\u043e\\u0440\\u044b\\u0439 \\u0441\\u0442\\u0430\\u043b \\u043f\\u043e\\u0447\\u0435\\u0442\\u043d\\u044b\\u043c \\u0433\\u043e\\u0441\\u0442\\u0435\\u043c \\u043d\\u0430 \\u0432\\u0441\\u0442\\u0440\\u0435\\u0447\\u0435, \\u0441\\u0438\\u0434\\u0435\\u043b \\u0440\\u044f\\u0434\\u043e\\u043c \\u0441 \\u043a\\u0438\\u0442\\u0430\\u0439\\u0441\\u043a\\u0438\\u043c \\u043b\\u0438\\u0434\\u0435\\u0440\\u043e\\u043c \\u0438 \\u0433\\u043e\\u0432\\u043e\\u0440\\u0438\\u043b \\u0441\\u0440\\u0430\\u0437\\u0443 \\u043f\\u043e\\u0441\\u043b\\u0435 \\u043d\\u0435\\u0433\\u043e \\u043d\\u0430 \\u0446\\u0435\\u0440\\u0435\\u043c\\u043e\\u043d\\u0438\\u0438 \\u043e\\u0442\\u043a\\u0440\\u044b\\u0442\\u0438\\u044f\\\". \\u0412\\u0435\\u0449\\u0430\\u0442\\u0435\\u043b\\u044c\\u043d\\u0430\\u044f \\u043a\\u043e\\u0440\\u043f\\u043e\\u0440\\u0430\\u0446\\u0438\\u044f BBC: \\\"\\u0412\\u0438\\u0437\\u0438\\u0442 \\u0412\\u043b\\u0430\\u0434\\u0438\\u043c\\u0438\\u0440\\u0430 \\u041f\\u0443\\u0442\\u0438\\u043d\\u0430 \\u043f\\u0440\\u043e\\u0445\\u043e\\u0434\\u0438\\u043b \\u043d\\u0430 \\u0444\\u043e\\u043d\\u0435 \\u043e\\u043f\\u0430\\u0441\\u0435\\u043d\\u0438\\u0439 \\u043f\\u043e \\u043f\\u043e\\u0432\\u043e\\u0434\\u0443 \\u0442\\u043e\\u0433\\u043e, \\u0447\\u0442\\u043e \\u041a\\u0438\\u0442\\u0430\\u0439 \\u0438 \\u0420\\u043e\\u0441\\u0441\\u0438\\u044f \\u0441\\u043e\\u0437\\u0434\\u0430\\u0434\\u0443\\u0442 \\u0441\\u043e\\u0431\\u0441\\u0442\\u0432\\u0435\\u043d\\u043d\\u044b\\u0439 \\u0431\\u043b\\u043e\\u043a \\u0432 \\u043f\\u0440\\u043e\\u0442\\u0438\\u0432\\u043e\\u0432\\u0435\\u0441 \\u0417\\u0430\\u043f\\u0430\\u0434\\u0443. \\u041e\\u0431\\u0435 \\u0441\\u0442\\u0440\\u0430\\u043d\\u044b \\u043f\\u0443\\u0431\\u043b\\u0438\\u0447\\u043d\\u043e \\u043e\\u0441\\u0443\\u0436\\u0434\\u0430\\u044e\\u0442 \\\"\\u0433\\u043b\\u043e\\u0431\\u0430\\u043b\\u044c\\u043d\\u0443\\u044e \\u0433\\u0435\\u0433\\u0435\\u043c\\u043e\\u043d\\u0438\\u044e\\\" \\u043f\\u043e\\u0434 \\u043f\\u0440\\u0435\\u0434\\u0432\\u043e\\u0434\\u0438\\u0442\\u0435\\u043b\\u044c\\u0441\\u0442\\u0432\\u043e\\u043c \\u0421\\u0428\\u0410 \\u0438 \\u043f\\u0440\\u0438\\u0437\\u044b\\u0432\\u0430\\u044e\\u0442 \\u0441\\u043e\\u0437\\u0434\\u0430\\u0442\\u044c \\\"\\u043c\\u043d\\u043e\\u0433\\u043e\\u043f\\u043e\\u043b\\u044f\\u0440\\u043d\\u044b\\u0439 \\u043c\\u0438\\u0440\\\". Le Figaro: \\\"\\u0412 \\u041f\\u0435\\u043a\\u0438\\u043d\\u0435 \\u0421\\u0438 \\u0426\\u0437\\u0438\\u043d\\u044c\\u043f\\u0438\\u043d \\u0438 \\u0412\\u043b\\u0430\\u0434\\u0438\\u043c\\u0438\\u0440 \\u041f\\u0443\\u0442\\u0438\\u043d \\u0441\\u043f\\u043b\\u043e\\u0442\\u0438\\u043b\\u0438 \\u0440\\u044f\\u0434\\u044b \\u043f\\u043e \\u043e\\u0442\\u043d\\u043e\\u0448\\u0435\\u043d\\u0438\\u044e \\u043a \\u0417\\u0430\\u043f\\u0430\\u0434\\u0443. \\u041b\\u0438\\u0434\\u0435\\u0440\\u044b \\u041a\\u0438\\u0442\\u0430\\u044f \\u0438 \\u0420\\u043e\\u0441\\u0441\\u0438\\u0438 \\u043f\\u0440\\u043e\\u0434\\u0435\\u043c\\u043e\\u043d\\u0441\\u0442\\u0440\\u0438\\u0440\\u043e\\u0432\\u0430\\u043b\\u0438 \\u043f\\u0440\\u043e\\u0447\\u043d\\u043e\\u0441\\u0442\\u044c \\u0441\\u0432\\u043e\\u0435\\u0433\\u043e \\u043f\\u0430\\u0440\\u0442\\u043d\\u0435\\u0440\\u0441\\u0442\\u0432\\u0430, \\u043a\\u043e\\u0442\\u043e\\u0440\\u043e\\u0435 \\u043e\\u043d\\u0438 \\u043f\\u0440\\u0435\\u0434\\u043b\\u0430\\u0433\\u0430\\u044e\\u0442 \\u0441\\u0442\\u0440\\u0430\\u043d\\u0430\\u043c \\u042e\\u0433\\u0430 \\u0432 \\u043a\\u0430\\u0447\\u0435\\u0441\\u0442\\u0432\\u0435 \\u0430\\u043b\\u044c\\u0442\\u0435\\u0440\\u043d\\u0430\\u0442\\u0438\\u0432\\u044b. \\u041b\\u0438\\u0434\\u0435\\u0440\\u044b \\u0434\\u0432\\u0443\\u0445 \\u0441\\u0442\\u0440\\u0430\\u043d \\u043f\\u0440\\u043e\\u0434\\u0435\\u043c\\u043e\\u043d\\u0441\\u0442\\u0440\\u0438\\u0440\\u043e\\u0432\\u0430\\u043b\\u0438 \\u0441\\u0432\\u043e\\u0435 \\u043e\\u0442\\u043b\\u0438\\u0447\\u0438\\u0435 \\u043e\\u0442 \\u0417\\u0430\\u043f\\u0430\\u0434\\u0430, \\u0447\\u0442\\u043e\\u0431\\u044b \\u0437\\u0430\\u0432\\u043e\\u0435\\u0432\\u0430\\u0442\\u044c \\u0441\\u0438\\u043c\\u043f\\u0430\\u0442\\u0438\\u0438 \\u043e\\u0441\\u0442\\u0430\\u043b\\u044c\\u043d\\u043e\\u0439 \\u0447\\u0430\\u0441\\u0442\\u0438 \\u0440\\u0430\\u0437\\u0432\\u0438\\u0432\\u0430\\u044e\\u0449\\u0435\\u0433\\u043e\\u0441\\u044f \\u043c\\u0438\\u0440\\u0430. \\u0412 \\u043a\\u043e\\u043d\\u0446\\u0435\\u043f\\u0446\\u0438\\u0438 \\u0440\\u0430\\u0437\\u0432\\u0438\\u0442\\u0438\\u044f, \\u043f\\u0440\\u0435\\u0434\\u043b\\u0430\\u0433\\u0430\\u0435\\u043c\\u043e\\u0439 \\u041a\\u0438\\u0442\\u0430\\u0435\\u043c, \\u0438\\u043d\\u0442\\u0435\\u0440\\u0435\\u0441\\u043d\\u043e \\u0442\\u043e, \\u0447\\u0442\\u043e \\u043d\\u0438\\u043a\\u0442\\u043e \\u043d\\u0438\\u043a\\u043e\\u043c\\u0443 \\u043d\\u0438\\u0447\\u0435\\u0433\\u043e \\u043d\\u0435 \\u043d\\u0430\\u0432\\u044f\\u0437\\u044b\\u0432\\u0430\\u0435\\u0442. \\u041d\\u0430 \\u0434\\u0432\\u0443\\u0441\\u0442\\u043e\\u0440\\u043e\\u043d\\u043d\\u0435\\u0439 \\u0432\\u0441\\u0442\\u0440\\u0435\\u0447\\u0435 \\u043d\\u0430 \\u043f\\u043e\\u043b\\u044f\\u0445 \\u0444\\u043e\\u0440\\u0443\\u043c\\u0430 \\u0421\\u0438 \\u0426\\u0437\\u0438\\u043d\\u044c\\u043f\\u0438\\u043d \\u043f\\u0440\\u0435\\u0434\\u043b\\u043e\\u0436\\u0438\\u043b \\u043f\\u0440\\u043e\\u0434\\u043e\\u043b\\u0436\\u0430\\u0442\\u044c \\\"\\u0442\\u0435\\u0441\\u043d\\u0443\\u044e \\u0441\\u0442\\u0440\\u0430\\u0442\\u0435\\u0433\\u0438\\u0447\\u0435\\u0441\\u043a\\u0443\\u044e \\u043a\\u043e\\u043e\\u0440\\u0434\\u0438\\u043d\\u0430\\u0446\\u0438\\u044e\\\" \\u0441 \\u041a\\u0440\\u0435\\u043c\\u043b\\u0435\\u043c, \\u0447\\u0442\\u043e\\u0431\\u044b \\u0441\\u043e\\u0445\\u0440\\u0430\\u043d\\u0438\\u0442\\u044c \\u0440\\u0430\\u0432\\u043d\\u043e\\u0432\\u0435\\u0441\\u0438\\u0435 \\u0438 \\u043c\\u0435\\u0436\\u0434\\u0443\\u043d\\u0430\\u0440\\u043e\\u0434\\u043d\\u043e\\u0435 \\u043f\\u0440\\u0430\\u0432\\u043e. \\u042d\\u0442\\u043e \\u0443\\u0434\\u0430\\u0440 \\u043a\\u043e\\u0433\\u0442\\u0435\\u043c \\u043f\\u043e \\u0437\\u0430\\u043f\\u0430\\u0434\\u043d\\u044b\\u043c \\u0441\\u0442\\u043e\\u043b\\u0438\\u0446\\u0430\\u043c\\\". Handelsblatt: \\\"\\u0421\\u0442\\u0440\\u0430\\u0442\\u0435\\u0433\\u0438\\u044f \\u0417\\u0430\\u043f\\u0430\\u0434\\u0430 \\u043f\\u043e \\u0438\\u0437\\u043e\\u043b\\u044f\\u0446\\u0438\\u0438 \\u0440\\u043e\\u0441\\u0441\\u0438\\u0439\\u0441\\u043a\\u043e\\u0433\\u043e \\u043f\\u0440\\u0435\\u0437\\u0438\\u0434\\u0435\\u043d\\u0442\\u0430 \\u043d\\u0430 \\u043c\\u0435\\u0436\\u0434\\u0443\\u043d\\u0430\\u0440\\u043e\\u0434\\u043d\\u043e\\u043c \\u0443\\u0440\\u043e\\u0432\\u043d\\u0435 \\u0438 \\u043f\\u0440\\u0438\\u043d\\u0443\\u0436\\u0434\\u0435\\u043d\\u0438\\u044e \\u0435\\u0433\\u043e \\u0443\\u0439\\u0442\\u0438 \\u0438\\u043b\\u0438 \\u0445\\u043e\\u0442\\u044f \\u0431\\u044b \\u0441\\u0435\\u0441\\u0442\\u044c \\u0437\\u0430 \\u0441\\u0442\\u043e\\u043b \\u043f\\u0435\\u0440\\u0435\\u0433\\u043e\\u0432\\u043e\\u0440\\u043e\\u0432 \\u043f\\u0440\\u043e\\u0432\\u0430\\u043b\\u0438\\u043b\\u0430\\u0441\\u044c\\\". \\u042f\\u043f\\u043e\\u043d\\u0441\\u043a\\u043e\\u0435 \\u043e\\u0431\\u0449\\u0435\\u0441\\u0442\\u0432\\u0435\\u043d\\u043d\\u043e\\u0435 \\u0442\\u0435\\u043b\\u0435\\u0432\\u0438\\u0434\\u0435\\u043d\\u0438\\u0435 (NHK): \\\"\\u041f\\u0440\\u0435\\u0437\\u0438\\u0434\\u0435\\u043d\\u0442 \\u041f\\u0443\\u0442\\u0438\\u043d, \\u0441\\u0443\\u0434\\u044f \\u043f\\u043e \\u0432\\u0441\\u0435\\u043c\\u0443, \\u043f\\u043e\\u043b\\u0443\\u0447\\u0438\\u043b \\u0432\\u043e\\u0437\\u043c\\u043e\\u0436\\u043d\\u043e\\u0441\\u0442\\u044c \\u0443\\u0441\\u0438\\u043b\\u0438\\u0442\\u044c \\u0441\\u0432\\u043e\\u044e \\u043a\\u043e\\u043d\\u0444\\u0440\\u043e\\u043d\\u0442\\u0430\\u0446\\u0438\\u043e\\u043d\\u043d\\u0443\\u044e \\u043f\\u043e\\u0437\\u0438\\u0446\\u0438\\u044e \\u0432 \\u043e\\u0442\\u043d\\u043e\\u0448\\u0435\\u043d\\u0438\\u0438 \\u0421\\u0428\\u0410, \\u043a\\u043e\\u0442\\u043e\\u0440\\u044b\\u0435 \\u043f\\u0440\\u043e\\u0434\\u043e\\u043b\\u0436\\u0430\\u044e\\u0442 \\u043f\\u043e\\u0434\\u0434\\u0435\\u0440\\u0436\\u043a\\u0443 \\u0423\\u043a\\u0440\\u0430\\u0438\\u043d\\u044b, \\u043f\\u0440\\u043e\\u0434\\u0435\\u043c\\u043e\\u043d\\u0441\\u0442\\u0440\\u0438\\u0440\\u043e\\u0432\\u0430\\u0432 \\u0441\\u0432\\u043e\\u0435 \\u043f\\u0440\\u0438\\u0441\\u0443\\u0442\\u0441\\u0442\\u0432\\u0438\\u0435 \\u043d\\u0430 \\u043c\\u0435\\u0436\\u0434\\u0443\\u043d\\u0430\\u0440\\u043e\\u0434\\u043d\\u043e\\u0439 \\u0430\\u0440\\u0435\\u043d\\u0435 \\u0438 \\u043f\\u043e\\u0434\\u0442\\u0432\\u0435\\u0440\\u0434\\u0438\\u0432 \\u0443\\u043a\\u0440\\u0435\\u043f\\u043b\\u0435\\u043d\\u0438\\u0435 \\u0441\\u043e\\u0442\\u0440\\u0443\\u0434\\u043d\\u0438\\u0447\\u0435\\u0441\\u0442\\u0432\\u0430 \\u0441 \\u041a\\u0438\\u0442\\u0430\\u0435\\u043c\\\". Asharq Al-Awsat: \\\"\\u041b\\u0438\\u0434\\u0435\\u0440\\u044b \\u041a\\u0438\\u0442\\u0430\\u044f \\u0438 \\u0420\\u043e\\u0441\\u0441\\u0438\\u0438 \\u0441\\u043d\\u043e\\u0432\\u0430 \\u0432\\u0441\\u0442\\u0440\\u0435\\u0442\\u0438\\u043b\\u0438\\u0441\\u044c \\u0432 \\u041f\\u0435\\u043a\\u0438\\u043d\\u0435 \\u0441\\u043f\\u0443\\u0441\\u0442\\u044f \\u0434\\u0435\\u0441\\u044f\\u0442\\u044c \\u043b\\u0435\\u0442 \\u043f\\u043e\\u0441\\u043b\\u0435 \\u0442\\u043e\\u0433\\u043e, \\u043a\\u0430\\u043a \\u0437\\u0430\\u044f\\u0432\\u0438\\u043b\\u0438 \\u043e \\u0441\\u0432\\u043e\\u0435\\u0439 \\u0434\\u0440\\u0443\\u0436\\u0431\\u0435, \\u0441\\u0442\\u0440\\u0435\\u043c\\u044f\\u0441\\u044c \\u0443\\u0433\\u043b\\u0443\\u0431\\u0438\\u0442\\u044c \\\"\\u043d\\u0435\\u043e\\u0433\\u0440\\u0430\\u043d\\u0438\\u0447\\u0435\\u043d\\u043d\\u043e\\u0435\\\" \\u043f\\u0430\\u0440\\u0442\\u043d\\u0435\\u0440\\u0441\\u0442\\u0432\\u043e \\u043c\\u0435\\u0436\\u0434\\u0443 \\u0441\\u0432\\u043e\\u0438\\u043c\\u0438 \\u0441\\u0442\\u0440\\u0430\\u043d\\u0430\\u043c\\u0438. \\u042d\\u0442\\u043e\\u0442 \\u0432\\u0438\\u0437\\u0438\\u0442 (\\u043f\\u0440\\u0435\\u0437\\u0438\\u0434\\u0435\\u043d\\u0442\\u0430 \\u0420\\u043e\\u0441\\u0441\\u0438\\u0438) \\u043f\\u043e\\u0434\\u0442\\u0432\\u0435\\u0440\\u0436\\u0434\\u0430\\u0435\\u0442 \\u0438\\u0445 \\u043e\\u0431\\u0449\\u0435\\u0435 \\u0432\\u0438\\u0434\\u0435\\u043d\\u0438\\u0435 \\u043d\\u043e\\u0432\\u043e\\u0433\\u043e \\u043c\\u0438\\u0440\\u043e\\u0432\\u043e\\u0433\\u043e \\u043f\\u043e\\u0440\\u044f\\u0434\\u043a\\u0430, \\u0432 \\u043a\\u043e\\u0442\\u043e\\u0440\\u043e\\u043c \\u0431\\u043e\\u043b\\u044c\\u0448\\u0435 \\u043d\\u0435 \\u0434\\u043e\\u043c\\u0438\\u043d\\u0438\\u0440\\u0443\\u044e\\u0442 \\u0421\\u043e\\u0435\\u0434\\u0438\\u043d\\u0435\\u043d\\u043d\\u044b\\u0435 \\u0428\\u0442\\u0430\\u0442\\u044b \\u0438 \\u0438\\u0445 \\u0441\\u043e\\u044e\\u0437\\u043d\\u0438\\u043a\\u0438\\\". Al Khaleej: \\\"\\u0412\\u0441\\u0442\\u0440\\u0435\\u0447\\u0430 \\u043f\\u0440\\u0435\\u0437\\u0438\\u0434\\u0435\\u043d\\u0442\\u0430 \\u0420\\u043e\\u0441\\u0441\\u0438\\u0438 \\u0412\\u043b\\u0430\\u0434\\u0438\\u043c\\u0438\\u0440\\u0430 \\u041f\\u0443\\u0442\\u0438\\u043d\\u0430 \\u0438 \\u043f\\u0440\\u0435\\u0434\\u0441\\u0435\\u0434\\u0430\\u0442\\u0435\\u043b\\u044f \\u041a\\u041d\\u0420 \\u0421\\u0438 \\u0426\\u0437\\u0438\\u043d\\u044c\\u043f\\u0438\\u043d\\u0430 \\u043d\\u0430 \\u043f\\u043e\\u043b\\u044f\\u0445 \\u0422\\u0440\\u0435\\u0442\\u044c\\u0435\\u0433\\u043e \\u0444\\u043e\\u0440\\u0443\\u043c\\u0430 \\u0438\\u043d\\u0438\\u0446\\u0438\\u0430\\u0442\\u0438\\u0432\\u044b \\\"\\u041f\\u043e\\u044f\\u0441 \\u0438 \\u043f\\u0443\\u0442\\u044c\\\" \\u0432 \\u041f\\u0435\\u043a\\u0438\\u043d\\u0435 \\u0441\\u0442\\u0430\\u043b\\u0430 \\u0434\\u043e\\u043f\\u043e\\u043b\\u043d\\u0438\\u0442\\u0435\\u043b\\u044c\\u043d\\u044b\\u043c \\u0448\\u0430\\u0433\\u043e\\u043c \\u0432 \\u0441\\u0431\\u043b\\u0438\\u0436\\u0435\\u043d\\u0438\\u0438 \\u0434\\u0432\\u0443\\u0445 \\u043b\\u0438\\u0434\\u0435\\u0440\\u043e\\u0432. \\u041e\\u0441\\u0442\\u0440\\u044b\\u0435 \\u0432\\u043e\\u043f\\u0440\\u043e\\u0441\\u044b, \\u043a\\u043e\\u0442\\u043e\\u0440\\u044b\\u0435 \\u0412\\u043b\\u0430\\u0434\\u0438\\u043c\\u0438\\u0440 \\u041f\\u0443\\u0442\\u0438\\u043d \\u0438 \\u0421\\u0438 \\u0426\\u0437\\u0438\\u043d\\u044c\\u043f\\u0438\\u043d \\u043e\\u0431\\u0441\\u0443\\u0436\\u0434\\u0430\\u043b\\u0438 \\u0432 \\u0442\\u0435\\u0447\\u0435\\u043d\\u0438\\u0435 \\u0442\\u0440\\u0435\\u0445 \\u0447\\u0430\\u0441\\u043e\\u0432, \\u0443\\u043a\\u0430\\u0437\\u044b\\u0432\\u0430\\u044e\\u0442 \\u043d\\u0430 \\u043e\\u0431\\u0449\\u0443\\u044e \\u0440\\u0435\\u0448\\u0438\\u043c\\u043e\\u0441\\u0442\\u044c \\u0441\\u043e\\u0437\\u0434\\u0430\\u0442\\u044c \\u0441\\u043e\\u044e\\u0437 \\u043c\\u0435\\u0436\\u0434\\u0443 \\u0434\\u0432\\u0443\\u043c\\u044f \\u0441\\u0442\\u0440\\u0430\\u043d\\u0430\\u043c\\u0438, \\u043a\\u043e\\u0442\\u043e\\u0440\\u044b\\u0439 \\u0441\\u0442\\u0430\\u043b \\u0431\\u044b \\u043f\\u0440\\u043e\\u0442\\u0438\\u0432\\u043e\\u0432\\u0435\\u0441\\u043e\\u043c \\u0437\\u0430\\u043f\\u0430\\u0434\\u043d\\u043e\\u043c\\u0443 \\u043c\\u0438\\u0440\\u0443, \\u043e\\u0441\\u043e\\u0431\\u0435\\u043d\\u043d\\u043e \\u0421\\u0428\\u0410\\u2026 \\u0415\\u0441\\u043b\\u0438 \\u0430\\u043b\\u044c\\u044f\\u043d\\u0441 \\u0432 \\u043b\\u0438\\u0446\\u0435 \\u0420\\u043e\\u0441\\u0441\\u0438\\u0438 \\u0438 \\u041a\\u0438\\u0442\\u0430\\u044f \\u043d\\u0430\\u0445\\u043e\\u0434\\u0438\\u0442\\u0441\\u044f \\u0432 \\u043f\\u0440\\u043e\\u0446\\u0435\\u0441\\u0441\\u0435 \\u0444\\u043e\\u0440\\u043c\\u0438\\u0440\\u043e\\u0432\\u0430\\u043d\\u0438\\u044f \\u0441\\u0432\\u043e\\u0435\\u0433\\u043e \\u0432\\u0438\\u0434\\u0435\\u043d\\u0438\\u044f \\u0438 \\u0441\\u0442\\u0440\\u0435\\u043c\\u0438\\u0442\\u0441\\u044f \\u043a \\u0435\\u0433\\u043e \\u043f\\u043e\\u0441\\u0442\\u0435\\u043f\\u0435\\u043d\\u043d\\u043e\\u043c\\u0443 \\u0440\\u0430\\u0441\\u0448\\u0438\\u0440\\u0435\\u043d\\u0438\\u044e, \\u0442\\u043e \\u043f\\u0440\\u043e\\u0442\\u0438\\u0432\\u043e\\u043f\\u043e\\u043b\\u043e\\u0436\\u043d\\u0430\\u044f \\u0441\\u0442\\u043e\\u0440\\u043e\\u043d\\u0430 \\u0432 \\u043b\\u0438\\u0446\\u0435 \\u0417\\u0430\\u043f\\u0430\\u0434\\u0430 \\u0432\\u043e \\u0433\\u043b\\u0430\\u0432\\u0435 \\u0441 \\u0421\\u0428\\u0410 \\u0441\\u0442\\u0440\\u0430\\u0434\\u0430\\u0435\\u0442 \\u043e\\u0442 \\u0433\\u043b\\u0443\\u0431\\u043e\\u043a\\u043e\\u0433\\u043e \\u0446\\u0438\\u0432\\u0438\\u043b\\u0438\\u0437\\u0430\\u0446\\u0438\\u043e\\u043d\\u043d\\u043e\\u0433\\u043e \\u0438 \\u043c\\u043e\\u0440\\u0430\\u043b\\u044c\\u043d\\u043e\\u0433\\u043e \\u043a\\u0440\\u0438\\u0437\\u0438\\u0441\\u0430\\\". \\u0420\\u0430\\u0434\\u0438\\u043e\\u0441\\u0442\\u0430\\u043d\\u0446\\u0438\\u044f SABC: \\\"\\u041f\\u0440\\u0435\\u0437\\u0438\\u0434\\u0435\\u043d\\u0442 \\u0420\\u0424 \\u0412\\u043b\\u0430\\u0434\\u0438\\u043c\\u0438\\u0440 \\u041f\\u0443\\u0442\\u0438\\u043d \\u0434\\u043e\\u0431\\u0438\\u043b\\u0441\\u044f \\u043e\\u0442 \\u041a\\u0438\\u0442\\u0430\\u044f \\u043f\\u043e\\u0434\\u0434\\u0435\\u0440\\u0436\\u043a\\u0438 \\u0432 \\u0432\\u043e\\u043f\\u0440\\u043e\\u0441\\u0430\\u0445 \\u0431\\u0435\\u0437\\u043e\\u043f\\u0430\\u0441\\u043d\\u043e\\u0441\\u0442\\u0438 \\u0438 \\u0440\\u0430\\u0437\\u0432\\u0438\\u0442\\u0438\\u044f. \\u041b\\u0438\\u0434\\u0435\\u0440\\u044b \\u0420\\u0424 \\u0438 \\u041a\\u041d\\u0420 \\u0432 \\u0445\\u043e\\u0434\\u0435 \\u0432\\u0441\\u0442\\u0440\\u0435\\u0447\\u0438 \\u043e\\u0431\\u0441\\u0443\\u0434\\u0438\\u043b\\u0438 \\u0432\\u043e\\u043f\\u0440\\u043e\\u0441\\u044b \\u0441\\u043e\\u0442\\u0440\\u0443\\u0434\\u043d\\u0438\\u0447\\u0435\\u0441\\u0442\\u0432\\u0430 \\u043f\\u043e \\u0441\\u0442\\u0440\\u0430\\u0442\\u0435\\u0433\\u0438\\u0447\\u0435\\u0441\\u043a\\u0438\\u043c \\u043d\\u0430\\u043f\\u0440\\u0430\\u0432\\u043b\\u0435\\u043d\\u0438\\u044f\\u043c, \\u0432\\u0430\\u0436\\u043d\\u044b\\u043c \\u0434\\u043b\\u044f \\u043e\\u0431\\u0435\\u0438\\u0445 \\u0441\\u0442\\u0440\\u0430\\u043d. \\u0412\\u0441\\u0435 \\u0433\\u043e\\u0432\\u043e\\u0440\\u0438\\u0442 \\u043e \\u0442\\u043e\\u043c, \\u0447\\u0442\\u043e \\u041f\\u0435\\u043a\\u0438\\u043d \\u0431\\u0443\\u0434\\u0435\\u0442 \\u043f\\u0440\\u043e\\u0434\\u043e\\u043b\\u0436\\u0430\\u0442\\u044c \\u0443\\u043a\\u0440\\u0435\\u043f\\u043b\\u044f\\u0442\\u044c \\u0441\\u043e\\u0442\\u0440\\u0443\\u0434\\u043d\\u0438\\u0447\\u0435\\u0441\\u0442\\u0432\\u043e \\u0441 \\u041c\\u043e\\u0441\\u043a\\u0432\\u043e\\u0439, \\u0432 \\u0442\\u043e\\u043c \\u0447\\u0438\\u0441\\u043b\\u0435 \\u0432 \\u0444\\u043e\\u0440\\u043c\\u0430\\u0442\\u0435 \\u0411\\u0420\\u0418\\u041a\\u0421\\\". \",\n          \"\\u0412\\u043b\\u0430\\u0441\\u0442\\u0438 \\u043d\\u0435\\u043f\\u0440\\u0438\\u0437\\u043d\\u0430\\u043d\\u043d\\u043e\\u0439 \\u041d\\u0430\\u0433\\u043e\\u0440\\u043d\\u043e-\\u041a\\u0430\\u0440\\u0430\\u0431\\u0430\\u0445\\u0441\\u043a\\u043e\\u0439 \\u0440\\u0435\\u0441\\u043f\\u0443\\u0431\\u043b\\u0438\\u043a\\u0438 \\u043f\\u0440\\u0438\\u043d\\u044f\\u043b\\u0438 \\u043f\\u0440\\u0435\\u0434\\u043b\\u043e\\u0436\\u0435\\u043d\\u0438\\u044f \\u043a\\u043e\\u043c\\u0430\\u043d\\u0434\\u043e\\u0432\\u0430\\u043d\\u0438\\u044f \\u0440\\u043e\\u0441\\u0441\\u0438\\u0439\\u0441\\u043a\\u0438\\u0445 \\u043c\\u0438\\u0440\\u043e\\u0442\\u0432\\u043e\\u0440\\u0446\\u0435\\u0432 \\u0438 \\u043f\\u0440\\u0435\\u043a\\u0440\\u0430\\u0442\\u0438\\u043b\\u0438 \\u043e\\u0433\\u043e\\u043d\\u044c. \\u041c\\u0438\\u043d\\u043e\\u0431\\u043e\\u0440\\u043e\\u043d\\u044b \\u0410\\u0437\\u0435\\u0440\\u0431\\u0430\\u0439\\u0434\\u0436\\u0430\\u043d\\u0430 \\u0441\\u043e \\u0441\\u0432\\u043e\\u0435\\u0439 \\u0441\\u0442\\u043e\\u0440\\u043e\\u043d\\u044b \\u0441\\u043e\\u043e\\u0431\\u0449\\u0438\\u043b\\u043e \\u043e \\u043f\\u0440\\u0438\\u043e\\u0441\\u0442\\u0430\\u043d\\u043e\\u0432\\u043a\\u0435 \\u0430\\u043d\\u0442\\u0438\\u0442\\u0435\\u0440\\u0440\\u043e\\u0440\\u0438\\u0441\\u0442\\u0438\\u0447\\u0435\\u0441\\u043a\\u043e\\u0439 \\u043e\\u043f\\u0435\\u0440\\u0430\\u0446\\u0438\\u0438. \\u0412\\u0441\\u0442\\u0440\\u0435\\u0447\\u0430 \\u0441\\u0442\\u043e\\u0440\\u043e\\u043d \\u043f\\u0440\\u043e\\u0439\\u0434\\u0435\\u0442 21 \\u0441\\u0435\\u043d\\u0442\\u044f\\u0431\\u0440\\u044f \\u0432 \\u0415\\u0432\\u043b\\u0430\\u0445\\u0435, \\u0433\\u0434\\u0435 \\u0431\\u0443\\u0434\\u0435\\u0442 \\u043e\\u0431\\u0441\\u0443\\u0436\\u0434\\u0430\\u0442\\u044c\\u0441\\u044f \\u0440\\u0435\\u0438\\u043d\\u0442\\u0435\\u0433\\u0440\\u0430\\u0446\\u0438\\u044f \\u0440\\u0435\\u0433\\u0438\\u043e\\u043d\\u0430 \\u0432 \\u0441\\u043e\\u043e\\u0442\\u0432\\u0435\\u0442\\u0441\\u0442\\u0432\\u0438\\u0438 \\u0441 \\u0430\\u0437\\u0435\\u0440\\u0431\\u0430\\u0439\\u0434\\u0436\\u0430\\u043d\\u0441\\u043a\\u043e\\u0439 \\u043a\\u043e\\u043d\\u0441\\u0442\\u0438\\u0442\\u0443\\u0446\\u0438\\u0435\\u0439. \\u041e\\u043c\\u0431\\u0443\\u0434\\u0441\\u043c\\u0435\\u043d \\u0410\\u0440\\u043c\\u0435\\u043d\\u0438\\u0438 \\u0410\\u043d\\u0430\\u0438\\u0442 \\u041c\\u0430\\u043d\\u0430\\u0441\\u044f\\u043d \\u0437\\u0430\\u044f\\u0432\\u0438\\u043b\\u0430, \\u0447\\u0442\\u043e \\u0432 \\u0445\\u043e\\u0434\\u0435 \\u0431\\u043e\\u0435\\u0432\\u044b\\u0445 \\u0434\\u0435\\u0439\\u0441\\u0442\\u0432\\u0438\\u0439 32 \\u0447\\u0435\\u043b\\u043e\\u0432\\u0435\\u043a\\u0430 \\u043f\\u043e\\u0433\\u0438\\u0431\\u043b\\u0438, \\u0431\\u043e\\u043b\\u0435\\u0435 200 \\u043f\\u043e\\u043b\\u0443\\u0447\\u0438\\u043b\\u0438 \\u0440\\u0430\\u043d\\u0435\\u043d\\u0438\\u044f. \\u041f\\u043e \\u0435\\u0435 \\u0434\\u0430\\u043d\\u043d\\u044b\\u043c, \\u0441\\u0440\\u0435\\u0434\\u0438 \\u043f\\u043e\\u0433\\u0438\\u0431\\u0448\\u0438\\u0445 - 7 \\u043c\\u0438\\u0440\\u043d\\u044b\\u0445 \\u0436\\u0438\\u0442\\u0435\\u043b\\u0435\\u0439, \\u0438\\u0437 \\u043a\\u043e\\u0442\\u043e\\u0440\\u044b\\u0445 2 \\u0434\\u0435\\u0442\\u0435\\u0439, \\u0430 \\u0442\\u0430\\u043a\\u0436\\u0435 35 \\u043f\\u043e\\u0441\\u0442\\u0440\\u0430\\u0434\\u0430\\u0432\\u0448\\u0438\\u0445, \\u0432\\u043a\\u043b\\u044e\\u0447\\u0430\\u044f 13 \\u0434\\u0435\\u0442\\u0435\\u0439. \\u0412 \\u0411\\u0430\\u043b\\u0430\\u0448\\u0438\\u0445\\u0435 13 \\u0447\\u0435\\u043b\\u043e\\u0432\\u0435\\u043a \\u043f\\u043e\\u0441\\u0442\\u0440\\u0430\\u0434\\u0430\\u043b\\u0438, \\u0435\\u0449\\u0435 4 \\u043f\\u043e\\u0433\\u0438\\u0431\\u043b\\u0438 \\u0432 \\u0440\\u0435\\u0437\\u0443\\u043b\\u044c\\u0442\\u0430\\u0442\\u0435 \\u0432\\u0437\\u0440\\u044b\\u0432\\u0430 \\u0433\\u0430\\u0437\\u0430 \\u0432 \\u0434\\u0435\\u0432\\u044f\\u0442\\u0438\\u044d\\u0442\\u0430\\u0436\\u043d\\u043e\\u043c \\u0436\\u0438\\u043b\\u043e\\u043c \\u0434\\u043e\\u043c\\u0435. \\u041e\\u0431\\u0440\\u0443\\u0448\\u0438\\u043b\\u0438\\u0441\\u044c \\u0442\\u0440\\u0435\\u0442\\u0438\\u0439, \\u0447\\u0435\\u0442\\u0432\\u0435\\u0440\\u0442\\u044b\\u0439 \\u0438 \\u043f\\u044f\\u0442\\u044b\\u0439 \\u044d\\u0442\\u0430\\u0436 \\u0437\\u0434\\u0430\\u043d\\u0438\\u044f. \\u041f\\u043e\\u0437\\u0434\\u043d\\u0435\\u0435 \\u043f\\u0440\\u043e\\u0438\\u0437\\u043e\\u0448\\u043b\\u043e \\u043f\\u043e\\u0432\\u0442\\u043e\\u0440\\u043d\\u043e\\u0435 \\u043e\\u0431\\u0440\\u0443\\u0448\\u0435\\u043d\\u0438\\u0435, \\u0434\\u0432\\u043e\\u0435 \\u0441\\u043f\\u0430\\u0441\\u0430\\u0442\\u0435\\u043b\\u0435\\u0439 \\u043f\\u043e\\u0433\\u0438\\u0431\\u043b\\u0438, \\u0447\\u0435\\u0442\\u0432\\u0435\\u0440\\u043e \\u043f\\u043e\\u0441\\u0442\\u0440\\u0430\\u0434\\u0430\\u043b\\u0438. \\u0421\\u043b\\u0435\\u0434\\u0441\\u0442\\u0432\\u0435\\u043d\\u043d\\u044b\\u0439 \\u043a\\u043e\\u043c\\u0438\\u0442\\u0435\\u0442 \\u0432\\u043e\\u0437\\u0431\\u0443\\u0434\\u0438\\u043b \\u0443\\u0433\\u043e\\u043b\\u043e\\u0432\\u043d\\u043e\\u0435 \\u0434\\u0435\\u043b\\u043e \\u043f\\u043e \\u0444\\u0430\\u043a\\u0442\\u0443 \\u043e\\u043a\\u0430\\u0437\\u0430\\u043d\\u0438\\u044f \\u0443\\u0441\\u043b\\u0443\\u0433, \\u043d\\u0435 \\u043e\\u0442\\u0432\\u0435\\u0447\\u0430\\u044e\\u0449\\u0438\\u0445 \\u0442\\u0440\\u0435\\u0431\\u043e\\u0432\\u0430\\u043d\\u0438\\u044f\\u043c \\u0431\\u0435\\u0437\\u043e\\u043f\\u0430\\u0441\\u043d\\u043e\\u0441\\u0442\\u0438. \\u0420\\u0430\\u0437\\u0431\\u043e\\u0440 \\u0437\\u0430\\u0432\\u0430\\u043b\\u043e\\u0432 \\u0438 \\u043f\\u043e\\u0438\\u0441\\u043a \\u043b\\u044e\\u0434\\u0435\\u0439 \\u043d\\u0430 \\u043c\\u0435\\u0441\\u0442\\u0435 \\u0427\\u041f \\u0432 \\u0411\\u0430\\u043b\\u0430\\u0448\\u0438\\u0445\\u0435 \\u0431\\u0443\\u0434\\u0443\\u0442 \\u0432\\u0435\\u0441\\u0442\\u0438\\u0441\\u044c \\u043a\\u0440\\u0443\\u0433\\u043b\\u043e\\u0441\\u0443\\u0442\\u043e\\u0447\\u043d\\u043e, \\u0441\\u043e\\u043e\\u0431\\u0449\\u0438\\u043b\\u0438 \\u0432 \\u043e\\u043f\\u0435\\u0440\\u0448\\u0442\\u0430\\u0431\\u0435. \\u041f\\u0440\\u0435\\u0437\\u0438\\u0434\\u0435\\u043d\\u0442 \\u0420\\u043e\\u0441\\u0441\\u0438\\u0438 \\u0412\\u043b\\u0430\\u0434\\u0438\\u043c\\u0438\\u0440 \\u041f\\u0443\\u0442\\u0438\\u043d \\u043f\\u0440\\u0438\\u043d\\u044f\\u043b \\u043f\\u0440\\u0435\\u0434\\u043b\\u043e\\u0436\\u0435\\u043d\\u0438\\u0435 \\u043f\\u0440\\u0435\\u0434\\u0441\\u0435\\u0434\\u0430\\u0442\\u0435\\u043b\\u044f \\u041a\\u041d\\u0420 \\u0421\\u0438 \\u0426\\u0437\\u0438\\u043d\\u044c\\u043f\\u0438\\u043d\\u0430 \\u043f\\u043e\\u0441\\u0435\\u0442\\u0438\\u0442\\u044c \\u0432 \\u043e\\u043a\\u0442\\u044f\\u0431\\u0440\\u0435 \\u041a\\u0438\\u0442\\u0430\\u0439 \\u0434\\u043b\\u044f \\u0443\\u0447\\u0430\\u0441\\u0442\\u0438\\u044f \\u0432 \\u0444\\u043e\\u0440\\u0443\\u043c\\u0435 \\\"\\u041e\\u0434\\u0438\\u043d \\u043f\\u043e\\u044f\\u0441 - \\u043e\\u0434\\u0438\\u043d \\u043f\\u0443\\u0442\\u044c\\\". \\u0420\\u043e\\u0441\\u0441\\u0438\\u0439\\u0441\\u043a\\u0438\\u0439 \\u043b\\u0438\\u0434\\u0435\\u0440 \\u043f\\u043e\\u0434\\u0447\\u0435\\u0440\\u043a\\u043d\\u0443\\u043b, \\u0447\\u0442\\u043e \\u044d\\u0442\\u043e \\u043f\\u043e\\u043b\\u043d\\u043e\\u0441\\u0442\\u044c\\u044e \\u0441\\u043e\\u043e\\u0442\\u0432\\u0435\\u0442\\u0441\\u0442\\u0432\\u0443\\u0435\\u0442 \\u0438\\u043d\\u0442\\u0435\\u0440\\u0435\\u0441\\u0430\\u043c \\u041c\\u043e\\u0441\\u043a\\u0432\\u044b \\u0438 \\u041f\\u0435\\u043a\\u0438\\u043d\\u0430, \\u0430 \\u0442\\u0430\\u043a\\u0436\\u0435 \\u0438\\u043d\\u0442\\u0435\\u0433\\u0440\\u0438\\u0440\\u0443\\u0435\\u0442 \\u0438\\u0434\\u0435\\u0438 \\u0441\\u043e\\u0437\\u0434\\u0430\\u043d\\u0438\\u044f \\u0431\\u043e\\u043b\\u044c\\u0448\\u043e\\u0433\\u043e \\u0435\\u0432\\u0440\\u0430\\u0437\\u0438\\u0439\\u0441\\u043a\\u043e\\u0433\\u043e \\u043f\\u0440\\u043e\\u0441\\u0442\\u0440\\u0430\\u043d\\u0441\\u0442\\u0432\\u0430. \\u0426\\u0435\\u043b\\u044c \\u043c\\u0435\\u0440\\u043e\\u043f\\u0440\\u0438\\u044f\\u0442\\u0438\\u044f - \\u0432\\u044b\\u0445\\u043e\\u0434 \\u041a\\u0438\\u0442\\u0430\\u044f \\u043d\\u0430 \\u0440\\u044b\\u043d\\u043a\\u0438 \\u0426\\u0435\\u043d\\u0442\\u0440\\u0430\\u043b\\u044c\\u043d\\u043e\\u0439 \\u0410\\u0437\\u0438\\u0438, \\u0411\\u043b\\u0438\\u0436\\u043d\\u0435\\u0433\\u043e \\u0412\\u043e\\u0441\\u0442\\u043e\\u043a\\u0430, \\u0415\\u0432\\u0440\\u043e\\u043f\\u044b, \\u0410\\u0444\\u0440\\u0438\\u043a\\u0438 \\u0438 \\u0434\\u0440\\u0443\\u0433\\u0438\\u0445 \\u0440\\u0435\\u0433\\u0438\\u043e\\u043d\\u043e\\u0432, \\u0430 \\u0442\\u0430\\u043a\\u0436\\u0435 \\u0430\\u043a\\u0442\\u0438\\u0432\\u0438\\u0437\\u0430\\u0446\\u0438\\u044f \\u043c\\u0435\\u0436\\u0434\\u0443\\u043d\\u0430\\u0440\\u043e\\u0434\\u043d\\u044b\\u0445 \\u0442\\u043e\\u0440\\u0433\\u043e\\u0432\\u043e-\\u0438\\u043d\\u0432\\u0435\\u0441\\u0442\\u0438\\u0446\\u0438\\u043e\\u043d\\u043d\\u044b\\u0445 \\u043f\\u0440\\u043e\\u0435\\u043a\\u0442\\u043e\\u0432. \\u0412 \\u0420\\u043e\\u0441\\u0441\\u0438\\u0438 \\u0443\\u043f\\u0440\\u043e\\u0441\\u0442\\u0438\\u043b\\u0438 \\u043f\\u043e\\u0440\\u044f\\u0434\\u043e\\u043a \\u0432\\u044b\\u0434\\u0430\\u0447\\u0438 \\u0443\\u0434\\u043e\\u0441\\u0442\\u043e\\u0432\\u0435\\u0440\\u0435\\u043d\\u0438\\u0439 \\u0432\\u0435\\u0442\\u0435\\u0440\\u0430\\u043d\\u0430 \\u0431\\u043e\\u0435\\u0432\\u044b\\u0445 \\u0434\\u0435\\u0439\\u0441\\u0442\\u0432\\u0438\\u0439. \\u0412\\u043e\\u0435\\u043d\\u043d\\u043e\\u0441\\u043b\\u0443\\u0436\\u0430\\u0449\\u0438\\u043c \\u043d\\u0435 \\u043f\\u0440\\u0438\\u0434\\u0435\\u0442\\u0441\\u044f \\u043f\\u043e\\u0434\\u0430\\u0432\\u0430\\u0442\\u044c \\u0437\\u0430\\u044f\\u0432\\u043b\\u0435\\u043d\\u0438\\u0435 \\u043b\\u0438\\u0447\\u043d\\u043e, \\u0432\\u0435\\u0434\\u043e\\u043c\\u0441\\u0442\\u0432\\u0430 \\u0441\\u0434\\u0435\\u043b\\u0430\\u044e\\u0442 \\u0432\\u0441\\u0435 \\u0441\\u0430\\u043c\\u043e\\u0441\\u0442\\u043e\\u044f\\u0442\\u0435\\u043b\\u044c\\u043d\\u043e \\u043d\\u0430 \\u043e\\u0441\\u043d\\u043e\\u0432\\u0435 \\u0443\\u0436\\u0435 \\u0438\\u043c\\u0435\\u044e\\u0449\\u0438\\u0445\\u0441\\u044f \\u0441\\u0432\\u0435\\u0434\\u0435\\u043d\\u0438\\u0439, \\u0441\\u043e\\u043e\\u0431\\u0449\\u0438\\u043b \\u043f\\u0440\\u0435\\u043c\\u044c\\u0435\\u0440-\\u043c\\u0438\\u043d\\u0438\\u0441\\u0442\\u0440 \\u041c\\u0438\\u0445\\u0430\\u0438\\u043b \\u041c\\u0438\\u0448\\u0443\\u0441\\u0442\\u0438\\u043d. \\u0413\\u043b\\u0430\\u0432\\u0430 \\u043a\\u0430\\u0431\\u043c\\u0438\\u043d\\u0430 \\u043f\\u043e\\u0434\\u0447\\u0435\\u0440\\u043a\\u043d\\u0443\\u043b, \\u0447\\u0442\\u043e \\u0440\\u0435\\u0448\\u0435\\u043d\\u0438\\u0435 \\u043f\\u043e\\u043c\\u043e\\u0436\\u0435\\u0442 \\u0432\\u043e\\u0435\\u043d\\u043d\\u044b\\u043c \\u0438 \\u0438\\u0445 \\u0440\\u043e\\u0434\\u043d\\u044b\\u043c \\u043f\\u043e\\u043b\\u0443\\u0447\\u0430\\u0442\\u044c \\u043b\\u044c\\u0433\\u043e\\u0442\\u044b \\u0438 \\u043f\\u043e\\u043c\\u043e\\u0449\\u044c \\u0431\\u043e\\u043b\\u0435\\u0435 \\u043e\\u043f\\u0435\\u0440\\u0430\\u0442\\u0438\\u0432\\u043d\\u043e.  \\u0421\\u0430\\u043c\\u043e\\u043b\\u0435\\u0442 \\u0421\\u0443-34 \\u043f\\u043e\\u0442\\u0435\\u0440\\u043f\\u0435\\u043b \\u043a\\u0440\\u0443\\u0448\\u0435\\u043d\\u0438\\u0435 \\u0432 \\u0412\\u043e\\u0440\\u043e\\u043d\\u0435\\u0436\\u0441\\u043a\\u043e\\u0439 \\u043e\\u0431\\u043b\\u0430\\u0441\\u0442\\u0438 \\u043f\\u0440\\u0438 \\u0432\\u044b\\u043f\\u043e\\u043b\\u043d\\u0435\\u043d\\u0438\\u0438 \\u043f\\u043b\\u0430\\u043d\\u043e\\u0432\\u043e\\u0433\\u043e \\u0443\\u0447\\u0435\\u0431\\u043d\\u043e-\\u0442\\u0440\\u0435\\u043d\\u0438\\u0440\\u043e\\u0432\\u043e\\u0447\\u043d\\u043e\\u0433\\u043e \\u043f\\u043e\\u043b\\u0435\\u0442\\u0430. \\u042d\\u043a\\u0438\\u043f\\u0430\\u0436 \\u0438\\u0441\\u0442\\u0440\\u0435\\u0431\\u0438\\u0442\\u0435\\u043b\\u044f \\u0432 \\u0441\\u043e\\u0441\\u0442\\u0430\\u0432\\u0435 \\u0434\\u0432\\u0443\\u0445 \\u0447\\u0435\\u043b\\u043e\\u0432\\u0435\\u043a \\u0443\\u0441\\u043f\\u0435\\u043b \\u043a\\u0430\\u0442\\u0430\\u043f\\u0443\\u043b\\u044c\\u0442\\u0438\\u0440\\u043e\\u0432\\u0430\\u0442\\u044c\\u0441\\u044f. \\u0412\\u043e\\u0437\\u043c\\u043e\\u0436\\u043d\\u043e\\u0439 \\u043f\\u0440\\u0438\\u0447\\u0438\\u043d\\u043e\\u0439 \\u0430\\u0432\\u0430\\u0440\\u0438\\u0438 \\u0432 \\u041c\\u0438\\u043d\\u043e\\u0431\\u043e\\u0440\\u043e\\u043d\\u044b \\u043d\\u0430\\u0437\\u0432\\u0430\\u043b\\u0438 \\u0442\\u0435\\u0445\\u043d\\u0438\\u0447\\u0435\\u0441\\u043a\\u0443\\u044e \\u043d\\u0435\\u0438\\u0441\\u043f\\u0440\\u0430\\u0432\\u043d\\u043e\\u0441\\u0442\\u044c \\u0431\\u043e\\u043c\\u0431\\u0430\\u0440\\u0434\\u0438\\u0440\\u043e\\u0432\\u0449\\u0438\\u043a\\u0430. \"\n        ],\n        \"semantic_type\": \"\",\n        \"description\": \"\"\n      }\n    },\n    {\n      \"column\": \"count\",\n      \"properties\": {\n        \"dtype\": \"number\",\n        \"std\": 740,\n        \"min\": 12,\n        \"max\": 10592,\n        \"num_unique_values\": 1293,\n        \"samples\": [\n          564,\n          1196,\n          1379\n        ],\n        \"semantic_type\": \"\",\n        \"description\": \"\"\n      }\n    },\n    {\n      \"column\": \"url\",\n      \"properties\": {\n        \"dtype\": \"string\",\n        \"num_unique_values\": 2389,\n        \"samples\": [\n          \"/opinions/18600913\",\n          \"/armiya-i-opk/18505079\",\n          \"/infographics/8602\"\n        ],\n        \"semantic_type\": \"\",\n        \"description\": \"\"\n      }\n    }\n  ]\n}"
            }
          },
          "metadata": {},
          "execution_count": 4
        }
      ],
      "source": [
        "articles = pd.read_csv('articles.csv')\n",
        "articles.head()"
      ]
    },
    {
      "cell_type": "markdown",
      "metadata": {
        "id": "f8_7Bw3WVhFd"
      },
      "source": [
        "**отделим тела новостей, оставим только буквы, токенизируем, приведём к нижнему регистру**"
      ]
    },
    {
      "cell_type": "code",
      "execution_count": 5,
      "metadata": {
        "colab": {
          "base_uri": "https://localhost:8080/"
        },
        "id": "NJkTZtz8OlIH",
        "outputId": "5f7a0ffd-c245-4a9d-a19c-5e1fc19d932d"
      },
      "outputs": [
        {
          "output_type": "stream",
          "name": "stdout",
          "text": [
            "len(corpus) = 2396, type(corpus) = <class 'numpy.ndarray'>\n",
            "\n",
            "Президент Украины Владимир Зеленский не смог объяснить, в чем заключается его план Б на тот случай, если Вашингтон не предоставит Киеву новый пакет помощи. У украинских властей нет выбора, проводить или не проводить мобилизацию, так как часть подразделений Вооруженных сил Украины (ВСУ) укомплектованы лишь наполовину. Однако, по словам экспертов, мобилизация уже создала огромный дефицит рабочей силы, а дополнительный призыв сотен тысяч человек приведет к частичному параличу экономики. ТАСС собрал актуальную информацию о событиях на Украине и вокруг нее. Вооруженные силы РФ за прошедшие сутки заняли более выгодные рубежи и позиции и отразили девять атак и контратак ВСУ на авдеевском направлении, три атаки на купянском направлении и три атаки на запорожском направлении, сообщили в Минобороны РФ. Потери противника за сутки на всех направлениях, включая донецкое, южнодонецкое и херсонское, составили до 840 бойцов. Российские средства ПВО за минувшие сутки сбили переоборудованную под ударную ракету ЗРК С-200, восемь реактивных снарядов РСЗО HIMARS, управляемую авиационную бомбу JDAM и 95 беспилотных летательных аппаратов, отметили в военном ведомстве. Кроме того, ВС РФ поразили пусковую установку и транспортно-заряжающую машину американского ЗРК Patriot, а также живую силу и военную технику ВСУ в 114 районах. Президент Украины в интервью телеканалу Fox News не смог объяснить, в чем заключается его план Б на тот случай, если Вашингтон не предоставит Киеву новый пакет помощи. При этом Зеленский не согласился с утверждением журналиста, что взятие Авдеевки российскими силами открывает новую фазу в ходе конфликта, отметив, что Авдеевка - это только \"один город\". Часть подразделений ВСУ укомплектована менее чем наполовину, заявил глава фракции президентской партии \"Слуга народа\" в Верховной раде Давид Арахамия. Поэтому у украинских властей \"нет выбора, проводить или не проводить мобилизацию\". По данным украинских СМИ, число мужчин, подлежащих на Украине мобилизации в соответствии с новым законопроектом, который сейчас рассматривает Верховная рада, может составить максимум 850 тыс. Отмечается, что обеспечение одного военного требует в среднем 80 тыс. гривен в месяц, или около $2 тыс., для чего нужно четыре-пять человек, которые будут платить налоги на армию. При этом эксперты и бизнес давно отмечают, что мобилизация создала огромный дефицит рабочей силы, а дополнительный призыв сотен тысяч человек приведет к частичному параличу экономики. Великобритания расширила на 50 позиций список антироссийских санкций, включив в него две российские компании алмазо-бриллиантового комплекса, главу \"Алросы\" Павла Маринычева, предприятия и физических лиц в сфере производства боеприпасов, металлургические компании, фирмы, связанные с продажей и перевозкой нефти, руководство \"Новатэка\" и проекта компании \"Арктик СПГ - 2\". Список опубликован на сайте британского МИД. Из физических лиц под санкциями оказались председатель совета директоров и крупнейший акционер горно-металлургического холдинга \"Мечел\" Игорь Зюзин, четыре члена управляющего совета \"Алросы\", председатель совета директоров \"Объединенной металлургической компании\" Анатолий Седых, владельцы УГМК, учредительница ранее подпавшей под санкции компании \"Флай бридж\" Анна Лужанская. Евросоюз больше не рассматривает март как срок начала переговоров о приеме Украины в ЕС, подготовка к этому процессу \"может потребовать еще недели или месяцы\", заявил глава пресс-службы Еврокомиссии Эрик Мамер. По его словам, никакой определенной даты для начала переговоров не существует и \"вопрос об ускорении этого процесса не стоит\". Германский Бундестаг проголосовал против резолюции фракции оппозиционного блока Христианско-демократического и Христианско-социального союзов (ХДС/ХСС), требующей поставить Украине крылатые ракеты Taurus. За выступили 182 депутата из 667 присутствовавших, против - 480, еще 5 парламентариев воздержались. При это парламентарии приняли резолюцию фракций правящих партий (Социал-демократическая партия Германии - СДПГ, \"зеленые\" и Свободная демократическая партия - СвДП, либералы), которая содержит призыв передать Украине дальнобойное оружие. В документе говорится, что долгосрочная военная поддержка Украины \"включает в себя и поставки необходимых дополнительных дальнобойных боевых систем и боеприпасов\", чтобы она \"могла наносить прицельные удары по стратегически важным объектам, находящимся в глубоком тылу\" российских сил. Крылатые ракеты Taurus прямо не упоминаются. Великобритания передаст Украине еще 200 высокоточных ракет Brimstone, заявил глава Минобороны Соединенного Королевства Грант Шэппс, отметив, что этот вид ракет уже якобы \"показал способность влиять на ситуацию на поле боя\". Он напомнил также, что в ближайшее время Киев должен будет получить от Лондона БПЛА, средства РЭБ, противоминную и другую технику, которая была приобретена из средств Международного фонда помощи Украине. Дания предоставит Украине военную помощь на сумму 1,7 млрд крон ($247 млн), сообщила премьер-министр королевства Метте Фредериксен. Ранее глава Минобороны Дании Троэльс Лунд Поульсен заявил, что новый пакет помощи Украине будет включать средства ПВО, БЛА и артиллерийские орудия. \n",
            "\n",
            "['президент', 'украины', 'владимир', 'зеленский', 'не', 'смог', 'объяснить', 'в', 'чем', 'заключается', 'его', 'план', 'б', 'на', 'тот', 'случай', 'если', 'вашингтон', 'не', 'предоставит', 'киеву', 'новый', 'пакет', 'помощи', 'у', 'украинских', 'властей', 'нет', 'выбора', 'проводить', 'или', 'не', 'проводить', 'мобилизацию', 'так', 'как', 'часть', 'подразделений', 'вооруженных', 'сил', 'украины', 'всу', 'укомплектованы', 'лишь', 'наполовину', 'однако', 'по', 'словам', 'экспертов', 'мобилизация', 'уже', 'создала', 'огромный', 'дефицит', 'рабочей', 'силы', 'а', 'дополнительный', 'призыв', 'сотен', 'тысяч', 'человек', 'приведет', 'к', 'частичному', 'параличу', 'экономики', 'тасс', 'собрал', 'актуальную', 'информацию', 'о', 'событиях', 'на', 'украине', 'и', 'вокруг', 'нее', 'вооруженные', 'силы', 'рф', 'за', 'прошедшие', 'сутки', 'заняли', 'более', 'выгодные', 'рубежи', 'и', 'позиции', 'и', 'отразили', 'девять', 'атак', 'и', 'контратак', 'всу', 'на', 'авдеевском', 'направлении', 'три', 'атаки', 'на', 'купянском', 'направлении', 'и', 'три', 'атаки', 'на', 'запорожском', 'направлении', 'сообщили', 'в', 'минобороны', 'рф', 'потери', 'противника', 'за', 'сутки', 'на', 'всех', 'направлениях', 'включая', 'донецкое', 'южнодонецкое', 'и', 'херсонское', 'составили', 'до', 'бойцов', 'российские', 'средства', 'пво', 'за', 'минувшие', 'сутки', 'сбили', 'переоборудованную', 'под', 'ударную', 'ракету', 'зрк', 'с', 'восемь', 'реактивных', 'снарядов', 'рсзо', 'управляемую', 'авиационную', 'бомбу', 'и', 'беспилотных', 'летательных', 'аппаратов', 'отметили', 'в', 'военном', 'ведомстве', 'кроме', 'того', 'вс', 'рф', 'поразили', 'пусковую', 'установку', 'и', 'транспортно', 'заряжающую', 'машину', 'американского', 'зрк', 'а', 'также', 'живую', 'силу', 'и', 'военную', 'технику', 'всу', 'в', 'районах', 'президент', 'украины', 'в', 'интервью', 'телеканалу', 'не', 'смог', 'объяснить', 'в', 'чем', 'заключается', 'его', 'план', 'б', 'на', 'тот', 'случай', 'если', 'вашингтон', 'не', 'предоставит', 'киеву', 'новый', 'пакет', 'помощи', 'при', 'этом', 'зеленский', 'не', 'согласился', 'с', 'утверждением', 'журналиста', 'что', 'взятие', 'авдеевки', 'российскими', 'силами', 'открывает', 'новую', 'фазу', 'в', 'ходе', 'конфликта', 'отметив', 'что', 'авдеевка', 'это', 'только', 'один', 'город', 'часть', 'подразделений', 'всу', 'укомплектована', 'менее', 'чем', 'наполовину', 'заявил', 'глава', 'фракции', 'президентской', 'партии', 'слуга', 'народа', 'в', 'верховной', 'раде', 'давид', 'арахамия', 'поэтому', 'у', 'украинских', 'властей', 'нет', 'выбора', 'проводить', 'или', 'не', 'проводить', 'мобилизацию', 'по', 'данным', 'украинских', 'сми', 'число', 'мужчин', 'подлежащих', 'на', 'украине', 'мобилизации', 'в', 'соответствии', 'с', 'новым', 'законопроектом', 'который', 'сейчас', 'рассматривает', 'верховная', 'рада', 'может', 'составить', 'максимум', 'тыс', 'отмечается', 'что', 'обеспечение', 'одного', 'военного', 'требует', 'в', 'среднем', 'тыс', 'гривен', 'в', 'месяц', 'или', 'около', 'тыс', 'для', 'чего', 'нужно', 'четыре', 'пять', 'человек', 'которые', 'будут', 'платить', 'налоги', 'на', 'армию', 'при', 'этом', 'эксперты', 'и', 'бизнес', 'давно', 'отмечают', 'что', 'мобилизация', 'создала', 'огромный', 'дефицит', 'рабочей', 'силы', 'а', 'дополнительный', 'призыв', 'сотен', 'тысяч', 'человек', 'приведет', 'к', 'частичному', 'параличу', 'экономики', 'великобритания', 'расширила', 'на', 'позиций', 'список', 'антироссийских', 'санкций', 'включив', 'в', 'него', 'две', 'российские', 'компании', 'алмазо', 'бриллиантового', 'комплекса', 'главу', 'алросы', 'павла', 'маринычева', 'предприятия', 'и', 'физических', 'лиц', 'в', 'сфере', 'производства', 'боеприпасов', 'металлургические', 'компании', 'фирмы', 'связанные', 'с', 'продажей', 'и', 'перевозкой', 'нефти', 'руководство', 'новатэка', 'и', 'проекта', 'компании', 'арктик', 'спг', 'список', 'опубликован', 'на', 'сайте', 'британского', 'мид', 'из', 'физических', 'лиц', 'под', 'санкциями', 'оказались', 'председатель', 'совета', 'директоров', 'и', 'крупнейший', 'акционер', 'горно', 'металлургического', 'холдинга', 'мечел', 'игорь', 'зюзин', 'четыре', 'члена', 'управляющего', 'совета', 'алросы', 'председатель', 'совета', 'директоров', 'объединенной', 'металлургической', 'компании', 'анатолий', 'седых', 'владельцы', 'угмк', 'учредительница', 'ранее', 'подпавшей', 'под', 'санкции', 'компании', 'флай', 'бридж', 'анна', 'лужанская', 'евросоюз', 'больше', 'не', 'рассматривает', 'март', 'как', 'срок', 'начала', 'переговоров', 'о', 'приеме', 'украины', 'в', 'ес', 'подготовка', 'к', 'этому', 'процессу', 'может', 'потребовать', 'еще', 'недели', 'или', 'месяцы', 'заявил', 'глава', 'пресс', 'службы', 'еврокомиссии', 'эрик', 'мамер', 'по', 'его', 'словам', 'никакой', 'определенной', 'даты', 'для', 'начала', 'переговоров', 'не', 'существует', 'и', 'вопрос', 'об', 'ускорении', 'этого', 'процесса', 'не', 'стоит', 'германский', 'бундестаг', 'проголосовал', 'против', 'резолюции', 'фракции', 'оппозиционного', 'блока', 'христианско', 'демократического', 'и', 'христианско', 'социального', 'союзов', 'хдс', 'хсс', 'требующей', 'поставить', 'украине', 'крылатые', 'ракеты', 'за', 'выступили', 'депутата', 'из', 'присутствовавших', 'против', 'еще', 'парламентариев', 'воздержались', 'при', 'это', 'парламентарии', 'приняли', 'резолюцию', 'фракций', 'правящих', 'партий', 'социал', 'демократическая', 'партия', 'германии', 'сдпг', 'зеленые', 'и', 'свободная', 'демократическая', 'партия', 'свдп', 'либералы', 'которая', 'содержит', 'призыв', 'передать', 'украине', 'дальнобойное', 'оружие', 'в', 'документе', 'говорится', 'что', 'долгосрочная', 'военная', 'поддержка', 'украины', 'включает', 'в', 'себя', 'и', 'поставки', 'необходимых', 'дополнительных', 'дальнобойных', 'боевых', 'систем', 'и', 'боеприпасов', 'чтобы', 'она', 'могла', 'наносить', 'прицельные', 'удары', 'по', 'стратегически', 'важным', 'объектам', 'находящимся', 'в', 'глубоком', 'тылу', 'российских', 'сил', 'крылатые', 'ракеты', 'прямо', 'не', 'упоминаются', 'великобритания', 'передаст', 'украине', 'еще', 'высокоточных', 'ракет', 'заявил', 'глава', 'минобороны', 'соединенного', 'королевства', 'грант', 'шэппс', 'отметив', 'что', 'этот', 'вид', 'ракет', 'уже', 'якобы', 'показал', 'способность', 'влиять', 'на', 'ситуацию', 'на', 'поле', 'боя', 'он', 'напомнил', 'также', 'что', 'в', 'ближайшее', 'время', 'киев', 'должен', 'будет', 'получить', 'от', 'лондона', 'бпла', 'средства', 'рэб', 'противоминную', 'и', 'другую', 'технику', 'которая', 'была', 'приобретена', 'из', 'средств', 'международного', 'фонда', 'помощи', 'украине', 'дания', 'предоставит', 'украине', 'военную', 'помощь', 'на', 'сумму', 'млрд', 'крон', 'млн', 'сообщила', 'премьер', 'министр', 'королевства', 'метте', 'фредериксен', 'ранее', 'глава', 'минобороны', 'дании', 'троэльс', 'лунд', 'поульсен', 'заявил', 'что', 'новый', 'пакет', 'помощи', 'украине', 'будет', 'включать', 'средства', 'пво', 'бла', 'и', 'артиллерийские', 'орудия']\n"
          ]
        }
      ],
      "source": [
        "corpus = articles.body.values\n",
        "print(f'len(corpus) = {len(corpus)}, type(corpus) = {type(corpus)}\\n')\n",
        "print(corpus[0], end='\\n\\n')\n",
        "\n",
        "TOKEN_PATTERN = re.compile('[а-яА-ЯёЁ]+')\n",
        "\n",
        "\n",
        "def tokenize(text):\n",
        "    return re.findall(TOKEN_PATTERN, text.lower())\n",
        "\n",
        "\n",
        "docs = [tokenize(text) for text in corpus]\n",
        "print(docs[0])"
      ]
    },
    {
      "cell_type": "markdown",
      "source": [
        "**почистим от стоп-слов**"
      ],
      "metadata": {
        "id": "ZqL7MvCLWOPs"
      }
    },
    {
      "cell_type": "code",
      "execution_count": 6,
      "metadata": {
        "colab": {
          "base_uri": "https://localhost:8080/"
        },
        "id": "dMwo__o3jRfq",
        "outputId": "c9b71c9c-fe72-44ef-b9ad-209cd86ebdfc"
      },
      "outputs": [
        {
          "output_type": "stream",
          "name": "stderr",
          "text": [
            "100%|██████████| 2396/2396 [00:00<00:00, 8772.88it/s]\n"
          ]
        }
      ],
      "source": [
        "cleared_docs = [[token for token in text if token not in stopword_set] for text in tqdm.tqdm(docs)]"
      ]
    },
    {
      "cell_type": "markdown",
      "source": [
        "**TRIE**"
      ],
      "metadata": {
        "id": "ELd00KGRG2Gf"
      }
    },
    {
      "cell_type": "code",
      "source": [
        "class TrieNode:\n",
        "    def __init__(self, label: str, key: Optional[str] = None):\n",
        "        self.children = [None] * 35     # не 33, потому что 'я' --> 'ѐ' --> 'ё'\n",
        "        self.is_terminal = False\n",
        "        self.reverse_index = {}\n",
        "\n",
        "\n",
        "class Trie:\n",
        "    def __init__(self):\n",
        "        self.root = TrieNode(label='')\n",
        "\n",
        "    def insert(self, key, doc_index, word_index):\n",
        "        if not key:\n",
        "            return None\n",
        "\n",
        "        search_result = self.search(key)\n",
        "\n",
        "        # если слово есть\n",
        "        if search_result[0]:\n",
        "            current_node = search_result[1]\n",
        "\n",
        "            # если слово есть, но нет его документа --> добавляем к слову новый документ и индекс\n",
        "            if doc_index not in current_node.reverse_index:\n",
        "                current_node.reverse_index[doc_index] = [word_index]\n",
        "\n",
        "            # если слово есть и есть его документ --> добавляем к документу новый индекс\n",
        "            else:\n",
        "                current_node.reverse_index[doc_index].append(word_index)\n",
        "            return None\n",
        "\n",
        "\n",
        "        # если слова нет --> добавляем слово с его индексом документа и индексом в документе\n",
        "        current_node = self.root\n",
        "        for char in key:\n",
        "            index = ord(char) - ord('а')\n",
        "            if not current_node.children[index]:\n",
        "                current_node.children[index] = TrieNode(label=char)\n",
        "            current_node = current_node.children[index]\n",
        "        current_node.is_terminal = True\n",
        "        current_node.key = key\n",
        "        current_node.reverse_index[doc_index] = [word_index]\n",
        "\n",
        "\n",
        "    def search(self, key):\n",
        "        if not key:\n",
        "            return None\n",
        "\n",
        "        current_node = self.root\n",
        "\n",
        "        for char in key:\n",
        "            index = ord(char) - ord('а')\n",
        "            if not current_node.children[index]:\n",
        "                return False, ''\n",
        "            current_node = current_node.children[index]\n",
        "\n",
        "        return current_node.is_terminal, current_node"
      ],
      "metadata": {
        "id": "VNHygWrZiLgo"
      },
      "execution_count": 7,
      "outputs": []
    },
    {
      "cell_type": "markdown",
      "source": [
        "**префиксное дерево на текстах, очищенных от стоп-слов**"
      ],
      "metadata": {
        "id": "T0ZvbdYqtbQl"
      }
    },
    {
      "cell_type": "code",
      "source": [
        "tass_trie = Trie()\n",
        "\n",
        "for i in tqdm.tqdm(range(len(cleared_docs))):\n",
        "    for j in range(len(cleared_docs[i])):\n",
        "        tass_trie.insert(cleared_docs[i][j], i, j)"
      ],
      "metadata": {
        "colab": {
          "base_uri": "https://localhost:8080/"
        },
        "id": "0lgkaNh-iLjW",
        "outputId": "0bd11ac4-c16c-4827-bbdb-3537e5e5628c"
      },
      "execution_count": 8,
      "outputs": [
        {
          "output_type": "stream",
          "name": "stderr",
          "text": [
            "100%|██████████| 2396/2396 [00:12<00:00, 186.13it/s]\n"
          ]
        }
      ]
    },
    {
      "cell_type": "markdown",
      "source": [
        "**поиск по нескольким словам с выдачей топ-k**"
      ],
      "metadata": {
        "id": "XLoJhP0Yqk3I"
      }
    },
    {
      "cell_type": "code",
      "source": [
        "def _search(trie: Trie, *words) -> dict:\n",
        "    \"\"\"\n",
        "    ищет слова в префиксном дереве\n",
        "    возвращает: {word: TrieNode}\n",
        "    \"\"\"\n",
        "    dict_result = {}\n",
        "    for word in words:\n",
        "        word = word.lower()\n",
        "        result = trie.search(word)\n",
        "        if result[0]:\n",
        "            dict_result[word] = result[1]\n",
        "        else:\n",
        "            print('there is no such word in the database')\n",
        "    return dict_result\n",
        "\n",
        "\n",
        "def search(trie: Trie, *words, k=5) -> None:\n",
        "    \"\"\"\n",
        "    вызывает функцию _search()\n",
        "    отрезает k релевантных документов, печатает сниппеты из текстов\n",
        "    \"\"\"\n",
        "\n",
        "    dict_result = _search(trie, *words)\n",
        "\n",
        "    print(\"################################################\")\n",
        "    print(\"\\n=========================================\\n\")\n",
        "    for word in dict_result:\n",
        "        indices = dict_result[word].reverse_index\n",
        "\n",
        "        if len(indices) < k:\n",
        "            k = len(indices)\n",
        "        sorted_indices = sorted(indices.items(), key=lambda item: -len(item[1]))[:k]\n",
        "\n",
        "        print(f'the word \"{word}\" appears in:')\n",
        "        for key in sorted_indices:\n",
        "            print(f'TITLE: {articles.title[key[0]]}')\n",
        "            indices_in_doc = key[1]\n",
        "            for index in indices_in_doc:\n",
        "                if 0 <= index + 2 < len(cleared_docs[key[0]]) and 0 <= index - 2 < len(cleared_docs[key[0]]):\n",
        "                    print(f'SNIPPET: \"...{cleared_docs[key[0]][index-2]} {cleared_docs[key[0]][index-1]} {cleared_docs[key[0]][index]} {cleared_docs[key[0]][index+1]} {cleared_docs[key[0]][index+2]}...\"')\n",
        "                elif 0 <= index - 2 < len(cleared_docs[key[0]]):\n",
        "                    print(f'SNIPPET: \"...{cleared_docs[key[0]][index-2]} {cleared_docs[key[0]][index-1]} {cleared_docs[key[0]][index]}...\"')\n",
        "                else:\n",
        "                    print(f'SNIPPET: \"...{cleared_docs[key[0]][index]} {cleared_docs[key[0]][index+1]} {cleared_docs[key[0]][index+2]}...\"')\n",
        "            print(\"\\n=========================================\\n\")\n",
        "        print(\"################################################\")"
      ],
      "metadata": {
        "id": "qhomEgsGubeJ"
      },
      "execution_count": 9,
      "outputs": []
    },
    {
      "cell_type": "code",
      "source": [
        "search_result = search(tass_trie, 'лукашенко')"
      ],
      "metadata": {
        "colab": {
          "base_uri": "https://localhost:8080/"
        },
        "id": "uSo5BhAICyrJ",
        "outputId": "3ee01b03-ef3f-40d8-b84b-71022385cc80"
      },
      "execution_count": 10,
      "outputs": [
        {
          "output_type": "stream",
          "name": "stdout",
          "text": [
            "################################################\n",
            "\n",
            "=========================================\n",
            "\n",
            "the word \"лукашенко\" appears in:\n",
            "TITLE: Перенимать опыт ЧВК, но держа ухо востро. Что сказал Лукашенко главе Минобороны Белоруссии\n",
            "SNIPPET: \"...белоруссии александр лукашенко встрече министром...\"\n",
            "SNIPPET: \"...хрениным словам лукашенко минске напряжением...\"\n",
            "SNIPPET: \"...моменты беседы лукашенко хренина словам...\"\n",
            "SNIPPET: \"...хренина словам лукашенко это бесценно...\"\n",
            "SNIPPET: \"...приводит слова лукашенко агентство белта...\"\n",
            "SNIPPET: \"...агентство белта лукашенко рассказал разговоре...\"\n",
            "SNIPPET: \"...разговаривать словам лукашенко путин разговоре...\"\n",
            "SNIPPET: \"...советском союзе лукашенко удивился отметил...\"\n",
            "SNIPPET: \"...белоруссии это лукашенко заметил пусть...\"\n",
            "\n",
            "=========================================\n",
            "\n",
            "TITLE: ЧВК \"Вагнер\" и возможные переговоры по Украине осенью. О чем говорил Лукашенко СМИ\n",
            "SNIPPET: \"...белоруссии александр лукашенко встрече представителями...\"\n",
            "SNIPPET: \"...россией словам лукашенко будущее планеты...\"\n",
            "SNIPPET: \"...пригожина передал лукашенко дальнейшем работать...\"\n",
            "SNIPPET: \"...долг конца лукашенко сообщил договорился...\"\n",
            "SNIPPET: \"...пригожина словам лукашенко путиным находится...\"\n",
            "SNIPPET: \"...президента николая лукашенко телефон зеленского...\"\n",
            "\n",
            "=========================================\n",
            "\n",
            "TITLE: Возможные переговоры осенью и кассетные боеприпасы для Киева. События вокруг Украины\n",
            "SNIPPET: \"...белоруссии александр лукашенко заявил готовности...\"\n",
            "SNIPPET: \"...постоянных лагерях лукашенко уточнил пригожин...\"\n",
            "SNIPPET: \"...свободе словам лукашенко минск предложил...\"\n",
            "SNIPPET: \"...посредника сказал лукашенко мнению президент...\"\n",
            "SNIPPET: \"...переговоров мнению лукашенко европа прежде...\"\n",
            "\n",
            "=========================================\n",
            "\n",
            "TITLE: Посланник Папы Римского, статус ЧВК и налог на сверхприбыль. Темы брифинга Пескова\n",
            "SNIPPET: \"...белоруссии александра лукашенко урегулировании ситуации...\"\n",
            "SNIPPET: \"...белоруссии александра лукашенко вкладе деэскалации...\"\n",
            "SNIPPET: \"...июня заявление лукашенко якобы намерении...\"\n",
            "SNIPPET: \"...планах наградить лукашенко российскими наградами...\"\n",
            "\n",
            "=========================================\n",
            "\n",
            "TITLE: Встреча с силовиками, прочность позиций и героизм Лукашенко. Темы брифинга Пескова\n",
            "SNIPPET: \"...белоруссии александра лукашенко связи мятежом...\"\n",
            "SNIPPET: \"...александра григорьевича лукашенко заявившего стоит...\"\n",
            "SNIPPET: \"...это сделано лукашенко является главой...\"\n",
            "SNIPPET: \"...известно посредничестве лукашенко никаких предпосылок...\"\n",
            "\n",
            "=========================================\n",
            "\n",
            "################################################\n"
          ]
        }
      ]
    },
    {
      "cell_type": "markdown",
      "source": [
        "**OR / AND**"
      ],
      "metadata": {
        "id": "_E6724hah6v_"
      }
    },
    {
      "cell_type": "code",
      "source": [
        "def search_or_and(trie, *words, mode=['or', 'and'], k=5) -> list:\n",
        "\n",
        "    dict_result = _search(trie, *words)\n",
        "    tmp_dict = {}\n",
        "    for word in dict_result:\n",
        "        indices = dict_result[word].reverse_index\n",
        "        tmp_dict[word] = {doc_index for doc_index in indices.keys()}\n",
        "\n",
        "    doc_indices = set()\n",
        "\n",
        "    if mode == 'or':\n",
        "        for value in tmp_dict.values():\n",
        "            doc_indices = doc_indices.union(value)\n",
        "\n",
        "    elif mode == 'and':\n",
        "        for value in tmp_dict.values():\n",
        "            doc_indices = doc_indices.union(value)\n",
        "            break\n",
        "        for value in tmp_dict.values():\n",
        "            doc_indices = doc_indices.intersection(value)\n",
        "\n",
        "    k = len(doc_indices) if len(doc_indices) < k else k\n",
        "    doc_indices = list(doc_indices)[:k]\n",
        "\n",
        "    print(f'with mode \"{mode}\" the words {words} appear in:')\n",
        "\n",
        "    for doc_index in doc_indices:\n",
        "        print(f'TITLE: {articles.title[doc_index]}')\n",
        "\n",
        "    return doc_indices"
      ],
      "metadata": {
        "id": "yQsDW7Sth6Yx"
      },
      "execution_count": 11,
      "outputs": []
    },
    {
      "cell_type": "code",
      "source": [
        "rsoa = search_or_and(tass_trie, 'ученые', 'путин', mode='and')"
      ],
      "metadata": {
        "colab": {
          "base_uri": "https://localhost:8080/"
        },
        "id": "iPn9mdj4k3QC",
        "outputId": "2d406c5a-d7f0-49a1-d842-28a2f8575adf"
      },
      "execution_count": 12,
      "outputs": [
        {
          "output_type": "stream",
          "name": "stdout",
          "text": [
            "with mode \"and\" the words ('ученые', 'путин') appear in:\n",
            "TITLE: Валерий Фальков: науке нужна современная инфраструктура\n",
            "TITLE: Мегагранты и независимость от зарубежных технологий. О чем Путин говорил с учеными\n",
            "TITLE: Геннадий Красников: не люблю супермаркеты!\n",
            "TITLE: Образовательный обмен: чем России и Африке могут быть выгодны совместные проекты\n",
            "TITLE: Конференция Сбера по искусственному интеллекту AIJ 2023. Текстовая трансляция второго дня\n"
          ]
        }
      ]
    },
    {
      "cell_type": "code",
      "source": [],
      "metadata": {
        "id": "qtlbGhEpixHH"
      },
      "execution_count": null,
      "outputs": []
    },
    {
      "cell_type": "code",
      "source": [],
      "metadata": {
        "id": "wH278wpsitgM"
      },
      "execution_count": null,
      "outputs": []
    }
  ],
  "metadata": {
    "kernelspec": {
      "display_name": "Python 3 (ipykernel)",
      "language": "python",
      "name": "python3"
    },
    "language_info": {
      "codemirror_mode": {
        "name": "ipython",
        "version": 3
      },
      "file_extension": ".py",
      "mimetype": "text/x-python",
      "name": "python",
      "nbconvert_exporter": "python",
      "pygments_lexer": "ipython3",
      "version": "3.10.7"
    },
    "colab": {
      "provenance": []
    }
  },
  "nbformat": 4,
  "nbformat_minor": 0
}